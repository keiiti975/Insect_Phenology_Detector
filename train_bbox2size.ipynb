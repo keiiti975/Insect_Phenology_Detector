{
 "cells": [
  {
   "cell_type": "code",
   "execution_count": null,
   "metadata": {},
   "outputs": [],
   "source": [
    "import numpy as np\n",
    "import pandas as pd\n",
    "import os\n",
    "from os import getcwd as cwd\n",
    "from os.path import join as pj\n",
    "from IO.build_ds import load_anno, create_annotation"
   ]
  },
  {
   "cell_type": "code",
   "execution_count": null,
   "metadata": {},
   "outputs": [],
   "source": [
    "class args:\n",
    "    experiment_name = \"resnet18\"\n",
    "    # paths\n",
    "    bbox_data_path = pj(cwd(), \"data/bbox_data\", \"target_only_20200806.csv\")"
   ]
  },
  {
   "cell_type": "markdown",
   "metadata": {},
   "source": [
    "### create bbox"
   ]
  },
  {
   "cell_type": "code",
   "execution_count": null,
   "metadata": {},
   "outputs": [],
   "source": [
    "data_root = pj(cwd(), \"data\")\n",
    "img_folder = \"refined_images\"\n",
    "anno_folders = [\"annotations_0\", \"annotations_2\", \"annotations_3\", \"annotations_4\", \"annotations_20200806\"]"
   ]
  },
  {
   "cell_type": "code",
   "execution_count": null,
   "metadata": {},
   "outputs": [],
   "source": [
    "def divide_target_and_body(new_anno):\n",
    "    \"\"\"\n",
    "        divide body size from new_anno, {image_id: {\"target\", \"body\"}}\n",
    "        Args:\n",
    "            - new_anno: {image_id: list(tuple(insect_name, coord))}\n",
    "    \"\"\"\n",
    "    new_anno_div_body = {}\n",
    "    for image_id, values in new_anno.items():\n",
    "        target_list = []\n",
    "        body_list = []\n",
    "        for value in values:\n",
    "            if value[0] == 'body size':\n",
    "                body_list.append(value)\n",
    "            else:\n",
    "                target_list.append(value)\n",
    "        new_anno_div_body.update({image_id: {\"target\": target_list, \"body\": body_list}})\n",
    "    return new_anno_div_body\n",
    "\n",
    "def get_feature_point_filter(target_bbox, body_bboxes):\n",
    "    \"\"\"\n",
    "        filtering features of the head and tail\n",
    "        Args:\n",
    "            - target_bbox: np.array(dtype=int), shape==[4]\n",
    "            - body_bboxes: np.array(dtype=int), shape==[body_num, 4]\n",
    "    \"\"\"\n",
    "    x1_filter = body_bboxes[:, 0] >= target_bbox[0]\n",
    "    x2_filter = body_bboxes[:, 2] <= target_bbox[2]\n",
    "    y1_filter = body_bboxes[:, 1] >= target_bbox[1]\n",
    "    y2_filter = body_bboxes[:, 3] <= target_bbox[3]\n",
    "    feature_point_filter = x1_filter & x2_filter & y1_filter & y2_filter\n",
    "    return feature_point_filter\n",
    "\n",
    "def calc_euclidean_distance(body_bboxes_filtered_feature_point):\n",
    "    \"\"\"\n",
    "        calculate euclidean distance between head and tail\n",
    "        Args:\n",
    "            - body_bboxes_filtered_feature_point: np.array(dtype=int), shape==[2, 4]\n",
    "    \"\"\"\n",
    "    p1 = np.array([\n",
    "        (body_bboxes_filtered_feature_point[0, 2] + body_bboxes_filtered_feature_point[0, 0]) / 2, \n",
    "        (body_bboxes_filtered_feature_point[0, 3] + body_bboxes_filtered_feature_point[0, 1]) / 2, \n",
    "    ])\n",
    "    p2 = np.array([\n",
    "        (body_bboxes_filtered_feature_point[1, 2] + body_bboxes_filtered_feature_point[1, 0]) / 2, \n",
    "        (body_bboxes_filtered_feature_point[1, 3] + body_bboxes_filtered_feature_point[1, 1]) / 2, \n",
    "    ])\n",
    "    return np.linalg.norm(p1 - p2)\n",
    "\n",
    "def get_new_anno_with_size(new_anno_div_body):\n",
    "    \"\"\"\n",
    "        create new_anno with insect size, {image_id: list(tuple(insect_name, coord))}\n",
    "        Args:\n",
    "            - new_anno_div_body: {image_id: {\n",
    "                \"target\": list(tuple(insect_name, coord)), \n",
    "                \"body\": list(tuple(insect_name, coord))\n",
    "                }}\n",
    "    \"\"\"\n",
    "    new_anno_with_size = {}\n",
    "    for image_id, values in new_anno_div_body.items():\n",
    "        target_list = values['target']\n",
    "        body_list = values['body']\n",
    "        body_bboxes = np.array([elem_body[1] for elem_body in body_list])\n",
    "        target_list_with_size = []\n",
    "        for elem_target in target_list:\n",
    "            target_bbox = np.array(elem_target[1])\n",
    "            feature_point_filter = get_feature_point_filter(target_bbox, body_bboxes)\n",
    "            if feature_point_filter.sum() == 2:\n",
    "                body_bboxes_filtered_feature_point = body_bboxes[feature_point_filter]\n",
    "                distance = calc_euclidean_distance(body_bboxes_filtered_feature_point)\n",
    "                elem_target_with_size = list(elem_target)\n",
    "                elem_target_with_size.append(distance)\n",
    "                elem_target_with_size = tuple(elem_target_with_size)\n",
    "                target_list_with_size.append(elem_target_with_size)\n",
    "        new_anno_with_size.update({image_id: target_list_with_size})\n",
    "    return new_anno_with_size\n",
    "\n",
    "def get_bbox_df(new_anno_with_size):\n",
    "    \"\"\"\n",
    "        create bbox df, pd.DataFrame({\"width\", \"height\", \"label\", \"size\"})\n",
    "        Args:\n",
    "            - new_anno_with_size: {image_id: list(tuple(insect_name, coord, size))}\n",
    "    \"\"\"\n",
    "    # create array\n",
    "    width_array = []\n",
    "    height_array = []\n",
    "    label_array = []\n",
    "    size_array = []\n",
    "    for image_id, values in new_anno_with_size.items():\n",
    "        for value in values:\n",
    "            width_array.append(value[1][2] - value[1][0])\n",
    "            height_array.append(value[1][3] - value[1][1])\n",
    "            label_array.append(value[0])\n",
    "            size_array.append(value[2])\n",
    "    width_array = np.array(width_array)\n",
    "    height_array = np.array(height_array)\n",
    "    label_array = np.array(label_array)\n",
    "    size_array = np.array(size_array)\n",
    "    \n",
    "    # convert insect_name to label\n",
    "    idx = np.unique(label_array)\n",
    "    name_to_lbl = {}\n",
    "    for i, elem_idx in enumerate(idx):\n",
    "        name_to_lbl.update({elem_idx: i})\n",
    "    label_array = np.array([name_to_lbl[elem_label_array] for elem_label_array in label_array])\n",
    "    print(name_to_lbl)\n",
    "    \n",
    "    return pd.DataFrame({\"width\": width_array, \n",
    "                         \"height\": height_array, \n",
    "                         \"label\": label_array, \n",
    "                         \"size\": size_array})"
   ]
  },
  {
   "cell_type": "code",
   "execution_count": null,
   "metadata": {},
   "outputs": [],
   "source": [
    "unused_labels = [']', 'Coleoptera', 'Hemiptera', \n",
    "                'Hymenoptera', 'Megaloptera', 'Unknown', \n",
    "                'unknown', 'medium insect', 'small insect', \n",
    "                'snail', 'spider']"
   ]
  },
  {
   "cell_type": "code",
   "execution_count": null,
   "metadata": {},
   "outputs": [],
   "source": [
    "images, anno = load_anno(data_root, img_folder, anno_folders, return_body=True)"
   ]
  },
  {
   "cell_type": "code",
   "execution_count": null,
   "metadata": {},
   "outputs": [],
   "source": [
    "new_anno = create_annotation(images, anno, unused_labels, False, False)"
   ]
  },
  {
   "cell_type": "code",
   "execution_count": null,
   "metadata": {},
   "outputs": [],
   "source": [
    "new_anno_div_body = divide_target_and_body(new_anno)"
   ]
  },
  {
   "cell_type": "code",
   "execution_count": null,
   "metadata": {},
   "outputs": [],
   "source": [
    "new_anno_with_size = get_new_anno_with_size(new_anno_div_body)"
   ]
  },
  {
   "cell_type": "code",
   "execution_count": null,
   "metadata": {},
   "outputs": [],
   "source": [
    "bbox_df = get_bbox_df(new_anno_with_size)\n",
    "if os.path.exists(os.path.dirname(args.bbox_data_path)) is False:\n",
    "    os.makedirs(os.path.dirname(args.bbox_data_path))\n",
    "bbox_df.to_csv(args.bbox_data_path)"
   ]
  },
  {
   "cell_type": "markdown",
   "metadata": {},
   "source": [
    "### train bbox to size"
   ]
  },
  {
   "cell_type": "code",
   "execution_count": null,
   "metadata": {},
   "outputs": [],
   "source": []
  }
 ],
 "metadata": {
  "kernelspec": {
   "display_name": "pytorch_100",
   "language": "python",
   "name": "pytorch_100"
  },
  "language_info": {
   "codemirror_mode": {
    "name": "ipython",
    "version": 3
   },
   "file_extension": ".py",
   "mimetype": "text/x-python",
   "name": "python",
   "nbconvert_exporter": "python",
   "pygments_lexer": "ipython3",
   "version": "3.7.4"
  }
 },
 "nbformat": 4,
 "nbformat_minor": 4
}
