{
 "cells": [
  {
   "cell_type": "code",
   "execution_count": 1,
   "metadata": {},
   "outputs": [],
   "source": [
    "import os\n",
    "os.environ[\"CUDA_VISIBLE_DEVICES\"] = \"0\""
   ]
  },
  {
   "cell_type": "code",
   "execution_count": 2,
   "metadata": {},
   "outputs": [],
   "source": [
    "import h5py\n",
    "import numpy as np\n",
    "from os import getcwd as cwd\n",
    "from os.path import join as pj\n",
    "import torch\n",
    "import torch.nn.functional as F\n",
    "import torch.utils.data as data\n",
    "\n",
    "# Dataset\n",
    "from dataset.classification.dataset import insects_dataset\n",
    "# Model\n",
    "from model.resnet.resnet import ResNet"
   ]
  },
  {
   "cell_type": "markdown",
   "metadata": {},
   "source": [
    "# Test Config"
   ]
  },
  {
   "cell_type": "code",
   "execution_count": 3,
   "metadata": {},
   "outputs": [],
   "source": [
    "class args:\n",
    "    # experiment_name\n",
    "    experiment_name = \"resnet50_b20_r45_lr1e-5_crossvalid_20200806_All\"\n",
    "    # paths\n",
    "    all_data_path = pj(cwd(), \"data/all_classification_data/classify_insect_std_20200806\")\n",
    "    model_root = pj(cwd(), \"output_model/classification/ResNet101\", experiment_name)\n",
    "    knowledge_path = pj(cwd(), \"data/insect_knowledge\", experiment_name)\n",
    "    # train config\n",
    "    model_name = \"resnet50\" # choice [\"resnet18\", \"resnet34\", \"resnet50\", \"resnet101\", \"resnet152\"]\n",
    "    bs = 20\n",
    "    pretrain = True\n",
    "    param_freeze = False\n",
    "    activation_function = \"ReLU\" # choice [\"ReLU\", \"LeakyReLU\", \"RReLU\"]\n",
    "    decoder = None # choice [None, \"Concatenate\", \"FPN\"]\n",
    "    add_linear = False"
   ]
  },
  {
   "cell_type": "code",
   "execution_count": 4,
   "metadata": {},
   "outputs": [],
   "source": [
    "dataset_name = args.all_data_path.split('/')[-1]\n",
    "if dataset_name == 'classify_insect_std':\n",
    "    args.labels = ['Diptera', 'Ephemeridae', 'Ephemeroptera', \n",
    "                   'Lepidoptera', 'Plecoptera', 'Trichoptera']\n",
    "elif dataset_name == 'classify_insect_std_resizeFAR':\n",
    "    args.labels = ['Diptera', 'Ephemeridae', 'Ephemeroptera', \n",
    "                   'Lepidoptera', 'Plecoptera', 'Trichoptera']\n",
    "elif dataset_name == 'classify_insect_std_resize':\n",
    "    args.labels = ['Diptera', 'Ephemeridae', 'Ephemeroptera', \n",
    "                   'Lepidoptera', 'Plecoptera', 'Trichoptera']\n",
    "elif dataset_name == 'classify_insect_std_plus_other':\n",
    "    args.labels = ['Diptera', 'Ephemeridae', 'Ephemeroptera', \n",
    "                   'Lepidoptera', 'Plecoptera', 'Trichoptera', 'Other']\n",
    "elif dataset_name == 'classify_insect_std_20200806':\n",
    "    args.labels = ['Diptera', 'Ephemeridae', 'Ephemeroptera', \n",
    "                   'Lepidoptera', 'Plecoptera', 'Trichoptera']"
   ]
  },
  {
   "cell_type": "markdown",
   "metadata": {},
   "source": [
    "### generate insect knowledge\n",
    "- knowledge = softmax distribution"
   ]
  },
  {
   "cell_type": "code",
   "execution_count": 5,
   "metadata": {},
   "outputs": [
    {
     "name": "stdout",
     "output_type": "stream",
     "text": [
      "activation_function == ReLU\n"
     ]
    },
    {
     "data": {
      "text/plain": [
       "<All keys matched successfully>"
      ]
     },
     "execution_count": 5,
     "metadata": {},
     "output_type": "execute_result"
    }
   ],
   "source": [
    "model_save_path = pj(args.model_root, \"final.pth\")\n",
    "model = ResNet(args.model_name, len(args.labels), pretrain=args.pretrain, param_freeze=args.param_freeze, activation_function=args.activation_function, decoder=args.decoder, add_linear=args.add_linear).cuda()\n",
    "model.load_state_dict(torch.load(model_save_path))"
   ]
  },
  {
   "cell_type": "code",
   "execution_count": 6,
   "metadata": {},
   "outputs": [],
   "source": [
    "if os.path.exists(args.knowledge_path) is False:\n",
    "    os.makedirs(args.knowledge_path)"
   ]
  },
  {
   "cell_type": "code",
   "execution_count": 7,
   "metadata": {},
   "outputs": [],
   "source": [
    "with h5py.File(args.all_data_path) as f:\n",
    "    X = f[\"X\"][:]\n",
    "    Y = f[\"Y\"][:]\n",
    "\n",
    "all_dataset = insects_dataset(X, Y, training=False)\n",
    "all_dataloader = data.DataLoader(all_dataset, args.bs, num_workers=args.bs, shuffle=False)"
   ]
  },
  {
   "cell_type": "code",
   "execution_count": 8,
   "metadata": {},
   "outputs": [],
   "source": [
    "def generate_insect_knowledge(model, test_dataloader):\n",
    "    \"\"\"\n",
    "        generate softmax distribution of insect recognition\n",
    "        Args:\n",
    "            - model: pytorch model\n",
    "            - test_dataloader: torchvision dataloader\n",
    "    \"\"\"\n",
    "    model.eval()\n",
    "    insect_knowledges = []\n",
    "    for x in test_dataloader:\n",
    "        x = x.cuda()\n",
    "        out = model(x)\n",
    "        out = F.softmax(out, dim=-1)\n",
    "        insect_knowledges.extend(list(out.cpu().detach().numpy()))\n",
    "    return np.array(insect_knowledges)"
   ]
  },
  {
   "cell_type": "code",
   "execution_count": 9,
   "metadata": {},
   "outputs": [],
   "source": [
    "insect_knowledges = generate_insect_knowledge(model, all_dataloader)"
   ]
  },
  {
   "cell_type": "code",
   "execution_count": 10,
   "metadata": {},
   "outputs": [
    {
     "name": "stdout",
     "output_type": "stream",
     "text": [
      "label = 0, knowledge = [0.983 0.    0.008 0.007 0.001 0.001]\n",
      "label = 1, knowledge = [0.    0.985 0.008 0.006 0.    0.   ]\n",
      "label = 2, knowledge = [0.021 0.012 0.949 0.003 0.01  0.006]\n",
      "label = 3, knowledge = [0.004 0.001 0.002 0.989 0.002 0.003]\n",
      "label = 4, knowledge = [0.007 0.002 0.022 0.005 0.953 0.011]\n",
      "label = 5, knowledge = [0.005 0.001 0.011 0.014 0.013 0.956]\n"
     ]
    }
   ],
   "source": [
    "for i in range(len(args.labels)):\n",
    "    insect_filter = Y == i\n",
    "    filtered_insect_knowledges = insect_knowledges[insect_filter]\n",
    "    print(\"label = {}, knowledge = {}\".format(i, np.round(filtered_insect_knowledges.mean(axis=0), decimals=3)))"
   ]
  },
  {
   "cell_type": "code",
   "execution_count": 11,
   "metadata": {},
   "outputs": [],
   "source": [
    "with open(pj(args.knowledge_path, \"knowledge.txt\"), \"w\") as f:\n",
    "    for i in range(len(args.labels)):\n",
    "        insect_filter = Y == i\n",
    "        filtered_insect_knowledges = insect_knowledges[insect_filter]\n",
    "        filtered_insect_knowledge = filtered_insect_knowledges.mean(axis=0)\n",
    "        knowledge_string = \"\"\n",
    "        for j in range(len(args.labels)):\n",
    "            if j == len(args.labels) - 1:\n",
    "                knowledge_string += str(filtered_insect_knowledge[j]) + \"\\n\"\n",
    "            else:\n",
    "                knowledge_string += str(filtered_insect_knowledge[j]) + \" \"\n",
    "        f.write(knowledge_string)"
   ]
  }
 ],
 "metadata": {
  "kernelspec": {
   "display_name": "pytorch_100",
   "language": "python",
   "name": "pytorch_100"
  },
  "language_info": {
   "codemirror_mode": {
    "name": "ipython",
    "version": 3
   },
   "file_extension": ".py",
   "mimetype": "text/x-python",
   "name": "python",
   "nbconvert_exporter": "python",
   "pygments_lexer": "ipython3",
   "version": "3.7.4"
  }
 },
 "nbformat": 4,
 "nbformat_minor": 4
}
