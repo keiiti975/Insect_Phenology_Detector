{
 "cells": [
  {
   "cell_type": "code",
   "execution_count": null,
   "metadata": {},
   "outputs": [],
   "source": [
    "import xml.etree.ElementTree as ET\n",
    "import cv2\n",
    "from PIL import Image\n",
    "from os import listdir as ld\n",
    "from os.path import join as pj\n",
    "import numpy as np\n",
    "from scipy import ndimage\n",
    "import h5py\n",
    "from scipy import sparse\n",
    "from tqdm import tqdm\n",
    "\n",
    "from IO.loader import parse_annotations, file_id\n",
    "from evaluation.classification.statistics import compute_anno_stats, compute_average_size, compute_size_correction\n",
    "from evaluation.classification.visualize import plot_size_of_anno, plot_size_by_class_of_anno\n",
    "from utils.crop import *\n",
    "from utils.annotate import *\n",
    "from IO.build_ds import build_classification_ds\n",
    "\n",
    "import matplotlib.pyplot as plt\n",
    "plt.style.use(\"dark_background\")\n",
    "%matplotlib inline"
   ]
  },
  {
   "cell_type": "raw",
   "metadata": {},
   "source": [
    "Number of annotated pictures = 73\n",
    "Number of annotations = 650\n",
    "Number of classes = 8 + 2 (medium_insect and small_insect)\n",
    "\n",
    "Average annotation per picture = 8.9\n",
    "Average size of the annotations = (73, 61) pixels \n",
    "\n",
    "Under-represented classes: Coleoptera(4), Hemiptera(4), Diptera(36)\n",
    "medium insect  =  6\n",
    "small insect   = 103\n",
    "Other classes, approx 100 = good\n",
    "\n",
    "# 9 are more than 150 on both H and W\n",
    "# 64 are more than 150 on either H or W"
   ]
  },
  {
   "cell_type": "markdown",
   "metadata": {},
   "source": [
    "### Make data and Visualize"
   ]
  },
  {
   "cell_type": "code",
   "execution_count": null,
   "metadata": {},
   "outputs": [],
   "source": [
    "root = \"/home/tanida/workspace/Insect_Phenology_Detector/data\"\n",
    "anno_folders = [\"annotations_20200806\"]\n",
    "annos = []\n",
    "for anno_folder in anno_folders:\n",
    "    annos_name = ld(pj(root, anno_folder))\n",
    "    annos.extend([pj(root, anno_folder, x) for x in annos_name])\n",
    "imgs  = ld(pj(root, \"refined_images\"))\n",
    "imgs  = [pj(root, \"refined_images\", x) for x in imgs if x != \".ipynb_checkpoints\"]"
   ]
  },
  {
   "cell_type": "code",
   "execution_count": null,
   "metadata": {},
   "outputs": [],
   "source": [
    "images = {file_id(im):np.array(Image.open(im)) for im in imgs}\n",
    "annotations = {idx: list(filter(lambda x:idx in x, annos)) for idx in images}\n",
    "annotations = {k:v for  k,v in annotations.items() if len(v)>0}\n",
    "\n",
    "anno = {}\n",
    "for k,v in annotations.items():\n",
    "    anno[k]=[]\n",
    "    for x in filter(lambda x:x.endswith(\".xml\"), v):\n",
    "        anno[k].extend(parse_annotations(x))"
   ]
  },
  {
   "cell_type": "raw",
   "metadata": {},
   "source": [
    "X,Y = build_classification_ds(anno, images, crop=crop_adjusted_std)"
   ]
  },
  {
   "cell_type": "code",
   "execution_count": null,
   "metadata": {},
   "outputs": [],
   "source": [
    "lbl_to_name = {\n",
    "    0: 'Coleoptera', \n",
    "    1: 'Diptera', \n",
    "    2: 'Ephemeridae', \n",
    "    3: 'Ephemeroptera', \n",
    "    4: 'Hemiptera', \n",
    "    5: 'Hymenoptera', \n",
    "    6: 'Lepidoptera', \n",
    "    7: 'Megaloptera', \n",
    "    8: 'Plecoptera', \n",
    "    9: 'Trichoptera', \n",
    "    10: 'Unknown', \n",
    "    11: ']', \n",
    "    12: 'unknown'\n",
    "}"
   ]
  },
  {
   "cell_type": "code",
   "execution_count": null,
   "metadata": {},
   "outputs": [],
   "source": [
    "idxs, counts = np.unique(Y, return_counts=True)\n",
    "idxs = np.asarray([lbl_to_name[idx] for idx in idxs])\n",
    "for idx, count in zip(idxs, counts):\n",
    "    print(\"{}: {}\".format(idx, count))"
   ]
  },
  {
   "cell_type": "code",
   "execution_count": null,
   "metadata": {},
   "outputs": [],
   "source": [
    "idx = 0"
   ]
  },
  {
   "cell_type": "code",
   "execution_count": null,
   "metadata": {},
   "outputs": [],
   "source": [
    "img = X[idx]\n",
    "label = lbl_to_name[Y[idx]]\n",
    "plt.imshow(img)\n",
    "print(label)\n",
    "idx += 1"
   ]
  },
  {
   "cell_type": "markdown",
   "metadata": {},
   "source": [
    "### Classify failed Visualize"
   ]
  },
  {
   "cell_type": "code",
   "execution_count": null,
   "metadata": {},
   "outputs": [],
   "source": [
    "import cv2\n",
    "from os import getcwd as cwd\n",
    "from os.path import join as pj\n",
    "import h5py\n",
    "import numpy as np\n",
    "import pandas as pd\n",
    "import matplotlib.pyplot as plt\n",
    "import torch\n",
    "from model.resnet.resnet import ResNet\n",
    "%matplotlib inline"
   ]
  },
  {
   "cell_type": "code",
   "execution_count": null,
   "metadata": {},
   "outputs": [],
   "source": [
    "lbl_to_name = {\n",
    "    0: 'Diptera', \n",
    "    1: 'Ephemeridae', \n",
    "    2: 'Ephemeroptera', \n",
    "    3: 'Lepidoptera', \n",
    "    4: 'Plecoptera', \n",
    "    5: 'Trichoptera', \n",
    "}"
   ]
  },
  {
   "cell_type": "code",
   "execution_count": null,
   "metadata": {},
   "outputs": [],
   "source": [
    "exp_name = \"master_paper/resnet50/b20_lr1e-5/crossvalid_20200806_OS_All5to6\"\n",
    "fail_count = pd.read_csv(pj(cwd(), \"figure/classification\", exp_name, \"fail_count.csv\"))\n",
    "all_data_path = pj(cwd(), \"data/all_classification_data/classify_insect_std_20200806\")\n",
    "model_path = pj(cwd(), \"output_model/classification\", exp_name, \"best.pth\")\n",
    "with h5py.File(all_data_path) as f:\n",
    "    X = f[\"X\"][:]\n",
    "    Y = f[\"Y\"][:]\n",
    "#model = ResNet(\"resnet50\", 6, pretrain=True, param_freeze=False, use_dropout=True, activation_function=\"ReLU\", decoder=None).cuda()\n",
    "#model.load_state_dict(torch.load(model_path))"
   ]
  },
  {
   "cell_type": "code",
   "execution_count": null,
   "metadata": {},
   "outputs": [],
   "source": [
    "fail_count = np.array(list(fail_count[\"fail_count\"]))\n",
    "fail_count.shape"
   ]
  },
  {
   "cell_type": "code",
   "execution_count": null,
   "metadata": {},
   "outputs": [],
   "source": [
    "fail_count_filter = fail_count > 1"
   ]
  },
  {
   "cell_type": "code",
   "execution_count": null,
   "metadata": {},
   "outputs": [],
   "source": [
    "X_filtered_fail_count = X[fail_count_filter]\n",
    "Y_filtered_fail_count = Y[fail_count_filter]\n",
    "Y_filtered_fail_count.shape"
   ]
  },
  {
   "cell_type": "code",
   "execution_count": null,
   "metadata": {},
   "outputs": [],
   "source": [
    "idx, count = np.unique(Y_filtered_fail_count, return_counts=True)\n",
    "for insect_id, insect_count in zip(idx, count):\n",
    "    print(\"name = {}, fails = {}\".format(lbl_to_name[insect_id], insect_count))"
   ]
  },
  {
   "cell_type": "code",
   "execution_count": null,
   "metadata": {},
   "outputs": [],
   "source": [
    "diptera_filter = Y_filtered_fail_count == 0\n",
    "ephemeridae_filter = Y_filtered_fail_count == 1\n",
    "ephemeroptera_filter = Y_filtered_fail_count == 2\n",
    "lepidoptera_filter = Y_filtered_fail_count == 3\n",
    "plecoptera_filter = Y_filtered_fail_count == 4\n",
    "trichoptera_filter = Y_filtered_fail_count == 5"
   ]
  },
  {
   "cell_type": "code",
   "execution_count": null,
   "metadata": {},
   "outputs": [],
   "source": [
    "insect_filter = plecoptera_filter"
   ]
  },
  {
   "cell_type": "code",
   "execution_count": null,
   "metadata": {},
   "outputs": [],
   "source": [
    "filtered_X = X_filtered_fail_count[insect_filter]\n",
    "filtered_Y = Y_filtered_fail_count[insect_filter]\n",
    "filtered_Y.shape"
   ]
  },
  {
   "cell_type": "code",
   "execution_count": null,
   "metadata": {},
   "outputs": [],
   "source": [
    "idx = 0"
   ]
  },
  {
   "cell_type": "code",
   "execution_count": null,
   "metadata": {},
   "outputs": [],
   "source": [
    "# get data\n",
    "img = filtered_X[idx]\n",
    "gt_label = lbl_to_name[filtered_Y[idx]]\n",
    "\n",
    "# estimate label\n",
    "\"\"\"\n",
    "x = img.astype(\"float32\")\n",
    "x = cv2.normalize(x, x, alpha=0, beta=1, norm_type=cv2.NORM_MINMAX)\n",
    "x = x.transpose(2,0,1).astype(\"float32\")\n",
    "x = torch.from_numpy(x).clone()\n",
    "out = model(x[None, :].cuda())\n",
    "out = torch.nn.functional.softmax(out[None, :], dim=1)\n",
    "out_label = torch.max(out, 1)[1]\n",
    "out_label = out_label[0].cpu().numpy()\n",
    "out_label = lbl_to_name[int(out_label)]\n",
    "\"\"\"\n",
    "\n",
    "# plot\n",
    "plt.imshow(img)\n",
    "print(\"gt_label  = {}\".format(gt_label))\n",
    "#print(\"out_label = {}\".format(out_label))\n",
    "idx += 1"
   ]
  }
 ],
 "metadata": {
  "kernelspec": {
   "display_name": "pytorch_100",
   "language": "python",
   "name": "pytorch_100"
  },
  "language_info": {
   "codemirror_mode": {
    "name": "ipython",
    "version": 3
   },
   "file_extension": ".py",
   "mimetype": "text/x-python",
   "name": "python",
   "nbconvert_exporter": "python",
   "pygments_lexer": "ipython3",
   "version": "3.7.4"
  }
 },
 "nbformat": 4,
 "nbformat_minor": 4
}
