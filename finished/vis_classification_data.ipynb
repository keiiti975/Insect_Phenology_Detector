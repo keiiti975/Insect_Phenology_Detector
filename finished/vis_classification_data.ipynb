{
 "cells": [
  {
   "cell_type": "code",
   "execution_count": null,
   "metadata": {},
   "outputs": [],
   "source": [
    "import xml.etree.ElementTree as ET\n",
    "import cv2\n",
    "from PIL import Image\n",
    "from os import listdir as ld\n",
    "from os.path import join as pj\n",
    "import numpy as np\n",
    "from scipy import ndimage\n",
    "import h5py\n",
    "from scipy import sparse\n",
    "from tqdm import tqdm\n",
    "\n",
    "from IO.loader import parse_annotations, file_id\n",
    "from evaluation.classification.statistics import compute_anno_stats, compute_average_size, compute_size_correction\n",
    "from evaluation.classification.visualize import plot_size_of_anno, plot_size_by_class_of_anno\n",
    "from utils.crop import *\n",
    "from utils.annotate import *\n",
    "from IO.build_ds import build_classification_ds\n",
    "\n",
    "import matplotlib.pyplot as plt\n",
    "plt.style.use(\"dark_background\")\n",
    "%matplotlib inline"
   ]
  },
  {
   "cell_type": "raw",
   "metadata": {},
   "source": [
    "Number of annotated pictures = 73\n",
    "Number of annotations = 650\n",
    "Number of classes = 8 + 2 (medium_insect and small_insect)\n",
    "\n",
    "Average annotation per picture = 8.9\n",
    "Average size of the annotations = (73, 61) pixels \n",
    "\n",
    "Under-represented classes: Coleoptera(4), Hemiptera(4), Diptera(36)\n",
    "medium insect  =  6\n",
    "small insect   = 103\n",
    "Other classes, approx 100 = good\n",
    "\n",
    "# 9 are more than 150 on both H and W\n",
    "# 64 are more than 150 on either H or W"
   ]
  },
  {
   "cell_type": "markdown",
   "metadata": {},
   "source": [
    "### Load data"
   ]
  },
  {
   "cell_type": "code",
   "execution_count": null,
   "metadata": {},
   "outputs": [],
   "source": [
    "root = \"/home/tanida/workspace/Insect_Phenology_Detector/data\"\n",
    "anno_folders = [\"annotations_20200806\"]\n",
    "annos = []\n",
    "for anno_folder in anno_folders:\n",
    "    annos_name = ld(pj(root, anno_folder))\n",
    "    annos.extend([pj(root, anno_folder, x) for x in annos_name])\n",
    "imgs  = ld(pj(root, \"refined_images\"))\n",
    "imgs  = [pj(root, \"refined_images\", x) for x in imgs if x != \".ipynb_checkpoints\"]"
   ]
  },
  {
   "cell_type": "code",
   "execution_count": null,
   "metadata": {},
   "outputs": [],
   "source": [
    "images = {file_id(im):np.array(Image.open(im)) for im in imgs}\n",
    "annotations = {idx: list(filter(lambda x:idx in x, annos)) for idx in images}\n",
    "annotations = {k:v for  k,v in annotations.items() if len(v)>0}\n",
    "\n",
    "anno = {}\n",
    "for k,v in annotations.items():\n",
    "    anno[k]=[]\n",
    "    for x in filter(lambda x:x.endswith(\".xml\"), v):\n",
    "        anno[k].extend(parse_annotations(x))"
   ]
  },
  {
   "cell_type": "markdown",
   "metadata": {},
   "source": [
    "### Make datasets"
   ]
  },
  {
   "cell_type": "code",
   "execution_count": null,
   "metadata": {},
   "outputs": [],
   "source": [
    "X,Y = build_classification_ds(anno, images, crop=crop_adjusted_std)"
   ]
  },
  {
   "cell_type": "markdown",
   "metadata": {},
   "source": [
    "### Visualize"
   ]
  },
  {
   "cell_type": "code",
   "execution_count": null,
   "metadata": {},
   "outputs": [],
   "source": [
    "lbl_to_name = {\n",
    "    0: 'Coleoptera', \n",
    "    1: 'Diptera', \n",
    "    2: 'Ephemeridae', \n",
    "    3: 'Ephemeroptera', \n",
    "    4: 'Hemiptera', \n",
    "    5: 'Hymenoptera', \n",
    "    6: 'Lepidoptera', \n",
    "    7: 'Megaloptera', \n",
    "    8: 'Plecoptera', \n",
    "    9: 'Trichoptera', \n",
    "    10: 'Unknown', \n",
    "    11: ']', \n",
    "    12: 'unknown'\n",
    "}"
   ]
  },
  {
   "cell_type": "code",
   "execution_count": null,
   "metadata": {},
   "outputs": [],
   "source": [
    "idxs, counts = np.unique(Y, return_counts=True)\n",
    "idxs = np.asarray([lbl_to_name[idx] for idx in idxs])\n",
    "for idx, count in zip(idxs, counts):\n",
    "    print(\"{}: {}\".format(idx, count))"
   ]
  },
  {
   "cell_type": "code",
   "execution_count": null,
   "metadata": {},
   "outputs": [],
   "source": [
    "idx = 0"
   ]
  },
  {
   "cell_type": "code",
   "execution_count": null,
   "metadata": {},
   "outputs": [],
   "source": [
    "img = X[idx]\n",
    "label = lbl_to_name[Y[idx]]\n",
    "plt.imshow(img)\n",
    "print(label)\n",
    "idx += 1"
   ]
  }
 ],
 "metadata": {
  "kernelspec": {
   "display_name": "pytorch_040",
   "language": "python",
   "name": "pytorch_040"
  },
  "language_info": {
   "codemirror_mode": {
    "name": "ipython",
    "version": 3
   },
   "file_extension": ".py",
   "mimetype": "text/x-python",
   "name": "python",
   "nbconvert_exporter": "python",
   "pygments_lexer": "ipython3",
   "version": "3.7.4"
  }
 },
 "nbformat": 4,
 "nbformat_minor": 4
}
