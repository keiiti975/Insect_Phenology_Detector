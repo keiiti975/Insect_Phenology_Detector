{
 "cells": [
  {
   "cell_type": "code",
   "execution_count": null,
   "metadata": {},
   "outputs": [],
   "source": [
    "import cv2\n",
    "import h5py\n",
    "import numpy as np\n",
    "import torch\n",
    "import torch.utils.data as data\n",
    "import imgaug.augmenters as iaa\n",
    "# loader\n",
    "from dataset.classification.loader import create_validation_split, load_validation_data\n",
    "# sampler\n",
    "from dataset.classification.sampler import adopt_sampling"
   ]
  },
  {
   "cell_type": "code",
   "execution_count": null,
   "metadata": {},
   "outputs": [],
   "source": [
    "from os.path import join as pj\n",
    "from os import getcwd as cwd"
   ]
  },
  {
   "cell_type": "code",
   "execution_count": null,
   "metadata": {},
   "outputs": [],
   "source": [
    "class args:\n",
    "    all_data_path = pj(cwd(), \"data/all_classification_data/classify_insect_std_20200806\")"
   ]
  },
  {
   "cell_type": "markdown",
   "metadata": {},
   "source": [
    "### コード全体"
   ]
  },
  {
   "cell_type": "markdown",
   "metadata": {},
   "source": [
    "### --- データの構築 ---  \n",
    "X,Yが学習、テストで共有なので、外部に直接生成"
   ]
  },
  {
   "cell_type": "code",
   "execution_count": null,
   "metadata": {},
   "outputs": [],
   "source": [
    "with h5py.File(args.all_data_path, \"r\") as f:\n",
    "    X = f[\"X\"][:]\n",
    "    Y = f[\"Y\"][:]"
   ]
  },
  {
   "cell_type": "code",
   "execution_count": null,
   "metadata": {},
   "outputs": [],
   "source": [
    "_, ntests = np.unique(Y, return_counts=True)"
   ]
  },
  {
   "cell_type": "code",
   "execution_count": null,
   "metadata": {},
   "outputs": [],
   "source": [
    "train_idxs, test_idxs = create_validation_split(Y, 0.2)"
   ]
  },
  {
   "cell_type": "code",
   "execution_count": null,
   "metadata": {},
   "outputs": [],
   "source": [
    "valid_count = 0"
   ]
  },
  {
   "cell_type": "code",
   "execution_count": null,
   "metadata": {},
   "outputs": [],
   "source": [
    "valid_train_idx = adopt_sampling(Y, train_idxs[valid_count], None)\n",
    "valid_test_idx = test_idxs[valid_count]"
   ]
  },
  {
   "cell_type": "code",
   "execution_count": null,
   "metadata": {},
   "outputs": [],
   "source": [
    "xtr, ytr, xte, yte = load_validation_data(X, Y, valid_train_idx, valid_test_idx)"
   ]
  },
  {
   "cell_type": "code",
   "execution_count": null,
   "metadata": {},
   "outputs": [],
   "source": [
    "xtr.shape"
   ]
  },
  {
   "cell_type": "code",
   "execution_count": null,
   "metadata": {},
   "outputs": [],
   "source": [
    "ytr.shape"
   ]
  },
  {
   "cell_type": "code",
   "execution_count": null,
   "metadata": {},
   "outputs": [],
   "source": [
    "xte.shape"
   ]
  },
  {
   "cell_type": "code",
   "execution_count": null,
   "metadata": {},
   "outputs": [],
   "source": [
    "yte.shape"
   ]
  },
  {
   "cell_type": "markdown",
   "metadata": {},
   "source": [
    "### --- データの読み込み ---\n",
    "主にデータ拡張を適用するためのクラス"
   ]
  },
  {
   "cell_type": "code",
   "execution_count": null,
   "metadata": {},
   "outputs": [],
   "source": [
    "import matplotlib.pyplot as plt\n",
    "%matplotlib inline"
   ]
  },
  {
   "cell_type": "code",
   "execution_count": null,
   "metadata": {},
   "outputs": [],
   "source": [
    "class insects_dataset(data.Dataset):\n",
    "    \n",
    "    def __init__(self, images, labels, training=False, method_aug=None):\n",
    "        \"\"\"\n",
    "            init function\n",
    "            Args:\n",
    "                - images: np.array, insect images\n",
    "                - labels: np.array, insect labels\n",
    "                - training: bool\n",
    "                - method_aug: [str, ...], sequence of method name\n",
    "                    possible choices = [\n",
    "                        HorizontalFlip, VerticalFlip, Rotate]\n",
    "        \"\"\"\n",
    "        self.images = images\n",
    "        self.labels = labels\n",
    "        self.training = training\n",
    "        self.method_aug = method_aug\n",
    "        \n",
    "        if training is True and method_aug is not None:\n",
    "            print(\"augment == method_aug\")\n",
    "            print(\"---\")\n",
    "            self.aug_seq = self.create_aug_seq()\n",
    "            print(\"---\")\n",
    "        else:\n",
    "            print(\"augment == None\")\n",
    "            self.aug_seq = None\n",
    "        \n",
    "    def __getitem__(self, index):\n",
    "        # adopt augmentation\n",
    "        if self.aug_seq is not None:\n",
    "            image_aug = self.aug_seq(image=self.images[index])\n",
    "        else:\n",
    "            image_aug = self.images[index]\n",
    "        \n",
    "        # normalize\n",
    "        image_aug = image_aug.astype(\"float32\")\n",
    "        image_aug = cv2.normalize(image_aug, image_aug, alpha=0, beta=1, norm_type=cv2.NORM_MINMAX)\n",
    "        \n",
    "        # create pytorch image\n",
    "        image_aug = image_aug.transpose(2,0,1).astype(\"float32\")\n",
    "        image_aug = torch.from_numpy(image_aug).clone()\n",
    "        \n",
    "        label = self.labels[index]\n",
    "        return image_aug, label\n",
    "    \n",
    "    def __len__(self):\n",
    "        return self.images.shape[0]\n",
    "    \n",
    "    def create_aug_seq(self):\n",
    "        aug_list = []\n",
    "        # create augmentation\n",
    "        for augmentation in self.method_aug:\n",
    "            if augmentation == \"HorizontalFlip\":\n",
    "                print(\"HorizontalFlip\")\n",
    "                aug_list.append(iaa.Fliplr(0.5))\n",
    "            elif augmentation == \"VerticalFlip\":\n",
    "                print(\"VerticalFlip\")\n",
    "                aug_list.append(iaa.Flipud(0.5))\n",
    "            elif augmentation == \"Rotate\":\n",
    "                print(\"Rotate\")\n",
    "                aug_list.append(iaa.Rotate((-90, 90)))\n",
    "            else:\n",
    "                print(\"not implemented!: insects_dataset.create_aug_seq\")\n",
    "        \n",
    "        aug_seq = iaa.Sequential(aug_list)\n",
    "        return aug_seq"
   ]
  },
  {
   "cell_type": "code",
   "execution_count": null,
   "metadata": {},
   "outputs": [],
   "source": [
    "dataset = insects_dataset(xtr, ytr, training=True, method_aug=[\"Rotate\"])"
   ]
  },
  {
   "cell_type": "code",
   "execution_count": null,
   "metadata": {},
   "outputs": [],
   "source": [
    "data_loader = data.DataLoader(dataset, 2, num_workers=0, shuffle=True)"
   ]
  },
  {
   "cell_type": "code",
   "execution_count": null,
   "metadata": {},
   "outputs": [],
   "source": [
    "data_loader.dataset.labels"
   ]
  },
  {
   "cell_type": "markdown",
   "metadata": {},
   "source": [
    "### 画像、ラベル読み込み"
   ]
  },
  {
   "cell_type": "code",
   "execution_count": null,
   "metadata": {},
   "outputs": [],
   "source": [
    "with h5py.File(args.all_data_path, \"r\") as f:\n",
    "    X = f[\"X\"][:]\n",
    "    Y = f[\"Y\"][:]"
   ]
  },
  {
   "cell_type": "code",
   "execution_count": null,
   "metadata": {},
   "outputs": [],
   "source": [
    "X.shape"
   ]
  },
  {
   "cell_type": "code",
   "execution_count": null,
   "metadata": {},
   "outputs": [],
   "source": [
    "Y.shape"
   ]
  },
  {
   "cell_type": "markdown",
   "metadata": {},
   "source": [
    "### 個別クラスのラベル枚数取り出し"
   ]
  },
  {
   "cell_type": "code",
   "execution_count": null,
   "metadata": {},
   "outputs": [],
   "source": [
    "_, ntests = np.unique(Y, return_counts=True)"
   ]
  },
  {
   "cell_type": "code",
   "execution_count": null,
   "metadata": {},
   "outputs": [],
   "source": [
    "ntests"
   ]
  },
  {
   "cell_type": "markdown",
   "metadata": {},
   "source": [
    "### 各交差検証における学習id、テストidの構築"
   ]
  },
  {
   "cell_type": "code",
   "execution_count": null,
   "metadata": {},
   "outputs": [],
   "source": [
    "train_idxs, test_idxs = create_validation_split(Y, 0.2)"
   ]
  },
  {
   "cell_type": "markdown",
   "metadata": {},
   "source": [
    "### 学習idにサンプリングを適用"
   ]
  },
  {
   "cell_type": "code",
   "execution_count": null,
   "metadata": {},
   "outputs": [],
   "source": [
    "random_sampled_idx = adopt_sampling(Y, train_idxs[0], \"RandomSample\")\n",
    "over_sampled_idx = adopt_sampling(Y, train_idxs[0], \"OverSample\")\n",
    "normal_idx = adopt_sampling(Y, train_idxs[0], None)"
   ]
  },
  {
   "cell_type": "code",
   "execution_count": null,
   "metadata": {},
   "outputs": [],
   "source": [
    "idx, count = np.unique(Y[np.array(random_sampled_idx)], return_counts=True)\n",
    "print(\"RandomSample: idx = {}, count = {}\".format(idx, count))\n",
    "idx, count = np.unique(Y[np.array(over_sampled_idx)], return_counts=True)\n",
    "print(\"OverSample: idx = {}, count = {}\".format(idx, count))\n",
    "idx, count = np.unique(Y[np.array(normal_idx)], return_counts=True)\n",
    "print(\"OverSample: idx = {}, count = {}\".format(idx, count))"
   ]
  },
  {
   "cell_type": "code",
   "execution_count": null,
   "metadata": {},
   "outputs": [],
   "source": [
    "new_train_idx = normal_idx = adopt_sampling(Y, train_idxs[0], None)"
   ]
  },
  {
   "cell_type": "markdown",
   "metadata": {},
   "source": [
    "### 交差検証データのロード"
   ]
  },
  {
   "cell_type": "code",
   "execution_count": null,
   "metadata": {},
   "outputs": [],
   "source": [
    "xtr, ytr, xte, yte = load_validation_data(X, Y, new_train_idx, test_idxs[0])"
   ]
  },
  {
   "cell_type": "code",
   "execution_count": null,
   "metadata": {},
   "outputs": [],
   "source": [
    "xtr.shape"
   ]
  },
  {
   "cell_type": "code",
   "execution_count": null,
   "metadata": {},
   "outputs": [],
   "source": [
    "ytr.shape"
   ]
  },
  {
   "cell_type": "code",
   "execution_count": null,
   "metadata": {},
   "outputs": [],
   "source": [
    "xte.shape"
   ]
  },
  {
   "cell_type": "code",
   "execution_count": null,
   "metadata": {},
   "outputs": [],
   "source": [
    "yte.shape"
   ]
  }
 ],
 "metadata": {
  "kernelspec": {
   "display_name": "pytorch_100",
   "language": "python",
   "name": "pytorch_100"
  },
  "language_info": {
   "codemirror_mode": {
    "name": "ipython",
    "version": 3
   },
   "file_extension": ".py",
   "mimetype": "text/x-python",
   "name": "python",
   "nbconvert_exporter": "python",
   "pygments_lexer": "ipython3",
   "version": "3.7.4"
  }
 },
 "nbformat": 4,
 "nbformat_minor": 4
}
