{
 "cells": [
  {
   "cell_type": "code",
   "execution_count": null,
   "metadata": {},
   "outputs": [],
   "source": [
    "import os\n",
    "os.environ[\"CUDA_VISIBLE_DEVICES\"]=\"0\""
   ]
  },
  {
   "cell_type": "code",
   "execution_count": null,
   "metadata": {},
   "outputs": [],
   "source": [
    "import copy\n",
    "import numpy as np\n",
    "from numpy.random import *\n",
    "from os import listdir as ld\n",
    "from os.path import join as pj\n",
    "from tqdm import tqdm\n",
    "import torch\n",
    "import torch.nn as nn\n",
    "import torch.optim as optim\n",
    "import torch.utils.data as data\n",
    "import visdom\n",
    "from PIL import Image\n",
    "\n",
    "# IO\n",
    "from IO.utils import refine_result_by_ovthresh, output_formatter, write_output_xml\n",
    "from IO.loader import load_path, load_images\n",
    "from IO.build_ds import build_classification_ds_from_result\n",
    "# utils\n",
    "from utils.crop import crop_adjusted_std, crop_adjusted_std_resize\n",
    "# Dataset\n",
    "from dataset.detection.dataset import insects_dataset_from_voc_style_txt, collate_fn\n",
    "# det model\n",
    "from model.refinedet.refinedet import RefineDet\n",
    "# cls model\n",
    "from model.resnet.resnet import ResNet\n",
    "from model.resnet.predict import test_classification\n",
    "# Predict\n",
    "from model.refinedet.utils.predict import test_prediction\n",
    "# Evaluate\n",
    "from evaluation.detection.evaluate import Voc_Evaluater, visualize_mean_index\n",
    "from evaluation.det2cls.visualize import vis_detections"
   ]
  },
  {
   "cell_type": "markdown",
   "metadata": {},
   "source": [
    "# Test Config"
   ]
  },
  {
   "cell_type": "code",
   "execution_count": null,
   "metadata": {},
   "outputs": [],
   "source": [
    "class args:\n",
    "    # paths\n",
    "    data_root = \"/home/tanida/workspace/Insect_Phenology_Detector/data\"\n",
    "    test_image_root = \"/home/tanida/workspace/Insect_Phenology_Detector/data/ooe_pict\"\n",
    "    det_model_root = pj(\"/home/tanida/workspace/Insect_Phenology_Detector/output_model/detection/RefineDet\", \"crop_b2_2_4_8_16_32_im512_other\")\n",
    "    cls_model_root = pj(\"/home/tanida/workspace/Insect_Phenology_Detector/output_model/classification/ResNet101\", \"resnet50_b20_r45_lr1e-5_crossvalid\")\n",
    "    # det model config\n",
    "    input_size = 512 # choices=[320, 512, 1024]\n",
    "    crop_num = (5, 5)\n",
    "    tcb_layer_num = 5\n",
    "    use_extra_layer = False\n",
    "    det_activation_function = \"ReLU\"\n",
    "    use_GN_WS = False\n",
    "    # cls model config\n",
    "    cls_model_name = \"resnet50\"\n",
    "    cls_activation_function = \"ReLU\"\n",
    "    decoder = None\n",
    "    # test config\n",
    "    det_divide_flag = True\n",
    "    cls_divide_flag = False"
   ]
  },
  {
   "cell_type": "code",
   "execution_count": null,
   "metadata": {},
   "outputs": [],
   "source": [
    "# class label\n",
    "if args.det_divide_flag is True:\n",
    "    args.det_labels = ['Aquatic_insects', 'Other_insects']\n",
    "else:\n",
    "    args.det_labels = ['insects']\n",
    "\n",
    "if args.cls_divide_flag is True:\n",
    "    args.cls_labels = ['Diptera', 'Ephemeridae', 'Ephemeroptera', \n",
    "                       'Lepidoptera', 'Plecoptera', 'Trichoptera', 'Other']\n",
    "else:\n",
    "    args.cls_labels = ['Diptera', 'Ephemeridae', 'Ephemeroptera', \n",
    "                       'Lepidoptera', 'Plecoptera', 'Trichoptera']"
   ]
  },
  {
   "cell_type": "markdown",
   "metadata": {},
   "source": [
    "# Set cuda"
   ]
  },
  {
   "cell_type": "code",
   "execution_count": null,
   "metadata": {},
   "outputs": [],
   "source": [
    "if torch.cuda.is_available():\n",
    "    torch.set_default_tensor_type('torch.cuda.FloatTensor')\n",
    "else:\n",
    "    torch.set_default_tensor_type('torch.FloatTensor')"
   ]
  },
  {
   "cell_type": "markdown",
   "metadata": {},
   "source": [
    "# Detection Model"
   ]
  },
  {
   "cell_type": "code",
   "execution_count": null,
   "metadata": {},
   "outputs": [],
   "source": [
    "det_model = RefineDet(args.input_size, len(args.det_labels)+1, args.tcb_layer_num, activation_function=args.det_activation_function, use_extra_layer=args.use_extra_layer, use_GN_WS=args.use_GN_WS)\n",
    "load_name = pj(args.det_model_root, 'RefineDet{}_{}.pth'.format(args.input_size, \"final\"))\n",
    "det_model.load_state_dict(torch.load(load_name))"
   ]
  },
  {
   "cell_type": "markdown",
   "metadata": {},
   "source": [
    "# Classification Model"
   ]
  },
  {
   "cell_type": "code",
   "execution_count": null,
   "metadata": {},
   "outputs": [],
   "source": [
    "cls_model = ResNet(args.cls_model_name, len(args.cls_labels), activation_function=args.cls_activation_function, decoder=args.decoder).cuda()\n",
    "load_name = pj(args.cls_model_root, \"final.pth\")\n",
    "cls_model.load_state_dict(torch.load(load_name))"
   ]
  },
  {
   "cell_type": "markdown",
   "metadata": {},
   "source": [
    "### Make data"
   ]
  },
  {
   "cell_type": "code",
   "execution_count": null,
   "metadata": {},
   "outputs": [],
   "source": [
    "print('Loading dataset for test ...')\n",
    "test_dataset = insects_dataset_from_voc_style_txt(args.test_image_root, args.input_size, args.crop_num, \"RefineDet\", training=False)\n",
    "test_data_loader = data.DataLoader(test_dataset, 1, num_workers=1, shuffle=False, collate_fn=collate_fn)"
   ]
  },
  {
   "cell_type": "markdown",
   "metadata": {},
   "source": [
    "# --- detection result ---"
   ]
  },
  {
   "cell_type": "code",
   "execution_count": null,
   "metadata": {},
   "outputs": [],
   "source": [
    "def get_det_result(det_model, data_loader, crop_num, num_classes, nms_thresh=0.3, ovthresh=0.3):\n",
    "    det_result = test_prediction(det_model, data_loader, crop_num, num_classes, nms_thresh)\n",
    "    det_result = refine_result_by_ovthresh(det_result, ovthresh)\n",
    "    return det_result"
   ]
  },
  {
   "cell_type": "code",
   "execution_count": null,
   "metadata": {
    "scrolled": true
   },
   "outputs": [],
   "source": [
    "det_result = get_det_result(det_model, test_data_loader, args.crop_num, len(args.det_labels)+1)"
   ]
  },
  {
   "cell_type": "markdown",
   "metadata": {},
   "source": [
    "# --- output labelImg XML ---"
   ]
  },
  {
   "cell_type": "code",
   "execution_count": null,
   "metadata": {},
   "outputs": [],
   "source": [
    "def get_det2cls_result(cls_model, insect_dataset, det_result, det_divide_flag=False):\n",
    "    det2cls_result = {}\n",
    "    for image_id, imgs in insect_dataset.items():\n",
    "        print(\"classify images: {}\".format(image_id))\n",
    "        det2cls_result_per_image = copy.copy(det_result[image_id])\n",
    "        if det_divide_flag:\n",
    "            det2cls_result_per_image.update({len(args.cls_labels): det_result[image_id][1]})\n",
    "        \n",
    "        imgs = torch.from_numpy(imgs).cuda()\n",
    "        lbls = test_classification(cls_model, imgs, bs=2)\n",
    "        coords = det_result[image_id][0]\n",
    "        for lbl in range(len(args.cls_labels)):\n",
    "            lbl_filter = lbls == lbl\n",
    "            filtered_coords = coords[lbl_filter]\n",
    "            det2cls_result_per_image.update({lbl: filtered_coords})\n",
    "        det2cls_result.update({image_id: det2cls_result_per_image})\n",
    "    return det2cls_result"
   ]
  },
  {
   "cell_type": "code",
   "execution_count": null,
   "metadata": {},
   "outputs": [],
   "source": [
    "insect_names = ['Diptera', 'Ephemeridae', 'Ephemeroptera', \n",
    "                'Lepidoptera', 'Plecoptera', 'Trichoptera', 'Other']\n",
    "label_map = {}\n",
    "for i, insect_name in enumerate(insect_names):\n",
    "    label_map.update({i: insect_name})\n",
    "label_map"
   ]
  },
  {
   "cell_type": "code",
   "execution_count": null,
   "metadata": {},
   "outputs": [],
   "source": [
    "image_paths = [pj(args.test_image_root, image_path) for image_path in ld(args.test_image_root)]"
   ]
  },
  {
   "cell_type": "code",
   "execution_count": null,
   "metadata": {
    "scrolled": true
   },
   "outputs": [],
   "source": [
    "for image_path in image_paths:\n",
    "    file_id = image_path.split(\"/\")[-1].split(\".\")[0]\n",
    "    if len(det_result[file_id][0].shape) == 2:\n",
    "        image = load_images([image_path])\n",
    "        sample_det_result = {file_id: det_result[file_id]}\n",
    "        insect_dataset = build_classification_ds_from_result(image, sample_det_result)\n",
    "        det2cls_result = get_det2cls_result(cls_model, insect_dataset, sample_det_result, det_divide_flag=args.det_divide_flag)\n",
    "        output = output_formatter(det2cls_result, label_map)\n",
    "        write_output_xml(output, \"/home/tanida/workspace/Insect_Phenology_Detector/output_xml/ooe_pict_20200806\", add_flag=True)"
   ]
  }
 ],
 "metadata": {
  "kernelspec": {
   "display_name": "pytorch_100",
   "language": "python",
   "name": "pytorch_100"
  },
  "language_info": {
   "codemirror_mode": {
    "name": "ipython",
    "version": 3
   },
   "file_extension": ".py",
   "mimetype": "text/x-python",
   "name": "python",
   "nbconvert_exporter": "python",
   "pygments_lexer": "ipython3",
   "version": "3.7.4"
  }
 },
 "nbformat": 4,
 "nbformat_minor": 4
}
