{
 "cells": [
  {
   "cell_type": "code",
   "execution_count": 1,
   "metadata": {},
   "outputs": [],
   "source": [
    "import os\n",
    "os.environ[\"CUDA_VISIBLE_DEVICES\"]=\"0\""
   ]
  },
  {
   "cell_type": "code",
   "execution_count": 2,
   "metadata": {},
   "outputs": [],
   "source": [
    "import copy\n",
    "import numpy as np\n",
    "from numpy.random import *\n",
    "from os import listdir as ld\n",
    "from os.path import join as pj\n",
    "from tqdm import tqdm\n",
    "import torch\n",
    "import torch.nn as nn\n",
    "import torch.optim as optim\n",
    "import torch.utils.data as data\n",
    "import visdom\n",
    "from PIL import Image\n",
    "\n",
    "# IO\n",
    "from IO.utils import refine_result_by_ovthresh\n",
    "from IO.loader import load_path, load_images\n",
    "from IO.build_ds import build_classification_ds_from_result\n",
    "# utils\n",
    "from utils.crop import crop_adjusted_std, crop_adjusted_std_resize\n",
    "# Dataset\n",
    "from dataset.detection.dataset import insects_dataset_from_voc_style_txt, collate_fn\n",
    "# det model\n",
    "from model.refinedet.refinedet import RefineDet\n",
    "# cls model\n",
    "from model.resnet.resnet import ResNet\n",
    "from model.resnet.predict import test_classification\n",
    "# Predict\n",
    "from model.refinedet.utils.predict import test_prediction\n",
    "# Evaluate\n",
    "from evaluation.detection.evaluate import Voc_Evaluater, visualize_mean_index\n",
    "from evaluation.det2cls.visualize import vis_detections"
   ]
  },
  {
   "cell_type": "markdown",
   "metadata": {},
   "source": [
    "# Test Config"
   ]
  },
  {
   "cell_type": "code",
   "execution_count": 3,
   "metadata": {},
   "outputs": [],
   "source": [
    "class args:\n",
    "    # paths\n",
    "    data_root = \"/home/tanida/workspace/Insect_Phenology_Detector/data\"\n",
    "    test_image_root = \"/home/tanida/workspace/Insect_Phenology_Detector/data/test_refined_images\"\n",
    "    test_target_root = \"/home/tanida/workspace/Insect_Phenology_Detector/data/test_detection_data/refinedet_each\"\n",
    "    det_model_root = pj(\"/home/tanida/workspace/Insect_Phenology_Detector/output_model/detection/RefineDet\", \"crop_b2_2_4_8_16_32_im512_det2cls\")\n",
    "    figure_root = pj(\"/home/tanida/workspace/Insect_Phenology_Detector/result/det2cls\", \"refinedet_det2cls\")\n",
    "    save_img_root = pj(\"/home/tanida/workspace/Insect_Phenology_Detector/figure/det2cls\", \"refinedet_det2cls\")\n",
    "    test_anno_folders = [\"annotations_4\"]\n",
    "    # det model config\n",
    "    input_size = 512 # choices=[320, 512, 1024]\n",
    "    crop_num = (5, 5)\n",
    "    tcb_layer_num = 5\n",
    "    use_extra_layer = False\n",
    "    det_activation_function = \"ReLU\"\n",
    "    use_GN_WS = False\n",
    "    # test_config\n",
    "    eval_det2cls = True"
   ]
  },
  {
   "cell_type": "code",
   "execution_count": 4,
   "metadata": {},
   "outputs": [],
   "source": [
    "# class label\n",
    "if args.eval_det2cls is True:\n",
    "    args.det_labels = ['Coleoptera', 'Diptera', 'Ephemeridae', \n",
    "                       'Ephemeroptera', 'Hemiptera', 'Lepidoptera', \n",
    "                       'Plecoptera', 'Trichoptera', 'medium insect', \n",
    "                       'small insect', 'snail', 'spider']\n",
    "else:\n",
    "    args.det_labels = ['insects']"
   ]
  },
  {
   "cell_type": "markdown",
   "metadata": {},
   "source": [
    "# Set cuda"
   ]
  },
  {
   "cell_type": "code",
   "execution_count": 5,
   "metadata": {},
   "outputs": [],
   "source": [
    "if torch.cuda.is_available():\n",
    "    torch.set_default_tensor_type('torch.cuda.FloatTensor')\n",
    "else:\n",
    "    torch.set_default_tensor_type('torch.FloatTensor')"
   ]
  },
  {
   "cell_type": "markdown",
   "metadata": {},
   "source": [
    "# Detection Model"
   ]
  },
  {
   "cell_type": "code",
   "execution_count": 6,
   "metadata": {},
   "outputs": [
    {
     "name": "stdout",
     "output_type": "stream",
     "text": [
      "activation_function = ReLU\n",
      "init_function = xavier_uniform_\n",
      "Initializing weights ...\n"
     ]
    },
    {
     "data": {
      "text/plain": [
       "<All keys matched successfully>"
      ]
     },
     "execution_count": 6,
     "metadata": {},
     "output_type": "execute_result"
    }
   ],
   "source": [
    "det_model = RefineDet(args.input_size, len(args.det_labels)+1, args.tcb_layer_num, activation_function=args.det_activation_function, use_extra_layer=args.use_extra_layer, use_GN_WS=args.use_GN_WS)\n",
    "load_name = pj(args.det_model_root, 'RefineDet{}_{}.pth'.format(args.input_size, \"final\"))\n",
    "det_model.load_state_dict(torch.load(load_name))"
   ]
  },
  {
   "cell_type": "markdown",
   "metadata": {},
   "source": [
    "### Make data"
   ]
  },
  {
   "cell_type": "code",
   "execution_count": 7,
   "metadata": {},
   "outputs": [
    {
     "name": "stdout",
     "output_type": "stream",
     "text": [
      "Loading dataset for test ...\n",
      "Loading images ...\n"
     ]
    }
   ],
   "source": [
    "print('Loading dataset for test ...')\n",
    "test_dataset = insects_dataset_from_voc_style_txt(args.test_image_root, args.input_size, args.crop_num, \"RefineDet\", training=False)\n",
    "test_data_loader = data.DataLoader(test_dataset, 1, num_workers=1, shuffle=False, collate_fn=collate_fn)\n",
    "print('Loading images ...')\n",
    "anno_paths, image_paths = load_path(args.data_root, \"refined_images\", args.test_anno_folders)\n",
    "images = load_images(image_paths)"
   ]
  },
  {
   "cell_type": "markdown",
   "metadata": {},
   "source": [
    "# --- result analysis ---"
   ]
  },
  {
   "cell_type": "code",
   "execution_count": 8,
   "metadata": {},
   "outputs": [],
   "source": [
    "if os.path.exists(args.figure_root) is False:\n",
    "    os.makedirs(args.figure_root)"
   ]
  },
  {
   "cell_type": "code",
   "execution_count": 9,
   "metadata": {},
   "outputs": [],
   "source": [
    "def get_det_result(det_model, data_loader, crop_num, num_classes, nms_thresh=0.3, ovthresh=0.3):\n",
    "    det_result = test_prediction(det_model, data_loader, crop_num, num_classes, nms_thresh)\n",
    "    det_result = refine_result_by_ovthresh(det_result, ovthresh)\n",
    "    return det_result"
   ]
  },
  {
   "cell_type": "code",
   "execution_count": 10,
   "metadata": {},
   "outputs": [
    {
     "name": "stderr",
     "output_type": "stream",
     "text": [
      "  0%|          | 0/10 [00:00<?, ?it/s]"
     ]
    },
    {
     "name": "stdout",
     "output_type": "stream",
     "text": [
      "detecting ... : 20180615-0348\n"
     ]
    },
    {
     "name": "stderr",
     "output_type": "stream",
     "text": [
      " 10%|█         | 1/10 [00:02<00:21,  2.40s/it]"
     ]
    },
    {
     "name": "stdout",
     "output_type": "stream",
     "text": [
      "detecting ... : 20180614-2208\n"
     ]
    },
    {
     "name": "stderr",
     "output_type": "stream",
     "text": [
      " 20%|██        | 2/10 [00:03<00:17,  2.15s/it]"
     ]
    },
    {
     "name": "stdout",
     "output_type": "stream",
     "text": [
      "detecting ... : 20180614-2048\n"
     ]
    },
    {
     "name": "stderr",
     "output_type": "stream",
     "text": [
      " 30%|███       | 3/10 [00:05<00:13,  1.96s/it]"
     ]
    },
    {
     "name": "stdout",
     "output_type": "stream",
     "text": [
      "detecting ... : 20180615-0118\n"
     ]
    },
    {
     "name": "stderr",
     "output_type": "stream",
     "text": [
      " 40%|████      | 4/10 [00:06<00:10,  1.81s/it]"
     ]
    },
    {
     "name": "stdout",
     "output_type": "stream",
     "text": [
      "detecting ... : 20180615-0208\n"
     ]
    },
    {
     "name": "stderr",
     "output_type": "stream",
     "text": [
      " 50%|█████     | 5/10 [00:08<00:08,  1.71s/it]"
     ]
    },
    {
     "name": "stdout",
     "output_type": "stream",
     "text": [
      "detecting ... : 20180614-2218\n"
     ]
    },
    {
     "name": "stderr",
     "output_type": "stream",
     "text": [
      " 60%|██████    | 6/10 [00:09<00:06,  1.65s/it]"
     ]
    },
    {
     "name": "stdout",
     "output_type": "stream",
     "text": [
      "detecting ... : 20180615-0238\n"
     ]
    },
    {
     "name": "stderr",
     "output_type": "stream",
     "text": [
      " 70%|███████   | 7/10 [00:11<00:04,  1.60s/it]"
     ]
    },
    {
     "name": "stdout",
     "output_type": "stream",
     "text": [
      "detecting ... : 20180614-2248\n"
     ]
    },
    {
     "name": "stderr",
     "output_type": "stream",
     "text": [
      " 80%|████████  | 8/10 [00:12<00:03,  1.56s/it]"
     ]
    },
    {
     "name": "stdout",
     "output_type": "stream",
     "text": [
      "detecting ... : 20180615-0440\n"
     ]
    },
    {
     "name": "stderr",
     "output_type": "stream",
     "text": [
      " 90%|█████████ | 9/10 [00:14<00:01,  1.53s/it]"
     ]
    },
    {
     "name": "stdout",
     "output_type": "stream",
     "text": [
      "detecting ... : 20180710-2248\n"
     ]
    },
    {
     "name": "stderr",
     "output_type": "stream",
     "text": [
      "100%|██████████| 10/10 [00:15<00:00,  1.59s/it]\n"
     ]
    }
   ],
   "source": [
    "det_result = get_det_result(det_model, test_data_loader, args.crop_num, len(args.det_labels)+1)"
   ]
  },
  {
   "cell_type": "code",
   "execution_count": 11,
   "metadata": {},
   "outputs": [],
   "source": [
    "if args.eval_det2cls is True:\n",
    "    # because [\"annotations_4\"] not include \"Hemiptera\"\n",
    "    new_result = {}\n",
    "    for image_id, result_per_image in det_result.items():\n",
    "        result_per_image[4] = result_per_image[5]\n",
    "        result_per_image[5] = result_per_image[6]\n",
    "        result_per_image[6] = result_per_image[7]\n",
    "        result_per_image[7] = result_per_image[8]\n",
    "        result_per_image[8] = result_per_image[9]\n",
    "        result_per_image[9] = result_per_image[10]\n",
    "        result_per_image[10] = result_per_image[11]\n",
    "        new_result.update({image_id: result_per_image})\n",
    "    det_result = new_result"
   ]
  },
  {
   "cell_type": "code",
   "execution_count": 12,
   "metadata": {},
   "outputs": [
    {
     "name": "stdout",
     "output_type": "stream",
     "text": [
      "initialize evaluater ...\n",
      "setting result ...\n"
     ]
    },
    {
     "data": {
      "image/png": "[encoded data removed]",
      "text/plain": [
       "<Figure size 432x288 with 1 Axes>"
      ]
     },
     "metadata": {
      "needs_background": "light"
     },
     "output_type": "display_data"
    }
   ],
   "source": [
    "evaluater = Voc_Evaluater(args.test_image_root, args.test_target_root, args.figure_root)\n",
    "evaluater.set_result(det_result)\n",
    "eval_metrics = evaluater.get_eval_metrics()"
   ]
  },
  {
   "cell_type": "code",
   "execution_count": 13,
   "metadata": {},
   "outputs": [
    {
     "name": "stdout",
     "output_type": "stream",
     "text": [
      "--- evaluation index for Target ---\n",
      "mAP = 0.6060808331209133\n",
      "mean_precision = 0.5044863694863695\n",
      "mean_recall = 0.7002591046945886\n"
     ]
    }
   ],
   "source": [
    "visualize_mean_index(eval_metrics, refinedet_only=True)"
   ]
  },
  {
   "cell_type": "markdown",
   "metadata": {},
   "source": [
    "# --- Output image with result ---"
   ]
  },
  {
   "cell_type": "code",
   "execution_count": 14,
   "metadata": {},
   "outputs": [],
   "source": [
    "if os.path.exists(args.save_img_root) is False:\n",
    "    os.makedirs(args.save_img_root)"
   ]
  },
  {
   "cell_type": "code",
   "execution_count": 15,
   "metadata": {},
   "outputs": [],
   "source": [
    "def get_imagenames_from_anno_paths(anno_paths):\n",
    "    imagenames = [anno_path.split('/')[-1] for anno_path in anno_paths]\n",
    "    if '.ipynb_checkpoints' in imagenames:\n",
    "        imagenames.remove('.ipynb_checkpoints')\n",
    "    imagenames = [imagename.split('.')[0] for imagename in imagenames]\n",
    "    return imagenames"
   ]
  },
  {
   "cell_type": "code",
   "execution_count": 16,
   "metadata": {},
   "outputs": [],
   "source": [
    "imagenames = get_imagenames_from_anno_paths(anno_paths)\n",
    "colors = [\"white\", \"red\", \"lime\", \"blue\", \"yellow\", \"fuchsia\", \"aqua\", \"gray\", \"maroon\", \"green\", \"navy\", \"olive\", \"purple\", \"teal\"]\n",
    "insect_names = ['Diptera', 'Ephemeridae', 'Ephemeroptera', \n",
    "                'Lepidoptera', 'Plecoptera', 'Trichoptera']\n",
    "target_label = [1, 2, 3, 4, 5, 6]"
   ]
  },
  {
   "cell_type": "code",
   "execution_count": 17,
   "metadata": {},
   "outputs": [],
   "source": [
    "def read_ground_truth(test_target_path, height, width):\n",
    "    gt_coord = {}\n",
    "    if args.eval_det2cls:\n",
    "        lbl_array = range(11)\n",
    "    else:\n",
    "        lbl_array = range(1)\n",
    "    \n",
    "    for lbl in lbl_array:\n",
    "        gt_coord.update({lbl: []})\n",
    "\n",
    "    with open(test_target_path, mode=\"r\") as f:\n",
    "        lines = f.readlines()\n",
    "        for line in lines:\n",
    "            line = line.split('\\n')[0]\n",
    "            elements = line.split(' ')\n",
    "            target_lbl = int(elements[4])\n",
    "            x1 = float(elements[0]) * width\n",
    "            x2 = float(elements[2]) * width\n",
    "            y1 = float(elements[1]) * height\n",
    "            y2 = float(elements[3]) * height\n",
    "            coord = [x1, y1, x2, y2]\n",
    "            gt_coord[target_lbl].append(coord)\n",
    "    \n",
    "    for lbl in lbl_array:\n",
    "        gt_coord[lbl] = np.asarray(gt_coord[lbl])\n",
    "    \n",
    "    return gt_coord"
   ]
  },
  {
   "cell_type": "code",
   "execution_count": 22,
   "metadata": {},
   "outputs": [],
   "source": [
    "def output_img_with_result(det_result, test_image_root, test_target_root, imagenames, insect_names, save_img_root):\n",
    "    for i in range(len(imagenames)):\n",
    "        print(\"output image: {}\".format(imagenames[i]+\".png\"))\n",
    "        img = np.asarray(Image.open(pj(test_image_root, imagenames[i]+\".png\")))\n",
    "        height, width, _ = img.shape\n",
    "        gt_coord = read_ground_truth(pj(test_target_root, imagenames[i]+\".txt\"), height, width)\n",
    "        coord_per_image = copy.copy(det_result[imagenames[i]])\n",
    "        for j, lbl in enumerate(target_label):\n",
    "            img = vis_detections(img, coord_per_image[lbl], class_name=insect_names[j], color_name=colors[j])\n",
    "            img = vis_detections(img, gt_coord[lbl], class_name=insect_names[j], color_name=colors[j])\n",
    "        \n",
    "        img = Image.fromarray(img)\n",
    "        img.save(pj(save_img_root, imagenames[i]+\".png\"))"
   ]
  },
  {
   "cell_type": "code",
   "execution_count": 23,
   "metadata": {},
   "outputs": [
    {
     "name": "stdout",
     "output_type": "stream",
     "text": [
      "output image: 20180615-0440.png\n",
      "output image: 20180615-0208.png\n",
      "output image: 20180710-2248.png\n",
      "output image: 20180614-2248.png\n",
      "output image: 20180615-0238.png\n",
      "output image: 20180614-2208.png\n",
      "output image: 20180614-2048.png\n",
      "output image: 20180614-2218.png\n",
      "output image: 20180615-0348.png\n",
      "output image: 20180615-0118.png\n"
     ]
    }
   ],
   "source": [
    "output_img_with_result(det_result, args.test_image_root, args.test_target_root, imagenames, insect_names, args.save_img_root)"
   ]
  }
 ],
 "metadata": {
  "kernelspec": {
   "display_name": "pytorch_100",
   "language": "python",
   "name": "pytorch_100"
  },
  "language_info": {
   "codemirror_mode": {
    "name": "ipython",
    "version": 3
   },
   "file_extension": ".py",
   "mimetype": "text/x-python",
   "name": "python",
   "nbconvert_exporter": "python",
   "pygments_lexer": "ipython3",
   "version": "3.7.4"
  }
 },
 "nbformat": 4,
 "nbformat_minor": 4
}
