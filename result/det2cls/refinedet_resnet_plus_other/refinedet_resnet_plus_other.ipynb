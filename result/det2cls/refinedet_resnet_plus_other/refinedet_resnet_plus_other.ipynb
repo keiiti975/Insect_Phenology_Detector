{
 "cells": [
  {
   "cell_type": "code",
   "execution_count": 1,
   "metadata": {},
   "outputs": [],
   "source": [
    "import os\n",
    "os.environ[\"CUDA_VISIBLE_DEVICES\"]=\"0\""
   ]
  },
  {
   "cell_type": "code",
   "execution_count": 2,
   "metadata": {},
   "outputs": [],
   "source": [
    "import copy\n",
    "import numpy as np\n",
    "from numpy.random import *\n",
    "from os import listdir as ld\n",
    "from os.path import join as pj\n",
    "from tqdm import tqdm\n",
    "import torch\n",
    "import torch.nn as nn\n",
    "import torch.optim as optim\n",
    "import torch.utils.data as data\n",
    "import visdom\n",
    "from PIL import Image\n",
    "\n",
    "# IO\n",
    "from IO.utils import refine_result_by_ovthresh\n",
    "from IO.loader import load_path, load_images\n",
    "from IO.build_ds import build_classification_ds_from_result\n",
    "# utils\n",
    "from utils.crop import crop_adjusted_std, crop_adjusted_std_resize\n",
    "# Dataset\n",
    "from dataset.detection.dataset import insects_dataset_from_voc_style_txt, collate_fn\n",
    "# det model\n",
    "from model.refinedet.refinedet import RefineDet\n",
    "# cls model\n",
    "from model.resnet.resnet import ResNet\n",
    "from model.resnet.predict import test_classification\n",
    "# Predict\n",
    "from model.refinedet.utils.predict import test_prediction\n",
    "# Evaluate\n",
    "from evaluation.detection.evaluate import Voc_Evaluater, visualize_mean_index\n",
    "from evaluation.det2cls.visualize import vis_detections"
   ]
  },
  {
   "cell_type": "markdown",
   "metadata": {},
   "source": [
    "# Test Config"
   ]
  },
  {
   "cell_type": "code",
   "execution_count": 3,
   "metadata": {},
   "outputs": [],
   "source": [
    "class args:\n",
    "    # paths\n",
    "    data_root = \"/home/tanida/workspace/Insect_Phenology_Detector/data\"\n",
    "    test_image_root = \"/home/tanida/workspace/Insect_Phenology_Detector/data/test_refined_images\"\n",
    "    test_target_root = \"/home/tanida/workspace/Insect_Phenology_Detector/data/test_detection_data/target_with_other\"\n",
    "    det_model_root = pj(\"/home/tanida/workspace/Insect_Phenology_Detector/output_model/detection/RefineDet\", \"crop_b2_2_4_8_16_32_im512\")\n",
    "    cls_model_root = pj(\"/home/tanida/workspace/Insect_Phenology_Detector/output_model/classification/ResNet101\", \"resnet50_b20_r45_lr1e-5_crossvalid_other\")\n",
    "    figure_root = pj(\"/home/tanida/workspace/Insect_Phenology_Detector/result/det2cls\", \"refinedet_resnet_plus_other\")\n",
    "    save_img_root = pj(\"/home/tanida/workspace/Insect_Phenology_Detector/figure/det2cls\", \"refinedet_resnet_plus_other\")\n",
    "    test_anno_folders = [\"annotations_4\"]\n",
    "    # det model config\n",
    "    input_size = 512 # choices=[320, 512, 1024]\n",
    "    crop_num = (5, 5)\n",
    "    tcb_layer_num = 5\n",
    "    use_extra_layer = False\n",
    "    det_activation_function = \"ReLU\"\n",
    "    use_GN_WS = False\n",
    "    # cls model config\n",
    "    cls_model_name = \"resnet50\"\n",
    "    cls_activation_function = \"ReLU\"\n",
    "    decoder = None\n",
    "    # test config\n",
    "    det_divide_flag = False\n",
    "    cls_divide_flag = True"
   ]
  },
  {
   "cell_type": "code",
   "execution_count": 4,
   "metadata": {},
   "outputs": [],
   "source": [
    "# class label\n",
    "if args.det_divide_flag is True:\n",
    "    args.det_labels = ['Aquatic_insects', 'Other_insects']\n",
    "else:\n",
    "    args.det_labels = ['insects']\n",
    "\n",
    "if args.cls_divide_flag is True:\n",
    "    args.cls_labels = ['Diptera', 'Ephemeridae', 'Ephemeroptera', \n",
    "                       'Lepidoptera', 'Plecoptera', 'Trichoptera', 'Other']\n",
    "else:\n",
    "    args.cls_labels = ['Diptera', 'Ephemeridae', 'Ephemeroptera', \n",
    "                       'Lepidoptera', 'Plecoptera', 'Trichoptera']"
   ]
  },
  {
   "cell_type": "markdown",
   "metadata": {},
   "source": [
    "# Set cuda"
   ]
  },
  {
   "cell_type": "code",
   "execution_count": 5,
   "metadata": {},
   "outputs": [],
   "source": [
    "if torch.cuda.is_available():\n",
    "    torch.set_default_tensor_type('torch.cuda.FloatTensor')\n",
    "else:\n",
    "    torch.set_default_tensor_type('torch.FloatTensor')"
   ]
  },
  {
   "cell_type": "markdown",
   "metadata": {},
   "source": [
    "# Detection Model"
   ]
  },
  {
   "cell_type": "code",
   "execution_count": 6,
   "metadata": {},
   "outputs": [
    {
     "name": "stdout",
     "output_type": "stream",
     "text": [
      "activation_function = ReLU\n",
      "init_function = xavier_uniform_\n",
      "Initializing weights ...\n"
     ]
    },
    {
     "data": {
      "text/plain": [
       "<All keys matched successfully>"
      ]
     },
     "execution_count": 6,
     "metadata": {},
     "output_type": "execute_result"
    }
   ],
   "source": [
    "det_model = RefineDet(args.input_size, len(args.det_labels)+1, args.tcb_layer_num, activation_function=args.det_activation_function, use_extra_layer=args.use_extra_layer, use_GN_WS=args.use_GN_WS)\n",
    "load_name = pj(args.det_model_root, 'RefineDet{}_{}.pth'.format(args.input_size, \"final\"))\n",
    "det_model.load_state_dict(torch.load(load_name))"
   ]
  },
  {
   "cell_type": "markdown",
   "metadata": {},
   "source": [
    "# Classification Model"
   ]
  },
  {
   "cell_type": "code",
   "execution_count": 7,
   "metadata": {},
   "outputs": [
    {
     "name": "stdout",
     "output_type": "stream",
     "text": [
      "activation_function = ReLU\n"
     ]
    },
    {
     "data": {
      "text/plain": [
       "<All keys matched successfully>"
      ]
     },
     "execution_count": 7,
     "metadata": {},
     "output_type": "execute_result"
    }
   ],
   "source": [
    "cls_model = ResNet(args.cls_model_name, len(args.cls_labels), activation_function=args.cls_activation_function, decoder=args.decoder).cuda()\n",
    "load_name = pj(args.cls_model_root, \"final.pth\")\n",
    "cls_model.load_state_dict(torch.load(load_name))"
   ]
  },
  {
   "cell_type": "markdown",
   "metadata": {},
   "source": [
    "### Make data"
   ]
  },
  {
   "cell_type": "code",
   "execution_count": 8,
   "metadata": {},
   "outputs": [
    {
     "name": "stdout",
     "output_type": "stream",
     "text": [
      "Loading dataset for test ...\n",
      "Loading images ...\n"
     ]
    }
   ],
   "source": [
    "print('Loading dataset for test ...')\n",
    "test_dataset = insects_dataset_from_voc_style_txt(args.test_image_root, args.input_size, args.crop_num, \"RefineDet\", training=False)\n",
    "test_data_loader = data.DataLoader(test_dataset, 1, num_workers=1, shuffle=False, collate_fn=collate_fn)\n",
    "print('Loading images ...')\n",
    "anno_paths, image_paths = load_path(args.data_root, \"refined_images\", args.test_anno_folders)\n",
    "images = load_images(image_paths)"
   ]
  },
  {
   "cell_type": "markdown",
   "metadata": {},
   "source": [
    "# --- result analysis ---"
   ]
  },
  {
   "cell_type": "code",
   "execution_count": 9,
   "metadata": {},
   "outputs": [],
   "source": [
    "if os.path.exists(args.figure_root) is False:\n",
    "    os.makedirs(args.figure_root)"
   ]
  },
  {
   "cell_type": "code",
   "execution_count": 10,
   "metadata": {},
   "outputs": [],
   "source": [
    "def get_det_result(det_model, data_loader, crop_num, num_classes, nms_thresh=0.3, ovthresh=0.3):\n",
    "    det_result = test_prediction(det_model, data_loader, crop_num, num_classes, nms_thresh)\n",
    "    det_result = refine_result_by_ovthresh(det_result, ovthresh)\n",
    "    return det_result"
   ]
  },
  {
   "cell_type": "code",
   "execution_count": 11,
   "metadata": {},
   "outputs": [
    {
     "name": "stderr",
     "output_type": "stream",
     "text": [
      "  0%|          | 0/10 [00:00<?, ?it/s]"
     ]
    },
    {
     "name": "stdout",
     "output_type": "stream",
     "text": [
      "detecting ... : 20180615-0348\n"
     ]
    },
    {
     "name": "stderr",
     "output_type": "stream",
     "text": [
      " 10%|█         | 1/10 [00:02<00:19,  2.18s/it]"
     ]
    },
    {
     "name": "stdout",
     "output_type": "stream",
     "text": [
      "detecting ... : 20180614-2208\n"
     ]
    },
    {
     "name": "stderr",
     "output_type": "stream",
     "text": [
      " 20%|██        | 2/10 [00:03<00:15,  1.92s/it]"
     ]
    },
    {
     "name": "stdout",
     "output_type": "stream",
     "text": [
      "detecting ... : 20180614-2048\n"
     ]
    },
    {
     "name": "stderr",
     "output_type": "stream",
     "text": [
      " 30%|███       | 3/10 [00:04<00:12,  1.73s/it]"
     ]
    },
    {
     "name": "stdout",
     "output_type": "stream",
     "text": [
      "detecting ... : 20180615-0118\n"
     ]
    },
    {
     "name": "stderr",
     "output_type": "stream",
     "text": [
      " 40%|████      | 4/10 [00:06<00:09,  1.59s/it]"
     ]
    },
    {
     "name": "stdout",
     "output_type": "stream",
     "text": [
      "detecting ... : 20180615-0208\n"
     ]
    },
    {
     "name": "stderr",
     "output_type": "stream",
     "text": [
      " 50%|█████     | 5/10 [00:07<00:07,  1.49s/it]"
     ]
    },
    {
     "name": "stdout",
     "output_type": "stream",
     "text": [
      "detecting ... : 20180614-2218\n"
     ]
    },
    {
     "name": "stderr",
     "output_type": "stream",
     "text": [
      " 60%|██████    | 6/10 [00:08<00:05,  1.42s/it]"
     ]
    },
    {
     "name": "stdout",
     "output_type": "stream",
     "text": [
      "detecting ... : 20180615-0238\n"
     ]
    },
    {
     "name": "stderr",
     "output_type": "stream",
     "text": [
      " 70%|███████   | 7/10 [00:09<00:04,  1.37s/it]"
     ]
    },
    {
     "name": "stdout",
     "output_type": "stream",
     "text": [
      "detecting ... : 20180614-2248\n"
     ]
    },
    {
     "name": "stderr",
     "output_type": "stream",
     "text": [
      " 80%|████████  | 8/10 [00:11<00:02,  1.33s/it]"
     ]
    },
    {
     "name": "stdout",
     "output_type": "stream",
     "text": [
      "detecting ... : 20180615-0440\n"
     ]
    },
    {
     "name": "stderr",
     "output_type": "stream",
     "text": [
      " 90%|█████████ | 9/10 [00:12<00:01,  1.31s/it]"
     ]
    },
    {
     "name": "stdout",
     "output_type": "stream",
     "text": [
      "detecting ... : 20180710-2248\n"
     ]
    },
    {
     "name": "stderr",
     "output_type": "stream",
     "text": [
      "100%|██████████| 10/10 [00:13<00:00,  1.36s/it]\n"
     ]
    }
   ],
   "source": [
    "det_result = get_det_result(det_model, test_data_loader, args.crop_num, len(args.det_labels)+1)"
   ]
  },
  {
   "cell_type": "code",
   "execution_count": 12,
   "metadata": {},
   "outputs": [
    {
     "name": "stderr",
     "output_type": "stream",
     "text": [
      "  0%|          | 0/97 [00:00<?, ?it/s]"
     ]
    },
    {
     "name": "stdout",
     "output_type": "stream",
     "text": [
      "creating images: 20180615-0348\n"
     ]
    },
    {
     "name": "stderr",
     "output_type": "stream",
     "text": [
      "100%|██████████| 97/97 [00:26<00:00,  3.66it/s]\n",
      "  0%|          | 0/79 [00:00<?, ?it/s]"
     ]
    },
    {
     "name": "stdout",
     "output_type": "stream",
     "text": [
      "creating images: 20180614-2208\n"
     ]
    },
    {
     "name": "stderr",
     "output_type": "stream",
     "text": [
      "100%|██████████| 79/79 [00:21<00:00,  3.68it/s]\n",
      "  0%|          | 0/79 [00:00<?, ?it/s]"
     ]
    },
    {
     "name": "stdout",
     "output_type": "stream",
     "text": [
      "creating images: 20180614-2048\n"
     ]
    },
    {
     "name": "stderr",
     "output_type": "stream",
     "text": [
      "100%|██████████| 79/79 [00:21<00:00,  3.68it/s]\n",
      "  0%|          | 0/47 [00:00<?, ?it/s]"
     ]
    },
    {
     "name": "stdout",
     "output_type": "stream",
     "text": [
      "creating images: 20180615-0118\n"
     ]
    },
    {
     "name": "stderr",
     "output_type": "stream",
     "text": [
      "100%|██████████| 47/47 [00:12<00:00,  3.68it/s]\n",
      "  0%|          | 0/44 [00:00<?, ?it/s]"
     ]
    },
    {
     "name": "stdout",
     "output_type": "stream",
     "text": [
      "creating images: 20180615-0208\n"
     ]
    },
    {
     "name": "stderr",
     "output_type": "stream",
     "text": [
      "100%|██████████| 44/44 [00:11<00:00,  3.68it/s]\n",
      "  0%|          | 0/68 [00:00<?, ?it/s]"
     ]
    },
    {
     "name": "stdout",
     "output_type": "stream",
     "text": [
      "creating images: 20180614-2218\n"
     ]
    },
    {
     "name": "stderr",
     "output_type": "stream",
     "text": [
      "100%|██████████| 68/68 [00:18<00:00,  3.69it/s]\n",
      "  0%|          | 0/46 [00:00<?, ?it/s]"
     ]
    },
    {
     "name": "stdout",
     "output_type": "stream",
     "text": [
      "creating images: 20180615-0238\n"
     ]
    },
    {
     "name": "stderr",
     "output_type": "stream",
     "text": [
      "100%|██████████| 46/46 [00:12<00:00,  3.67it/s]\n",
      "  0%|          | 0/60 [00:00<?, ?it/s]"
     ]
    },
    {
     "name": "stdout",
     "output_type": "stream",
     "text": [
      "creating images: 20180614-2248\n"
     ]
    },
    {
     "name": "stderr",
     "output_type": "stream",
     "text": [
      "100%|██████████| 60/60 [00:16<00:00,  3.67it/s]\n",
      "  0%|          | 0/60 [00:00<?, ?it/s]"
     ]
    },
    {
     "name": "stdout",
     "output_type": "stream",
     "text": [
      "creating images: 20180615-0440\n"
     ]
    },
    {
     "name": "stderr",
     "output_type": "stream",
     "text": [
      "100%|██████████| 60/60 [00:16<00:00,  3.68it/s]\n",
      "  0%|          | 0/57 [00:00<?, ?it/s]"
     ]
    },
    {
     "name": "stdout",
     "output_type": "stream",
     "text": [
      "creating images: 20180710-2248\n"
     ]
    },
    {
     "name": "stderr",
     "output_type": "stream",
     "text": [
      "100%|██████████| 57/57 [00:20<00:00,  2.76it/s]\n"
     ]
    }
   ],
   "source": [
    "insect_dataset = build_classification_ds_from_result(images, det_result)"
   ]
  },
  {
   "cell_type": "code",
   "execution_count": 13,
   "metadata": {},
   "outputs": [],
   "source": [
    "def get_det2cls_result(cls_model, insect_dataset, det_result, det_divide_flag=False):\n",
    "    det2cls_result = {}\n",
    "    for image_id, imgs in insect_dataset.items():\n",
    "        print(\"classify images: {}\".format(image_id))\n",
    "        det2cls_result_per_image = copy.copy(det_result[image_id])\n",
    "        if det_divide_flag:\n",
    "            det2cls_result_per_image.update({len(args.cls_labels)+1: det_result[image_id][1]})\n",
    "        \n",
    "        imgs = torch.from_numpy(imgs).cuda()\n",
    "        lbls = test_classification(cls_model, imgs, bs=20)\n",
    "        coords = det_result[image_id][0]\n",
    "        for lbl in range(len(args.cls_labels)):\n",
    "            lbl_filter = lbls == lbl\n",
    "            filtered_coords = coords[lbl_filter]\n",
    "            det2cls_result_per_image.update({lbl: filtered_coords})\n",
    "        det2cls_result.update({image_id: det2cls_result_per_image})\n",
    "    return det2cls_result"
   ]
  },
  {
   "cell_type": "code",
   "execution_count": 14,
   "metadata": {},
   "outputs": [
    {
     "name": "stdout",
     "output_type": "stream",
     "text": [
      "classify images: 20180615-0348\n",
      "classify images: 20180614-2208\n",
      "classify images: 20180614-2048\n",
      "classify images: 20180615-0118\n",
      "classify images: 20180615-0208\n",
      "classify images: 20180614-2218\n",
      "classify images: 20180615-0238\n",
      "classify images: 20180614-2248\n",
      "classify images: 20180615-0440\n",
      "classify images: 20180710-2248\n"
     ]
    }
   ],
   "source": [
    "det2cls_result = get_det2cls_result(cls_model, insect_dataset, det_result, det_divide_flag=False)"
   ]
  },
  {
   "cell_type": "code",
   "execution_count": 15,
   "metadata": {},
   "outputs": [
    {
     "name": "stdout",
     "output_type": "stream",
     "text": [
      "initialize evaluater ...\n",
      "setting result ...\n"
     ]
    },
    {
     "data": {
      "image/png": "[encoded data removed]",
      "text/plain": [
       "<Figure size 432x288 with 1 Axes>"
      ]
     },
     "metadata": {
      "needs_background": "light"
     },
     "output_type": "display_data"
    }
   ],
   "source": [
    "evaluater = Voc_Evaluater(args.test_image_root, args.test_target_root, args.figure_root)\n",
    "evaluater.set_result(det2cls_result)\n",
    "eval_metrics = evaluater.get_eval_metrics()"
   ]
  },
  {
   "cell_type": "code",
   "execution_count": 16,
   "metadata": {},
   "outputs": [
    {
     "name": "stdout",
     "output_type": "stream",
     "text": [
      "--- evaluation index for Other ---\n",
      "AP = 0.6170360148568697\n",
      "precision = 0.7260579064587973\n",
      "recall = 0.7212389380530974\n",
      "--- evaluation index for Target ---\n",
      "mAP = 0.6348949081548121\n",
      "mean_precision = 0.7113197340018326\n",
      "mean_recall = 0.7734651101586585\n"
     ]
    }
   ],
   "source": [
    "visualize_mean_index(eval_metrics)"
   ]
  },
  {
   "cell_type": "markdown",
   "metadata": {},
   "source": [
    "# --- Output image with result ---"
   ]
  },
  {
   "cell_type": "code",
   "execution_count": 17,
   "metadata": {},
   "outputs": [],
   "source": [
    "if os.path.exists(args.save_img_root) is False:\n",
    "    os.makedirs(args.save_img_root)"
   ]
  },
  {
   "cell_type": "code",
   "execution_count": 18,
   "metadata": {},
   "outputs": [],
   "source": [
    "def get_imagenames_from_anno_paths(anno_paths):\n",
    "    imagenames = [anno_path.split('/')[-1] for anno_path in anno_paths]\n",
    "    if '.ipynb_checkpoints' in imagenames:\n",
    "        imagenames.remove('.ipynb_checkpoints')\n",
    "    imagenames = [imagename.split('.')[0] for imagename in imagenames]\n",
    "    return imagenames"
   ]
  },
  {
   "cell_type": "code",
   "execution_count": 19,
   "metadata": {},
   "outputs": [],
   "source": [
    "imagenames = get_imagenames_from_anno_paths(anno_paths)\n",
    "colors = [\"white\", \"red\", \"lime\", \"blue\", \"yellow\", \"fuchsia\", \"aqua\", \"gray\", \"maroon\", \"green\", \"navy\", \"olive\", \"purple\", \"teal\"]\n",
    "insect_names = ['Diptera', 'Ephemeridae', 'Ephemeroptera', \n",
    "                'Lepidoptera', 'Plecoptera', 'Trichoptera', 'Other']"
   ]
  },
  {
   "cell_type": "code",
   "execution_count": 20,
   "metadata": {},
   "outputs": [],
   "source": [
    "def read_ground_truth(test_target_path, insect_names, height, width):\n",
    "    gt_coord = {}\n",
    "    for lbl in range(len(insect_names)):\n",
    "        gt_coord.update({lbl: []})\n",
    "\n",
    "    with open(test_target_path, mode=\"r\") as f:\n",
    "        lines = f.readlines()\n",
    "        for line in lines:\n",
    "            line = line.split('\\n')[0]\n",
    "            elements = line.split(' ')\n",
    "            target_lbl = int(elements[4])\n",
    "            x1 = float(elements[0]) * width\n",
    "            x2 = float(elements[2]) * width\n",
    "            y1 = float(elements[1]) * height\n",
    "            y2 = float(elements[3]) * height\n",
    "            coord = [x1, y1, x2, y2]\n",
    "            gt_coord[target_lbl].append(coord)\n",
    "    \n",
    "    for lbl in range(len(insect_names)):\n",
    "        gt_coord[lbl] = np.asarray(gt_coord[lbl])\n",
    "    \n",
    "    return gt_coord"
   ]
  },
  {
   "cell_type": "code",
   "execution_count": 21,
   "metadata": {},
   "outputs": [],
   "source": [
    "def output_img_with_result(det2cls_result, test_image_root, test_target_root, imagenames, insect_names, save_img_root):\n",
    "    for i in range(len(imagenames)):\n",
    "        print(\"output image: {}\".format(imagenames[i]+\".png\"))\n",
    "        img = np.asarray(Image.open(pj(test_image_root, imagenames[i]+\".png\")))\n",
    "        height, width, _ = img.shape\n",
    "        gt_coord = read_ground_truth(pj(test_target_root, imagenames[i]+\".txt\"), insect_names, height, width)\n",
    "        coord_per_image = copy.copy(det2cls_result[imagenames[i]])\n",
    "        for lbl in range(len(insect_names)):\n",
    "            img = vis_detections(img, coord_per_image[lbl], class_name=insect_names[lbl], color_name=colors[lbl])\n",
    "            img = vis_detections(img, gt_coord[lbl], class_name=insect_names[lbl], color_name=colors[lbl])\n",
    "        \n",
    "        img = Image.fromarray(img)\n",
    "        img.save(pj(save_img_root, imagenames[i]+\".png\"))"
   ]
  },
  {
   "cell_type": "code",
   "execution_count": 22,
   "metadata": {},
   "outputs": [
    {
     "name": "stdout",
     "output_type": "stream",
     "text": [
      "output image: 20180615-0440.png\n",
      "output image: 20180615-0208.png\n",
      "output image: 20180710-2248.png\n",
      "output image: 20180614-2248.png\n",
      "output image: 20180615-0238.png\n",
      "output image: 20180614-2208.png\n",
      "output image: 20180614-2048.png\n",
      "output image: 20180614-2218.png\n",
      "output image: 20180615-0348.png\n",
      "output image: 20180615-0118.png\n"
     ]
    }
   ],
   "source": [
    "output_img_with_result(det2cls_result, args.test_image_root, args.test_target_root, imagenames, insect_names, args.save_img_root)"
   ]
  }
 ],
 "metadata": {
  "kernelspec": {
   "display_name": "pytorch_100",
   "language": "python",
   "name": "pytorch_100"
  },
  "language_info": {
   "codemirror_mode": {
    "name": "ipython",
    "version": 3
   },
   "file_extension": ".py",
   "mimetype": "text/x-python",
   "name": "python",
   "nbconvert_exporter": "python",
   "pygments_lexer": "ipython3",
   "version": "3.7.4"
  }
 },
 "nbformat": 4,
 "nbformat_minor": 4
}
