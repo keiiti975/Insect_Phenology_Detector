{
 "cells": [
  {
   "cell_type": "code",
   "execution_count": 1,
   "metadata": {},
   "outputs": [],
   "source": [
    "import os\n",
    "from os.path import join as pj\n",
    "import numpy as np\n",
    "import pandas as pd\n",
    "import matplotlib.pyplot as plt\n",
    "%matplotlib inline"
   ]
  },
  {
   "cell_type": "code",
   "execution_count": 2,
   "metadata": {},
   "outputs": [],
   "source": [
    "refinedet_not_pretrain_root_path = pj(os.getcwd(), \"figure/detection/RefineDet/master_paper/crop_b2/tcb5_im512_not_pretrain\")\n",
    "refinedet_freeze_root_path = pj(os.getcwd(), \"figure/detection/RefineDet/master_paper/crop_b2/tcb5_im512_freeze\")\n",
    "refinedet_root_path = pj(os.getcwd(), \"figure/detection/RefineDet/master_paper/crop_b2/tcb5_im512\")\n",
    "refinedet_all02_root_path = pj(os.getcwd(), \"figure/detection/RefineDet/master_paper/crop_b2/tcb5_im512_freeze_All0to2\")\n",
    "#refinedet_AugScale_root_path = pj(os.getcwd(), \"figure/detection/RefineDet/master_paper/crop_b2/tcb5_im512_freeze_aug_scale\")\n",
    "refinedet_all02_AugScale_root_path = pj(os.getcwd(), \"figure/detection/RefineDet/master_paper/crop_b2/tcb5_im512_freeze_All0to2_aug_scale\")\n",
    "refinedet_all02withResize_root_path = pj(os.getcwd(), \"figure/detection/RefineDet/master_paper/crop_b2/tcb5_im512_freeze_All0to2withResize\")"
   ]
  },
  {
   "cell_type": "markdown",
   "metadata": {},
   "source": [
    "### AP, Precision, Recall"
   ]
  },
  {
   "cell_type": "code",
   "execution_count": 3,
   "metadata": {},
   "outputs": [],
   "source": [
    "refinedet_not_pretrain = pd.read_csv(pj(refinedet_not_pretrain_root_path, \"class_df.csv\"))\n",
    "refinedet_freeze = pd.read_csv(pj(refinedet_freeze_root_path, \"class_df.csv\"))\n",
    "refinedet = pd.read_csv(pj(refinedet_root_path, \"class_df.csv\"))\n",
    "refinedet_all02 = pd.read_csv(pj(refinedet_all02_root_path, \"class_df.csv\"))\n",
    "#refinedet_AugScale = pd.read_csv(pj(refinedet_AugScale_root_path, \"class_df.csv\"))\n",
    "refinedet_all02_AugScale = pd.read_csv(pj(refinedet_all02_AugScale_root_path, \"class_df.csv\"))\n",
    "refinedet_all02withResize = pd.read_csv(pj(refinedet_all02withResize_root_path, \"class_df.csv\"))"
   ]
  },
  {
   "cell_type": "code",
   "execution_count": 4,
   "metadata": {},
   "outputs": [],
   "source": [
    "exp_df = [refinedet_not_pretrain,\n",
    "          refinedet_freeze,\n",
    "          refinedet,\n",
    "          refinedet_all02,\n",
    "          #refinedet_AugScale,\n",
    "          refinedet_all02_AugScale,\n",
    "          refinedet_all02withResize,\n",
    "         ]\n",
    "exp_name = [\"refinedet_not_pretrain\",\n",
    "            \"refinedet_freeze\",\n",
    "            \"refinedet\",\n",
    "            \"refinedet_all02\",\n",
    "            #\"refinedet_AugScale\",\n",
    "            \"refinedet_all02_AugScale\",\n",
    "            \"refinedet_all02withResize\",\n",
    "           ]\n",
    "exp_ap = [float(elem_df[\"AP\"]) for elem_df in exp_df]\n",
    "exp_precision = [float(elem_df[\"precision\"]) for elem_df in exp_df]\n",
    "exp_recall = [float(elem_df[\"recall\"]) for elem_df in exp_df]"
   ]
  },
  {
   "cell_type": "code",
   "execution_count": 5,
   "metadata": {},
   "outputs": [
    {
     "data": {
      "text/html": [
       "<div>\n",
       "<style scoped>\n",
       "    .dataframe tbody tr th:only-of-type {\n",
       "        vertical-align: middle;\n",
       "    }\n",
       "\n",
       "    .dataframe tbody tr th {\n",
       "        vertical-align: top;\n",
       "    }\n",
       "\n",
       "    .dataframe thead th {\n",
       "        text-align: right;\n",
       "    }\n",
       "</style>\n",
       "<table border=\"1\" class=\"dataframe\">\n",
       "  <thead>\n",
       "    <tr style=\"text-align: right;\">\n",
       "      <th></th>\n",
       "      <th>AP</th>\n",
       "      <th>precision</th>\n",
       "      <th>recall</th>\n",
       "    </tr>\n",
       "  </thead>\n",
       "  <tbody>\n",
       "    <tr>\n",
       "      <td>refinedet_not_pretrain</td>\n",
       "      <td>0.766874</td>\n",
       "      <td>0.633526</td>\n",
       "      <td>0.879615</td>\n",
       "    </tr>\n",
       "    <tr>\n",
       "      <td>refinedet_freeze</td>\n",
       "      <td>0.811468</td>\n",
       "      <td>0.634593</td>\n",
       "      <td>0.889246</td>\n",
       "    </tr>\n",
       "    <tr>\n",
       "      <td>refinedet</td>\n",
       "      <td>0.690169</td>\n",
       "      <td>0.805217</td>\n",
       "      <td>0.743178</td>\n",
       "    </tr>\n",
       "    <tr>\n",
       "      <td>refinedet_all02</td>\n",
       "      <td>0.835126</td>\n",
       "      <td>0.352353</td>\n",
       "      <td>0.961477</td>\n",
       "    </tr>\n",
       "    <tr>\n",
       "      <td>refinedet_all02_AugScale</td>\n",
       "      <td>0.832555</td>\n",
       "      <td>0.447248</td>\n",
       "      <td>0.939005</td>\n",
       "    </tr>\n",
       "    <tr>\n",
       "      <td>refinedet_all02withResize</td>\n",
       "      <td>0.628305</td>\n",
       "      <td>0.855072</td>\n",
       "      <td>0.662921</td>\n",
       "    </tr>\n",
       "  </tbody>\n",
       "</table>\n",
       "</div>"
      ],
      "text/plain": [
       "                                 AP  precision    recall\n",
       "refinedet_not_pretrain     0.766874   0.633526  0.879615\n",
       "refinedet_freeze           0.811468   0.634593  0.889246\n",
       "refinedet                  0.690169   0.805217  0.743178\n",
       "refinedet_all02            0.835126   0.352353  0.961477\n",
       "refinedet_all02_AugScale   0.832555   0.447248  0.939005\n",
       "refinedet_all02withResize  0.628305   0.855072  0.662921"
      ]
     },
     "execution_count": 5,
     "metadata": {},
     "output_type": "execute_result"
    }
   ],
   "source": [
    "df = pd.DataFrame({\"AP\": exp_ap, \"precision\": exp_precision, \"recall\": exp_recall})\n",
    "df.index = exp_name\n",
    "df"
   ]
  },
  {
   "cell_type": "markdown",
   "metadata": {},
   "source": [
    "### Error Analysis"
   ]
  },
  {
   "cell_type": "markdown",
   "metadata": {},
   "source": [
    "### --- size distribution and Average Precision ---"
   ]
  },
  {
   "cell_type": "code",
   "execution_count": 6,
   "metadata": {},
   "outputs": [
    {
     "data": {
      "text/html": [
       "<div>\n",
       "<style scoped>\n",
       "    .dataframe tbody tr th:only-of-type {\n",
       "        vertical-align: middle;\n",
       "    }\n",
       "\n",
       "    .dataframe tbody tr th {\n",
       "        vertical-align: top;\n",
       "    }\n",
       "\n",
       "    .dataframe thead th {\n",
       "        text-align: right;\n",
       "    }\n",
       "</style>\n",
       "<table border=\"1\" class=\"dataframe\">\n",
       "  <thead>\n",
       "    <tr style=\"text-align: right;\">\n",
       "      <th></th>\n",
       "      <th>exponent</th>\n",
       "      <th>count</th>\n",
       "    </tr>\n",
       "  </thead>\n",
       "  <tbody>\n",
       "    <tr>\n",
       "      <td>0</td>\n",
       "      <td>7.0</td>\n",
       "      <td>15</td>\n",
       "    </tr>\n",
       "    <tr>\n",
       "      <td>1</td>\n",
       "      <td>8.0</td>\n",
       "      <td>181</td>\n",
       "    </tr>\n",
       "    <tr>\n",
       "      <td>2</td>\n",
       "      <td>9.0</td>\n",
       "      <td>189</td>\n",
       "    </tr>\n",
       "    <tr>\n",
       "      <td>3</td>\n",
       "      <td>10.0</td>\n",
       "      <td>84</td>\n",
       "    </tr>\n",
       "    <tr>\n",
       "      <td>4</td>\n",
       "      <td>11.0</td>\n",
       "      <td>50</td>\n",
       "    </tr>\n",
       "    <tr>\n",
       "      <td>5</td>\n",
       "      <td>12.0</td>\n",
       "      <td>38</td>\n",
       "    </tr>\n",
       "    <tr>\n",
       "      <td>6</td>\n",
       "      <td>13.0</td>\n",
       "      <td>47</td>\n",
       "    </tr>\n",
       "    <tr>\n",
       "      <td>7</td>\n",
       "      <td>14.0</td>\n",
       "      <td>16</td>\n",
       "    </tr>\n",
       "    <tr>\n",
       "      <td>8</td>\n",
       "      <td>15.0</td>\n",
       "      <td>3</td>\n",
       "    </tr>\n",
       "  </tbody>\n",
       "</table>\n",
       "</div>"
      ],
      "text/plain": [
       "   exponent  count\n",
       "0       7.0     15\n",
       "1       8.0    181\n",
       "2       9.0    189\n",
       "3      10.0     84\n",
       "4      11.0     50\n",
       "5      12.0     38\n",
       "6      13.0     47\n",
       "7      14.0     16\n",
       "8      15.0      3"
      ]
     },
     "execution_count": 6,
     "metadata": {},
     "output_type": "execute_result"
    }
   ],
   "source": [
    "each_size_df = pd.read_csv(pj(refinedet_not_pretrain_root_path, \"each_size_df.csv\"))\n",
    "each_size_df[\"exponent\"] = each_size_df[\"Insect_size\"].apply(lambda x: np.floor(np.log2(x)))\n",
    "insect_size = np.asarray(each_size_df[\"exponent\"])\n",
    "idx, count = np.unique(insect_size, return_counts=True)\n",
    "insect_size_df = pd.DataFrame({\"exponent\": idx, \"count\": count})\n",
    "insect_size_df"
   ]
  },
  {
   "cell_type": "code",
   "execution_count": 7,
   "metadata": {},
   "outputs": [],
   "source": [
    "refinedet_not_pretrain = pd.read_csv(pj(refinedet_not_pretrain_root_path, \"all_size_df.csv\"))\n",
    "refinedet_freeze = pd.read_csv(pj(refinedet_freeze_root_path, \"all_size_df.csv\"))\n",
    "refinedet = pd.read_csv(pj(refinedet_root_path, \"all_size_df.csv\"))\n",
    "refinedet_all02 = pd.read_csv(pj(refinedet_all02_root_path, \"all_size_df.csv\"))\n",
    "#refinedet_AugScale = pd.read_csv(pj(refinedet_AugScale_root_path, \"all_size_df.csv\"))\n",
    "refinedet_all02_AugScale = pd.read_csv(pj(refinedet_all02_AugScale_root_path, \"all_size_df.csv\"))\n",
    "refinedet_all02withResize = pd.read_csv(pj(refinedet_all02withResize_root_path, \"all_size_df.csv\"))"
   ]
  },
  {
   "cell_type": "code",
   "execution_count": 8,
   "metadata": {},
   "outputs": [],
   "source": [
    "exp_df = [refinedet_not_pretrain,\n",
    "          refinedet_freeze,\n",
    "          refinedet,\n",
    "          refinedet_all02,\n",
    "          #refinedet_AugScale,\n",
    "          refinedet_all02_AugScale,\n",
    "          refinedet_all02withResize,\n",
    "         ]"
   ]
  },
  {
   "cell_type": "code",
   "execution_count": 9,
   "metadata": {},
   "outputs": [],
   "source": [
    "data_dict = {\n",
    "    \"exponent\": insect_size_df[\"exponent\"],\n",
    "    \"count\": insect_size_df[\"count\"],\n",
    "}\n",
    "for name, each_df in zip(exp_name, exp_df):\n",
    "    data_dict.update({name: each_df[\"Accuracy\"]})"
   ]
  },
  {
   "cell_type": "code",
   "execution_count": 10,
   "metadata": {},
   "outputs": [
    {
     "data": {
      "text/html": [
       "<div>\n",
       "<style scoped>\n",
       "    .dataframe tbody tr th:only-of-type {\n",
       "        vertical-align: middle;\n",
       "    }\n",
       "\n",
       "    .dataframe tbody tr th {\n",
       "        vertical-align: top;\n",
       "    }\n",
       "\n",
       "    .dataframe thead th {\n",
       "        text-align: right;\n",
       "    }\n",
       "</style>\n",
       "<table border=\"1\" class=\"dataframe\">\n",
       "  <thead>\n",
       "    <tr style=\"text-align: right;\">\n",
       "      <th></th>\n",
       "      <th>exponent</th>\n",
       "      <th>count</th>\n",
       "      <th>refinedet_not_pretrain</th>\n",
       "      <th>refinedet_freeze</th>\n",
       "      <th>refinedet</th>\n",
       "      <th>refinedet_all02</th>\n",
       "      <th>refinedet_all02_AugScale</th>\n",
       "      <th>refinedet_all02withResize</th>\n",
       "    </tr>\n",
       "  </thead>\n",
       "  <tbody>\n",
       "    <tr>\n",
       "      <td>0</td>\n",
       "      <td>7.0</td>\n",
       "      <td>15</td>\n",
       "      <td>0.866667</td>\n",
       "      <td>0.800000</td>\n",
       "      <td>0.533333</td>\n",
       "      <td>0.800000</td>\n",
       "      <td>0.800000</td>\n",
       "      <td>0.466667</td>\n",
       "    </tr>\n",
       "    <tr>\n",
       "      <td>1</td>\n",
       "      <td>8.0</td>\n",
       "      <td>181</td>\n",
       "      <td>0.928177</td>\n",
       "      <td>0.922652</td>\n",
       "      <td>0.723757</td>\n",
       "      <td>1.000000</td>\n",
       "      <td>0.955801</td>\n",
       "      <td>0.607735</td>\n",
       "    </tr>\n",
       "    <tr>\n",
       "      <td>2</td>\n",
       "      <td>9.0</td>\n",
       "      <td>189</td>\n",
       "      <td>0.883598</td>\n",
       "      <td>0.894180</td>\n",
       "      <td>0.719577</td>\n",
       "      <td>0.957672</td>\n",
       "      <td>0.936508</td>\n",
       "      <td>0.576720</td>\n",
       "    </tr>\n",
       "    <tr>\n",
       "      <td>3</td>\n",
       "      <td>10.0</td>\n",
       "      <td>84</td>\n",
       "      <td>0.797619</td>\n",
       "      <td>0.892857</td>\n",
       "      <td>0.726190</td>\n",
       "      <td>0.952381</td>\n",
       "      <td>0.940476</td>\n",
       "      <td>0.761905</td>\n",
       "    </tr>\n",
       "    <tr>\n",
       "      <td>4</td>\n",
       "      <td>11.0</td>\n",
       "      <td>50</td>\n",
       "      <td>0.820000</td>\n",
       "      <td>0.880000</td>\n",
       "      <td>0.680000</td>\n",
       "      <td>0.960000</td>\n",
       "      <td>0.980000</td>\n",
       "      <td>0.720000</td>\n",
       "    </tr>\n",
       "    <tr>\n",
       "      <td>5</td>\n",
       "      <td>12.0</td>\n",
       "      <td>38</td>\n",
       "      <td>0.894737</td>\n",
       "      <td>0.815789</td>\n",
       "      <td>0.815789</td>\n",
       "      <td>0.868421</td>\n",
       "      <td>0.842105</td>\n",
       "      <td>0.789474</td>\n",
       "    </tr>\n",
       "    <tr>\n",
       "      <td>6</td>\n",
       "      <td>13.0</td>\n",
       "      <td>47</td>\n",
       "      <td>0.851064</td>\n",
       "      <td>0.829787</td>\n",
       "      <td>0.936170</td>\n",
       "      <td>0.957447</td>\n",
       "      <td>0.978723</td>\n",
       "      <td>0.851064</td>\n",
       "    </tr>\n",
       "    <tr>\n",
       "      <td>7</td>\n",
       "      <td>14.0</td>\n",
       "      <td>16</td>\n",
       "      <td>0.937500</td>\n",
       "      <td>0.937500</td>\n",
       "      <td>0.937500</td>\n",
       "      <td>1.000000</td>\n",
       "      <td>0.937500</td>\n",
       "      <td>0.937500</td>\n",
       "    </tr>\n",
       "    <tr>\n",
       "      <td>8</td>\n",
       "      <td>15.0</td>\n",
       "      <td>3</td>\n",
       "      <td>1.000000</td>\n",
       "      <td>0.666667</td>\n",
       "      <td>1.000000</td>\n",
       "      <td>1.000000</td>\n",
       "      <td>0.666667</td>\n",
       "      <td>0.666667</td>\n",
       "    </tr>\n",
       "  </tbody>\n",
       "</table>\n",
       "</div>"
      ],
      "text/plain": [
       "   exponent  count  refinedet_not_pretrain  refinedet_freeze  refinedet  \\\n",
       "0       7.0     15                0.866667          0.800000   0.533333   \n",
       "1       8.0    181                0.928177          0.922652   0.723757   \n",
       "2       9.0    189                0.883598          0.894180   0.719577   \n",
       "3      10.0     84                0.797619          0.892857   0.726190   \n",
       "4      11.0     50                0.820000          0.880000   0.680000   \n",
       "5      12.0     38                0.894737          0.815789   0.815789   \n",
       "6      13.0     47                0.851064          0.829787   0.936170   \n",
       "7      14.0     16                0.937500          0.937500   0.937500   \n",
       "8      15.0      3                1.000000          0.666667   1.000000   \n",
       "\n",
       "   refinedet_all02  refinedet_all02_AugScale  refinedet_all02withResize  \n",
       "0         0.800000                  0.800000                   0.466667  \n",
       "1         1.000000                  0.955801                   0.607735  \n",
       "2         0.957672                  0.936508                   0.576720  \n",
       "3         0.952381                  0.940476                   0.761905  \n",
       "4         0.960000                  0.980000                   0.720000  \n",
       "5         0.868421                  0.842105                   0.789474  \n",
       "6         0.957447                  0.978723                   0.851064  \n",
       "7         1.000000                  0.937500                   0.937500  \n",
       "8         1.000000                  0.666667                   0.666667  "
      ]
     },
     "execution_count": 10,
     "metadata": {},
     "output_type": "execute_result"
    }
   ],
   "source": [
    "df = pd.DataFrame(data_dict)\n",
    "df"
   ]
  },
  {
   "cell_type": "markdown",
   "metadata": {},
   "source": [
    "### (1) Compare Transfer Learning"
   ]
  },
  {
   "cell_type": "code",
   "execution_count": 11,
   "metadata": {},
   "outputs": [
    {
     "data": {
      "image/png": "[encoded data removed]",
      "text/plain": [
       "<Figure size 360x288 with 2 Axes>"
      ]
     },
     "metadata": {
      "needs_background": "light"
     },
     "output_type": "display_data"
    }
   ],
   "source": [
    "plt.rcParams[\"font.size\"] = 14\n",
    "fig, ax1 = plt.subplots(figsize=(5,4))\n",
    "ax2 = ax1.twinx()\n",
    "\n",
    "x_label = [\"7\", \"8\", \"9\", \"10\", \"11\", \"12\", \"13\", \"14\", \"15\"]\n",
    "\n",
    "ax1.bar(x_label, df[\"count\"], width=0.3, color=\"g\")\n",
    "ax2.plot(x_label, df[\"refinedet_not_pretrain\"], label=\"not_pretrain\")\n",
    "ax2.plot(x_label, df[\"refinedet_freeze\"], label=\"pretrain_freeze\")\n",
    "ax2.plot(x_label, df[\"refinedet\"], label=\"pretrain\")\n",
    "ax1.yaxis.tick_right()\n",
    "ax2.yaxis.tick_left()\n",
    "\n",
    "h2, l2 = ax2.get_legend_handles_labels()\n",
    "ax1.legend(h2, l2, bbox_to_anchor=(0.75, 1.0), loc='lower right', fontsize=10)\n",
    "\n",
    "ax1.set_xlabel(\"Insect size exponent of base 2\")\n",
    "ax1.set_ylabel(\"Average Precision\")\n",
    "ax1.yaxis.set_label_coords(-0.15, 0.5)\n",
    "ax1.grid(False)\n",
    "ax2.set_ylabel(\"Population per exponent\")\n",
    "ax2.set_ylim(0.5, 1.01)\n",
    "ax2.yaxis.set_label_coords(1.15, 0.5)\n",
    "plt.savefig(\"/home/tanida/workspace/Insect_Phenology_Detector/result/master_paper/detection/compare_method/comp_TL_from_size_dist.png\", bbox_inches=\"tight\")"
   ]
  },
  {
   "cell_type": "markdown",
   "metadata": {},
   "source": [
    "### (2) Compare Augmentation"
   ]
  },
  {
   "cell_type": "code",
   "execution_count": 12,
   "metadata": {},
   "outputs": [
    {
     "data": {
      "image/png": "[encoded data removed]",
      "text/plain": [
       "<Figure size 360x288 with 2 Axes>"
      ]
     },
     "metadata": {
      "needs_background": "light"
     },
     "output_type": "display_data"
    }
   ],
   "source": [
    "plt.rcParams[\"font.size\"] = 14\n",
    "fig, ax1 = plt.subplots(figsize=(5,4))\n",
    "ax2 = ax1.twinx()\n",
    "\n",
    "x_label = [\"7\", \"8\", \"9\", \"10\", \"11\", \"12\", \"13\", \"14\", \"15\"]\n",
    "\n",
    "ax1.bar(x_label, df[\"count\"], width=0.3, color=\"g\")\n",
    "ax2.plot(x_label, df[\"refinedet_freeze\"], label=\"default(freeze)\")\n",
    "ax2.plot(x_label, df[\"refinedet_all02\"], label=\"RandomAug\")\n",
    "ax2.plot(x_label, df[\"refinedet_all02_AugScale\"], label=\"RandomAug+Scale\")\n",
    "ax2.plot(x_label, df[\"refinedet_all02withResize\"], label=\"RandomAug with Scale\")\n",
    "ax1.yaxis.tick_right()\n",
    "ax2.yaxis.tick_left()\n",
    "\n",
    "h2, l2 = ax2.get_legend_handles_labels()\n",
    "ax1.legend(h2, l2, bbox_to_anchor=(0.75, 1.0), loc='lower right', fontsize=10)\n",
    "\n",
    "ax1.set_xlabel(\"Insect size exponent of base 2\")\n",
    "ax1.set_ylabel(\"Average Precision\")\n",
    "ax1.yaxis.set_label_coords(-0.15, 0.5)\n",
    "ax1.grid(False)\n",
    "ax2.set_ylabel(\"Population per exponent\")\n",
    "ax2.set_ylim(0.5, 1.01)\n",
    "ax2.yaxis.set_label_coords(1.15, 0.5)\n",
    "plt.savefig(\"/home/tanida/workspace/Insect_Phenology_Detector/result/master_paper/detection/compare_method/comp_Aug_from_size_dist.png\", bbox_inches=\"tight\")"
   ]
  }
 ],
 "metadata": {
  "kernelspec": {
   "display_name": "pytorch_100",
   "language": "python",
   "name": "pytorch_100"
  },
  "language_info": {
   "codemirror_mode": {
    "name": "ipython",
    "version": 3
   },
   "file_extension": ".py",
   "mimetype": "text/x-python",
   "name": "python",
   "nbconvert_exporter": "python",
   "pygments_lexer": "ipython3",
   "version": "3.7.4"
  }
 },
 "nbformat": 4,
 "nbformat_minor": 4
}
