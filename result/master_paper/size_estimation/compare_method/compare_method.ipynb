{
 "cells": [
  {
   "cell_type": "code",
   "execution_count": 1,
   "metadata": {},
   "outputs": [],
   "source": [
    "import os\n",
    "from os.path import join as pj\n",
    "import numpy as np\n",
    "import pandas as pd\n",
    "import matplotlib.pyplot as plt\n",
    "%matplotlib inline"
   ]
  },
  {
   "cell_type": "code",
   "execution_count": 2,
   "metadata": {},
   "outputs": [],
   "source": [
    "resnet34_not_pretrain_root_path = pj(os.getcwd(), \"figure/image2size/ResNet34_b80_lr1e-4_not_pretrain\")\n",
    "resnet34_freeze_root_path = pj(os.getcwd(), \"figure/image2size/ResNet34_b80_lr1e-4_freeze\")\n",
    "resnet34_root_path = pj(os.getcwd(), \"figure/image2size/ResNet34_b80_lr1e-4\")\n",
    "resnet34_all02_root_path = pj(os.getcwd(), \"figure/image2size/ResNet34_b80_lr1e-4_all02\")\n",
    "resnet34_AugScale_root_path = pj(os.getcwd(), \"figure/image2size/ResNet34_b80_lr1e-4_aug_scale\")\n",
    "resnet34_all02_AugScale_root_path = pj(os.getcwd(), \"figure/image2size/ResNet34_b80_lr1e-4_all02_aug_scale\")\n",
    "resnet34_all02withResize_root_path = pj(os.getcwd(), \"figure/image2size/ResNet34_b80_lr1e-4_all02withResize\")\n",
    "\n",
    "# additional experiment\n",
    "resnet34_all02_FC_root_path = pj(os.getcwd(), \"figure/image2size/ResNet34_b80_lr1e-4_all02_concat\")\n",
    "resnet34_all02_Labelsmooth_root_path = pj(os.getcwd(), \"figure/image2size/ResNet34_b80_lr1e-4_all02_labelsmooth\")"
   ]
  },
  {
   "cell_type": "markdown",
   "metadata": {},
   "source": [
    "### L1loss, unit == [ pixel ]"
   ]
  },
  {
   "cell_type": "code",
   "execution_count": 3,
   "metadata": {},
   "outputs": [],
   "source": [
    "resnet34_not_pretrain = pd.read_csv(pj(resnet34_not_pretrain_root_path, \"final_loss_5.csv\"))\n",
    "resnet34_freeze = pd.read_csv(pj(resnet34_freeze_root_path, \"final_loss_5.csv\"))\n",
    "resnet34 = pd.read_csv(pj(resnet34_root_path, \"final_loss_5.csv\"))\n",
    "resnet34_all02 = pd.read_csv(pj(resnet34_all02_root_path, \"final_loss_5.csv\"))\n",
    "resnet34_AugScale = pd.read_csv(pj(resnet34_AugScale_root_path, \"final_loss_5.csv\"))\n",
    "resnet34_all02_AugScale = pd.read_csv(pj(resnet34_all02_AugScale_root_path, \"final_loss_5.csv\"))\n",
    "resnet34_all02withResize = pd.read_csv(pj(resnet34_all02withResize_root_path, \"final_loss_5.csv\"))\n",
    "\n",
    "# additional experiment\n",
    "resnet34_all02_FC = pd.read_csv(pj(resnet34_all02_FC_root_path, \"final_loss_5.csv\"))\n",
    "resnet34_all02_Labelsmooth = pd.read_csv(pj(resnet34_all02_Labelsmooth_root_path, \"final_loss_5.csv\"))"
   ]
  },
  {
   "cell_type": "code",
   "execution_count": 4,
   "metadata": {},
   "outputs": [],
   "source": [
    "exp_name = [\"resnet34_not_pretrain\", \n",
    "            \"resnet34_freeze\", \n",
    "            \"resnet34\", \n",
    "            \"resnet34_all02\", \n",
    "            \"resnet34_AugScale\", \n",
    "            \"resnet34_all02_AugScale\", \n",
    "            \"resnet34_all02withResize\", \n",
    "           ]\n",
    "exp_loss_pixel = [resnet34_not_pretrain[\"test\"][0], \n",
    "                  resnet34_freeze[\"test\"][0], \n",
    "                  resnet34[\"test\"][0],\n",
    "                  resnet34_all02[\"test\"][0],\n",
    "                  resnet34_AugScale[\"test\"][0],\n",
    "                  resnet34_all02_AugScale[\"test\"][0],\n",
    "                  resnet34_all02withResize[\"test\"][0],\n",
    "         ]\n",
    "additional_exp_name = [\"resnet34_all02_FC\", \n",
    "                       \"resnet34_all02_Labelsmooth\", \n",
    "                      ]\n",
    "additional_exp_loss_pixel = [resnet34_all02_FC[\"test\"][0], \n",
    "                             resnet34_all02_Labelsmooth[\"test\"][0], \n",
    "                            ]"
   ]
  },
  {
   "cell_type": "code",
   "execution_count": 5,
   "metadata": {},
   "outputs": [
    {
     "data": {
      "text/html": [
       "<div>\n",
       "<style scoped>\n",
       "    .dataframe tbody tr th:only-of-type {\n",
       "        vertical-align: middle;\n",
       "    }\n",
       "\n",
       "    .dataframe tbody tr th {\n",
       "        vertical-align: top;\n",
       "    }\n",
       "\n",
       "    .dataframe thead th {\n",
       "        text-align: right;\n",
       "    }\n",
       "</style>\n",
       "<table border=\"1\" class=\"dataframe\">\n",
       "  <thead>\n",
       "    <tr style=\"text-align: right;\">\n",
       "      <th></th>\n",
       "      <th>L1loss[pixel]</th>\n",
       "    </tr>\n",
       "  </thead>\n",
       "  <tbody>\n",
       "    <tr>\n",
       "      <td>resnet34_not_pretrain</td>\n",
       "      <td>6.795941</td>\n",
       "    </tr>\n",
       "    <tr>\n",
       "      <td>resnet34_freeze</td>\n",
       "      <td>11.290247</td>\n",
       "    </tr>\n",
       "    <tr>\n",
       "      <td>resnet34</td>\n",
       "      <td>5.143435</td>\n",
       "    </tr>\n",
       "    <tr>\n",
       "      <td>resnet34_all02</td>\n",
       "      <td>4.608462</td>\n",
       "    </tr>\n",
       "    <tr>\n",
       "      <td>resnet34_AugScale</td>\n",
       "      <td>5.022644</td>\n",
       "    </tr>\n",
       "    <tr>\n",
       "      <td>resnet34_all02_AugScale</td>\n",
       "      <td>4.727670</td>\n",
       "    </tr>\n",
       "    <tr>\n",
       "      <td>resnet34_all02withResize</td>\n",
       "      <td>4.545785</td>\n",
       "    </tr>\n",
       "  </tbody>\n",
       "</table>\n",
       "</div>"
      ],
      "text/plain": [
       "                          L1loss[pixel]\n",
       "resnet34_not_pretrain          6.795941\n",
       "resnet34_freeze               11.290247\n",
       "resnet34                       5.143435\n",
       "resnet34_all02                 4.608462\n",
       "resnet34_AugScale              5.022644\n",
       "resnet34_all02_AugScale        4.727670\n",
       "resnet34_all02withResize       4.545785"
      ]
     },
     "execution_count": 5,
     "metadata": {},
     "output_type": "execute_result"
    }
   ],
   "source": [
    "df = pd.DataFrame({\"L1loss[pixel]\": exp_loss_pixel})\n",
    "df.index = exp_name\n",
    "df"
   ]
  },
  {
   "cell_type": "code",
   "execution_count": 6,
   "metadata": {},
   "outputs": [
    {
     "data": {
      "text/html": [
       "<div>\n",
       "<style scoped>\n",
       "    .dataframe tbody tr th:only-of-type {\n",
       "        vertical-align: middle;\n",
       "    }\n",
       "\n",
       "    .dataframe tbody tr th {\n",
       "        vertical-align: top;\n",
       "    }\n",
       "\n",
       "    .dataframe thead th {\n",
       "        text-align: right;\n",
       "    }\n",
       "</style>\n",
       "<table border=\"1\" class=\"dataframe\">\n",
       "  <thead>\n",
       "    <tr style=\"text-align: right;\">\n",
       "      <th></th>\n",
       "      <th>L1loss[pixel]</th>\n",
       "    </tr>\n",
       "  </thead>\n",
       "  <tbody>\n",
       "    <tr>\n",
       "      <td>resnet34_all02_FC</td>\n",
       "      <td>4.587730</td>\n",
       "    </tr>\n",
       "    <tr>\n",
       "      <td>resnet34_all02_Labelsmooth</td>\n",
       "      <td>4.557134</td>\n",
       "    </tr>\n",
       "  </tbody>\n",
       "</table>\n",
       "</div>"
      ],
      "text/plain": [
       "                            L1loss[pixel]\n",
       "resnet34_all02_FC                4.587730\n",
       "resnet34_all02_Labelsmooth       4.557134"
      ]
     },
     "execution_count": 6,
     "metadata": {},
     "output_type": "execute_result"
    }
   ],
   "source": [
    "additional_df = pd.DataFrame({\"L1loss[pixel]\": additional_exp_loss_pixel})\n",
    "additional_df.index = additional_exp_name\n",
    "additional_df"
   ]
  },
  {
   "cell_type": "markdown",
   "metadata": {},
   "source": [
    "### L1loss, unit == [ L1loss / gt_size ]"
   ]
  },
  {
   "cell_type": "code",
   "execution_count": 7,
   "metadata": {},
   "outputs": [],
   "source": [
    "exp_paths = [resnet34_not_pretrain_root_path, resnet34_freeze_root_path, resnet34_root_path, resnet34_all02_root_path, resnet34_AugScale_root_path, resnet34_all02_AugScale_root_path, resnet34_all02withResize_root_path]\n",
    "eval_files = [\"output_size_1.csv\", \"output_size_2.csv\", \"output_size_3.csv\", \"output_size_4.csv\", \"output_size_5.csv\"]\n",
    "\n",
    "additional_exp_paths = [resnet34_all02_FC_root_path, resnet34_all02_Labelsmooth_root_path]"
   ]
  },
  {
   "cell_type": "code",
   "execution_count": 8,
   "metadata": {},
   "outputs": [],
   "source": [
    "exp_loss_percent_array = []\n",
    "for path in exp_paths:\n",
    "    size_array = []\n",
    "    eval_size_array = []\n",
    "    for i, file in enumerate(eval_files):\n",
    "        eval_file_path = pj(path, file)\n",
    "        eval_file = pd.read_csv(eval_file_path)\n",
    "        crossvalid_elem_num = int(len(eval_file[\"size\"]) / 5)\n",
    "        size_array.extend(eval_file[\"size\"][i * crossvalid_elem_num: (i+1) * crossvalid_elem_num])\n",
    "        eval_size_array.extend(eval_file[\"eval_size\"][i * crossvalid_elem_num: (i+1) * crossvalid_elem_num])\n",
    "    crossvalid_output = pd.DataFrame({\"size\": size_array, \"eval_size\": eval_size_array})\n",
    "    exp_loss_percent = np.sum(np.abs((crossvalid_output[\"size\"] - crossvalid_output[\"eval_size\"]) / crossvalid_output[\"size\"])) / len(eval_file[\"size\"])\n",
    "    exp_loss_percent_array.append(exp_loss_percent)\n",
    "    \n",
    "additional_exp_loss_percent_array = []\n",
    "for path in additional_exp_paths:\n",
    "    size_array = []\n",
    "    eval_size_array = []\n",
    "    for i, file in enumerate(eval_files):\n",
    "        eval_file_path = pj(path, file)\n",
    "        eval_file = pd.read_csv(eval_file_path)\n",
    "        crossvalid_elem_num = int(len(eval_file[\"size\"]) / 5)\n",
    "        size_array.extend(eval_file[\"size\"][i * crossvalid_elem_num: (i+1) * crossvalid_elem_num])\n",
    "        eval_size_array.extend(eval_file[\"eval_size\"][i * crossvalid_elem_num: (i+1) * crossvalid_elem_num])\n",
    "    crossvalid_output = pd.DataFrame({\"size\": size_array, \"eval_size\": eval_size_array})\n",
    "    exp_loss_percent = np.sum(np.abs((crossvalid_output[\"size\"] - crossvalid_output[\"eval_size\"]) / crossvalid_output[\"size\"])) / len(eval_file[\"size\"])\n",
    "    additional_exp_loss_percent_array.append(exp_loss_percent)"
   ]
  },
  {
   "cell_type": "code",
   "execution_count": 9,
   "metadata": {},
   "outputs": [
    {
     "data": {
      "text/html": [
       "<div>\n",
       "<style scoped>\n",
       "    .dataframe tbody tr th:only-of-type {\n",
       "        vertical-align: middle;\n",
       "    }\n",
       "\n",
       "    .dataframe tbody tr th {\n",
       "        vertical-align: top;\n",
       "    }\n",
       "\n",
       "    .dataframe thead th {\n",
       "        text-align: right;\n",
       "    }\n",
       "</style>\n",
       "<table border=\"1\" class=\"dataframe\">\n",
       "  <thead>\n",
       "    <tr style=\"text-align: right;\">\n",
       "      <th></th>\n",
       "      <th>L1loss</th>\n",
       "    </tr>\n",
       "  </thead>\n",
       "  <tbody>\n",
       "    <tr>\n",
       "      <td>resnet34_not_pretrain</td>\n",
       "      <td>0.168033</td>\n",
       "    </tr>\n",
       "    <tr>\n",
       "      <td>resnet34_freeze</td>\n",
       "      <td>0.283307</td>\n",
       "    </tr>\n",
       "    <tr>\n",
       "      <td>resnet34</td>\n",
       "      <td>0.126128</td>\n",
       "    </tr>\n",
       "    <tr>\n",
       "      <td>resnet34_all02</td>\n",
       "      <td>0.113296</td>\n",
       "    </tr>\n",
       "    <tr>\n",
       "      <td>resnet34_AugScale</td>\n",
       "      <td>0.120900</td>\n",
       "    </tr>\n",
       "    <tr>\n",
       "      <td>resnet34_all02_AugScale</td>\n",
       "      <td>0.111254</td>\n",
       "    </tr>\n",
       "    <tr>\n",
       "      <td>resnet34_all02withResize</td>\n",
       "      <td>0.110257</td>\n",
       "    </tr>\n",
       "  </tbody>\n",
       "</table>\n",
       "</div>"
      ],
      "text/plain": [
       "                            L1loss\n",
       "resnet34_not_pretrain     0.168033\n",
       "resnet34_freeze           0.283307\n",
       "resnet34                  0.126128\n",
       "resnet34_all02            0.113296\n",
       "resnet34_AugScale         0.120900\n",
       "resnet34_all02_AugScale   0.111254\n",
       "resnet34_all02withResize  0.110257"
      ]
     },
     "execution_count": 9,
     "metadata": {},
     "output_type": "execute_result"
    }
   ],
   "source": [
    "df = pd.DataFrame({\"L1loss\": exp_loss_percent_array})\n",
    "df.index = exp_name\n",
    "df"
   ]
  },
  {
   "cell_type": "code",
   "execution_count": 10,
   "metadata": {},
   "outputs": [
    {
     "data": {
      "text/html": [
       "<div>\n",
       "<style scoped>\n",
       "    .dataframe tbody tr th:only-of-type {\n",
       "        vertical-align: middle;\n",
       "    }\n",
       "\n",
       "    .dataframe tbody tr th {\n",
       "        vertical-align: top;\n",
       "    }\n",
       "\n",
       "    .dataframe thead th {\n",
       "        text-align: right;\n",
       "    }\n",
       "</style>\n",
       "<table border=\"1\" class=\"dataframe\">\n",
       "  <thead>\n",
       "    <tr style=\"text-align: right;\">\n",
       "      <th></th>\n",
       "      <th>L1loss</th>\n",
       "    </tr>\n",
       "  </thead>\n",
       "  <tbody>\n",
       "    <tr>\n",
       "      <td>resnet34_all02_FC</td>\n",
       "      <td>0.114960</td>\n",
       "    </tr>\n",
       "    <tr>\n",
       "      <td>resnet34_all02_Labelsmooth</td>\n",
       "      <td>0.113078</td>\n",
       "    </tr>\n",
       "  </tbody>\n",
       "</table>\n",
       "</div>"
      ],
      "text/plain": [
       "                              L1loss\n",
       "resnet34_all02_FC           0.114960\n",
       "resnet34_all02_Labelsmooth  0.113078"
      ]
     },
     "execution_count": 10,
     "metadata": {},
     "output_type": "execute_result"
    }
   ],
   "source": [
    "additional_df = pd.DataFrame({\"L1loss\": additional_exp_loss_percent_array})\n",
    "additional_df.index = additional_exp_name\n",
    "additional_df"
   ]
  },
  {
   "cell_type": "markdown",
   "metadata": {},
   "source": [
    "### Error Analysis"
   ]
  },
  {
   "cell_type": "markdown",
   "metadata": {},
   "source": [
    "### --- size distribution and L1loss ---"
   ]
  },
  {
   "cell_type": "code",
   "execution_count": 11,
   "metadata": {},
   "outputs": [],
   "source": [
    "# version pixel\n",
    "exp_loss_percent_per_SizeRank_array_ver_pixel = []\n",
    "for path in exp_paths:\n",
    "    size_array = []\n",
    "    eval_size_array = []\n",
    "    for i, file in enumerate(eval_files):\n",
    "        eval_file_path = pj(path, file)\n",
    "        eval_file = pd.read_csv(eval_file_path)\n",
    "        crossvalid_elem_num = int(len(eval_file[\"size\"]) / 5)\n",
    "        if i == 4:\n",
    "            size_array.extend(eval_file[\"size\"][i * crossvalid_elem_num:])\n",
    "            eval_size_array.extend(eval_file[\"eval_size\"][i * crossvalid_elem_num:])\n",
    "        else:\n",
    "            size_array.extend(eval_file[\"size\"][i * crossvalid_elem_num: (i+1) * crossvalid_elem_num])\n",
    "            eval_size_array.extend(eval_file[\"eval_size\"][i * crossvalid_elem_num: (i+1) * crossvalid_elem_num])\n",
    "    crossvalid_output = pd.DataFrame({\"size\": size_array, \"eval_size\": eval_size_array})\n",
    "    crossvalid_output[\"size_rank\"] = np.floor(np.log2(crossvalid_output[\"size\"]))\n",
    "    exp_eval_array = []\n",
    "    for i in range(7):\n",
    "        SizeRank_filter = np.array(crossvalid_output[\"size_rank\"] == (i+1))\n",
    "        exp_loss_percent_per_SizeRank = np.sum(np.abs(crossvalid_output[\"size\"][SizeRank_filter] - crossvalid_output[\"eval_size\"][SizeRank_filter])) / len(eval_file[\"size\"][SizeRank_filter])\n",
    "        exp_eval_array.append(exp_loss_percent_per_SizeRank)\n",
    "    exp_loss_percent_per_SizeRank_array_ver_pixel.append(exp_eval_array)"
   ]
  },
  {
   "cell_type": "code",
   "execution_count": 12,
   "metadata": {},
   "outputs": [
    {
     "name": "stdout",
     "output_type": "stream",
     "text": [
      "size_rank_idx = [1. 2. 3. 4. 5. 6. 7.]\n",
      "size_rank_count = [   2   26   71  483 1295  578   21]\n",
      "size_rank_percentage = [0.00080775 0.01050081 0.02867528 0.1950727  0.523021   0.23344103\n",
      " 0.00848142]\n"
     ]
    }
   ],
   "source": [
    "size_rank_array = np.array(crossvalid_output[\"size_rank\"])\n",
    "idx, count = np.unique(size_rank_array, return_counts=True)\n",
    "print(\"size_rank_idx = {}\".format(idx))\n",
    "print(\"size_rank_count = {}\".format(count))\n",
    "\n",
    "count_percent = count / count.sum()\n",
    "print(\"size_rank_percentage = {}\".format(count_percent))"
   ]
  },
  {
   "cell_type": "code",
   "execution_count": 13,
   "metadata": {},
   "outputs": [
    {
     "data": {
      "text/html": [
       "<div>\n",
       "<style scoped>\n",
       "    .dataframe tbody tr th:only-of-type {\n",
       "        vertical-align: middle;\n",
       "    }\n",
       "\n",
       "    .dataframe tbody tr th {\n",
       "        vertical-align: top;\n",
       "    }\n",
       "\n",
       "    .dataframe thead th {\n",
       "        text-align: right;\n",
       "    }\n",
       "</style>\n",
       "<table border=\"1\" class=\"dataframe\">\n",
       "  <thead>\n",
       "    <tr style=\"text-align: right;\">\n",
       "      <th></th>\n",
       "      <th>resnet34_not_pretrain</th>\n",
       "      <th>resnet34_freeze</th>\n",
       "      <th>resnet34</th>\n",
       "      <th>resnet34_all02</th>\n",
       "      <th>resnet34_AugScale</th>\n",
       "      <th>resnet34_all02_AugScale</th>\n",
       "      <th>resnet34_all02withResize</th>\n",
       "      <th>size_dist</th>\n",
       "    </tr>\n",
       "  </thead>\n",
       "  <tbody>\n",
       "    <tr>\n",
       "      <td>1</td>\n",
       "      <td>6.075170</td>\n",
       "      <td>15.788600</td>\n",
       "      <td>5.261707</td>\n",
       "      <td>5.108935</td>\n",
       "      <td>3.890036</td>\n",
       "      <td>2.131088</td>\n",
       "      <td>2.399595</td>\n",
       "      <td>2</td>\n",
       "    </tr>\n",
       "    <tr>\n",
       "      <td>2</td>\n",
       "      <td>7.355520</td>\n",
       "      <td>14.632500</td>\n",
       "      <td>6.533063</td>\n",
       "      <td>5.255618</td>\n",
       "      <td>5.338865</td>\n",
       "      <td>3.786628</td>\n",
       "      <td>4.724001</td>\n",
       "      <td>26</td>\n",
       "    </tr>\n",
       "    <tr>\n",
       "      <td>3</td>\n",
       "      <td>5.333611</td>\n",
       "      <td>10.620277</td>\n",
       "      <td>4.039608</td>\n",
       "      <td>3.626785</td>\n",
       "      <td>3.123652</td>\n",
       "      <td>3.156178</td>\n",
       "      <td>3.337232</td>\n",
       "      <td>71</td>\n",
       "    </tr>\n",
       "    <tr>\n",
       "      <td>4</td>\n",
       "      <td>6.030947</td>\n",
       "      <td>11.257123</td>\n",
       "      <td>3.890470</td>\n",
       "      <td>3.660546</td>\n",
       "      <td>3.801936</td>\n",
       "      <td>3.605349</td>\n",
       "      <td>3.549390</td>\n",
       "      <td>483</td>\n",
       "    </tr>\n",
       "    <tr>\n",
       "      <td>5</td>\n",
       "      <td>5.702773</td>\n",
       "      <td>7.904771</td>\n",
       "      <td>4.464128</td>\n",
       "      <td>4.095421</td>\n",
       "      <td>4.622817</td>\n",
       "      <td>4.279975</td>\n",
       "      <td>4.119133</td>\n",
       "      <td>1295</td>\n",
       "    </tr>\n",
       "    <tr>\n",
       "      <td>6</td>\n",
       "      <td>8.834277</td>\n",
       "      <td>16.711930</td>\n",
       "      <td>6.989603</td>\n",
       "      <td>6.097546</td>\n",
       "      <td>6.523967</td>\n",
       "      <td>6.422001</td>\n",
       "      <td>6.133186</td>\n",
       "      <td>578</td>\n",
       "    </tr>\n",
       "    <tr>\n",
       "      <td>7</td>\n",
       "      <td>39.022124</td>\n",
       "      <td>69.231604</td>\n",
       "      <td>26.566852</td>\n",
       "      <td>18.759812</td>\n",
       "      <td>22.379340</td>\n",
       "      <td>18.228226</td>\n",
       "      <td>13.658238</td>\n",
       "      <td>21</td>\n",
       "    </tr>\n",
       "  </tbody>\n",
       "</table>\n",
       "</div>"
      ],
      "text/plain": [
       "   resnet34_not_pretrain  resnet34_freeze   resnet34  resnet34_all02  \\\n",
       "1               6.075170        15.788600   5.261707        5.108935   \n",
       "2               7.355520        14.632500   6.533063        5.255618   \n",
       "3               5.333611        10.620277   4.039608        3.626785   \n",
       "4               6.030947        11.257123   3.890470        3.660546   \n",
       "5               5.702773         7.904771   4.464128        4.095421   \n",
       "6               8.834277        16.711930   6.989603        6.097546   \n",
       "7              39.022124        69.231604  26.566852       18.759812   \n",
       "\n",
       "   resnet34_AugScale  resnet34_all02_AugScale  resnet34_all02withResize  \\\n",
       "1           3.890036                 2.131088                  2.399595   \n",
       "2           5.338865                 3.786628                  4.724001   \n",
       "3           3.123652                 3.156178                  3.337232   \n",
       "4           3.801936                 3.605349                  3.549390   \n",
       "5           4.622817                 4.279975                  4.119133   \n",
       "6           6.523967                 6.422001                  6.133186   \n",
       "7          22.379340                18.228226                 13.658238   \n",
       "\n",
       "   size_dist  \n",
       "1          2  \n",
       "2         26  \n",
       "3         71  \n",
       "4        483  \n",
       "5       1295  \n",
       "6        578  \n",
       "7         21  "
      ]
     },
     "execution_count": 13,
     "metadata": {},
     "output_type": "execute_result"
    }
   ],
   "source": [
    "data_index = [\"1\", \"2\", \"3\", \"4\", \"5\", \"6\", \"7\"]\n",
    "data_dict = {}\n",
    "for name, loss_array in zip(exp_name, exp_loss_percent_per_SizeRank_array_ver_pixel):\n",
    "    data_dict.update({name: loss_array})\n",
    "df_ver_pixel = pd.DataFrame(data_dict)\n",
    "df_ver_pixel[\"size_dist\"] = count\n",
    "df_ver_pixel.index = data_index\n",
    "df_ver_pixel"
   ]
  },
  {
   "cell_type": "code",
   "execution_count": 14,
   "metadata": {},
   "outputs": [],
   "source": [
    "# version ratio (L1loss / gt_size)\n",
    "exp_loss_percent_per_SizeRank_array_ver_ratio = []\n",
    "for path in exp_paths:\n",
    "    size_array = []\n",
    "    eval_size_array = []\n",
    "    for i, file in enumerate(eval_files):\n",
    "        eval_file_path = pj(path, file)\n",
    "        eval_file = pd.read_csv(eval_file_path)\n",
    "        crossvalid_elem_num = int(len(eval_file[\"size\"]) / 5)\n",
    "        if i == 4:\n",
    "            size_array.extend(eval_file[\"size\"][i * crossvalid_elem_num:])\n",
    "            eval_size_array.extend(eval_file[\"eval_size\"][i * crossvalid_elem_num:])\n",
    "        else:\n",
    "            size_array.extend(eval_file[\"size\"][i * crossvalid_elem_num: (i+1) * crossvalid_elem_num])\n",
    "            eval_size_array.extend(eval_file[\"eval_size\"][i * crossvalid_elem_num: (i+1) * crossvalid_elem_num])\n",
    "    crossvalid_output = pd.DataFrame({\"size\": size_array, \"eval_size\": eval_size_array})\n",
    "    crossvalid_output[\"size_rank\"] = np.floor(np.log2(crossvalid_output[\"size\"]))\n",
    "    exp_eval_array = []\n",
    "    for i in range(7):\n",
    "        SizeRank_filter = np.array(crossvalid_output[\"size_rank\"] == (i+1))\n",
    "        exp_loss_percent_per_SizeRank = np.sum(np.abs((crossvalid_output[\"size\"][SizeRank_filter] - crossvalid_output[\"eval_size\"][SizeRank_filter]) / crossvalid_output[\"size\"][SizeRank_filter])) / len(eval_file[\"size\"][SizeRank_filter])\n",
    "        exp_eval_array.append(exp_loss_percent_per_SizeRank)\n",
    "    exp_loss_percent_per_SizeRank_array_ver_ratio.append(exp_eval_array)"
   ]
  },
  {
   "cell_type": "code",
   "execution_count": 15,
   "metadata": {},
   "outputs": [
    {
     "data": {
      "text/html": [
       "<div>\n",
       "<style scoped>\n",
       "    .dataframe tbody tr th:only-of-type {\n",
       "        vertical-align: middle;\n",
       "    }\n",
       "\n",
       "    .dataframe tbody tr th {\n",
       "        vertical-align: top;\n",
       "    }\n",
       "\n",
       "    .dataframe thead th {\n",
       "        text-align: right;\n",
       "    }\n",
       "</style>\n",
       "<table border=\"1\" class=\"dataframe\">\n",
       "  <thead>\n",
       "    <tr style=\"text-align: right;\">\n",
       "      <th></th>\n",
       "      <th>resnet34_not_pretrain</th>\n",
       "      <th>resnet34_freeze</th>\n",
       "      <th>resnet34</th>\n",
       "      <th>resnet34_all02</th>\n",
       "      <th>resnet34_AugScale</th>\n",
       "      <th>resnet34_all02_AugScale</th>\n",
       "      <th>resnet34_all02withResize</th>\n",
       "      <th>size_dist</th>\n",
       "    </tr>\n",
       "  </thead>\n",
       "  <tbody>\n",
       "    <tr>\n",
       "      <td>1</td>\n",
       "      <td>1.816346</td>\n",
       "      <td>4.672994</td>\n",
       "      <td>1.545106</td>\n",
       "      <td>1.518487</td>\n",
       "      <td>1.166497</td>\n",
       "      <td>0.661436</td>\n",
       "      <td>0.742142</td>\n",
       "      <td>2</td>\n",
       "    </tr>\n",
       "    <tr>\n",
       "      <td>2</td>\n",
       "      <td>1.296422</td>\n",
       "      <td>2.459188</td>\n",
       "      <td>1.151899</td>\n",
       "      <td>0.922144</td>\n",
       "      <td>0.946593</td>\n",
       "      <td>0.652108</td>\n",
       "      <td>0.824065</td>\n",
       "      <td>26</td>\n",
       "    </tr>\n",
       "    <tr>\n",
       "      <td>3</td>\n",
       "      <td>0.425755</td>\n",
       "      <td>0.930422</td>\n",
       "      <td>0.324346</td>\n",
       "      <td>0.289133</td>\n",
       "      <td>0.245464</td>\n",
       "      <td>0.256427</td>\n",
       "      <td>0.271095</td>\n",
       "      <td>71</td>\n",
       "    </tr>\n",
       "    <tr>\n",
       "      <td>4</td>\n",
       "      <td>0.251963</td>\n",
       "      <td>0.459242</td>\n",
       "      <td>0.161177</td>\n",
       "      <td>0.151315</td>\n",
       "      <td>0.157528</td>\n",
       "      <td>0.149106</td>\n",
       "      <td>0.147095</td>\n",
       "      <td>483</td>\n",
       "    </tr>\n",
       "    <tr>\n",
       "      <td>5</td>\n",
       "      <td>0.124721</td>\n",
       "      <td>0.171776</td>\n",
       "      <td>0.097694</td>\n",
       "      <td>0.089116</td>\n",
       "      <td>0.100968</td>\n",
       "      <td>0.092802</td>\n",
       "      <td>0.089342</td>\n",
       "      <td>1295</td>\n",
       "    </tr>\n",
       "    <tr>\n",
       "      <td>6</td>\n",
       "      <td>0.103330</td>\n",
       "      <td>0.186693</td>\n",
       "      <td>0.083138</td>\n",
       "      <td>0.072311</td>\n",
       "      <td>0.077678</td>\n",
       "      <td>0.076273</td>\n",
       "      <td>0.072853</td>\n",
       "      <td>578</td>\n",
       "    </tr>\n",
       "    <tr>\n",
       "      <td>7</td>\n",
       "      <td>0.267442</td>\n",
       "      <td>0.475000</td>\n",
       "      <td>0.182572</td>\n",
       "      <td>0.133094</td>\n",
       "      <td>0.156016</td>\n",
       "      <td>0.129015</td>\n",
       "      <td>0.097536</td>\n",
       "      <td>21</td>\n",
       "    </tr>\n",
       "  </tbody>\n",
       "</table>\n",
       "</div>"
      ],
      "text/plain": [
       "   resnet34_not_pretrain  resnet34_freeze  resnet34  resnet34_all02  \\\n",
       "1               1.816346         4.672994  1.545106        1.518487   \n",
       "2               1.296422         2.459188  1.151899        0.922144   \n",
       "3               0.425755         0.930422  0.324346        0.289133   \n",
       "4               0.251963         0.459242  0.161177        0.151315   \n",
       "5               0.124721         0.171776  0.097694        0.089116   \n",
       "6               0.103330         0.186693  0.083138        0.072311   \n",
       "7               0.267442         0.475000  0.182572        0.133094   \n",
       "\n",
       "   resnet34_AugScale  resnet34_all02_AugScale  resnet34_all02withResize  \\\n",
       "1           1.166497                 0.661436                  0.742142   \n",
       "2           0.946593                 0.652108                  0.824065   \n",
       "3           0.245464                 0.256427                  0.271095   \n",
       "4           0.157528                 0.149106                  0.147095   \n",
       "5           0.100968                 0.092802                  0.089342   \n",
       "6           0.077678                 0.076273                  0.072853   \n",
       "7           0.156016                 0.129015                  0.097536   \n",
       "\n",
       "   size_dist  \n",
       "1          2  \n",
       "2         26  \n",
       "3         71  \n",
       "4        483  \n",
       "5       1295  \n",
       "6        578  \n",
       "7         21  "
      ]
     },
     "execution_count": 15,
     "metadata": {},
     "output_type": "execute_result"
    }
   ],
   "source": [
    "data_index = [\"1\", \"2\", \"3\", \"4\", \"5\", \"6\", \"7\"]\n",
    "data_dict = {}\n",
    "for name, loss_array in zip(exp_name, exp_loss_percent_per_SizeRank_array_ver_ratio):\n",
    "    data_dict.update({name: loss_array})\n",
    "df_ver_ratio = pd.DataFrame(data_dict)\n",
    "df_ver_ratio[\"size_dist\"] = count\n",
    "df_ver_ratio.index = data_index\n",
    "df_ver_ratio"
   ]
  },
  {
   "cell_type": "markdown",
   "metadata": {},
   "source": [
    "### (1) compare Transfer Learning"
   ]
  },
  {
   "cell_type": "code",
   "execution_count": 16,
   "metadata": {},
   "outputs": [
    {
     "data": {
      "image/png": "[encoded data removed]",
      "text/plain": [
       "<Figure size 360x288 with 2 Axes>"
      ]
     },
     "metadata": {
      "needs_background": "light"
     },
     "output_type": "display_data"
    }
   ],
   "source": [
    "# version pixel\n",
    "plt.rcParams[\"font.size\"] = 14\n",
    "fig, ax1 = plt.subplots(figsize=(5,4))\n",
    "ax2 = ax1.twinx()\n",
    "\n",
    "x_label = [\"1\", \"2\", \"3\", \"4\", \"5\", \"6\", \"7\"]\n",
    "\n",
    "ax1.bar(x_label, df_ver_pixel[\"size_dist\"], width=0.3, color=\"g\")\n",
    "ax2.plot(x_label, df_ver_pixel[\"resnet34_not_pretrain\"], label=\"not_pretrain\")\n",
    "ax2.plot(x_label, df_ver_pixel[\"resnet34_freeze\"], label=\"pretrain_freeze\")\n",
    "ax2.plot(x_label, df_ver_pixel[\"resnet34\"], label=\"pretrain\")\n",
    "ax1.yaxis.tick_right()\n",
    "ax2.yaxis.tick_left()\n",
    "\n",
    "h2, l2 = ax2.get_legend_handles_labels()\n",
    "ax1.legend(h2, l2, bbox_to_anchor=(0.6, 0.7), loc='lower right', fontsize=10)\n",
    "\n",
    "ax1.set_xlabel(\"Insect size exponent of base 2\")\n",
    "ax1.set_ylabel(\"L1Loss (pixel)\")\n",
    "ax1.yaxis.set_label_coords(-0.1, 0.5)\n",
    "ax1.grid(False)\n",
    "ax2.set_ylabel(\"Population per exponent\")\n",
    "ax2.set_ylim(0., 70.0)\n",
    "ax2.yaxis.set_label_coords(1.15, 0.5)\n",
    "plt.savefig(\"/home/tanida/workspace/Insect_Phenology_Detector/result/master_paper/size_estimation/compare_method/comp_TL_from_size_dist_ver_pixel.png\", bbox_inches=\"tight\")"
   ]
  },
  {
   "cell_type": "code",
   "execution_count": 17,
   "metadata": {},
   "outputs": [
    {
     "data": {
      "image/png": "[encoded data removed]",
      "text/plain": [
       "<Figure size 360x288 with 2 Axes>"
      ]
     },
     "metadata": {
      "needs_background": "light"
     },
     "output_type": "display_data"
    }
   ],
   "source": [
    "# version ratio (L1loss / gt_size)\n",
    "plt.rcParams[\"font.size\"] = 14\n",
    "fig, ax1 = plt.subplots(figsize=(5,4))\n",
    "ax2 = ax1.twinx()\n",
    "\n",
    "x_label = [\"1\", \"2\", \"3\", \"4\", \"5\", \"6\", \"7\"]\n",
    "\n",
    "ax1.bar(x_label, df_ver_ratio[\"size_dist\"], width=0.3, color=\"g\")\n",
    "ax2.plot(x_label, df_ver_ratio[\"resnet34_not_pretrain\"], label=\"not_pretrain\")\n",
    "ax2.plot(x_label, df_ver_ratio[\"resnet34_freeze\"], label=\"pretrain_freeze\")\n",
    "ax2.plot(x_label, df_ver_ratio[\"resnet34\"], label=\"pretrain\")\n",
    "ax1.yaxis.tick_right()\n",
    "ax2.yaxis.tick_left()\n",
    "\n",
    "h2, l2 = ax2.get_legend_handles_labels()\n",
    "ax1.legend(h2, l2, bbox_to_anchor=(0.6, 0.7), loc='lower right', fontsize=10)\n",
    "\n",
    "ax1.set_xlabel(\"Insect size exponent of base 2\")\n",
    "ax1.set_ylabel(\"L1Loss (ratio)\")\n",
    "ax1.yaxis.set_label_coords(-0.1, 0.5)\n",
    "ax1.grid(False)\n",
    "ax2.set_ylabel(\"Population per exponent\")\n",
    "ax2.set_ylim(0., 5.0)\n",
    "ax2.yaxis.set_label_coords(1.15, 0.5)\n",
    "plt.savefig(\"/home/tanida/workspace/Insect_Phenology_Detector/result/master_paper/size_estimation/compare_method/comp_TL_from_size_dist_ver_ratio.png\", bbox_inches=\"tight\")"
   ]
  },
  {
   "cell_type": "markdown",
   "metadata": {},
   "source": [
    "### (2) compare Augmentation"
   ]
  },
  {
   "cell_type": "code",
   "execution_count": 18,
   "metadata": {},
   "outputs": [
    {
     "data": {
      "image/png": "[encoded data removed]",
      "text/plain": [
       "<Figure size 360x288 with 2 Axes>"
      ]
     },
     "metadata": {
      "needs_background": "light"
     },
     "output_type": "display_data"
    }
   ],
   "source": [
    "# version ratio (L1loss / gt_size)\n",
    "plt.rcParams[\"font.size\"] = 14\n",
    "fig, ax1 = plt.subplots(figsize=(5,4))\n",
    "ax2 = ax1.twinx()\n",
    "\n",
    "x_label = [\"1\", \"2\", \"3\", \"4\", \"5\", \"6\", \"7\"]\n",
    "\n",
    "ax1.bar(x_label, df_ver_pixel[\"size_dist\"], width=0.3, color=\"g\")\n",
    "ax2.plot(x_label, df_ver_pixel[\"resnet34\"], label=\"default\")\n",
    "ax2.plot(x_label, df_ver_pixel[\"resnet34_all02\"], label=\"RandomAug\")\n",
    "ax2.plot(x_label, df_ver_pixel[\"resnet34_AugScale\"], label=\"Scale\")\n",
    "ax2.plot(x_label, df_ver_pixel[\"resnet34_all02_AugScale\"], label=\"RandomAug+Scale\")\n",
    "ax2.plot(x_label, df_ver_pixel[\"resnet34_all02withResize\"], label=\"RandomAug with Scale\")\n",
    "ax1.yaxis.tick_right()\n",
    "ax2.yaxis.tick_left()\n",
    "\n",
    "h2, l2 = ax2.get_legend_handles_labels()\n",
    "ax1.legend(h2, l2, bbox_to_anchor=(0.6, 0.6), loc='lower right', fontsize=10)\n",
    "\n",
    "ax1.set_xlabel(\"Insect size exponent of base 2\")\n",
    "ax1.set_ylabel(\"L1Loss (pixel)\")\n",
    "ax1.yaxis.set_label_coords(-0.15, 0.5)\n",
    "ax1.grid(False)\n",
    "ax2.set_ylabel(\"Population per exponent\")\n",
    "ax2.set_ylim(0., 27.0)\n",
    "ax2.yaxis.set_label_coords(1.15, 0.5)\n",
    "plt.savefig(\"/home/tanida/workspace/Insect_Phenology_Detector/result/master_paper/size_estimation/compare_method/comp_Aug_from_size_dist_ver_pixel.png\", bbox_inches=\"tight\")"
   ]
  },
  {
   "cell_type": "code",
   "execution_count": 19,
   "metadata": {},
   "outputs": [
    {
     "data": {
      "image/png": "[encoded data removed]",
      "text/plain": [
       "<Figure size 360x288 with 2 Axes>"
      ]
     },
     "metadata": {
      "needs_background": "light"
     },
     "output_type": "display_data"
    }
   ],
   "source": [
    "# version ratio (L1loss / gt_size)\n",
    "plt.rcParams[\"font.size\"] = 14\n",
    "fig, ax1 = plt.subplots(figsize=(5,4))\n",
    "ax2 = ax1.twinx()\n",
    "\n",
    "x_label = [\"1\", \"2\", \"3\", \"4\", \"5\", \"6\", \"7\"]\n",
    "\n",
    "ax1.bar(x_label, df_ver_ratio[\"size_dist\"], width=0.3, color=\"g\")\n",
    "ax2.plot(x_label, df_ver_ratio[\"resnet34\"], label=\"default\")\n",
    "ax2.plot(x_label, df_ver_ratio[\"resnet34_all02\"], label=\"RandomAug\")\n",
    "ax2.plot(x_label, df_ver_ratio[\"resnet34_AugScale\"], label=\"Scale\")\n",
    "ax2.plot(x_label, df_ver_ratio[\"resnet34_all02_AugScale\"], label=\"RandomAug+Scale\")\n",
    "ax2.plot(x_label, df_ver_ratio[\"resnet34_all02withResize\"], label=\"RandomAug with Scale\")\n",
    "ax1.yaxis.tick_right()\n",
    "ax2.yaxis.tick_left()\n",
    "\n",
    "h2, l2 = ax2.get_legend_handles_labels()\n",
    "ax1.legend(h2, l2, bbox_to_anchor=(0.6, 0.6), loc='lower right', fontsize=10)\n",
    "\n",
    "ax1.set_xlabel(\"Insect size exponent of base 2\")\n",
    "ax1.set_ylabel(\"L1Loss (ratio)\")\n",
    "ax1.yaxis.set_label_coords(-0.15, 0.5)\n",
    "ax1.grid(False)\n",
    "ax2.set_ylabel(\"Population per exponent\")\n",
    "ax2.set_ylim(0., 2.0)\n",
    "ax2.yaxis.set_label_coords(1.15, 0.5)\n",
    "plt.savefig(\"/home/tanida/workspace/Insect_Phenology_Detector/result/master_paper/size_estimation/compare_method/comp_Aug_from_size_dist_ver_ratio.png\", bbox_inches=\"tight\")"
   ]
  },
  {
   "cell_type": "markdown",
   "metadata": {},
   "source": [
    "### --- class and L1loss ---"
   ]
  }
 ],
 "metadata": {
  "kernelspec": {
   "display_name": "pytorch_040",
   "language": "python",
   "name": "pytorch_040"
  },
  "language_info": {
   "codemirror_mode": {
    "name": "ipython",
    "version": 3
   },
   "file_extension": ".py",
   "mimetype": "text/x-python",
   "name": "python",
   "nbconvert_exporter": "python",
   "pygments_lexer": "ipython3",
   "version": "3.7.4"
  }
 },
 "nbformat": 4,
 "nbformat_minor": 4
}
