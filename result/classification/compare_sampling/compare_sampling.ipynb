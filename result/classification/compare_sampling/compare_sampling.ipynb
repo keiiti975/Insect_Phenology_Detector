{
 "cells": [
  {
   "cell_type": "code",
   "execution_count": 1,
   "metadata": {},
   "outputs": [],
   "source": [
    "import os\n",
    "from os.path import join as pj\n",
    "import numpy as np\n",
    "import pandas as pd\n",
    "import matplotlib.pyplot as plt\n",
    "import h5py\n",
    "# Statistics\n",
    "from evaluation.classification.statistics import get_precisions\n",
    "# Visualize\n",
    "from evaluation.classification.visualize import plot_df_distrib_size\n",
    "# utils\n",
    "from evaluation.classification.utils import get_size_list_from_xte\n",
    "%matplotlib inline\n",
    "plt.style.use(\"ggplot\")"
   ]
  },
  {
   "cell_type": "markdown",
   "metadata": {},
   "source": [
    "### --- compare precision with population ---"
   ]
  },
  {
   "cell_type": "code",
   "execution_count": 2,
   "metadata": {},
   "outputs": [],
   "source": [
    "resnet50 = pd.read_csv('/home/tanida/workspace/Insect_Phenology_Detector/figure/classification/ResNet101/resnet50_b20_r45_lr1e-5_crossvalid/validation_matrix.csv')\n",
    "resnet50_undersample = pd.read_csv('/home/tanida/workspace/Insect_Phenology_Detector/figure/classification/ResNet101/resnet50_b20_r45_lr1e-5_crossvalid_randomsampling/validation_matrix.csv')\n",
    "resnet50_oversample = pd.read_csv('/home/tanida/workspace/Insect_Phenology_Detector/figure/classification/ResNet101/resnet50_b20_r45_lr1e-5_crossvalid_randomoversampling/validation_matrix.csv')"
   ]
  },
  {
   "cell_type": "code",
   "execution_count": 3,
   "metadata": {},
   "outputs": [],
   "source": [
    "resnet50_precisions = get_precisions(resnet50)\n",
    "resnet50_undersample_precisions = get_precisions(resnet50_undersample)\n",
    "resnet50_oversample_precisions = get_precisions(resnet50_oversample)"
   ]
  },
  {
   "cell_type": "code",
   "execution_count": 4,
   "metadata": {},
   "outputs": [],
   "source": [
    "exp_name = [\"resnet50\", \"resnet50_undersample\", \"resnet50_oversample\"]\n",
    "exp_ap = [resnet50_precisions.mean(), resnet50_undersample_precisions.mean(), resnet50_oversample_precisions.mean()]"
   ]
  },
  {
   "cell_type": "code",
   "execution_count": 5,
   "metadata": {},
   "outputs": [
    {
     "data": {
      "text/html": [
       "<div>\n",
       "<style scoped>\n",
       "    .dataframe tbody tr th:only-of-type {\n",
       "        vertical-align: middle;\n",
       "    }\n",
       "\n",
       "    .dataframe tbody tr th {\n",
       "        vertical-align: top;\n",
       "    }\n",
       "\n",
       "    .dataframe thead th {\n",
       "        text-align: right;\n",
       "    }\n",
       "</style>\n",
       "<table border=\"1\" class=\"dataframe\">\n",
       "  <thead>\n",
       "    <tr style=\"text-align: right;\">\n",
       "      <th></th>\n",
       "      <th>exp_name</th>\n",
       "      <th>exp_ap</th>\n",
       "    </tr>\n",
       "  </thead>\n",
       "  <tbody>\n",
       "    <tr>\n",
       "      <td>0</td>\n",
       "      <td>resnet50</td>\n",
       "      <td>0.878885</td>\n",
       "    </tr>\n",
       "    <tr>\n",
       "      <td>1</td>\n",
       "      <td>resnet50_undersample</td>\n",
       "      <td>0.783847</td>\n",
       "    </tr>\n",
       "    <tr>\n",
       "      <td>2</td>\n",
       "      <td>resnet50_oversample</td>\n",
       "      <td>0.888789</td>\n",
       "    </tr>\n",
       "  </tbody>\n",
       "</table>\n",
       "</div>"
      ],
      "text/plain": [
       "               exp_name    exp_ap\n",
       "0              resnet50  0.878885\n",
       "1  resnet50_undersample  0.783847\n",
       "2   resnet50_oversample  0.888789"
      ]
     },
     "execution_count": 5,
     "metadata": {},
     "output_type": "execute_result"
    }
   ],
   "source": [
    "df = pd.DataFrame({\"exp_name\": exp_name, \"exp_ap\": exp_ap})\n",
    "df"
   ]
  },
  {
   "cell_type": "code",
   "execution_count": 6,
   "metadata": {},
   "outputs": [],
   "source": [
    "df_per_label = pd.DataFrame({\"resnet50\": resnet50_precisions, \"resnet50_undersample\": resnet50_undersample_precisions, \"resnet50_oversample\": resnet50_oversample_precisions})"
   ]
  },
  {
   "cell_type": "code",
   "execution_count": 7,
   "metadata": {},
   "outputs": [
    {
     "data": {
      "text/html": [
       "<div>\n",
       "<style scoped>\n",
       "    .dataframe tbody tr th:only-of-type {\n",
       "        vertical-align: middle;\n",
       "    }\n",
       "\n",
       "    .dataframe tbody tr th {\n",
       "        vertical-align: top;\n",
       "    }\n",
       "\n",
       "    .dataframe thead th {\n",
       "        text-align: right;\n",
       "    }\n",
       "</style>\n",
       "<table border=\"1\" class=\"dataframe\">\n",
       "  <thead>\n",
       "    <tr style=\"text-align: right;\">\n",
       "      <th></th>\n",
       "      <th>resnet50</th>\n",
       "      <th>resnet50_oversample</th>\n",
       "      <th>resnet50_undersample</th>\n",
       "    </tr>\n",
       "  </thead>\n",
       "  <tbody>\n",
       "    <tr>\n",
       "      <td>Ephemeridae</td>\n",
       "      <td>0.960784</td>\n",
       "      <td>0.921569</td>\n",
       "      <td>0.921569</td>\n",
       "    </tr>\n",
       "    <tr>\n",
       "      <td>Plecoptera</td>\n",
       "      <td>0.823077</td>\n",
       "      <td>0.815385</td>\n",
       "      <td>0.761538</td>\n",
       "    </tr>\n",
       "    <tr>\n",
       "      <td>Ephemeroptera</td>\n",
       "      <td>0.764045</td>\n",
       "      <td>0.831461</td>\n",
       "      <td>0.651685</td>\n",
       "    </tr>\n",
       "    <tr>\n",
       "      <td>Trichoptera</td>\n",
       "      <td>0.911290</td>\n",
       "      <td>0.903226</td>\n",
       "      <td>0.754032</td>\n",
       "    </tr>\n",
       "    <tr>\n",
       "      <td>Lepidoptera</td>\n",
       "      <td>0.887640</td>\n",
       "      <td>0.910112</td>\n",
       "      <td>0.749064</td>\n",
       "    </tr>\n",
       "    <tr>\n",
       "      <td>Diptera</td>\n",
       "      <td>0.926471</td>\n",
       "      <td>0.950980</td>\n",
       "      <td>0.865196</td>\n",
       "    </tr>\n",
       "  </tbody>\n",
       "</table>\n",
       "</div>"
      ],
      "text/plain": [
       "               resnet50  resnet50_oversample  resnet50_undersample\n",
       "Ephemeridae    0.960784             0.921569              0.921569\n",
       "Plecoptera     0.823077             0.815385              0.761538\n",
       "Ephemeroptera  0.764045             0.831461              0.651685\n",
       "Trichoptera    0.911290             0.903226              0.754032\n",
       "Lepidoptera    0.887640             0.910112              0.749064\n",
       "Diptera        0.926471             0.950980              0.865196"
      ]
     },
     "execution_count": 7,
     "metadata": {},
     "output_type": "execute_result"
    }
   ],
   "source": [
    "new_df_per_label = pd.DataFrame()\n",
    "new_df_per_label = new_df_per_label.append(pd.Series(df_per_label.values[1], index=df_per_label.columns, name='Ephemeridae'))\n",
    "new_df_per_label = new_df_per_label.append(pd.Series(df_per_label.values[4], index=df_per_label.columns, name='Plecoptera'))\n",
    "new_df_per_label = new_df_per_label.append(pd.Series(df_per_label.values[2], index=df_per_label.columns, name='Ephemeroptera'))\n",
    "new_df_per_label = new_df_per_label.append(pd.Series(df_per_label.values[5], index=df_per_label.columns, name='Trichoptera'))\n",
    "new_df_per_label = new_df_per_label.append(pd.Series(df_per_label.values[3], index=df_per_label.columns, name='Lepidoptera'))\n",
    "new_df_per_label = new_df_per_label.append(pd.Series(df_per_label.values[0], index=df_per_label.columns, name='Diptera'))\n",
    "new_df_per_label"
   ]
  },
  {
   "cell_type": "code",
   "execution_count": 8,
   "metadata": {},
   "outputs": [
    {
     "data": {
      "image/png": "[encoded data removed]",
      "text/plain": [
       "<Figure size 432x288 with 1 Axes>"
      ]
     },
     "metadata": {
      "needs_background": "light"
     },
     "output_type": "display_data"
    }
   ],
   "source": [
    "plt.rcParams[\"font.size\"] = 14\n",
    "new_df_per_label.plot(kind=\"bar\", y=[\"resnet50\", \"resnet50_undersample\", \"resnet50_oversample\"], cmap=\"rainbow\")\n",
    "plt.ylabel(\"Precision\")\n",
    "plt.legend(bbox_to_anchor=(1.05, 1), loc='upper left', fontsize=12)\n",
    "plt.savefig(\"/home/tanida/workspace/Insect_Phenology_Detector/result/classification/compare_sampling/compare_precision_resnet50.png\", bbox_inches=\"tight\")"
   ]
  },
  {
   "cell_type": "markdown",
   "metadata": {},
   "source": [
    "### --- compare accuracy distribution of size ---"
   ]
  },
  {
   "cell_type": "code",
   "execution_count": 9,
   "metadata": {},
   "outputs": [],
   "source": [
    "cls_each_size_df = pd.read_csv('/home/tanida/workspace/Insect_Phenology_Detector/figure/classification/ResNet101/resnet50_b20_r45_lr1e-5_crossvalid/each_size_df.csv')\n",
    "cls_each_size_df[\"order\"] = cls_each_size_df[\"Insect_size\"].apply(lambda x: np.floor(np.log2(x)))\n",
    "insect_size = np.asarray(cls_each_size_df[\"order\"])\n",
    "idx, count = np.unique(insect_size, return_counts=True)\n",
    "insect_size_df = pd.DataFrame({\"order\": idx, \"count\": count})"
   ]
  },
  {
   "cell_type": "code",
   "execution_count": 10,
   "metadata": {},
   "outputs": [],
   "source": [
    "resnet50 = pd.read_csv('/home/tanida/workspace/Insect_Phenology_Detector/figure/classification/ResNet101/resnet50_b20_r45_lr1e-5_crossvalid/all_size_df.csv')\n",
    "resnet50_undersample = pd.read_csv('/home/tanida/workspace/Insect_Phenology_Detector/figure/classification/ResNet101/resnet50_b20_r45_lr1e-5_crossvalid_randomsampling/all_size_df.csv')\n",
    "resnet50_oversample = pd.read_csv('/home/tanida/workspace/Insect_Phenology_Detector/figure/classification/ResNet101/resnet50_b20_r45_lr1e-5_crossvalid_randomoversampling/all_size_df.csv')"
   ]
  },
  {
   "cell_type": "code",
   "execution_count": 11,
   "metadata": {},
   "outputs": [],
   "source": [
    "resnet50 = resnet50.drop(resnet50.index[[0]])\n",
    "resnet50_undersample = resnet50_undersample.drop(resnet50_undersample.index[[0]])\n",
    "resnet50_oversample = resnet50_oversample.drop(resnet50_oversample.index[[0]])"
   ]
  },
  {
   "cell_type": "code",
   "execution_count": 12,
   "metadata": {},
   "outputs": [
    {
     "data": {
      "text/html": [
       "<div>\n",
       "<style scoped>\n",
       "    .dataframe tbody tr th:only-of-type {\n",
       "        vertical-align: middle;\n",
       "    }\n",
       "\n",
       "    .dataframe tbody tr th {\n",
       "        vertical-align: top;\n",
       "    }\n",
       "\n",
       "    .dataframe thead th {\n",
       "        text-align: right;\n",
       "    }\n",
       "</style>\n",
       "<table border=\"1\" class=\"dataframe\">\n",
       "  <thead>\n",
       "    <tr style=\"text-align: right;\">\n",
       "      <th></th>\n",
       "      <th>order</th>\n",
       "      <th>count</th>\n",
       "    </tr>\n",
       "  </thead>\n",
       "  <tbody>\n",
       "    <tr>\n",
       "      <td>0</td>\n",
       "      <td>1.0</td>\n",
       "      <td>1</td>\n",
       "    </tr>\n",
       "    <tr>\n",
       "      <td>1</td>\n",
       "      <td>7.0</td>\n",
       "      <td>10</td>\n",
       "    </tr>\n",
       "    <tr>\n",
       "      <td>2</td>\n",
       "      <td>8.0</td>\n",
       "      <td>43</td>\n",
       "    </tr>\n",
       "    <tr>\n",
       "      <td>3</td>\n",
       "      <td>9.0</td>\n",
       "      <td>109</td>\n",
       "    </tr>\n",
       "    <tr>\n",
       "      <td>4</td>\n",
       "      <td>10.0</td>\n",
       "      <td>229</td>\n",
       "    </tr>\n",
       "    <tr>\n",
       "      <td>5</td>\n",
       "      <td>11.0</td>\n",
       "      <td>284</td>\n",
       "    </tr>\n",
       "    <tr>\n",
       "      <td>6</td>\n",
       "      <td>12.0</td>\n",
       "      <td>309</td>\n",
       "    </tr>\n",
       "    <tr>\n",
       "      <td>7</td>\n",
       "      <td>13.0</td>\n",
       "      <td>209</td>\n",
       "    </tr>\n",
       "    <tr>\n",
       "      <td>8</td>\n",
       "      <td>14.0</td>\n",
       "      <td>78</td>\n",
       "    </tr>\n",
       "    <tr>\n",
       "      <td>9</td>\n",
       "      <td>15.0</td>\n",
       "      <td>10</td>\n",
       "    </tr>\n",
       "  </tbody>\n",
       "</table>\n",
       "</div>"
      ],
      "text/plain": [
       "   order  count\n",
       "0    1.0      1\n",
       "1    7.0     10\n",
       "2    8.0     43\n",
       "3    9.0    109\n",
       "4   10.0    229\n",
       "5   11.0    284\n",
       "6   12.0    309\n",
       "7   13.0    209\n",
       "8   14.0     78\n",
       "9   15.0     10"
      ]
     },
     "execution_count": 12,
     "metadata": {},
     "output_type": "execute_result"
    }
   ],
   "source": [
    "insect_size_df"
   ]
  },
  {
   "cell_type": "code",
   "execution_count": 13,
   "metadata": {},
   "outputs": [
    {
     "data": {
      "text/html": [
       "<div>\n",
       "<style scoped>\n",
       "    .dataframe tbody tr th:only-of-type {\n",
       "        vertical-align: middle;\n",
       "    }\n",
       "\n",
       "    .dataframe tbody tr th {\n",
       "        vertical-align: top;\n",
       "    }\n",
       "\n",
       "    .dataframe thead th {\n",
       "        text-align: right;\n",
       "    }\n",
       "</style>\n",
       "<table border=\"1\" class=\"dataframe\">\n",
       "  <thead>\n",
       "    <tr style=\"text-align: right;\">\n",
       "      <th></th>\n",
       "      <th>Unnamed: 0</th>\n",
       "      <th>order</th>\n",
       "      <th>resnet50</th>\n",
       "      <th>Insect_size</th>\n",
       "      <th>resnet50_undersample</th>\n",
       "      <th>resnet50_oversample</th>\n",
       "      <th>count</th>\n",
       "    </tr>\n",
       "  </thead>\n",
       "  <tbody>\n",
       "    <tr>\n",
       "      <td>1</td>\n",
       "      <td>1</td>\n",
       "      <td>7.0</td>\n",
       "      <td>1.000000</td>\n",
       "      <td>208.900000</td>\n",
       "      <td>0.900000</td>\n",
       "      <td>1.000000</td>\n",
       "      <td>10</td>\n",
       "    </tr>\n",
       "    <tr>\n",
       "      <td>2</td>\n",
       "      <td>2</td>\n",
       "      <td>8.0</td>\n",
       "      <td>0.883721</td>\n",
       "      <td>400.651163</td>\n",
       "      <td>0.860465</td>\n",
       "      <td>0.883721</td>\n",
       "      <td>43</td>\n",
       "    </tr>\n",
       "    <tr>\n",
       "      <td>3</td>\n",
       "      <td>3</td>\n",
       "      <td>9.0</td>\n",
       "      <td>0.761468</td>\n",
       "      <td>778.706422</td>\n",
       "      <td>0.596330</td>\n",
       "      <td>0.788991</td>\n",
       "      <td>109</td>\n",
       "    </tr>\n",
       "    <tr>\n",
       "      <td>4</td>\n",
       "      <td>4</td>\n",
       "      <td>10.0</td>\n",
       "      <td>0.812227</td>\n",
       "      <td>1510.864629</td>\n",
       "      <td>0.663755</td>\n",
       "      <td>0.820961</td>\n",
       "      <td>229</td>\n",
       "    </tr>\n",
       "    <tr>\n",
       "      <td>5</td>\n",
       "      <td>5</td>\n",
       "      <td>11.0</td>\n",
       "      <td>0.855634</td>\n",
       "      <td>2949.616197</td>\n",
       "      <td>0.742958</td>\n",
       "      <td>0.901408</td>\n",
       "      <td>284</td>\n",
       "    </tr>\n",
       "    <tr>\n",
       "      <td>6</td>\n",
       "      <td>6</td>\n",
       "      <td>12.0</td>\n",
       "      <td>0.932039</td>\n",
       "      <td>5938.822006</td>\n",
       "      <td>0.883495</td>\n",
       "      <td>0.941748</td>\n",
       "      <td>309</td>\n",
       "    </tr>\n",
       "    <tr>\n",
       "      <td>7</td>\n",
       "      <td>7</td>\n",
       "      <td>13.0</td>\n",
       "      <td>0.971292</td>\n",
       "      <td>11264.789474</td>\n",
       "      <td>0.923445</td>\n",
       "      <td>0.976077</td>\n",
       "      <td>209</td>\n",
       "    </tr>\n",
       "    <tr>\n",
       "      <td>8</td>\n",
       "      <td>8</td>\n",
       "      <td>14.0</td>\n",
       "      <td>0.948718</td>\n",
       "      <td>22344.653846</td>\n",
       "      <td>0.692308</td>\n",
       "      <td>0.948718</td>\n",
       "      <td>78</td>\n",
       "    </tr>\n",
       "    <tr>\n",
       "      <td>9</td>\n",
       "      <td>9</td>\n",
       "      <td>15.0</td>\n",
       "      <td>0.800000</td>\n",
       "      <td>34865.400000</td>\n",
       "      <td>0.800000</td>\n",
       "      <td>0.900000</td>\n",
       "      <td>10</td>\n",
       "    </tr>\n",
       "  </tbody>\n",
       "</table>\n",
       "</div>"
      ],
      "text/plain": [
       "   Unnamed: 0  order  resnet50   Insect_size  resnet50_undersample  \\\n",
       "1           1    7.0  1.000000    208.900000              0.900000   \n",
       "2           2    8.0  0.883721    400.651163              0.860465   \n",
       "3           3    9.0  0.761468    778.706422              0.596330   \n",
       "4           4   10.0  0.812227   1510.864629              0.663755   \n",
       "5           5   11.0  0.855634   2949.616197              0.742958   \n",
       "6           6   12.0  0.932039   5938.822006              0.883495   \n",
       "7           7   13.0  0.971292  11264.789474              0.923445   \n",
       "8           8   14.0  0.948718  22344.653846              0.692308   \n",
       "9           9   15.0  0.800000  34865.400000              0.800000   \n",
       "\n",
       "   resnet50_oversample  count  \n",
       "1             1.000000     10  \n",
       "2             0.883721     43  \n",
       "3             0.788991    109  \n",
       "4             0.820961    229  \n",
       "5             0.901408    284  \n",
       "6             0.941748    309  \n",
       "7             0.976077    209  \n",
       "8             0.948718     78  \n",
       "9             0.900000     10  "
      ]
     },
     "execution_count": 13,
     "metadata": {},
     "output_type": "execute_result"
    }
   ],
   "source": [
    "all_df = resnet50\n",
    "all_df = all_df.rename(columns={'Accuracy': 'resnet50'})\n",
    "all_df = all_df.assign(resnet50_undersample=resnet50_undersample[\"Accuracy\"])\n",
    "all_df = all_df.assign(resnet50_oversample=resnet50_oversample[\"Accuracy\"])\n",
    "all_df = all_df.assign(count=insect_size_df[\"count\"])\n",
    "all_df"
   ]
  },
  {
   "cell_type": "code",
   "execution_count": 15,
   "metadata": {},
   "outputs": [
    {
     "data": {
      "image/png": "[encoded data removed]",
      "text/plain": [
       "<Figure size 360x288 with 2 Axes>"
      ]
     },
     "metadata": {
      "needs_background": "light"
     },
     "output_type": "display_data"
    }
   ],
   "source": [
    "plt.rcParams[\"font.size\"] = 14\n",
    "fig, ax1 = plt.subplots(figsize=(5,4))\n",
    "ax2 = ax1.twinx()\n",
    "\n",
    "x_label = [\"7.0\", \"8.0\", \"9.0\", \"10.0\", \"11.0\", \"12.0\", \"13.0\", \"14.0\", \"15.0\"]\n",
    "\n",
    "ax1.bar(x_label, all_df[\"count\"], width=0.3, color=\"g\")\n",
    "ax2.plot(x_label, all_df[\"resnet50\"], label=\"resnet50\")\n",
    "ax2.plot(x_label, all_df[\"resnet50_undersample\"], label=\"resnet50_undersample\")\n",
    "ax2.plot(x_label, all_df[\"resnet50_oversample\"], label=\"resnet50_oversample\")\n",
    "ax1.yaxis.tick_right()\n",
    "ax2.yaxis.tick_left()\n",
    "\n",
    "h2, l2 = ax2.get_legend_handles_labels()\n",
    "ax1.legend(h2, l2, bbox_to_anchor=(0.67, 0.), loc='lower right', fontsize=10)\n",
    "\n",
    "ax1.set_xlabel(\"Insect_size order\")\n",
    "ax1.set_ylabel(\"Precision\")\n",
    "ax1.yaxis.set_label_coords(-0.15, 0.5)\n",
    "ax1.grid(False)\n",
    "ax2.set_ylabel(\"Population per order\")\n",
    "ax2.set_ylim(0., 1.01)\n",
    "ax2.yaxis.set_label_coords(1.15, 0.5)\n",
    "plt.savefig(\"/home/tanida/workspace/Insect_Phenology_Detector/result/classification/compare_sampling/compare_precision_distrib_of_size.png\", bbox_inches=\"tight\")"
   ]
  }
 ],
 "metadata": {
  "kernelspec": {
   "display_name": "pytorch_040",
   "language": "python",
   "name": "pytorch_040"
  },
  "language_info": {
   "codemirror_mode": {
    "name": "ipython",
    "version": 3
   },
   "file_extension": ".py",
   "mimetype": "text/x-python",
   "name": "python",
   "nbconvert_exporter": "python",
   "pygments_lexer": "ipython3",
   "version": "3.7.4"
  }
 },
 "nbformat": 4,
 "nbformat_minor": 4
}
