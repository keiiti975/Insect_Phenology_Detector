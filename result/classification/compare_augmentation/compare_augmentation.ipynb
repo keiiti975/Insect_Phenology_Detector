{
 "cells": [
  {
   "cell_type": "code",
   "execution_count": 1,
   "metadata": {},
   "outputs": [],
   "source": [
    "import os\n",
    "from os.path import join as pj\n",
    "import numpy as np\n",
    "import pandas as pd\n",
    "import matplotlib.pyplot as plt\n",
    "import h5py\n",
    "# Statistics\n",
    "from evaluation.classification.statistics import get_precisions\n",
    "# Visualize\n",
    "from evaluation.classification.visualize import plot_df_distrib_size\n",
    "# utils\n",
    "from evaluation.classification.utils import get_size_list_from_xte\n",
    "%matplotlib inline\n",
    "plt.style.use(\"ggplot\")"
   ]
  },
  {
   "cell_type": "markdown",
   "metadata": {},
   "source": [
    "### --- compare precision with population ---"
   ]
  },
  {
   "cell_type": "code",
   "execution_count": 2,
   "metadata": {},
   "outputs": [],
   "source": [
    "resnet50 = pd.read_csv('/home/tanida/workspace/Insect_Phenology_Detector/figure/classification/ResNet101/resnet50_b20_r45_lr1e-5_crossvalid/validation_matrix.csv')\n",
    "resnet50_randomsizecrop = pd.read_csv('/home/tanida/workspace/Insect_Phenology_Detector/figure/classification/ResNet101/resnet50_b20_r45_lr1e-5_crossvalid_randomsizecrop/validation_matrix.csv')\n",
    "resnet50_regionconfusionmechanism = pd.read_csv('/home/tanida/workspace/Insect_Phenology_Detector/figure/classification/ResNet101/resnet50_b20_r45_lr1e-5_crossvalid_regionconfusionmechanism/validation_matrix.csv')"
   ]
  },
  {
   "cell_type": "code",
   "execution_count": 3,
   "metadata": {},
   "outputs": [],
   "source": [
    "resnet50_precisions = get_precisions(resnet50)\n",
    "resnet50_randomsizecrop_precisions = get_precisions(resnet50_randomsizecrop)\n",
    "resnet50_regionconfusionmechanism_precisions = get_precisions(resnet50_regionconfusionmechanism)"
   ]
  },
  {
   "cell_type": "code",
   "execution_count": 4,
   "metadata": {},
   "outputs": [],
   "source": [
    "exp_name = [\"resnet50\", \"resnet50_randomsizecrop\", \"resnet50_regionconfusionmechanism\"]\n",
    "exp_ap = [resnet50_precisions.mean(), resnet50_randomsizecrop_precisions.mean(), resnet50_regionconfusionmechanism_precisions.mean()]"
   ]
  },
  {
   "cell_type": "code",
   "execution_count": 5,
   "metadata": {},
   "outputs": [
    {
     "data": {
      "text/html": [
       "<div>\n",
       "<style scoped>\n",
       "    .dataframe tbody tr th:only-of-type {\n",
       "        vertical-align: middle;\n",
       "    }\n",
       "\n",
       "    .dataframe tbody tr th {\n",
       "        vertical-align: top;\n",
       "    }\n",
       "\n",
       "    .dataframe thead th {\n",
       "        text-align: right;\n",
       "    }\n",
       "</style>\n",
       "<table border=\"1\" class=\"dataframe\">\n",
       "  <thead>\n",
       "    <tr style=\"text-align: right;\">\n",
       "      <th></th>\n",
       "      <th>exp_name</th>\n",
       "      <th>exp_ap</th>\n",
       "    </tr>\n",
       "  </thead>\n",
       "  <tbody>\n",
       "    <tr>\n",
       "      <td>0</td>\n",
       "      <td>resnet50</td>\n",
       "      <td>0.878885</td>\n",
       "    </tr>\n",
       "    <tr>\n",
       "      <td>1</td>\n",
       "      <td>resnet50_randomsizecrop</td>\n",
       "      <td>0.828768</td>\n",
       "    </tr>\n",
       "    <tr>\n",
       "      <td>2</td>\n",
       "      <td>resnet50_regionconfusionmechanism</td>\n",
       "      <td>0.873346</td>\n",
       "    </tr>\n",
       "  </tbody>\n",
       "</table>\n",
       "</div>"
      ],
      "text/plain": [
       "                            exp_name    exp_ap\n",
       "0                           resnet50  0.878885\n",
       "1            resnet50_randomsizecrop  0.828768\n",
       "2  resnet50_regionconfusionmechanism  0.873346"
      ]
     },
     "execution_count": 5,
     "metadata": {},
     "output_type": "execute_result"
    }
   ],
   "source": [
    "df = pd.DataFrame({\"exp_name\": exp_name, \"exp_ap\": exp_ap})\n",
    "df"
   ]
  },
  {
   "cell_type": "code",
   "execution_count": 6,
   "metadata": {},
   "outputs": [],
   "source": [
    "df_per_label = pd.DataFrame({\"resnet50\": resnet50_precisions, \"resnet50_randomsizecrop\": resnet50_randomsizecrop_precisions, \"resnet50_regionconfusionmechanism\": resnet50_regionconfusionmechanism_precisions})"
   ]
  },
  {
   "cell_type": "code",
   "execution_count": 7,
   "metadata": {},
   "outputs": [
    {
     "data": {
      "text/html": [
       "<div>\n",
       "<style scoped>\n",
       "    .dataframe tbody tr th:only-of-type {\n",
       "        vertical-align: middle;\n",
       "    }\n",
       "\n",
       "    .dataframe tbody tr th {\n",
       "        vertical-align: top;\n",
       "    }\n",
       "\n",
       "    .dataframe thead th {\n",
       "        text-align: right;\n",
       "    }\n",
       "</style>\n",
       "<table border=\"1\" class=\"dataframe\">\n",
       "  <thead>\n",
       "    <tr style=\"text-align: right;\">\n",
       "      <th></th>\n",
       "      <th>resnet50</th>\n",
       "      <th>resnet50_randomsizecrop</th>\n",
       "      <th>resnet50_regionconfusionmechanism</th>\n",
       "    </tr>\n",
       "  </thead>\n",
       "  <tbody>\n",
       "    <tr>\n",
       "      <td>Ephemeridae</td>\n",
       "      <td>0.960784</td>\n",
       "      <td>0.921569</td>\n",
       "      <td>0.960784</td>\n",
       "    </tr>\n",
       "    <tr>\n",
       "      <td>Plecoptera</td>\n",
       "      <td>0.823077</td>\n",
       "      <td>0.761538</td>\n",
       "      <td>0.807692</td>\n",
       "    </tr>\n",
       "    <tr>\n",
       "      <td>Ephemeroptera</td>\n",
       "      <td>0.764045</td>\n",
       "      <td>0.601124</td>\n",
       "      <td>0.741573</td>\n",
       "    </tr>\n",
       "    <tr>\n",
       "      <td>Trichoptera</td>\n",
       "      <td>0.911290</td>\n",
       "      <td>0.879032</td>\n",
       "      <td>0.911290</td>\n",
       "    </tr>\n",
       "    <tr>\n",
       "      <td>Lepidoptera</td>\n",
       "      <td>0.887640</td>\n",
       "      <td>0.895131</td>\n",
       "      <td>0.872659</td>\n",
       "    </tr>\n",
       "    <tr>\n",
       "      <td>Diptera</td>\n",
       "      <td>0.926471</td>\n",
       "      <td>0.914216</td>\n",
       "      <td>0.946078</td>\n",
       "    </tr>\n",
       "  </tbody>\n",
       "</table>\n",
       "</div>"
      ],
      "text/plain": [
       "               resnet50  resnet50_randomsizecrop  \\\n",
       "Ephemeridae    0.960784                 0.921569   \n",
       "Plecoptera     0.823077                 0.761538   \n",
       "Ephemeroptera  0.764045                 0.601124   \n",
       "Trichoptera    0.911290                 0.879032   \n",
       "Lepidoptera    0.887640                 0.895131   \n",
       "Diptera        0.926471                 0.914216   \n",
       "\n",
       "               resnet50_regionconfusionmechanism  \n",
       "Ephemeridae                             0.960784  \n",
       "Plecoptera                              0.807692  \n",
       "Ephemeroptera                           0.741573  \n",
       "Trichoptera                             0.911290  \n",
       "Lepidoptera                             0.872659  \n",
       "Diptera                                 0.946078  "
      ]
     },
     "execution_count": 7,
     "metadata": {},
     "output_type": "execute_result"
    }
   ],
   "source": [
    "new_df_per_label = pd.DataFrame()\n",
    "new_df_per_label = new_df_per_label.append(pd.Series(df_per_label.values[1], index=df_per_label.columns, name='Ephemeridae'))\n",
    "new_df_per_label = new_df_per_label.append(pd.Series(df_per_label.values[4], index=df_per_label.columns, name='Plecoptera'))\n",
    "new_df_per_label = new_df_per_label.append(pd.Series(df_per_label.values[2], index=df_per_label.columns, name='Ephemeroptera'))\n",
    "new_df_per_label = new_df_per_label.append(pd.Series(df_per_label.values[5], index=df_per_label.columns, name='Trichoptera'))\n",
    "new_df_per_label = new_df_per_label.append(pd.Series(df_per_label.values[3], index=df_per_label.columns, name='Lepidoptera'))\n",
    "new_df_per_label = new_df_per_label.append(pd.Series(df_per_label.values[0], index=df_per_label.columns, name='Diptera'))\n",
    "new_df_per_label"
   ]
  },
  {
   "cell_type": "code",
   "execution_count": 8,
   "metadata": {},
   "outputs": [
    {
     "data": {
      "image/png": "[encoded data removed]",
      "text/plain": [
       "<Figure size 432x288 with 1 Axes>"
      ]
     },
     "metadata": {
      "needs_background": "light"
     },
     "output_type": "display_data"
    }
   ],
   "source": [
    "plt.rcParams[\"font.size\"] = 14\n",
    "new_df_per_label.plot(kind=\"bar\", y=[\"resnet50\", \"resnet50_randomsizecrop\", \"resnet50_regionconfusionmechanism\"], cmap=\"rainbow\")\n",
    "plt.ylabel(\"Precision\")\n",
    "plt.legend(bbox_to_anchor=(1.05, 1), loc='upper left', fontsize=12)\n",
    "plt.savefig(\"/home/tanida/workspace/Insect_Phenology_Detector/result/classification/compare_augmentation/compare_precision_resnet50.png\", bbox_inches=\"tight\")"
   ]
  },
  {
   "cell_type": "markdown",
   "metadata": {},
   "source": [
    "### --- compare accuracy distribution of size ---"
   ]
  },
  {
   "cell_type": "code",
   "execution_count": 9,
   "metadata": {},
   "outputs": [],
   "source": [
    "cls_each_size_df = pd.read_csv('/home/tanida/workspace/Insect_Phenology_Detector/figure/classification/ResNet101/resnet50_b20_r45_lr1e-5_crossvalid/each_size_df.csv')\n",
    "cls_each_size_df[\"order\"] = cls_each_size_df[\"Insect_size\"].apply(lambda x: np.floor(np.log2(x)))\n",
    "insect_size = np.asarray(cls_each_size_df[\"order\"])\n",
    "idx, count = np.unique(insect_size, return_counts=True)\n",
    "insect_size_df = pd.DataFrame({\"order\": idx, \"count\": count})"
   ]
  },
  {
   "cell_type": "code",
   "execution_count": 10,
   "metadata": {},
   "outputs": [],
   "source": [
    "resnet50 = pd.read_csv('/home/tanida/workspace/Insect_Phenology_Detector/figure/classification/ResNet101/resnet50_b20_r45_lr1e-5_crossvalid/all_size_df.csv')\n",
    "resnet50_randomsizecrop = pd.read_csv('/home/tanida/workspace/Insect_Phenology_Detector/figure/classification/ResNet101/resnet50_b20_r45_lr1e-5_crossvalid_randomsizecrop/all_size_df.csv')\n",
    "resnet50_regionconfusionmechanism = pd.read_csv('/home/tanida/workspace/Insect_Phenology_Detector/figure/classification/ResNet101/resnet50_b20_r45_lr1e-5_crossvalid_regionconfusionmechanism/all_size_df.csv')"
   ]
  },
  {
   "cell_type": "code",
   "execution_count": 11,
   "metadata": {},
   "outputs": [],
   "source": [
    "resnet50 = resnet50.drop(resnet50.index[[0]])\n",
    "resnet50_randomsizecrop = resnet50_randomsizecrop.drop(resnet50_randomsizecrop.index[[0]])\n",
    "resnet50_regionconfusionmechanism = resnet50_regionconfusionmechanism.drop(resnet50_regionconfusionmechanism.index[[0]])"
   ]
  },
  {
   "cell_type": "code",
   "execution_count": 12,
   "metadata": {},
   "outputs": [
    {
     "data": {
      "text/html": [
       "<div>\n",
       "<style scoped>\n",
       "    .dataframe tbody tr th:only-of-type {\n",
       "        vertical-align: middle;\n",
       "    }\n",
       "\n",
       "    .dataframe tbody tr th {\n",
       "        vertical-align: top;\n",
       "    }\n",
       "\n",
       "    .dataframe thead th {\n",
       "        text-align: right;\n",
       "    }\n",
       "</style>\n",
       "<table border=\"1\" class=\"dataframe\">\n",
       "  <thead>\n",
       "    <tr style=\"text-align: right;\">\n",
       "      <th></th>\n",
       "      <th>order</th>\n",
       "      <th>count</th>\n",
       "    </tr>\n",
       "  </thead>\n",
       "  <tbody>\n",
       "    <tr>\n",
       "      <td>0</td>\n",
       "      <td>1.0</td>\n",
       "      <td>1</td>\n",
       "    </tr>\n",
       "    <tr>\n",
       "      <td>1</td>\n",
       "      <td>7.0</td>\n",
       "      <td>10</td>\n",
       "    </tr>\n",
       "    <tr>\n",
       "      <td>2</td>\n",
       "      <td>8.0</td>\n",
       "      <td>43</td>\n",
       "    </tr>\n",
       "    <tr>\n",
       "      <td>3</td>\n",
       "      <td>9.0</td>\n",
       "      <td>109</td>\n",
       "    </tr>\n",
       "    <tr>\n",
       "      <td>4</td>\n",
       "      <td>10.0</td>\n",
       "      <td>229</td>\n",
       "    </tr>\n",
       "    <tr>\n",
       "      <td>5</td>\n",
       "      <td>11.0</td>\n",
       "      <td>284</td>\n",
       "    </tr>\n",
       "    <tr>\n",
       "      <td>6</td>\n",
       "      <td>12.0</td>\n",
       "      <td>309</td>\n",
       "    </tr>\n",
       "    <tr>\n",
       "      <td>7</td>\n",
       "      <td>13.0</td>\n",
       "      <td>209</td>\n",
       "    </tr>\n",
       "    <tr>\n",
       "      <td>8</td>\n",
       "      <td>14.0</td>\n",
       "      <td>78</td>\n",
       "    </tr>\n",
       "    <tr>\n",
       "      <td>9</td>\n",
       "      <td>15.0</td>\n",
       "      <td>10</td>\n",
       "    </tr>\n",
       "  </tbody>\n",
       "</table>\n",
       "</div>"
      ],
      "text/plain": [
       "   order  count\n",
       "0    1.0      1\n",
       "1    7.0     10\n",
       "2    8.0     43\n",
       "3    9.0    109\n",
       "4   10.0    229\n",
       "5   11.0    284\n",
       "6   12.0    309\n",
       "7   13.0    209\n",
       "8   14.0     78\n",
       "9   15.0     10"
      ]
     },
     "execution_count": 12,
     "metadata": {},
     "output_type": "execute_result"
    }
   ],
   "source": [
    "insect_size_df"
   ]
  },
  {
   "cell_type": "code",
   "execution_count": 13,
   "metadata": {},
   "outputs": [
    {
     "data": {
      "text/html": [
       "<div>\n",
       "<style scoped>\n",
       "    .dataframe tbody tr th:only-of-type {\n",
       "        vertical-align: middle;\n",
       "    }\n",
       "\n",
       "    .dataframe tbody tr th {\n",
       "        vertical-align: top;\n",
       "    }\n",
       "\n",
       "    .dataframe thead th {\n",
       "        text-align: right;\n",
       "    }\n",
       "</style>\n",
       "<table border=\"1\" class=\"dataframe\">\n",
       "  <thead>\n",
       "    <tr style=\"text-align: right;\">\n",
       "      <th></th>\n",
       "      <th>Unnamed: 0</th>\n",
       "      <th>order</th>\n",
       "      <th>resnet50</th>\n",
       "      <th>Insect_size</th>\n",
       "      <th>resnet50_randomsizecrop</th>\n",
       "      <th>resnet50_regionconfusionmechanism</th>\n",
       "      <th>count</th>\n",
       "    </tr>\n",
       "  </thead>\n",
       "  <tbody>\n",
       "    <tr>\n",
       "      <td>1</td>\n",
       "      <td>1</td>\n",
       "      <td>7.0</td>\n",
       "      <td>1.000000</td>\n",
       "      <td>208.900000</td>\n",
       "      <td>1.000000</td>\n",
       "      <td>0.900000</td>\n",
       "      <td>10</td>\n",
       "    </tr>\n",
       "    <tr>\n",
       "      <td>2</td>\n",
       "      <td>2</td>\n",
       "      <td>8.0</td>\n",
       "      <td>0.883721</td>\n",
       "      <td>400.651163</td>\n",
       "      <td>0.790698</td>\n",
       "      <td>0.883721</td>\n",
       "      <td>43</td>\n",
       "    </tr>\n",
       "    <tr>\n",
       "      <td>3</td>\n",
       "      <td>3</td>\n",
       "      <td>9.0</td>\n",
       "      <td>0.761468</td>\n",
       "      <td>778.706422</td>\n",
       "      <td>0.660550</td>\n",
       "      <td>0.798165</td>\n",
       "      <td>109</td>\n",
       "    </tr>\n",
       "    <tr>\n",
       "      <td>4</td>\n",
       "      <td>4</td>\n",
       "      <td>10.0</td>\n",
       "      <td>0.812227</td>\n",
       "      <td>1510.864629</td>\n",
       "      <td>0.703057</td>\n",
       "      <td>0.799127</td>\n",
       "      <td>229</td>\n",
       "    </tr>\n",
       "    <tr>\n",
       "      <td>5</td>\n",
       "      <td>5</td>\n",
       "      <td>11.0</td>\n",
       "      <td>0.855634</td>\n",
       "      <td>2949.616197</td>\n",
       "      <td>0.855634</td>\n",
       "      <td>0.873239</td>\n",
       "      <td>284</td>\n",
       "    </tr>\n",
       "    <tr>\n",
       "      <td>6</td>\n",
       "      <td>6</td>\n",
       "      <td>12.0</td>\n",
       "      <td>0.932039</td>\n",
       "      <td>5938.822006</td>\n",
       "      <td>0.922330</td>\n",
       "      <td>0.912621</td>\n",
       "      <td>309</td>\n",
       "    </tr>\n",
       "    <tr>\n",
       "      <td>7</td>\n",
       "      <td>7</td>\n",
       "      <td>13.0</td>\n",
       "      <td>0.971292</td>\n",
       "      <td>11264.789474</td>\n",
       "      <td>0.942584</td>\n",
       "      <td>0.976077</td>\n",
       "      <td>209</td>\n",
       "    </tr>\n",
       "    <tr>\n",
       "      <td>8</td>\n",
       "      <td>8</td>\n",
       "      <td>14.0</td>\n",
       "      <td>0.948718</td>\n",
       "      <td>22344.653846</td>\n",
       "      <td>0.935897</td>\n",
       "      <td>0.923077</td>\n",
       "      <td>78</td>\n",
       "    </tr>\n",
       "    <tr>\n",
       "      <td>9</td>\n",
       "      <td>9</td>\n",
       "      <td>15.0</td>\n",
       "      <td>0.800000</td>\n",
       "      <td>34865.400000</td>\n",
       "      <td>0.800000</td>\n",
       "      <td>0.800000</td>\n",
       "      <td>10</td>\n",
       "    </tr>\n",
       "  </tbody>\n",
       "</table>\n",
       "</div>"
      ],
      "text/plain": [
       "   Unnamed: 0  order  resnet50   Insect_size  resnet50_randomsizecrop  \\\n",
       "1           1    7.0  1.000000    208.900000                 1.000000   \n",
       "2           2    8.0  0.883721    400.651163                 0.790698   \n",
       "3           3    9.0  0.761468    778.706422                 0.660550   \n",
       "4           4   10.0  0.812227   1510.864629                 0.703057   \n",
       "5           5   11.0  0.855634   2949.616197                 0.855634   \n",
       "6           6   12.0  0.932039   5938.822006                 0.922330   \n",
       "7           7   13.0  0.971292  11264.789474                 0.942584   \n",
       "8           8   14.0  0.948718  22344.653846                 0.935897   \n",
       "9           9   15.0  0.800000  34865.400000                 0.800000   \n",
       "\n",
       "   resnet50_regionconfusionmechanism  count  \n",
       "1                           0.900000     10  \n",
       "2                           0.883721     43  \n",
       "3                           0.798165    109  \n",
       "4                           0.799127    229  \n",
       "5                           0.873239    284  \n",
       "6                           0.912621    309  \n",
       "7                           0.976077    209  \n",
       "8                           0.923077     78  \n",
       "9                           0.800000     10  "
      ]
     },
     "execution_count": 13,
     "metadata": {},
     "output_type": "execute_result"
    }
   ],
   "source": [
    "all_df = resnet50\n",
    "all_df = all_df.rename(columns={'Accuracy': 'resnet50'})\n",
    "all_df = all_df.assign(resnet50_randomsizecrop=resnet50_randomsizecrop[\"Accuracy\"])\n",
    "all_df = all_df.assign(resnet50_regionconfusionmechanism=resnet50_regionconfusionmechanism[\"Accuracy\"])\n",
    "all_df = all_df.assign(count=insect_size_df[\"count\"])\n",
    "all_df"
   ]
  },
  {
   "cell_type": "code",
   "execution_count": 14,
   "metadata": {},
   "outputs": [
    {
     "data": {
      "image/png": "[encoded data removed]",
      "text/plain": [
       "<Figure size 360x288 with 2 Axes>"
      ]
     },
     "metadata": {
      "needs_background": "light"
     },
     "output_type": "display_data"
    }
   ],
   "source": [
    "plt.rcParams[\"font.size\"] = 14\n",
    "fig, ax1 = plt.subplots(figsize=(5,4))\n",
    "ax2 = ax1.twinx()\n",
    "\n",
    "x_label = [\"7.0\", \"8.0\", \"9.0\", \"10.0\", \"11.0\", \"12.0\", \"13.0\", \"14.0\", \"15.0\"]\n",
    "\n",
    "ax1.bar(x_label, all_df[\"count\"], width=0.3, color=\"g\")\n",
    "ax2.plot(x_label, all_df[\"resnet50\"], label=\"resnet50\")\n",
    "ax2.plot(x_label, all_df[\"resnet50_randomsizecrop\"], label=\"resnet50_randomsizecrop\")\n",
    "ax2.plot(x_label, all_df[\"resnet50_regionconfusionmechanism\"], label=\"resnet50_regionconfusionmechanism\")\n",
    "ax1.yaxis.tick_right()\n",
    "ax2.yaxis.tick_left()\n",
    "\n",
    "h2, l2 = ax2.get_legend_handles_labels()\n",
    "ax1.legend(h2, l2, bbox_to_anchor=(0.85, 0.), loc='lower right', fontsize=10)\n",
    "\n",
    "ax1.set_xlabel(\"Insect_size order\")\n",
    "ax1.set_ylabel(\"Precision\")\n",
    "ax1.yaxis.set_label_coords(-0.15, 0.5)\n",
    "ax1.grid(False)\n",
    "ax2.set_ylabel(\"Population per order\")\n",
    "ax2.set_ylim(0., 1.01)\n",
    "ax2.yaxis.set_label_coords(1.15, 0.5)\n",
    "plt.savefig(\"/home/tanida/workspace/Insect_Phenology_Detector/result/classification/compare_augmentation/compare_precision_distrib_of_size.png\", bbox_inches=\"tight\")"
   ]
  }
 ],
 "metadata": {
  "kernelspec": {
   "display_name": "pytorch_040",
   "language": "python",
   "name": "pytorch_040"
  },
  "language_info": {
   "codemirror_mode": {
    "name": "ipython",
    "version": 3
   },
   "file_extension": ".py",
   "mimetype": "text/x-python",
   "name": "python",
   "nbconvert_exporter": "python",
   "pygments_lexer": "ipython3",
   "version": "3.7.4"
  }
 },
 "nbformat": 4,
 "nbformat_minor": 4
}
