{
 "cells": [
  {
   "cell_type": "code",
   "execution_count": 1,
   "metadata": {},
   "outputs": [],
   "source": [
    "import xml.etree.ElementTree as ET\n",
    "import cv2\n",
    "from PIL import Image\n",
    "import os\n",
    "from os import listdir as ld\n",
    "from os.path import join as pj\n",
    "from os import getcwd as cwd\n",
    "import numpy as np\n",
    "import pandas as pd\n",
    "from scipy import ndimage\n",
    "import h5py\n",
    "from scipy import sparse\n",
    "from tqdm import tqdm\n",
    "\n",
    "from IO.loader import parse_annotations, file_id\n",
    "from evaluation.classification.statistics import compute_anno_stats, compute_average_size, compute_size_correction\n",
    "from evaluation.classification.visualize import plot_size_of_anno, plot_size_by_class_of_anno\n",
    "from utils.crop import *\n",
    "from utils.annotate import *\n",
    "from IO.build_ds import build_classification_ds\n",
    "\n",
    "import matplotlib.pyplot as plt\n",
    "plt.style.use(\"dark_background\")\n",
    "%matplotlib inline"
   ]
  },
  {
   "cell_type": "raw",
   "metadata": {},
   "source": [
    "Number of annotated pictures = 73\n",
    "Number of annotations = 650\n",
    "Number of classes = 8 + 2 (medium_insect and small_insect)\n",
    "\n",
    "Average annotation per picture = 8.9\n",
    "Average size of the annotations = (73, 61) pixels \n",
    "\n",
    "Under-represented classes: Coleoptera(4), Hemiptera(4), Diptera(36)\n",
    "medium insect  =  6\n",
    "small insect   = 103\n",
    "Other classes, approx 100 = good\n",
    "\n",
    "# 9 are more than 150 on both H and W\n",
    "# 64 are more than 150 on either H or W"
   ]
  },
  {
   "cell_type": "markdown",
   "metadata": {},
   "source": [
    "# Load data"
   ]
  },
  {
   "cell_type": "code",
   "execution_count": 2,
   "metadata": {},
   "outputs": [],
   "source": [
    "root = \"/home/tanida/workspace/Insect_Phenology_Detector/data\"\n",
    "anno_folders = [\"annotations_0\",\"annotations_2\",\"annotations_3\",\"annotations_4\"]\n",
    "annos = []\n",
    "for anno_folder in anno_folders:\n",
    "    annos_name = ld(pj(root, anno_folder))\n",
    "    annos.extend([pj(root, anno_folder, x) for x in annos_name])\n",
    "imgs  = ld(pj(root, \"refined_images\"))\n",
    "imgs  = [pj(root, \"refined_images\", x) for x in imgs if x != \".ipynb_checkpoints\"]"
   ]
  },
  {
   "cell_type": "code",
   "execution_count": 3,
   "metadata": {},
   "outputs": [],
   "source": [
    "images = {file_id(im):np.array(Image.open(im)) for im in imgs}\n",
    "annotations = {idx: list(filter(lambda x:idx in x, annos)) for idx in images}\n",
    "annotations = {k:v for  k,v in annotations.items() if len(v)>0}\n",
    "\n",
    "anno = {}\n",
    "for k,v in annotations.items():\n",
    "    anno[k]=[]\n",
    "    for x in filter(lambda x:x.endswith(\".xml\"), v):\n",
    "        anno[k].extend(parse_annotations(x))"
   ]
  },
  {
   "cell_type": "markdown",
   "metadata": {},
   "source": [
    "# Make datasets"
   ]
  },
  {
   "cell_type": "code",
   "execution_count": 4,
   "metadata": {},
   "outputs": [
    {
     "name": "stderr",
     "output_type": "stream",
     "text": [
      "100%|██████████| 65/65 [18:38<00:00, 18.99s/it]\n"
     ]
    }
   ],
   "source": [
    "X,Y,sizes = build_classification_ds(anno, images, crop=crop_adjusted_std_resize, return_sizes=True)"
   ]
  },
  {
   "cell_type": "markdown",
   "metadata": {},
   "source": [
    "# Visualize intraclass size variance"
   ]
  },
  {
   "cell_type": "code",
   "execution_count": 51,
   "metadata": {},
   "outputs": [],
   "source": [
    "def get_statistics_all_insects(Y, sizes):\n",
    "    idx, count = np.unique(Y, return_counts=True)\n",
    "    size_mean = []\n",
    "    size_std = []\n",
    "    for i in idx:\n",
    "        lbl_filter = Y == i\n",
    "        filtered_Y = Y[lbl_filter]\n",
    "        filtered_sizes = sizes[lbl_filter]\n",
    "        size_mean.append(filtered_sizes.mean())\n",
    "        size_std.append(np.std(filtered_sizes))\n",
    "    return size_mean, size_std"
   ]
  },
  {
   "cell_type": "code",
   "execution_count": 52,
   "metadata": {},
   "outputs": [],
   "source": [
    "size_mean, size_std = get_statistics_all_insects(Y, sizes)"
   ]
  },
  {
   "cell_type": "code",
   "execution_count": 53,
   "metadata": {},
   "outputs": [],
   "source": [
    "cls_index = ['Coleoptera', 'Diptera', 'Ephemeridae', 'Ephemeroptera', 'Hemiptera', 'Lepidoptera', 'Plecoptera', 'Trichoptera', 'medium insect', 'small insect', 'snail', 'spider']"
   ]
  },
  {
   "cell_type": "code",
   "execution_count": 54,
   "metadata": {},
   "outputs": [],
   "source": [
    "cls_df = pd.DataFrame({\"count\": count, \"size_mean\": size_mean, \"size_std\": size_std}, index=cls_index)"
   ]
  },
  {
   "cell_type": "code",
   "execution_count": 55,
   "metadata": {},
   "outputs": [
    {
     "data": {
      "text/html": [
       "<div>\n",
       "<style scoped>\n",
       "    .dataframe tbody tr th:only-of-type {\n",
       "        vertical-align: middle;\n",
       "    }\n",
       "\n",
       "    .dataframe tbody tr th {\n",
       "        vertical-align: top;\n",
       "    }\n",
       "\n",
       "    .dataframe thead th {\n",
       "        text-align: right;\n",
       "    }\n",
       "</style>\n",
       "<table border=\"1\" class=\"dataframe\">\n",
       "  <thead>\n",
       "    <tr style=\"text-align: right;\">\n",
       "      <th></th>\n",
       "      <th>count</th>\n",
       "      <th>size_mean</th>\n",
       "      <th>size_std</th>\n",
       "    </tr>\n",
       "  </thead>\n",
       "  <tbody>\n",
       "    <tr>\n",
       "      <td>Coleoptera</td>\n",
       "      <td>30</td>\n",
       "      <td>2036.500000</td>\n",
       "      <td>1952.114354</td>\n",
       "    </tr>\n",
       "    <tr>\n",
       "      <td>Diptera</td>\n",
       "      <td>408</td>\n",
       "      <td>6350.215686</td>\n",
       "      <td>5171.425803</td>\n",
       "    </tr>\n",
       "    <tr>\n",
       "      <td>Ephemeridae</td>\n",
       "      <td>51</td>\n",
       "      <td>13069.333333</td>\n",
       "      <td>5057.934743</td>\n",
       "    </tr>\n",
       "    <tr>\n",
       "      <td>Ephemeroptera</td>\n",
       "      <td>178</td>\n",
       "      <td>3043.348315</td>\n",
       "      <td>5069.216379</td>\n",
       "    </tr>\n",
       "    <tr>\n",
       "      <td>Hemiptera</td>\n",
       "      <td>19</td>\n",
       "      <td>1005.526316</td>\n",
       "      <td>498.162663</td>\n",
       "    </tr>\n",
       "    <tr>\n",
       "      <td>Lepidoptera</td>\n",
       "      <td>267</td>\n",
       "      <td>9980.932584</td>\n",
       "      <td>10216.298719</td>\n",
       "    </tr>\n",
       "    <tr>\n",
       "      <td>Plecoptera</td>\n",
       "      <td>130</td>\n",
       "      <td>4068.161538</td>\n",
       "      <td>6544.920359</td>\n",
       "    </tr>\n",
       "    <tr>\n",
       "      <td>Trichoptera</td>\n",
       "      <td>248</td>\n",
       "      <td>3722.778226</td>\n",
       "      <td>2082.264777</td>\n",
       "    </tr>\n",
       "    <tr>\n",
       "      <td>medium insect</td>\n",
       "      <td>505</td>\n",
       "      <td>1031.544554</td>\n",
       "      <td>671.450066</td>\n",
       "    </tr>\n",
       "    <tr>\n",
       "      <td>small insect</td>\n",
       "      <td>1681</td>\n",
       "      <td>388.804878</td>\n",
       "      <td>211.339354</td>\n",
       "    </tr>\n",
       "    <tr>\n",
       "      <td>snail</td>\n",
       "      <td>1</td>\n",
       "      <td>784.000000</td>\n",
       "      <td>0.000000</td>\n",
       "    </tr>\n",
       "    <tr>\n",
       "      <td>spider</td>\n",
       "      <td>2</td>\n",
       "      <td>203486.000000</td>\n",
       "      <td>16118.000000</td>\n",
       "    </tr>\n",
       "  </tbody>\n",
       "</table>\n",
       "</div>"
      ],
      "text/plain": [
       "               count      size_mean      size_std\n",
       "Coleoptera        30    2036.500000   1952.114354\n",
       "Diptera          408    6350.215686   5171.425803\n",
       "Ephemeridae       51   13069.333333   5057.934743\n",
       "Ephemeroptera    178    3043.348315   5069.216379\n",
       "Hemiptera         19    1005.526316    498.162663\n",
       "Lepidoptera      267    9980.932584  10216.298719\n",
       "Plecoptera       130    4068.161538   6544.920359\n",
       "Trichoptera      248    3722.778226   2082.264777\n",
       "medium insect    505    1031.544554    671.450066\n",
       "small insect    1681     388.804878    211.339354\n",
       "snail              1     784.000000      0.000000\n",
       "spider             2  203486.000000  16118.000000"
      ]
     },
     "execution_count": 55,
     "metadata": {},
     "output_type": "execute_result"
    }
   ],
   "source": [
    "cls_df"
   ]
  },
  {
   "cell_type": "code",
   "execution_count": 64,
   "metadata": {},
   "outputs": [],
   "source": [
    "figure_root = pj(cwd(), \"figure/classification\", \"visualize_intraclass_size_variance\")\n",
    "if os.path.exists(figure_root) is False:\n",
    "    os.makedirs(figure_root)"
   ]
  },
  {
   "cell_type": "code",
   "execution_count": 66,
   "metadata": {},
   "outputs": [],
   "source": [
    "cls_df.to_csv(pj(figure_root, \"intraclass_size_variance.csv\"))"
   ]
  }
 ],
 "metadata": {
  "kernelspec": {
   "display_name": "pytorch_040",
   "language": "python",
   "name": "pytorch_040"
  },
  "language_info": {
   "codemirror_mode": {
    "name": "ipython",
    "version": 3
   },
   "file_extension": ".py",
   "mimetype": "text/x-python",
   "name": "python",
   "nbconvert_exporter": "python",
   "pygments_lexer": "ipython3",
   "version": "3.7.4"
  }
 },
 "nbformat": 4,
 "nbformat_minor": 4
}
