{
 "cells": [
  {
   "cell_type": "code",
   "execution_count": 1,
   "metadata": {},
   "outputs": [],
   "source": [
    "import os\n",
    "from os.path import join as pj\n",
    "import numpy as np\n",
    "import pandas as pd\n",
    "import matplotlib.pyplot as plt\n",
    "import h5py\n",
    "# Statistics\n",
    "from evaluation.classification.statistics import get_precisions, get_size_list_from_xte\n",
    "# Visualize\n",
    "from evaluation.classification.visualize import plot_df_distrib_size\n",
    "\n",
    "%matplotlib inline\n",
    "plt.style.use(\"ggplot\")"
   ]
  },
  {
   "cell_type": "markdown",
   "metadata": {},
   "source": [
    "### --- compare precision with population ---"
   ]
  },
  {
   "cell_type": "code",
   "execution_count": 2,
   "metadata": {},
   "outputs": [],
   "source": [
    "resnet50_not_pretrain = pd.read_csv('/home/tanida/workspace/Insect_Phenology_Detector/figure/classification/ResNet101/resnet50_b20_r45_lr1e-5_crossvalid_20200806_not_pretrain/validation_matrix.csv')\n",
    "resnet50 = pd.read_csv('/home/tanida/workspace/Insect_Phenology_Detector/figure/classification/ResNet101/resnet50_b20_r45_lr1e-5_crossvalid_20200806/validation_matrix.csv')\n",
    "resnet50_All = pd.read_csv('/home/tanida/workspace/Insect_Phenology_Detector/figure/classification/ResNet101/resnet50_b20_r45_lr1e-5_crossvalid_20200806_All/validation_matrix.csv')\n",
    "resnet50_All_uniform = pd.read_csv('/home/tanida/workspace/Insect_Phenology_Detector/figure/classification/ResNet101/resnet50_b20_r45_lr1e-5_crossvalid_20200806_All_uniform30/validation_matrix.csv')"
   ]
  },
  {
   "cell_type": "code",
   "execution_count": 3,
   "metadata": {},
   "outputs": [],
   "source": [
    "resnet50_not_pretrain_precisions = get_precisions(resnet50_not_pretrain)\n",
    "resnet50_precisions = get_precisions(resnet50)\n",
    "resnet50_All_precisions = get_precisions(resnet50_All)\n",
    "resnet50_All_uniform_precisions = get_precisions(resnet50_All_uniform)"
   ]
  },
  {
   "cell_type": "code",
   "execution_count": 4,
   "metadata": {},
   "outputs": [],
   "source": [
    "exp_name = [\"resnet50_not_pretrain\", \"resnet50\", \"resnet50_All\", \"resnet50_All_uniform\"]\n",
    "exp_ap = [resnet50_not_pretrain_precisions.mean(), resnet50_precisions.mean(), resnet50_All_precisions.mean(), resnet50_All_uniform_precisions.mean()]"
   ]
  },
  {
   "cell_type": "code",
   "execution_count": 5,
   "metadata": {},
   "outputs": [
    {
     "data": {
      "text/html": [
       "<div>\n",
       "<style scoped>\n",
       "    .dataframe tbody tr th:only-of-type {\n",
       "        vertical-align: middle;\n",
       "    }\n",
       "\n",
       "    .dataframe tbody tr th {\n",
       "        vertical-align: top;\n",
       "    }\n",
       "\n",
       "    .dataframe thead th {\n",
       "        text-align: right;\n",
       "    }\n",
       "</style>\n",
       "<table border=\"1\" class=\"dataframe\">\n",
       "  <thead>\n",
       "    <tr style=\"text-align: right;\">\n",
       "      <th></th>\n",
       "      <th>exp_ap</th>\n",
       "    </tr>\n",
       "  </thead>\n",
       "  <tbody>\n",
       "    <tr>\n",
       "      <td>resnet50_not_pretrain</td>\n",
       "      <td>0.501364</td>\n",
       "    </tr>\n",
       "    <tr>\n",
       "      <td>resnet50</td>\n",
       "      <td>0.820474</td>\n",
       "    </tr>\n",
       "    <tr>\n",
       "      <td>resnet50_All</td>\n",
       "      <td>0.860293</td>\n",
       "    </tr>\n",
       "    <tr>\n",
       "      <td>resnet50_All_uniform</td>\n",
       "      <td>0.876958</td>\n",
       "    </tr>\n",
       "  </tbody>\n",
       "</table>\n",
       "</div>"
      ],
      "text/plain": [
       "                         exp_ap\n",
       "resnet50_not_pretrain  0.501364\n",
       "resnet50               0.820474\n",
       "resnet50_All           0.860293\n",
       "resnet50_All_uniform   0.876958"
      ]
     },
     "execution_count": 5,
     "metadata": {},
     "output_type": "execute_result"
    }
   ],
   "source": [
    "df = pd.DataFrame({\"exp_ap\": exp_ap})\n",
    "df.index = exp_name\n",
    "df"
   ]
  },
  {
   "cell_type": "code",
   "execution_count": 6,
   "metadata": {},
   "outputs": [],
   "source": [
    "insect_names = ['Diptera', 'Ephemeridae', 'Ephemeroptera', 'Lepidoptera', 'Plecoptera', 'Trichoptera']"
   ]
  },
  {
   "cell_type": "code",
   "execution_count": 7,
   "metadata": {},
   "outputs": [
    {
     "data": {
      "text/html": [
       "<div>\n",
       "<style scoped>\n",
       "    .dataframe tbody tr th:only-of-type {\n",
       "        vertical-align: middle;\n",
       "    }\n",
       "\n",
       "    .dataframe tbody tr th {\n",
       "        vertical-align: top;\n",
       "    }\n",
       "\n",
       "    .dataframe thead th {\n",
       "        text-align: right;\n",
       "    }\n",
       "</style>\n",
       "<table border=\"1\" class=\"dataframe\">\n",
       "  <thead>\n",
       "    <tr style=\"text-align: right;\">\n",
       "      <th></th>\n",
       "      <th>resnet50_not_pretrain</th>\n",
       "      <th>resnet50</th>\n",
       "      <th>resnet50_All</th>\n",
       "      <th>resnet50_All_uniform</th>\n",
       "    </tr>\n",
       "  </thead>\n",
       "  <tbody>\n",
       "    <tr>\n",
       "      <td>Diptera</td>\n",
       "      <td>0.665347</td>\n",
       "      <td>0.885149</td>\n",
       "      <td>0.924752</td>\n",
       "      <td>0.922772</td>\n",
       "    </tr>\n",
       "    <tr>\n",
       "      <td>Ephemeridae</td>\n",
       "      <td>0.580420</td>\n",
       "      <td>0.853147</td>\n",
       "      <td>0.923077</td>\n",
       "      <td>0.902098</td>\n",
       "    </tr>\n",
       "    <tr>\n",
       "      <td>Ephemeroptera</td>\n",
       "      <td>0.266212</td>\n",
       "      <td>0.634812</td>\n",
       "      <td>0.675768</td>\n",
       "      <td>0.784983</td>\n",
       "    </tr>\n",
       "    <tr>\n",
       "      <td>Lepidoptera</td>\n",
       "      <td>0.757002</td>\n",
       "      <td>0.923394</td>\n",
       "      <td>0.937397</td>\n",
       "      <td>0.943987</td>\n",
       "    </tr>\n",
       "    <tr>\n",
       "      <td>Plecoptera</td>\n",
       "      <td>0.385396</td>\n",
       "      <td>0.803245</td>\n",
       "      <td>0.858012</td>\n",
       "      <td>0.882353</td>\n",
       "    </tr>\n",
       "    <tr>\n",
       "      <td>Trichoptera</td>\n",
       "      <td>0.353808</td>\n",
       "      <td>0.823096</td>\n",
       "      <td>0.842752</td>\n",
       "      <td>0.825553</td>\n",
       "    </tr>\n",
       "  </tbody>\n",
       "</table>\n",
       "</div>"
      ],
      "text/plain": [
       "               resnet50_not_pretrain  resnet50  resnet50_All  \\\n",
       "Diptera                     0.665347  0.885149      0.924752   \n",
       "Ephemeridae                 0.580420  0.853147      0.923077   \n",
       "Ephemeroptera               0.266212  0.634812      0.675768   \n",
       "Lepidoptera                 0.757002  0.923394      0.937397   \n",
       "Plecoptera                  0.385396  0.803245      0.858012   \n",
       "Trichoptera                 0.353808  0.823096      0.842752   \n",
       "\n",
       "               resnet50_All_uniform  \n",
       "Diptera                    0.922772  \n",
       "Ephemeridae                0.902098  \n",
       "Ephemeroptera              0.784983  \n",
       "Lepidoptera                0.943987  \n",
       "Plecoptera                 0.882353  \n",
       "Trichoptera                0.825553  "
      ]
     },
     "execution_count": 7,
     "metadata": {},
     "output_type": "execute_result"
    }
   ],
   "source": [
    "df_per_label = pd.DataFrame({\"resnet50_not_pretrain\": resnet50_not_pretrain_precisions, \"resnet50\": resnet50_precisions, \"resnet50_All\": resnet50_All_precisions, \"resnet50_All_uniform\": resnet50_All_uniform_precisions})\n",
    "df_per_label.index = insect_names\n",
    "df_per_label"
   ]
  },
  {
   "cell_type": "code",
   "execution_count": 8,
   "metadata": {},
   "outputs": [
    {
     "data": {
      "image/png": "[encoded data removed]",
      "text/plain": [
       "<Figure size 432x288 with 1 Axes>"
      ]
     },
     "metadata": {
      "needs_background": "light"
     },
     "output_type": "display_data"
    }
   ],
   "source": [
    "plt.rcParams[\"font.size\"] = 14\n",
    "df_per_label.plot(kind=\"bar\", y=[\"resnet50_not_pretrain\", \"resnet50\", \"resnet50_All\", \"resnet50_All_uniform\"], cmap=\"rainbow\")\n",
    "plt.ylabel(\"Precision\")\n",
    "plt.legend(bbox_to_anchor=(1.05, 1), loc='upper left', fontsize=12)\n",
    "plt.savefig(\"/home/tanida/workspace/Insect_Phenology_Detector/result/classification/compare_best_model/compare_precision_resnet50.png\", bbox_inches=\"tight\")"
   ]
  },
  {
   "cell_type": "markdown",
   "metadata": {},
   "source": [
    "### --- compare accuracy distribution of size ---"
   ]
  },
  {
   "cell_type": "code",
   "execution_count": 9,
   "metadata": {},
   "outputs": [],
   "source": [
    "cls_each_size_df = pd.read_csv('/home/tanida/workspace/Insect_Phenology_Detector/figure/classification/ResNet101/resnet50_b20_r45_lr1e-5_crossvalid_20200806/each_size_df.csv')\n",
    "cls_each_size_df[\"order\"] = cls_each_size_df[\"Insect_size\"].apply(lambda x: np.floor(np.log2(x)))\n",
    "insect_size = np.asarray(cls_each_size_df[\"order\"])\n",
    "idx, count = np.unique(insect_size, return_counts=True)\n",
    "insect_size_df = pd.DataFrame({\"order\": idx, \"count\": count})\n",
    "insect_size_df = insect_size_df.drop(insect_size_df.index[[0, 1]])"
   ]
  },
  {
   "cell_type": "code",
   "execution_count": 10,
   "metadata": {},
   "outputs": [],
   "source": [
    "resnet50_not_pretrain = pd.read_csv('/home/tanida/workspace/Insect_Phenology_Detector/figure/classification/ResNet101/resnet50_b20_r45_lr1e-5_crossvalid_20200806_not_pretrain/all_size_df.csv')\n",
    "resnet50 = pd.read_csv('/home/tanida/workspace/Insect_Phenology_Detector/figure/classification/ResNet101/resnet50_b20_r45_lr1e-5_crossvalid_20200806/all_size_df.csv')\n",
    "resnet50_All = pd.read_csv('/home/tanida/workspace/Insect_Phenology_Detector/figure/classification/ResNet101/resnet50_b20_r45_lr1e-5_crossvalid_20200806_All/all_size_df.csv')\n",
    "resnet50_All_uniform = pd.read_csv('/home/tanida/workspace/Insect_Phenology_Detector/figure/classification/ResNet101/resnet50_b20_r45_lr1e-5_crossvalid_20200806_All_uniform30/all_size_df.csv')"
   ]
  },
  {
   "cell_type": "code",
   "execution_count": 11,
   "metadata": {},
   "outputs": [],
   "source": [
    "resnet50_not_pretrain = resnet50_not_pretrain.drop(resnet50_not_pretrain.index[[0, 1]])\n",
    "resnet50 = resnet50.drop(resnet50.index[[0, 1]])\n",
    "resnet50_All = resnet50_All.drop(resnet50_All.index[[0, 1]])\n",
    "resnet50_All_uniform = resnet50_All_uniform.drop(resnet50_All_uniform.index[[0, 1]])"
   ]
  },
  {
   "cell_type": "code",
   "execution_count": 12,
   "metadata": {},
   "outputs": [
    {
     "data": {
      "text/html": [
       "<div>\n",
       "<style scoped>\n",
       "    .dataframe tbody tr th:only-of-type {\n",
       "        vertical-align: middle;\n",
       "    }\n",
       "\n",
       "    .dataframe tbody tr th {\n",
       "        vertical-align: top;\n",
       "    }\n",
       "\n",
       "    .dataframe thead th {\n",
       "        text-align: right;\n",
       "    }\n",
       "</style>\n",
       "<table border=\"1\" class=\"dataframe\">\n",
       "  <thead>\n",
       "    <tr style=\"text-align: right;\">\n",
       "      <th></th>\n",
       "      <th>order</th>\n",
       "      <th>count</th>\n",
       "      <th>Insect_size</th>\n",
       "    </tr>\n",
       "  </thead>\n",
       "  <tbody>\n",
       "    <tr>\n",
       "      <td>2</td>\n",
       "      <td>7.0</td>\n",
       "      <td>12</td>\n",
       "      <td>205.833333</td>\n",
       "    </tr>\n",
       "    <tr>\n",
       "      <td>3</td>\n",
       "      <td>8.0</td>\n",
       "      <td>51</td>\n",
       "      <td>395.039216</td>\n",
       "    </tr>\n",
       "    <tr>\n",
       "      <td>4</td>\n",
       "      <td>9.0</td>\n",
       "      <td>131</td>\n",
       "      <td>776.328244</td>\n",
       "    </tr>\n",
       "    <tr>\n",
       "      <td>5</td>\n",
       "      <td>10.0</td>\n",
       "      <td>403</td>\n",
       "      <td>1572.317618</td>\n",
       "    </tr>\n",
       "    <tr>\n",
       "      <td>6</td>\n",
       "      <td>11.0</td>\n",
       "      <td>1004</td>\n",
       "      <td>2982.721116</td>\n",
       "    </tr>\n",
       "    <tr>\n",
       "      <td>7</td>\n",
       "      <td>12.0</td>\n",
       "      <td>740</td>\n",
       "      <td>5730.868919</td>\n",
       "    </tr>\n",
       "    <tr>\n",
       "      <td>8</td>\n",
       "      <td>13.0</td>\n",
       "      <td>431</td>\n",
       "      <td>11417.570766</td>\n",
       "    </tr>\n",
       "    <tr>\n",
       "      <td>9</td>\n",
       "      <td>14.0</td>\n",
       "      <td>260</td>\n",
       "      <td>23926.192308</td>\n",
       "    </tr>\n",
       "    <tr>\n",
       "      <td>10</td>\n",
       "      <td>15.0</td>\n",
       "      <td>21</td>\n",
       "      <td>35455.380952</td>\n",
       "    </tr>\n",
       "  </tbody>\n",
       "</table>\n",
       "</div>"
      ],
      "text/plain": [
       "    order  count   Insect_size\n",
       "2     7.0     12    205.833333\n",
       "3     8.0     51    395.039216\n",
       "4     9.0    131    776.328244\n",
       "5    10.0    403   1572.317618\n",
       "6    11.0   1004   2982.721116\n",
       "7    12.0    740   5730.868919\n",
       "8    13.0    431  11417.570766\n",
       "9    14.0    260  23926.192308\n",
       "10   15.0     21  35455.380952"
      ]
     },
     "execution_count": 12,
     "metadata": {},
     "output_type": "execute_result"
    }
   ],
   "source": [
    "insect_size_df[\"Insect_size\"] = resnet50[\"Insect_size\"]\n",
    "insect_size_df"
   ]
  },
  {
   "cell_type": "code",
   "execution_count": 13,
   "metadata": {},
   "outputs": [
    {
     "data": {
      "text/html": [
       "<div>\n",
       "<style scoped>\n",
       "    .dataframe tbody tr th:only-of-type {\n",
       "        vertical-align: middle;\n",
       "    }\n",
       "\n",
       "    .dataframe tbody tr th {\n",
       "        vertical-align: top;\n",
       "    }\n",
       "\n",
       "    .dataframe thead th {\n",
       "        text-align: right;\n",
       "    }\n",
       "</style>\n",
       "<table border=\"1\" class=\"dataframe\">\n",
       "  <thead>\n",
       "    <tr style=\"text-align: right;\">\n",
       "      <th></th>\n",
       "      <th>order</th>\n",
       "      <th>count</th>\n",
       "      <th>resnet50_not_pretrain</th>\n",
       "      <th>resnet50</th>\n",
       "      <th>resnet50_All</th>\n",
       "      <th>resnet50_All_uniform</th>\n",
       "    </tr>\n",
       "  </thead>\n",
       "  <tbody>\n",
       "    <tr>\n",
       "      <td>2</td>\n",
       "      <td>7.0</td>\n",
       "      <td>12</td>\n",
       "      <td>1.000000</td>\n",
       "      <td>1.000000</td>\n",
       "      <td>1.000000</td>\n",
       "      <td>1.000000</td>\n",
       "    </tr>\n",
       "    <tr>\n",
       "      <td>3</td>\n",
       "      <td>8.0</td>\n",
       "      <td>51</td>\n",
       "      <td>0.705882</td>\n",
       "      <td>0.862745</td>\n",
       "      <td>0.882353</td>\n",
       "      <td>0.843137</td>\n",
       "    </tr>\n",
       "    <tr>\n",
       "      <td>4</td>\n",
       "      <td>9.0</td>\n",
       "      <td>131</td>\n",
       "      <td>0.419847</td>\n",
       "      <td>0.702290</td>\n",
       "      <td>0.770992</td>\n",
       "      <td>0.793893</td>\n",
       "    </tr>\n",
       "    <tr>\n",
       "      <td>5</td>\n",
       "      <td>10.0</td>\n",
       "      <td>403</td>\n",
       "      <td>0.325062</td>\n",
       "      <td>0.746898</td>\n",
       "      <td>0.774194</td>\n",
       "      <td>0.796526</td>\n",
       "    </tr>\n",
       "    <tr>\n",
       "      <td>6</td>\n",
       "      <td>11.0</td>\n",
       "      <td>1004</td>\n",
       "      <td>0.466135</td>\n",
       "      <td>0.823705</td>\n",
       "      <td>0.848606</td>\n",
       "      <td>0.883466</td>\n",
       "    </tr>\n",
       "    <tr>\n",
       "      <td>7</td>\n",
       "      <td>12.0</td>\n",
       "      <td>740</td>\n",
       "      <td>0.662162</td>\n",
       "      <td>0.905405</td>\n",
       "      <td>0.936486</td>\n",
       "      <td>0.927027</td>\n",
       "    </tr>\n",
       "    <tr>\n",
       "      <td>8</td>\n",
       "      <td>13.0</td>\n",
       "      <td>431</td>\n",
       "      <td>0.733179</td>\n",
       "      <td>0.918794</td>\n",
       "      <td>0.960557</td>\n",
       "      <td>0.962877</td>\n",
       "    </tr>\n",
       "    <tr>\n",
       "      <td>9</td>\n",
       "      <td>14.0</td>\n",
       "      <td>260</td>\n",
       "      <td>0.865385</td>\n",
       "      <td>0.953846</td>\n",
       "      <td>0.973077</td>\n",
       "      <td>0.976923</td>\n",
       "    </tr>\n",
       "    <tr>\n",
       "      <td>10</td>\n",
       "      <td>15.0</td>\n",
       "      <td>21</td>\n",
       "      <td>0.809524</td>\n",
       "      <td>0.809524</td>\n",
       "      <td>0.904762</td>\n",
       "      <td>0.952381</td>\n",
       "    </tr>\n",
       "  </tbody>\n",
       "</table>\n",
       "</div>"
      ],
      "text/plain": [
       "    order  count  resnet50_not_pretrain  resnet50  resnet50_All  \\\n",
       "2     7.0     12               1.000000  1.000000      1.000000   \n",
       "3     8.0     51               0.705882  0.862745      0.882353   \n",
       "4     9.0    131               0.419847  0.702290      0.770992   \n",
       "5    10.0    403               0.325062  0.746898      0.774194   \n",
       "6    11.0   1004               0.466135  0.823705      0.848606   \n",
       "7    12.0    740               0.662162  0.905405      0.936486   \n",
       "8    13.0    431               0.733179  0.918794      0.960557   \n",
       "9    14.0    260               0.865385  0.953846      0.973077   \n",
       "10   15.0     21               0.809524  0.809524      0.904762   \n",
       "\n",
       "    resnet50_All_uniform  \n",
       "2               1.000000  \n",
       "3               0.843137  \n",
       "4               0.793893  \n",
       "5               0.796526  \n",
       "6               0.883466  \n",
       "7               0.927027  \n",
       "8               0.962877  \n",
       "9               0.976923  \n",
       "10              0.952381  "
      ]
     },
     "execution_count": 13,
     "metadata": {},
     "output_type": "execute_result"
    }
   ],
   "source": [
    "all_df = pd.DataFrame()\n",
    "all_df[\"order\"] = insect_size_df[\"order\"]\n",
    "all_df[\"count\"] = insect_size_df[\"count\"]\n",
    "all_df[\"resnet50_not_pretrain\"] = resnet50_not_pretrain[\"Accuracy\"]\n",
    "all_df[\"resnet50\"] = resnet50[\"Accuracy\"]\n",
    "all_df[\"resnet50_All\"] = resnet50_All[\"Accuracy\"]\n",
    "all_df[\"resnet50_All_uniform\"] = resnet50_All_uniform[\"Accuracy\"]\n",
    "all_df"
   ]
  },
  {
   "cell_type": "code",
   "execution_count": 14,
   "metadata": {},
   "outputs": [
    {
     "data": {
      "image/png": "[encoded data removed]",
      "text/plain": [
       "<Figure size 360x288 with 2 Axes>"
      ]
     },
     "metadata": {
      "needs_background": "light"
     },
     "output_type": "display_data"
    }
   ],
   "source": [
    "plt.rcParams[\"font.size\"] = 14\n",
    "fig, ax1 = plt.subplots(figsize=(5,4))\n",
    "ax2 = ax1.twinx()\n",
    "\n",
    "x_label = [\"7.0\", \"8.0\", \"9.0\", \"10.0\", \"11.0\", \"12.0\", \"13.0\", \"14.0\", \"15.0\"]\n",
    "\n",
    "ax1.bar(x_label, all_df[\"count\"], width=0.3, color=\"g\")\n",
    "ax2.plot(x_label, all_df[\"resnet50_not_pretrain\"], label=\"resnet50_not_pretrain\")\n",
    "ax2.plot(x_label, all_df[\"resnet50\"], label=\"resnet50\")\n",
    "ax2.plot(x_label, all_df[\"resnet50_All\"], label=\"resnet50_All\")\n",
    "ax2.plot(x_label, all_df[\"resnet50_All_uniform\"], label=\"resnet50_All_uniform\")\n",
    "ax1.yaxis.tick_right()\n",
    "ax2.yaxis.tick_left()\n",
    "\n",
    "h2, l2 = ax2.get_legend_handles_labels()\n",
    "ax1.legend(h2, l2, bbox_to_anchor=(0.85, 0.), loc='lower right', fontsize=10)\n",
    "\n",
    "ax1.set_xlabel(\"Insect_size order\")\n",
    "ax1.set_ylabel(\"Precision\")\n",
    "ax1.yaxis.set_label_coords(-0.15, 0.5)\n",
    "ax1.grid(False)\n",
    "ax2.set_ylabel(\"Population per order\")\n",
    "ax2.set_ylim(0., 1.01)\n",
    "ax2.yaxis.set_label_coords(1.15, 0.5)\n",
    "plt.savefig(\"/home/tanida/workspace/Insect_Phenology_Detector/result/classification/compare_best_model/compare_precision_distrib_of_size.png\", bbox_inches=\"tight\")"
   ]
  }
 ],
 "metadata": {
  "kernelspec": {
   "display_name": "pytorch_040",
   "language": "python",
   "name": "pytorch_040"
  },
  "language_info": {
   "codemirror_mode": {
    "name": "ipython",
    "version": 3
   },
   "file_extension": ".py",
   "mimetype": "text/x-python",
   "name": "python",
   "nbconvert_exporter": "python",
   "pygments_lexer": "ipython3",
   "version": "3.7.4"
  }
 },
 "nbformat": 4,
 "nbformat_minor": 4
}
