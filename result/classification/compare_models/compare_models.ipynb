{
 "cells": [
  {
   "cell_type": "code",
   "execution_count": 1,
   "metadata": {},
   "outputs": [],
   "source": [
    "import os\n",
    "from os.path import join as pj\n",
    "import numpy as np\n",
    "import pandas as pd\n",
    "import matplotlib.pyplot as plt\n",
    "# Visualize\n",
    "from evaluation.classification.visualize import plot_df_distrib_size\n",
    "plt.style.use(\"ggplot\")\n",
    "%matplotlib inline"
   ]
  },
  {
   "cell_type": "markdown",
   "metadata": {},
   "source": [
    "### --- compare precision ---"
   ]
  },
  {
   "cell_type": "code",
   "execution_count": 2,
   "metadata": {},
   "outputs": [],
   "source": [
    "resnet18_not_pretrained = pd.read_csv('/home/tanida/workspace/Insect_Phenology_Detector/figure/classification/ResNet101/resnet18_b20_r45_lr1e-5_crossvalid_not_pretrain/validation_matrix.csv')\n",
    "resnet18_pretrained = pd.read_csv('/home/tanida/workspace/Insect_Phenology_Detector/figure/classification/ResNet101/resnet18_b20_r45_lr1e-5_crossvalid/validation_matrix.csv')\n",
    "resnet34_not_pretrained = pd.read_csv('/home/tanida/workspace/Insect_Phenology_Detector/figure/classification/ResNet101/resnet34_b20_r45_lr1e-5_crossvalid_not_pretrain/validation_matrix.csv')\n",
    "resnet34_pretrained = pd.read_csv('/home/tanida/workspace/Insect_Phenology_Detector/figure/classification/ResNet101/resnet34_b20_r45_lr1e-5_crossvalid/validation_matrix.csv')\n",
    "resnet50_not_pretrained = pd.read_csv('/home/tanida/workspace/Insect_Phenology_Detector/figure/classification/ResNet101/resnet50_b20_r45_lr1e-5_crossvalid_not_pretrain/validation_matrix.csv')\n",
    "resnet50_pretrained = pd.read_csv('/home/tanida/workspace/Insect_Phenology_Detector/figure/classification/ResNet101/resnet50_b20_r45_lr1e-5_crossvalid/validation_matrix.csv')\n",
    "resnet101_not_pretrained = pd.read_csv('/home/tanida/workspace/Insect_Phenology_Detector/figure/classification/ResNet101/resnet101_b20_r45_lr1e-5_crossvalid_not_pretrain/validation_matrix.csv')\n",
    "resnet101_pretrained = pd.read_csv('/home/tanida/workspace/Insect_Phenology_Detector/figure/classification/ResNet101/resnet101_b20_r45_lr1e-5_crossvalid/validation_matrix.csv')"
   ]
  },
  {
   "cell_type": "code",
   "execution_count": 3,
   "metadata": {},
   "outputs": [],
   "source": [
    "def get_precisions(df):\n",
    "    precisions = []\n",
    "    for i in range(len(df)):\n",
    "        val_count_per_label = df[i:i+1]\n",
    "        index = val_count_per_label.columns[1:]\n",
    "        val_count_per_label = [int(val_count_per_label[idx]) for idx in index]\n",
    "        precision = val_count_per_label[i]/sum(val_count_per_label)\n",
    "        precisions.append(precision)\n",
    "    return np.asarray(precisions)"
   ]
  },
  {
   "cell_type": "code",
   "execution_count": 4,
   "metadata": {},
   "outputs": [],
   "source": [
    "resnet18_not_pretrained_precisions = get_precisions(resnet18_not_pretrained)\n",
    "resnet18_pretrained_precisions = get_precisions(resnet18_pretrained)\n",
    "resnet34_not_pretrained_precisions = get_precisions(resnet34_not_pretrained)\n",
    "resnet34_pretrained_precisions = get_precisions(resnet34_pretrained)\n",
    "resnet50_not_pretrained_precisions = get_precisions(resnet50_not_pretrained)\n",
    "resnet50_pretrained_precisions = get_precisions(resnet50_pretrained)\n",
    "resnet101_not_pretrained_precisions = get_precisions(resnet101_not_pretrained)\n",
    "resnet101_pretrained_precisions = get_precisions(resnet101_pretrained)"
   ]
  },
  {
   "cell_type": "code",
   "execution_count": 5,
   "metadata": {},
   "outputs": [],
   "source": [
    "exp_name = [\"resnet18_not_pretrained\", \"resnet34_not_pretrained\", \"resnet50_not_pretrained\", \"resnet101_not_pretrained\",\n",
    "           \"resnet18_pretrained\", \"resnet34_pretrained\", \"resnet50_pretrained\", \"resnet101_pretrained\"]\n",
    "exp_ap = [resnet18_not_pretrained_precisions.mean(), resnet34_not_pretrained_precisions.mean(), resnet50_not_pretrained_precisions.mean(), resnet101_not_pretrained_precisions.mean(),\n",
    "         resnet18_pretrained_precisions.mean(), resnet34_pretrained_precisions.mean(), resnet50_pretrained_precisions.mean(), resnet101_pretrained_precisions.mean()]"
   ]
  },
  {
   "cell_type": "code",
   "execution_count": 6,
   "metadata": {},
   "outputs": [
    {
     "data": {
      "text/html": [
       "<div>\n",
       "<style scoped>\n",
       "    .dataframe tbody tr th:only-of-type {\n",
       "        vertical-align: middle;\n",
       "    }\n",
       "\n",
       "    .dataframe tbody tr th {\n",
       "        vertical-align: top;\n",
       "    }\n",
       "\n",
       "    .dataframe thead th {\n",
       "        text-align: right;\n",
       "    }\n",
       "</style>\n",
       "<table border=\"1\" class=\"dataframe\">\n",
       "  <thead>\n",
       "    <tr style=\"text-align: right;\">\n",
       "      <th></th>\n",
       "      <th>exp_name</th>\n",
       "      <th>exp_ap</th>\n",
       "    </tr>\n",
       "  </thead>\n",
       "  <tbody>\n",
       "    <tr>\n",
       "      <td>0</td>\n",
       "      <td>resnet18_not_pretrained</td>\n",
       "      <td>0.522186</td>\n",
       "    </tr>\n",
       "    <tr>\n",
       "      <td>1</td>\n",
       "      <td>resnet34_not_pretrained</td>\n",
       "      <td>0.496959</td>\n",
       "    </tr>\n",
       "    <tr>\n",
       "      <td>2</td>\n",
       "      <td>resnet50_not_pretrained</td>\n",
       "      <td>0.506048</td>\n",
       "    </tr>\n",
       "    <tr>\n",
       "      <td>3</td>\n",
       "      <td>resnet101_not_pretrained</td>\n",
       "      <td>0.527206</td>\n",
       "    </tr>\n",
       "    <tr>\n",
       "      <td>4</td>\n",
       "      <td>resnet18_pretrained</td>\n",
       "      <td>0.840387</td>\n",
       "    </tr>\n",
       "    <tr>\n",
       "      <td>5</td>\n",
       "      <td>resnet34_pretrained</td>\n",
       "      <td>0.856117</td>\n",
       "    </tr>\n",
       "    <tr>\n",
       "      <td>6</td>\n",
       "      <td>resnet50_pretrained</td>\n",
       "      <td>0.877763</td>\n",
       "    </tr>\n",
       "    <tr>\n",
       "      <td>7</td>\n",
       "      <td>resnet101_pretrained</td>\n",
       "      <td>0.874505</td>\n",
       "    </tr>\n",
       "  </tbody>\n",
       "</table>\n",
       "</div>"
      ],
      "text/plain": [
       "                   exp_name    exp_ap\n",
       "0   resnet18_not_pretrained  0.522186\n",
       "1   resnet34_not_pretrained  0.496959\n",
       "2   resnet50_not_pretrained  0.506048\n",
       "3  resnet101_not_pretrained  0.527206\n",
       "4       resnet18_pretrained  0.840387\n",
       "5       resnet34_pretrained  0.856117\n",
       "6       resnet50_pretrained  0.877763\n",
       "7      resnet101_pretrained  0.874505"
      ]
     },
     "execution_count": 6,
     "metadata": {},
     "output_type": "execute_result"
    }
   ],
   "source": [
    "df = pd.DataFrame({\"exp_name\": exp_name, \"exp_ap\": exp_ap})\n",
    "df"
   ]
  },
  {
   "cell_type": "code",
   "execution_count": 7,
   "metadata": {},
   "outputs": [],
   "source": [
    "df_per_label = pd.DataFrame({\"resnet18_not_pretrained\": resnet18_not_pretrained_precisions, \"resnet18_pretrained\": resnet18_pretrained_precisions,\n",
    "               \"resnet34_not_pretrained\": resnet34_not_pretrained_precisions, \"resnet34_pretrained\": resnet34_pretrained_precisions,\n",
    "               \"resnet50_not_pretrained\": resnet50_not_pretrained_precisions, \"resnet50_pretrained\": resnet50_pretrained_precisions,\n",
    "               \"resnet101_not_pretrained\": resnet101_not_pretrained_precisions, \"resnet101_pretrained\": resnet101_pretrained_precisions})\n",
    "df_per_label['Name'] = ['Diptera', 'Ephemeridae', 'Ephemeroptera', 'Lepidoptera', 'Plecoptera', 'Trichoptera']"
   ]
  },
  {
   "cell_type": "code",
   "execution_count": 8,
   "metadata": {},
   "outputs": [
    {
     "data": {
      "text/html": [
       "<div>\n",
       "<style scoped>\n",
       "    .dataframe tbody tr th:only-of-type {\n",
       "        vertical-align: middle;\n",
       "    }\n",
       "\n",
       "    .dataframe tbody tr th {\n",
       "        vertical-align: top;\n",
       "    }\n",
       "\n",
       "    .dataframe thead th {\n",
       "        text-align: right;\n",
       "    }\n",
       "</style>\n",
       "<table border=\"1\" class=\"dataframe\">\n",
       "  <thead>\n",
       "    <tr style=\"text-align: right;\">\n",
       "      <th></th>\n",
       "      <th>resnet18_not_pretrained</th>\n",
       "      <th>resnet18_pretrained</th>\n",
       "      <th>resnet34_not_pretrained</th>\n",
       "      <th>resnet34_pretrained</th>\n",
       "      <th>resnet50_not_pretrained</th>\n",
       "      <th>resnet50_pretrained</th>\n",
       "      <th>resnet101_not_pretrained</th>\n",
       "      <th>resnet101_pretrained</th>\n",
       "      <th>Name</th>\n",
       "    </tr>\n",
       "  </thead>\n",
       "  <tbody>\n",
       "    <tr>\n",
       "      <td>0</td>\n",
       "      <td>0.794749</td>\n",
       "      <td>0.935561</td>\n",
       "      <td>0.761337</td>\n",
       "      <td>0.930788</td>\n",
       "      <td>0.744630</td>\n",
       "      <td>0.933174</td>\n",
       "      <td>0.754177</td>\n",
       "      <td>0.926014</td>\n",
       "      <td>Diptera</td>\n",
       "    </tr>\n",
       "    <tr>\n",
       "      <td>1</td>\n",
       "      <td>0.411765</td>\n",
       "      <td>0.921569</td>\n",
       "      <td>0.431373</td>\n",
       "      <td>0.882353</td>\n",
       "      <td>0.529412</td>\n",
       "      <td>0.960784</td>\n",
       "      <td>0.666667</td>\n",
       "      <td>0.921569</td>\n",
       "      <td>Ephemeridae</td>\n",
       "    </tr>\n",
       "    <tr>\n",
       "      <td>2</td>\n",
       "      <td>0.440000</td>\n",
       "      <td>0.640000</td>\n",
       "      <td>0.425000</td>\n",
       "      <td>0.760000</td>\n",
       "      <td>0.405000</td>\n",
       "      <td>0.770000</td>\n",
       "      <td>0.355000</td>\n",
       "      <td>0.745000</td>\n",
       "      <td>Ephemeroptera</td>\n",
       "    </tr>\n",
       "    <tr>\n",
       "      <td>3</td>\n",
       "      <td>0.655556</td>\n",
       "      <td>0.900000</td>\n",
       "      <td>0.677778</td>\n",
       "      <td>0.866667</td>\n",
       "      <td>0.588889</td>\n",
       "      <td>0.885185</td>\n",
       "      <td>0.581481</td>\n",
       "      <td>0.903704</td>\n",
       "      <td>Lepidoptera</td>\n",
       "    </tr>\n",
       "    <tr>\n",
       "      <td>4</td>\n",
       "      <td>0.291045</td>\n",
       "      <td>0.761194</td>\n",
       "      <td>0.246269</td>\n",
       "      <td>0.820896</td>\n",
       "      <td>0.328358</td>\n",
       "      <td>0.813433</td>\n",
       "      <td>0.417910</td>\n",
       "      <td>0.850746</td>\n",
       "      <td>Plecoptera</td>\n",
       "    </tr>\n",
       "    <tr>\n",
       "      <td>5</td>\n",
       "      <td>0.540000</td>\n",
       "      <td>0.884000</td>\n",
       "      <td>0.440000</td>\n",
       "      <td>0.876000</td>\n",
       "      <td>0.440000</td>\n",
       "      <td>0.904000</td>\n",
       "      <td>0.388000</td>\n",
       "      <td>0.900000</td>\n",
       "      <td>Trichoptera</td>\n",
       "    </tr>\n",
       "  </tbody>\n",
       "</table>\n",
       "</div>"
      ],
      "text/plain": [
       "   resnet18_not_pretrained  resnet18_pretrained  resnet34_not_pretrained  \\\n",
       "0                 0.794749             0.935561                 0.761337   \n",
       "1                 0.411765             0.921569                 0.431373   \n",
       "2                 0.440000             0.640000                 0.425000   \n",
       "3                 0.655556             0.900000                 0.677778   \n",
       "4                 0.291045             0.761194                 0.246269   \n",
       "5                 0.540000             0.884000                 0.440000   \n",
       "\n",
       "   resnet34_pretrained  resnet50_not_pretrained  resnet50_pretrained  \\\n",
       "0             0.930788                 0.744630             0.933174   \n",
       "1             0.882353                 0.529412             0.960784   \n",
       "2             0.760000                 0.405000             0.770000   \n",
       "3             0.866667                 0.588889             0.885185   \n",
       "4             0.820896                 0.328358             0.813433   \n",
       "5             0.876000                 0.440000             0.904000   \n",
       "\n",
       "   resnet101_not_pretrained  resnet101_pretrained           Name  \n",
       "0                  0.754177              0.926014        Diptera  \n",
       "1                  0.666667              0.921569    Ephemeridae  \n",
       "2                  0.355000              0.745000  Ephemeroptera  \n",
       "3                  0.581481              0.903704    Lepidoptera  \n",
       "4                  0.417910              0.850746     Plecoptera  \n",
       "5                  0.388000              0.900000    Trichoptera  "
      ]
     },
     "execution_count": 8,
     "metadata": {},
     "output_type": "execute_result"
    }
   ],
   "source": [
    "df_per_label"
   ]
  },
  {
   "cell_type": "code",
   "execution_count": 9,
   "metadata": {},
   "outputs": [
    {
     "data": {
      "image/png": "[encoded data removed]",
      "text/plain": [
       "<Figure size 432x288 with 1 Axes>"
      ]
     },
     "metadata": {
      "needs_background": "light"
     },
     "output_type": "display_data"
    }
   ],
   "source": [
    "df_per_label.plot(kind=\"bar\", x=\"Name\", y=[\"resnet18_not_pretrained\", \"resnet18_pretrained\"], cmap=\"rainbow\")\n",
    "plt.legend(bbox_to_anchor=(1.05, 1), loc='upper left')\n",
    "plt.ylabel(\"Precision\")\n",
    "plt.title(\"Precision per class\")\n",
    "plt.savefig(\"/home/tanida/workspace/Insect_Phenology_Detector/result/classification/compare_models/compare_precision_resnet18.png\", bbox_inches=\"tight\")"
   ]
  },
  {
   "cell_type": "code",
   "execution_count": 10,
   "metadata": {},
   "outputs": [
    {
     "data": {
      "image/png": "[encoded data removed]",
      "text/plain": [
       "<Figure size 432x288 with 1 Axes>"
      ]
     },
     "metadata": {
      "needs_background": "light"
     },
     "output_type": "display_data"
    }
   ],
   "source": [
    "df_per_label.plot(kind=\"bar\", x=\"Name\", y=[\"resnet34_not_pretrained\", \"resnet34_pretrained\"], cmap=\"rainbow\")\n",
    "plt.legend(bbox_to_anchor=(1.05, 1), loc='upper left')\n",
    "plt.ylabel(\"Precision\")\n",
    "plt.title(\"Precision per class\")\n",
    "plt.savefig(\"/home/tanida/workspace/Insect_Phenology_Detector/result/classification/compare_models/compare_precision_resnet34.png\", bbox_inches=\"tight\")"
   ]
  },
  {
   "cell_type": "code",
   "execution_count": 11,
   "metadata": {},
   "outputs": [
    {
     "data": {
      "image/png": "[encoded data removed]",
      "text/plain": [
       "<Figure size 432x288 with 1 Axes>"
      ]
     },
     "metadata": {
      "needs_background": "light"
     },
     "output_type": "display_data"
    }
   ],
   "source": [
    "df_per_label.plot(kind=\"bar\", x=\"Name\", y=[\"resnet50_not_pretrained\", \"resnet50_pretrained\"], cmap=\"rainbow\")\n",
    "plt.legend(bbox_to_anchor=(1.05, 1), loc='upper left')\n",
    "plt.ylabel(\"Precision\")\n",
    "plt.title(\"Precision per class\")\n",
    "plt.savefig(\"/home/tanida/workspace/Insect_Phenology_Detector/result/classification/compare_models/compare_precision_resnet50.png\", bbox_inches=\"tight\")"
   ]
  },
  {
   "cell_type": "code",
   "execution_count": 12,
   "metadata": {},
   "outputs": [
    {
     "data": {
      "image/png": "[encoded data removed]",
      "text/plain": [
       "<Figure size 432x288 with 1 Axes>"
      ]
     },
     "metadata": {
      "needs_background": "light"
     },
     "output_type": "display_data"
    }
   ],
   "source": [
    "df_per_label.plot(kind=\"bar\", x=\"Name\", y=[\"resnet101_not_pretrained\", \"resnet101_pretrained\"], cmap=\"rainbow\")\n",
    "plt.legend(bbox_to_anchor=(1.05, 1), loc='upper left')\n",
    "plt.ylabel(\"Precision\")\n",
    "plt.title(\"Precision per class\")\n",
    "plt.savefig(\"/home/tanida/workspace/Insect_Phenology_Detector/result/classification/compare_models/compare_precision_resnet101.png\", bbox_inches=\"tight\")"
   ]
  },
  {
   "cell_type": "markdown",
   "metadata": {},
   "source": [
    "### --- compare confusion matrix ---"
   ]
  },
  {
   "cell_type": "code",
   "execution_count": 13,
   "metadata": {},
   "outputs": [],
   "source": [
    "resnet50_not_pretrained = pd.read_csv('/home/tanida/workspace/Insect_Phenology_Detector/figure/classification/ResNet101/resnet50_b20_r45_lr1e-5_crossvalid_not_pretrain/validation_matrix.csv')\n",
    "resnet50_pretrained = pd.read_csv('/home/tanida/workspace/Insect_Phenology_Detector/figure/classification/ResNet101/resnet50_b20_r45_lr1e-5_crossvalid/validation_matrix.csv')"
   ]
  },
  {
   "cell_type": "code",
   "execution_count": 14,
   "metadata": {},
   "outputs": [
    {
     "data": {
      "text/plain": [
       "(   Unnamed: 0      0     1     2      3     4      5\n",
       " 0           0  312.0   9.0  23.0   17.0  28.0   30.0\n",
       " 1           1    7.0  27.0   1.0    9.0   5.0    2.0\n",
       " 2           2   33.0   4.0  81.0    8.0  31.0   43.0\n",
       " 3           3   31.0  14.0  16.0  159.0  25.0   25.0\n",
       " 4           4   20.0   6.0  18.0   14.0  44.0   32.0\n",
       " 5           5   34.0   3.0  36.0   22.0  45.0  110.0,\n",
       "    Unnamed: 0      0     1      2      3      4      5\n",
       " 0           0  391.0   0.0   17.0    8.0    1.0    2.0\n",
       " 1           1    0.0  49.0    0.0    2.0    0.0    0.0\n",
       " 2           2   13.0   9.0  154.0    4.0   13.0    7.0\n",
       " 3           3    8.0   3.0    6.0  239.0    1.0   13.0\n",
       " 4           4    1.0   2.0   12.0    1.0  109.0    9.0\n",
       " 5           5    1.0   0.0    7.0    7.0    9.0  226.0)"
      ]
     },
     "execution_count": 14,
     "metadata": {},
     "output_type": "execute_result"
    }
   ],
   "source": [
    "resnet50_not_pretrained, resnet50_pretrained"
   ]
  },
  {
   "cell_type": "markdown",
   "metadata": {},
   "source": [
    "### --- compare accuracy distribution of size ---"
   ]
  },
  {
   "cell_type": "code",
   "execution_count": 15,
   "metadata": {},
   "outputs": [],
   "source": [
    "resnet50_not_pretrained = pd.read_csv('/home/tanida/workspace/Insect_Phenology_Detector/figure/classification/ResNet101/resnet50_b20_r45_lr1e-5_crossvalid_not_pretrain/all_size_df.csv')\n",
    "resnet50_pretrained = pd.read_csv('/home/tanida/workspace/Insect_Phenology_Detector/figure/classification/ResNet101/resnet50_b20_r45_lr1e-5_crossvalid/all_size_df.csv')"
   ]
  },
  {
   "cell_type": "code",
   "execution_count": 16,
   "metadata": {},
   "outputs": [],
   "source": [
    "resnet50_not_pretrained = resnet50_not_pretrained.drop(resnet50_not_pretrained.index[[0]])\n",
    "resnet50_pretrained = resnet50_pretrained.drop(resnet50_pretrained.index[[0]])"
   ]
  },
  {
   "cell_type": "code",
   "execution_count": 17,
   "metadata": {},
   "outputs": [
    {
     "data": {
      "text/html": [
       "<div>\n",
       "<style scoped>\n",
       "    .dataframe tbody tr th:only-of-type {\n",
       "        vertical-align: middle;\n",
       "    }\n",
       "\n",
       "    .dataframe tbody tr th {\n",
       "        vertical-align: top;\n",
       "    }\n",
       "\n",
       "    .dataframe thead th {\n",
       "        text-align: right;\n",
       "    }\n",
       "</style>\n",
       "<table border=\"1\" class=\"dataframe\">\n",
       "  <thead>\n",
       "    <tr style=\"text-align: right;\">\n",
       "      <th></th>\n",
       "      <th>order</th>\n",
       "      <th>resnet50_not_pretrained</th>\n",
       "      <th>Insect_size</th>\n",
       "      <th>order.1</th>\n",
       "      <th>resnet50_pretrained</th>\n",
       "    </tr>\n",
       "  </thead>\n",
       "  <tbody>\n",
       "    <tr>\n",
       "      <td>1</td>\n",
       "      <td>7.0</td>\n",
       "      <td>1.000000</td>\n",
       "      <td>205.833333</td>\n",
       "      <td>7.0</td>\n",
       "      <td>1.000000</td>\n",
       "    </tr>\n",
       "    <tr>\n",
       "      <td>2</td>\n",
       "      <td>8.0</td>\n",
       "      <td>0.862745</td>\n",
       "      <td>395.039216</td>\n",
       "      <td>8.0</td>\n",
       "      <td>0.901961</td>\n",
       "    </tr>\n",
       "    <tr>\n",
       "      <td>3</td>\n",
       "      <td>9.0</td>\n",
       "      <td>0.503937</td>\n",
       "      <td>770.850394</td>\n",
       "      <td>9.0</td>\n",
       "      <td>0.716535</td>\n",
       "    </tr>\n",
       "    <tr>\n",
       "      <td>4</td>\n",
       "      <td>10.0</td>\n",
       "      <td>0.343220</td>\n",
       "      <td>1504.529661</td>\n",
       "      <td>10.0</td>\n",
       "      <td>0.805085</td>\n",
       "    </tr>\n",
       "    <tr>\n",
       "      <td>5</td>\n",
       "      <td>11.0</td>\n",
       "      <td>0.396552</td>\n",
       "      <td>2941.368966</td>\n",
       "      <td>11.0</td>\n",
       "      <td>0.875862</td>\n",
       "    </tr>\n",
       "    <tr>\n",
       "      <td>6</td>\n",
       "      <td>12.0</td>\n",
       "      <td>0.654839</td>\n",
       "      <td>5934.145161</td>\n",
       "      <td>12.0</td>\n",
       "      <td>0.938710</td>\n",
       "    </tr>\n",
       "    <tr>\n",
       "      <td>7</td>\n",
       "      <td>13.0</td>\n",
       "      <td>0.732057</td>\n",
       "      <td>11264.789474</td>\n",
       "      <td>13.0</td>\n",
       "      <td>0.956938</td>\n",
       "    </tr>\n",
       "    <tr>\n",
       "      <td>8</td>\n",
       "      <td>14.0</td>\n",
       "      <td>0.705128</td>\n",
       "      <td>22344.653846</td>\n",
       "      <td>14.0</td>\n",
       "      <td>0.961538</td>\n",
       "    </tr>\n",
       "    <tr>\n",
       "      <td>9</td>\n",
       "      <td>15.0</td>\n",
       "      <td>0.600000</td>\n",
       "      <td>34865.400000</td>\n",
       "      <td>15.0</td>\n",
       "      <td>0.900000</td>\n",
       "    </tr>\n",
       "  </tbody>\n",
       "</table>\n",
       "</div>"
      ],
      "text/plain": [
       "   order  resnet50_not_pretrained   Insect_size  order.1  resnet50_pretrained\n",
       "1    7.0                 1.000000    205.833333      7.0             1.000000\n",
       "2    8.0                 0.862745    395.039216      8.0             0.901961\n",
       "3    9.0                 0.503937    770.850394      9.0             0.716535\n",
       "4   10.0                 0.343220   1504.529661     10.0             0.805085\n",
       "5   11.0                 0.396552   2941.368966     11.0             0.875862\n",
       "6   12.0                 0.654839   5934.145161     12.0             0.938710\n",
       "7   13.0                 0.732057  11264.789474     13.0             0.956938\n",
       "8   14.0                 0.705128  22344.653846     14.0             0.961538\n",
       "9   15.0                 0.600000  34865.400000     15.0             0.900000"
      ]
     },
     "execution_count": 17,
     "metadata": {},
     "output_type": "execute_result"
    }
   ],
   "source": [
    "all_df = resnet50_not_pretrained\n",
    "all_df = all_df.rename(columns={'Accuracy': 'resnet50_not_pretrained'})\n",
    "all_df = all_df.assign(resnet50_pretrained=resnet50_pretrained[\"Accuracy\"])\n",
    "all_df"
   ]
  },
  {
   "cell_type": "code",
   "execution_count": 18,
   "metadata": {},
   "outputs": [
    {
     "data": {
      "image/png": "[encoded data removed]",
      "text/plain": [
       "<Figure size 432x288 with 1 Axes>"
      ]
     },
     "metadata": {
      "needs_background": "light"
     },
     "output_type": "display_data"
    }
   ],
   "source": [
    "all_df.plot(x=\"Insect_size\", y=[\"resnet50_not_pretrained\", \"resnet50_pretrained\"], logx=True, legend=True, cmap=\"rainbow\")\n",
    "plt.ylabel(\"Precision\")\n",
    "plt.title(\"Precision distribution of size\")\n",
    "plt.ylim(0.0, 1.01)\n",
    "plt.savefig(\"/home/tanida/workspace/Insect_Phenology_Detector/result/classification/compare_models/compare_precision_distrib_of_size.png\", bbox_inches=\"tight\")"
   ]
  }
 ],
 "metadata": {
  "kernelspec": {
   "display_name": "pytorch_040",
   "language": "python",
   "name": "pytorch_040"
  },
  "language_info": {
   "codemirror_mode": {
    "name": "ipython",
    "version": 3
   },
   "file_extension": ".py",
   "mimetype": "text/x-python",
   "name": "python",
   "nbconvert_exporter": "python",
   "pygments_lexer": "ipython3",
   "version": "3.7.4"
  }
 },
 "nbformat": 4,
 "nbformat_minor": 4
}
