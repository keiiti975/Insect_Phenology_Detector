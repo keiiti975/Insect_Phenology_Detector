{
 "cells": [
  {
   "cell_type": "code",
   "execution_count": 1,
   "metadata": {},
   "outputs": [],
   "source": [
    "import os\n",
    "from os.path import join as pj\n",
    "import numpy as np\n",
    "import pandas as pd\n",
    "import matplotlib.pyplot as plt\n",
    "import h5py\n",
    "# Statistics\n",
    "from evaluation.classification.statistics import get_precisions, get_size_list_from_xte\n",
    "# Visualize\n",
    "from evaluation.classification.visualize import plot_df_distrib_size\n",
    "\n",
    "%matplotlib inline\n",
    "plt.style.use(\"ggplot\")"
   ]
  },
  {
   "cell_type": "markdown",
   "metadata": {},
   "source": [
    "### --- compare precision with population ---"
   ]
  },
  {
   "cell_type": "code",
   "execution_count": 2,
   "metadata": {},
   "outputs": [],
   "source": [
    "resnet50 = pd.read_csv('/home/tanida/workspace/Insect_Phenology_Detector/figure/classification/ResNet101/resnet50_b20_r45_lr1e-5_crossvalid_20200806/validation_matrix.csv')\n",
    "resnet50_rotate = pd.read_csv('/home/tanida/workspace/Insect_Phenology_Detector/figure/classification/ResNet101/resnet50_b20_r45_lr1e-5_crossvalid_20200806_Rotate/validation_matrix.csv')\n",
    "resnet50_all = pd.read_csv('/home/tanida/workspace/Insect_Phenology_Detector/figure/classification/ResNet101/resnet50_b20_r45_lr1e-5_crossvalid_20200806_All/validation_matrix.csv')"
   ]
  },
  {
   "cell_type": "code",
   "execution_count": 3,
   "metadata": {},
   "outputs": [],
   "source": [
    "resnet50_precisions = get_precisions(resnet50)\n",
    "resnet50_rotate_precisions = get_precisions(resnet50_rotate)\n",
    "resnet50_all_precisions = get_precisions(resnet50_all)"
   ]
  },
  {
   "cell_type": "code",
   "execution_count": 4,
   "metadata": {},
   "outputs": [],
   "source": [
    "exp_name = [\"resnet50\", \"resnet50_rotate\", \"resnet50_all\"]\n",
    "exp_ap = [resnet50_precisions.mean(), resnet50_rotate_precisions.mean(), resnet50_all_precisions.mean()]"
   ]
  },
  {
   "cell_type": "code",
   "execution_count": 5,
   "metadata": {},
   "outputs": [
    {
     "data": {
      "text/html": [
       "<div>\n",
       "<style scoped>\n",
       "    .dataframe tbody tr th:only-of-type {\n",
       "        vertical-align: middle;\n",
       "    }\n",
       "\n",
       "    .dataframe tbody tr th {\n",
       "        vertical-align: top;\n",
       "    }\n",
       "\n",
       "    .dataframe thead th {\n",
       "        text-align: right;\n",
       "    }\n",
       "</style>\n",
       "<table border=\"1\" class=\"dataframe\">\n",
       "  <thead>\n",
       "    <tr style=\"text-align: right;\">\n",
       "      <th></th>\n",
       "      <th>exp_name</th>\n",
       "      <th>exp_ap</th>\n",
       "    </tr>\n",
       "  </thead>\n",
       "  <tbody>\n",
       "    <tr>\n",
       "      <td>0</td>\n",
       "      <td>resnet50</td>\n",
       "      <td>0.820474</td>\n",
       "    </tr>\n",
       "    <tr>\n",
       "      <td>1</td>\n",
       "      <td>resnet50_rotate</td>\n",
       "      <td>0.858906</td>\n",
       "    </tr>\n",
       "    <tr>\n",
       "      <td>2</td>\n",
       "      <td>resnet50_all</td>\n",
       "      <td>0.860293</td>\n",
       "    </tr>\n",
       "  </tbody>\n",
       "</table>\n",
       "</div>"
      ],
      "text/plain": [
       "          exp_name    exp_ap\n",
       "0         resnet50  0.820474\n",
       "1  resnet50_rotate  0.858906\n",
       "2     resnet50_all  0.860293"
      ]
     },
     "execution_count": 5,
     "metadata": {},
     "output_type": "execute_result"
    }
   ],
   "source": [
    "df = pd.DataFrame({\"exp_name\": exp_name, \"exp_ap\": exp_ap})\n",
    "df"
   ]
  },
  {
   "cell_type": "code",
   "execution_count": 6,
   "metadata": {},
   "outputs": [],
   "source": [
    "df_per_label = pd.DataFrame({\"resnet50\": resnet50_precisions, \"resnet50_rotate\": resnet50_rotate_precisions, \"resnet50_all\": resnet50_all_precisions})"
   ]
  },
  {
   "cell_type": "code",
   "execution_count": 7,
   "metadata": {},
   "outputs": [
    {
     "data": {
      "text/html": [
       "<div>\n",
       "<style scoped>\n",
       "    .dataframe tbody tr th:only-of-type {\n",
       "        vertical-align: middle;\n",
       "    }\n",
       "\n",
       "    .dataframe tbody tr th {\n",
       "        vertical-align: top;\n",
       "    }\n",
       "\n",
       "    .dataframe thead th {\n",
       "        text-align: right;\n",
       "    }\n",
       "</style>\n",
       "<table border=\"1\" class=\"dataframe\">\n",
       "  <thead>\n",
       "    <tr style=\"text-align: right;\">\n",
       "      <th></th>\n",
       "      <th>resnet50</th>\n",
       "      <th>resnet50_all</th>\n",
       "      <th>resnet50_rotate</th>\n",
       "    </tr>\n",
       "  </thead>\n",
       "  <tbody>\n",
       "    <tr>\n",
       "      <td>Ephemeridae</td>\n",
       "      <td>0.853147</td>\n",
       "      <td>0.923077</td>\n",
       "      <td>0.916084</td>\n",
       "    </tr>\n",
       "    <tr>\n",
       "      <td>Plecoptera</td>\n",
       "      <td>0.803245</td>\n",
       "      <td>0.858012</td>\n",
       "      <td>0.837728</td>\n",
       "    </tr>\n",
       "    <tr>\n",
       "      <td>Ephemeroptera</td>\n",
       "      <td>0.634812</td>\n",
       "      <td>0.675768</td>\n",
       "      <td>0.733788</td>\n",
       "    </tr>\n",
       "    <tr>\n",
       "      <td>Trichoptera</td>\n",
       "      <td>0.823096</td>\n",
       "      <td>0.842752</td>\n",
       "      <td>0.837838</td>\n",
       "    </tr>\n",
       "    <tr>\n",
       "      <td>Lepidoptera</td>\n",
       "      <td>0.923394</td>\n",
       "      <td>0.937397</td>\n",
       "      <td>0.934926</td>\n",
       "    </tr>\n",
       "    <tr>\n",
       "      <td>Diptera</td>\n",
       "      <td>0.885149</td>\n",
       "      <td>0.924752</td>\n",
       "      <td>0.893069</td>\n",
       "    </tr>\n",
       "  </tbody>\n",
       "</table>\n",
       "</div>"
      ],
      "text/plain": [
       "               resnet50  resnet50_all  resnet50_rotate\n",
       "Ephemeridae    0.853147      0.923077         0.916084\n",
       "Plecoptera     0.803245      0.858012         0.837728\n",
       "Ephemeroptera  0.634812      0.675768         0.733788\n",
       "Trichoptera    0.823096      0.842752         0.837838\n",
       "Lepidoptera    0.923394      0.937397         0.934926\n",
       "Diptera        0.885149      0.924752         0.893069"
      ]
     },
     "execution_count": 7,
     "metadata": {},
     "output_type": "execute_result"
    }
   ],
   "source": [
    "new_df_per_label = pd.DataFrame()\n",
    "new_df_per_label = new_df_per_label.append(pd.Series(df_per_label.values[1], index=df_per_label.columns, name='Ephemeridae'))\n",
    "new_df_per_label = new_df_per_label.append(pd.Series(df_per_label.values[4], index=df_per_label.columns, name='Plecoptera'))\n",
    "new_df_per_label = new_df_per_label.append(pd.Series(df_per_label.values[2], index=df_per_label.columns, name='Ephemeroptera'))\n",
    "new_df_per_label = new_df_per_label.append(pd.Series(df_per_label.values[5], index=df_per_label.columns, name='Trichoptera'))\n",
    "new_df_per_label = new_df_per_label.append(pd.Series(df_per_label.values[3], index=df_per_label.columns, name='Lepidoptera'))\n",
    "new_df_per_label = new_df_per_label.append(pd.Series(df_per_label.values[0], index=df_per_label.columns, name='Diptera'))\n",
    "new_df_per_label"
   ]
  },
  {
   "cell_type": "code",
   "execution_count": 8,
   "metadata": {},
   "outputs": [
    {
     "data": {
      "image/png": "[encoded data removed]",
      "text/plain": [
       "<Figure size 432x288 with 1 Axes>"
      ]
     },
     "metadata": {
      "needs_background": "light"
     },
     "output_type": "display_data"
    }
   ],
   "source": [
    "plt.rcParams[\"font.size\"] = 14\n",
    "new_df_per_label.plot(kind=\"bar\", y=[\"resnet50\", \"resnet50_rotate\", \"resnet50_all\"], cmap=\"rainbow\")\n",
    "plt.ylabel(\"Precision\")\n",
    "plt.legend(bbox_to_anchor=(1.05, 1), loc='upper left', fontsize=12)\n",
    "plt.savefig(\"/home/tanida/workspace/Insect_Phenology_Detector/result/classification/compare_augmentation_combination/compare_precision_resnet50.png\", bbox_inches=\"tight\")"
   ]
  },
  {
   "cell_type": "markdown",
   "metadata": {},
   "source": [
    "### --- compare accuracy distribution of size ---"
   ]
  },
  {
   "cell_type": "code",
   "execution_count": 17,
   "metadata": {},
   "outputs": [],
   "source": [
    "cls_each_size_df = pd.read_csv('/home/tanida/workspace/Insect_Phenology_Detector/figure/classification/ResNet101/resnet50_b20_r45_lr1e-5_crossvalid_20200806/each_size_df.csv')\n",
    "cls_each_size_df[\"order\"] = cls_each_size_df[\"Insect_size\"].apply(lambda x: np.floor(np.log2(x)))\n",
    "insect_size = np.asarray(cls_each_size_df[\"order\"])\n",
    "idx, count = np.unique(insect_size, return_counts=True)\n",
    "insect_size_df = pd.DataFrame({\"order\": idx, \"count\": count})\n",
    "insect_size_df = insect_size_df.drop(insect_size_df.index[[0, 1]])"
   ]
  },
  {
   "cell_type": "code",
   "execution_count": 18,
   "metadata": {},
   "outputs": [],
   "source": [
    "resnet50 = pd.read_csv('/home/tanida/workspace/Insect_Phenology_Detector/figure/classification/ResNet101/resnet50_b20_r45_lr1e-5_crossvalid_20200806/all_size_df.csv')\n",
    "resnet50_rotate = pd.read_csv('/home/tanida/workspace/Insect_Phenology_Detector/figure/classification/ResNet101/resnet50_b20_r45_lr1e-5_crossvalid_20200806_Rotate/all_size_df.csv')\n",
    "resnet50_all = pd.read_csv('/home/tanida/workspace/Insect_Phenology_Detector/figure/classification/ResNet101/resnet50_b20_r45_lr1e-5_crossvalid_20200806_All/all_size_df.csv')"
   ]
  },
  {
   "cell_type": "code",
   "execution_count": 19,
   "metadata": {},
   "outputs": [],
   "source": [
    "resnet50 = resnet50.drop(resnet50.index[[0, 1]])\n",
    "resnet50_rotate = resnet50_rotate.drop(resnet50_rotate.index[[0, 1]])\n",
    "resnet50_all = resnet50_all.drop(resnet50_all.index[[0, 1]])"
   ]
  },
  {
   "cell_type": "code",
   "execution_count": 20,
   "metadata": {},
   "outputs": [
    {
     "data": {
      "text/html": [
       "<div>\n",
       "<style scoped>\n",
       "    .dataframe tbody tr th:only-of-type {\n",
       "        vertical-align: middle;\n",
       "    }\n",
       "\n",
       "    .dataframe tbody tr th {\n",
       "        vertical-align: top;\n",
       "    }\n",
       "\n",
       "    .dataframe thead th {\n",
       "        text-align: right;\n",
       "    }\n",
       "</style>\n",
       "<table border=\"1\" class=\"dataframe\">\n",
       "  <thead>\n",
       "    <tr style=\"text-align: right;\">\n",
       "      <th></th>\n",
       "      <th>order</th>\n",
       "      <th>count</th>\n",
       "      <th>Insect_size</th>\n",
       "    </tr>\n",
       "  </thead>\n",
       "  <tbody>\n",
       "    <tr>\n",
       "      <td>2</td>\n",
       "      <td>7.0</td>\n",
       "      <td>12</td>\n",
       "      <td>205.833333</td>\n",
       "    </tr>\n",
       "    <tr>\n",
       "      <td>3</td>\n",
       "      <td>8.0</td>\n",
       "      <td>51</td>\n",
       "      <td>395.039216</td>\n",
       "    </tr>\n",
       "    <tr>\n",
       "      <td>4</td>\n",
       "      <td>9.0</td>\n",
       "      <td>131</td>\n",
       "      <td>776.328244</td>\n",
       "    </tr>\n",
       "    <tr>\n",
       "      <td>5</td>\n",
       "      <td>10.0</td>\n",
       "      <td>403</td>\n",
       "      <td>1572.317618</td>\n",
       "    </tr>\n",
       "    <tr>\n",
       "      <td>6</td>\n",
       "      <td>11.0</td>\n",
       "      <td>1004</td>\n",
       "      <td>2982.721116</td>\n",
       "    </tr>\n",
       "    <tr>\n",
       "      <td>7</td>\n",
       "      <td>12.0</td>\n",
       "      <td>740</td>\n",
       "      <td>5730.868919</td>\n",
       "    </tr>\n",
       "    <tr>\n",
       "      <td>8</td>\n",
       "      <td>13.0</td>\n",
       "      <td>431</td>\n",
       "      <td>11417.570766</td>\n",
       "    </tr>\n",
       "    <tr>\n",
       "      <td>9</td>\n",
       "      <td>14.0</td>\n",
       "      <td>260</td>\n",
       "      <td>23926.192308</td>\n",
       "    </tr>\n",
       "    <tr>\n",
       "      <td>10</td>\n",
       "      <td>15.0</td>\n",
       "      <td>21</td>\n",
       "      <td>35455.380952</td>\n",
       "    </tr>\n",
       "  </tbody>\n",
       "</table>\n",
       "</div>"
      ],
      "text/plain": [
       "    order  count   Insect_size\n",
       "2     7.0     12    205.833333\n",
       "3     8.0     51    395.039216\n",
       "4     9.0    131    776.328244\n",
       "5    10.0    403   1572.317618\n",
       "6    11.0   1004   2982.721116\n",
       "7    12.0    740   5730.868919\n",
       "8    13.0    431  11417.570766\n",
       "9    14.0    260  23926.192308\n",
       "10   15.0     21  35455.380952"
      ]
     },
     "execution_count": 20,
     "metadata": {},
     "output_type": "execute_result"
    }
   ],
   "source": [
    "insect_size_df[\"Insect_size\"] = resnet50[\"Insect_size\"]\n",
    "insect_size_df"
   ]
  },
  {
   "cell_type": "code",
   "execution_count": 21,
   "metadata": {},
   "outputs": [
    {
     "data": {
      "text/html": [
       "<div>\n",
       "<style scoped>\n",
       "    .dataframe tbody tr th:only-of-type {\n",
       "        vertical-align: middle;\n",
       "    }\n",
       "\n",
       "    .dataframe tbody tr th {\n",
       "        vertical-align: top;\n",
       "    }\n",
       "\n",
       "    .dataframe thead th {\n",
       "        text-align: right;\n",
       "    }\n",
       "</style>\n",
       "<table border=\"1\" class=\"dataframe\">\n",
       "  <thead>\n",
       "    <tr style=\"text-align: right;\">\n",
       "      <th></th>\n",
       "      <th>order</th>\n",
       "      <th>count</th>\n",
       "      <th>resnet50</th>\n",
       "      <th>resnet50_rotate</th>\n",
       "      <th>resnet50_all</th>\n",
       "    </tr>\n",
       "  </thead>\n",
       "  <tbody>\n",
       "    <tr>\n",
       "      <td>2</td>\n",
       "      <td>7.0</td>\n",
       "      <td>12</td>\n",
       "      <td>1.000000</td>\n",
       "      <td>1.000000</td>\n",
       "      <td>1.000000</td>\n",
       "    </tr>\n",
       "    <tr>\n",
       "      <td>3</td>\n",
       "      <td>8.0</td>\n",
       "      <td>51</td>\n",
       "      <td>0.862745</td>\n",
       "      <td>0.862745</td>\n",
       "      <td>0.882353</td>\n",
       "    </tr>\n",
       "    <tr>\n",
       "      <td>4</td>\n",
       "      <td>9.0</td>\n",
       "      <td>131</td>\n",
       "      <td>0.702290</td>\n",
       "      <td>0.748092</td>\n",
       "      <td>0.770992</td>\n",
       "    </tr>\n",
       "    <tr>\n",
       "      <td>5</td>\n",
       "      <td>10.0</td>\n",
       "      <td>403</td>\n",
       "      <td>0.746898</td>\n",
       "      <td>0.751861</td>\n",
       "      <td>0.774194</td>\n",
       "    </tr>\n",
       "    <tr>\n",
       "      <td>6</td>\n",
       "      <td>11.0</td>\n",
       "      <td>1004</td>\n",
       "      <td>0.823705</td>\n",
       "      <td>0.853586</td>\n",
       "      <td>0.848606</td>\n",
       "    </tr>\n",
       "    <tr>\n",
       "      <td>7</td>\n",
       "      <td>12.0</td>\n",
       "      <td>740</td>\n",
       "      <td>0.905405</td>\n",
       "      <td>0.927027</td>\n",
       "      <td>0.936486</td>\n",
       "    </tr>\n",
       "    <tr>\n",
       "      <td>8</td>\n",
       "      <td>13.0</td>\n",
       "      <td>431</td>\n",
       "      <td>0.918794</td>\n",
       "      <td>0.955916</td>\n",
       "      <td>0.960557</td>\n",
       "    </tr>\n",
       "    <tr>\n",
       "      <td>9</td>\n",
       "      <td>14.0</td>\n",
       "      <td>260</td>\n",
       "      <td>0.953846</td>\n",
       "      <td>0.980769</td>\n",
       "      <td>0.973077</td>\n",
       "    </tr>\n",
       "    <tr>\n",
       "      <td>10</td>\n",
       "      <td>15.0</td>\n",
       "      <td>21</td>\n",
       "      <td>0.809524</td>\n",
       "      <td>0.904762</td>\n",
       "      <td>0.904762</td>\n",
       "    </tr>\n",
       "  </tbody>\n",
       "</table>\n",
       "</div>"
      ],
      "text/plain": [
       "    order  count  resnet50  resnet50_rotate  resnet50_all\n",
       "2     7.0     12  1.000000         1.000000      1.000000\n",
       "3     8.0     51  0.862745         0.862745      0.882353\n",
       "4     9.0    131  0.702290         0.748092      0.770992\n",
       "5    10.0    403  0.746898         0.751861      0.774194\n",
       "6    11.0   1004  0.823705         0.853586      0.848606\n",
       "7    12.0    740  0.905405         0.927027      0.936486\n",
       "8    13.0    431  0.918794         0.955916      0.960557\n",
       "9    14.0    260  0.953846         0.980769      0.973077\n",
       "10   15.0     21  0.809524         0.904762      0.904762"
      ]
     },
     "execution_count": 21,
     "metadata": {},
     "output_type": "execute_result"
    }
   ],
   "source": [
    "all_df = pd.DataFrame()\n",
    "all_df[\"order\"] = insect_size_df[\"order\"]\n",
    "all_df[\"count\"] = insect_size_df[\"count\"]\n",
    "all_df[\"resnet50\"] = resnet50[\"Accuracy\"]\n",
    "all_df[\"resnet50_rotate\"] = resnet50_rotate[\"Accuracy\"]\n",
    "all_df[\"resnet50_all\"] = resnet50_all[\"Accuracy\"]\n",
    "all_df"
   ]
  },
  {
   "cell_type": "code",
   "execution_count": 22,
   "metadata": {},
   "outputs": [
    {
     "data": {
      "image/png": "[encoded data removed]",
      "text/plain": [
       "<Figure size 360x288 with 2 Axes>"
      ]
     },
     "metadata": {
      "needs_background": "light"
     },
     "output_type": "display_data"
    }
   ],
   "source": [
    "plt.rcParams[\"font.size\"] = 14\n",
    "fig, ax1 = plt.subplots(figsize=(5,4))\n",
    "ax2 = ax1.twinx()\n",
    "\n",
    "x_label = [\"7.0\", \"8.0\", \"9.0\", \"10.0\", \"11.0\", \"12.0\", \"13.0\", \"14.0\", \"15.0\"]\n",
    "\n",
    "ax1.bar(x_label, all_df[\"count\"], width=0.3, color=\"g\")\n",
    "ax2.plot(x_label, all_df[\"resnet50\"], label=\"resnet50\")\n",
    "ax2.plot(x_label, all_df[\"resnet50_rotate\"], label=\"resnet50_rotate\")\n",
    "ax2.plot(x_label, all_df[\"resnet50_all\"], label=\"resnet50_all\")\n",
    "ax1.yaxis.tick_right()\n",
    "ax2.yaxis.tick_left()\n",
    "\n",
    "h2, l2 = ax2.get_legend_handles_labels()\n",
    "ax1.legend(h2, l2, bbox_to_anchor=(0.85, 0.), loc='lower right', fontsize=10)\n",
    "\n",
    "ax1.set_xlabel(\"Insect_size order\")\n",
    "ax1.set_ylabel(\"Precision\")\n",
    "ax1.yaxis.set_label_coords(-0.15, 0.5)\n",
    "ax1.grid(False)\n",
    "ax2.set_ylabel(\"Population per order\")\n",
    "ax2.set_ylim(0., 1.01)\n",
    "ax2.yaxis.set_label_coords(1.15, 0.5)\n",
    "plt.savefig(\"/home/tanida/workspace/Insect_Phenology_Detector/result/classification/compare_augmentation_combination/compare_precision_distrib_of_size.png\", bbox_inches=\"tight\")"
   ]
  }
 ],
 "metadata": {
  "kernelspec": {
   "display_name": "pytorch_040",
   "language": "python",
   "name": "pytorch_040"
  },
  "language_info": {
   "codemirror_mode": {
    "name": "ipython",
    "version": 3
   },
   "file_extension": ".py",
   "mimetype": "text/x-python",
   "name": "python",
   "nbconvert_exporter": "python",
   "pygments_lexer": "ipython3",
   "version": "3.7.4"
  }
 },
 "nbformat": 4,
 "nbformat_minor": 4
}
