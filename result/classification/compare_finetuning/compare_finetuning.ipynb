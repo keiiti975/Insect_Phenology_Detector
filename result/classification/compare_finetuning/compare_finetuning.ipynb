{
 "cells": [
  {
   "cell_type": "code",
   "execution_count": 1,
   "metadata": {},
   "outputs": [],
   "source": [
    "import os\n",
    "from os.path import join as pj\n",
    "import numpy as np\n",
    "import pandas as pd\n",
    "import matplotlib.pyplot as plt\n",
    "# Statistics\n",
    "from evaluation.classification.statistics import get_precisions\n",
    "# Visualize\n",
    "from evaluation.classification.visualize import plot_df_distrib_size\n",
    "plt.style.use(\"ggplot\")\n",
    "%matplotlib inline"
   ]
  },
  {
   "cell_type": "markdown",
   "metadata": {},
   "source": [
    "### --- compare precision ---"
   ]
  },
  {
   "cell_type": "code",
   "execution_count": 2,
   "metadata": {},
   "outputs": [],
   "source": [
    "resnet50_not_pretrained = pd.read_csv('/home/tanida/workspace/Insect_Phenology_Detector/figure/classification/ResNet101/resnet50_b20_r45_lr1e-5_crossvalid_not_pretrain/validation_matrix.csv')\n",
    "resnet50_pretrained = pd.read_csv('/home/tanida/workspace/Insect_Phenology_Detector/figure/classification/ResNet101/resnet50_b20_r45_lr1e-5_crossvalid/validation_matrix.csv')\n",
    "resnet50_pretrained_freeze = pd.read_csv('/home/tanida/workspace/Insect_Phenology_Detector/figure/classification/ResNet101/resnet50_b20_r45_lr1e-5_crossvalid_freeze/validation_matrix.csv')"
   ]
  },
  {
   "cell_type": "code",
   "execution_count": 3,
   "metadata": {},
   "outputs": [],
   "source": [
    "resnet50_not_pretrained_precisions = get_precisions(resnet50_not_pretrained)\n",
    "resnet50_pretrained_freeze_precisions = get_precisions(resnet50_pretrained_freeze)\n",
    "resnet50_pretrained_precisions = get_precisions(resnet50_pretrained)"
   ]
  },
  {
   "cell_type": "code",
   "execution_count": 4,
   "metadata": {},
   "outputs": [],
   "source": [
    "exp_name = [\"resnet50_not_pretrained\", \"resnet50_pretrained_freeze\", \"resnet50_pretrained\"]\n",
    "exp_ap = [resnet50_not_pretrained_precisions.mean(), resnet50_pretrained_freeze_precisions.mean(), resnet50_pretrained_precisions.mean()]"
   ]
  },
  {
   "cell_type": "code",
   "execution_count": 5,
   "metadata": {},
   "outputs": [
    {
     "data": {
      "text/html": [
       "<div>\n",
       "<style scoped>\n",
       "    .dataframe tbody tr th:only-of-type {\n",
       "        vertical-align: middle;\n",
       "    }\n",
       "\n",
       "    .dataframe tbody tr th {\n",
       "        vertical-align: top;\n",
       "    }\n",
       "\n",
       "    .dataframe thead th {\n",
       "        text-align: right;\n",
       "    }\n",
       "</style>\n",
       "<table border=\"1\" class=\"dataframe\">\n",
       "  <thead>\n",
       "    <tr style=\"text-align: right;\">\n",
       "      <th></th>\n",
       "      <th>exp_name</th>\n",
       "      <th>exp_ap</th>\n",
       "    </tr>\n",
       "  </thead>\n",
       "  <tbody>\n",
       "    <tr>\n",
       "      <td>0</td>\n",
       "      <td>resnet50_not_pretrained</td>\n",
       "      <td>0.506048</td>\n",
       "    </tr>\n",
       "    <tr>\n",
       "      <td>1</td>\n",
       "      <td>resnet50_pretrained_freeze</td>\n",
       "      <td>0.617119</td>\n",
       "    </tr>\n",
       "    <tr>\n",
       "      <td>2</td>\n",
       "      <td>resnet50_pretrained</td>\n",
       "      <td>0.877763</td>\n",
       "    </tr>\n",
       "  </tbody>\n",
       "</table>\n",
       "</div>"
      ],
      "text/plain": [
       "                     exp_name    exp_ap\n",
       "0     resnet50_not_pretrained  0.506048\n",
       "1  resnet50_pretrained_freeze  0.617119\n",
       "2         resnet50_pretrained  0.877763"
      ]
     },
     "execution_count": 5,
     "metadata": {},
     "output_type": "execute_result"
    }
   ],
   "source": [
    "df = pd.DataFrame({\"exp_name\": exp_name, \"exp_ap\": exp_ap})\n",
    "df"
   ]
  },
  {
   "cell_type": "code",
   "execution_count": 6,
   "metadata": {},
   "outputs": [],
   "source": [
    "df_per_label = pd.DataFrame({\"resnet50_not_pretrained\": resnet50_not_pretrained_precisions, \"resnet50_pretrained_freeze\": resnet50_pretrained_freeze_precisions, \"resnet50_pretrained\": resnet50_pretrained_precisions})\n",
    "df_per_label['Name'] = ['Diptera', 'Ephemeridae', 'Ephemeroptera', 'Lepidoptera', 'Plecoptera', 'Trichoptera']"
   ]
  },
  {
   "cell_type": "code",
   "execution_count": 7,
   "metadata": {},
   "outputs": [
    {
     "data": {
      "text/html": [
       "<div>\n",
       "<style scoped>\n",
       "    .dataframe tbody tr th:only-of-type {\n",
       "        vertical-align: middle;\n",
       "    }\n",
       "\n",
       "    .dataframe tbody tr th {\n",
       "        vertical-align: top;\n",
       "    }\n",
       "\n",
       "    .dataframe thead th {\n",
       "        text-align: right;\n",
       "    }\n",
       "</style>\n",
       "<table border=\"1\" class=\"dataframe\">\n",
       "  <thead>\n",
       "    <tr style=\"text-align: right;\">\n",
       "      <th></th>\n",
       "      <th>resnet50_not_pretrained</th>\n",
       "      <th>resnet50_pretrained_freeze</th>\n",
       "      <th>resnet50_pretrained</th>\n",
       "      <th>Name</th>\n",
       "    </tr>\n",
       "  </thead>\n",
       "  <tbody>\n",
       "    <tr>\n",
       "      <td>0</td>\n",
       "      <td>0.744630</td>\n",
       "      <td>0.816229</td>\n",
       "      <td>0.933174</td>\n",
       "      <td>Diptera</td>\n",
       "    </tr>\n",
       "    <tr>\n",
       "      <td>1</td>\n",
       "      <td>0.529412</td>\n",
       "      <td>0.784314</td>\n",
       "      <td>0.960784</td>\n",
       "      <td>Ephemeridae</td>\n",
       "    </tr>\n",
       "    <tr>\n",
       "      <td>2</td>\n",
       "      <td>0.405000</td>\n",
       "      <td>0.420000</td>\n",
       "      <td>0.770000</td>\n",
       "      <td>Ephemeroptera</td>\n",
       "    </tr>\n",
       "    <tr>\n",
       "      <td>3</td>\n",
       "      <td>0.588889</td>\n",
       "      <td>0.633333</td>\n",
       "      <td>0.885185</td>\n",
       "      <td>Lepidoptera</td>\n",
       "    </tr>\n",
       "    <tr>\n",
       "      <td>4</td>\n",
       "      <td>0.328358</td>\n",
       "      <td>0.432836</td>\n",
       "      <td>0.813433</td>\n",
       "      <td>Plecoptera</td>\n",
       "    </tr>\n",
       "    <tr>\n",
       "      <td>5</td>\n",
       "      <td>0.440000</td>\n",
       "      <td>0.616000</td>\n",
       "      <td>0.904000</td>\n",
       "      <td>Trichoptera</td>\n",
       "    </tr>\n",
       "  </tbody>\n",
       "</table>\n",
       "</div>"
      ],
      "text/plain": [
       "   resnet50_not_pretrained  resnet50_pretrained_freeze  resnet50_pretrained  \\\n",
       "0                 0.744630                    0.816229             0.933174   \n",
       "1                 0.529412                    0.784314             0.960784   \n",
       "2                 0.405000                    0.420000             0.770000   \n",
       "3                 0.588889                    0.633333             0.885185   \n",
       "4                 0.328358                    0.432836             0.813433   \n",
       "5                 0.440000                    0.616000             0.904000   \n",
       "\n",
       "            Name  \n",
       "0        Diptera  \n",
       "1    Ephemeridae  \n",
       "2  Ephemeroptera  \n",
       "3    Lepidoptera  \n",
       "4     Plecoptera  \n",
       "5    Trichoptera  "
      ]
     },
     "execution_count": 7,
     "metadata": {},
     "output_type": "execute_result"
    }
   ],
   "source": [
    "df_per_label"
   ]
  },
  {
   "cell_type": "code",
   "execution_count": 8,
   "metadata": {},
   "outputs": [
    {
     "data": {
      "image/png": "[encoded data removed]",
      "text/plain": [
       "<Figure size 432x288 with 1 Axes>"
      ]
     },
     "metadata": {
      "needs_background": "light"
     },
     "output_type": "display_data"
    }
   ],
   "source": [
    "df_per_label.plot(kind=\"bar\", x=\"Name\", y=[\"resnet50_not_pretrained\", \"resnet50_pretrained_freeze\", \"resnet50_pretrained\"], cmap=\"rainbow\")\n",
    "plt.legend(bbox_to_anchor=(1.05, 1), loc='upper left')\n",
    "plt.ylabel(\"Precision\")\n",
    "plt.title(\"Precision per class\")\n",
    "plt.savefig(\"/home/tanida/workspace/Insect_Phenology_Detector/result/classification/compare_finetuning/compare_precision_resnet50.png\", bbox_inches=\"tight\")"
   ]
  },
  {
   "cell_type": "markdown",
   "metadata": {},
   "source": [
    "### --- compare accuracy distribution of size ---"
   ]
  },
  {
   "cell_type": "code",
   "execution_count": 9,
   "metadata": {},
   "outputs": [],
   "source": [
    "cls_each_size_df = pd.read_csv('/home/tanida/workspace/Insect_Phenology_Detector/figure/classification/ResNet101/resnet50_b20_r45_lr1e-5_crossvalid/each_size_df.csv')\n",
    "cls_each_size_df[\"order\"] = cls_each_size_df[\"Insect_size\"].apply(lambda x: np.floor(np.log2(x)))\n",
    "insect_size = np.asarray(cls_each_size_df[\"order\"])\n",
    "idx, count = np.unique(insect_size, return_counts=True)\n",
    "insect_size_df = pd.DataFrame({\"order\": idx, \"count\": count})"
   ]
  },
  {
   "cell_type": "code",
   "execution_count": 10,
   "metadata": {},
   "outputs": [],
   "source": [
    "resnet50_not_pretrained = pd.read_csv('/home/tanida/workspace/Insect_Phenology_Detector/figure/classification/ResNet101/resnet50_b20_r45_lr1e-5_crossvalid_not_pretrain/all_size_df.csv')\n",
    "resnet50_pretrained = pd.read_csv('/home/tanida/workspace/Insect_Phenology_Detector/figure/classification/ResNet101/resnet50_b20_r45_lr1e-5_crossvalid/all_size_df.csv')\n",
    "resnet50_pretrained_freeze = pd.read_csv('/home/tanida/workspace/Insect_Phenology_Detector/figure/classification/ResNet101/resnet50_b20_r45_lr1e-5_crossvalid_freeze/all_size_df.csv')"
   ]
  },
  {
   "cell_type": "code",
   "execution_count": 11,
   "metadata": {},
   "outputs": [],
   "source": [
    "resnet50_not_pretrained = resnet50_not_pretrained.drop(resnet50_not_pretrained.index[[0]])\n",
    "resnet50_pretrained_freeze = resnet50_pretrained_freeze.drop(resnet50_pretrained_freeze.index[[0]])\n",
    "resnet50_pretrained = resnet50_pretrained.drop(resnet50_pretrained.index[[0]])"
   ]
  },
  {
   "cell_type": "code",
   "execution_count": 12,
   "metadata": {},
   "outputs": [
    {
     "data": {
      "text/html": [
       "<div>\n",
       "<style scoped>\n",
       "    .dataframe tbody tr th:only-of-type {\n",
       "        vertical-align: middle;\n",
       "    }\n",
       "\n",
       "    .dataframe tbody tr th {\n",
       "        vertical-align: top;\n",
       "    }\n",
       "\n",
       "    .dataframe thead th {\n",
       "        text-align: right;\n",
       "    }\n",
       "</style>\n",
       "<table border=\"1\" class=\"dataframe\">\n",
       "  <thead>\n",
       "    <tr style=\"text-align: right;\">\n",
       "      <th></th>\n",
       "      <th>order</th>\n",
       "      <th>count</th>\n",
       "    </tr>\n",
       "  </thead>\n",
       "  <tbody>\n",
       "    <tr>\n",
       "      <td>0</td>\n",
       "      <td>1.0</td>\n",
       "      <td>1</td>\n",
       "    </tr>\n",
       "    <tr>\n",
       "      <td>1</td>\n",
       "      <td>7.0</td>\n",
       "      <td>12</td>\n",
       "    </tr>\n",
       "    <tr>\n",
       "      <td>2</td>\n",
       "      <td>8.0</td>\n",
       "      <td>51</td>\n",
       "    </tr>\n",
       "    <tr>\n",
       "      <td>3</td>\n",
       "      <td>9.0</td>\n",
       "      <td>127</td>\n",
       "    </tr>\n",
       "    <tr>\n",
       "      <td>4</td>\n",
       "      <td>10.0</td>\n",
       "      <td>236</td>\n",
       "    </tr>\n",
       "    <tr>\n",
       "      <td>5</td>\n",
       "      <td>11.0</td>\n",
       "      <td>290</td>\n",
       "    </tr>\n",
       "    <tr>\n",
       "      <td>6</td>\n",
       "      <td>12.0</td>\n",
       "      <td>310</td>\n",
       "    </tr>\n",
       "    <tr>\n",
       "      <td>7</td>\n",
       "      <td>13.0</td>\n",
       "      <td>209</td>\n",
       "    </tr>\n",
       "    <tr>\n",
       "      <td>8</td>\n",
       "      <td>14.0</td>\n",
       "      <td>78</td>\n",
       "    </tr>\n",
       "    <tr>\n",
       "      <td>9</td>\n",
       "      <td>15.0</td>\n",
       "      <td>10</td>\n",
       "    </tr>\n",
       "  </tbody>\n",
       "</table>\n",
       "</div>"
      ],
      "text/plain": [
       "   order  count\n",
       "0    1.0      1\n",
       "1    7.0     12\n",
       "2    8.0     51\n",
       "3    9.0    127\n",
       "4   10.0    236\n",
       "5   11.0    290\n",
       "6   12.0    310\n",
       "7   13.0    209\n",
       "8   14.0     78\n",
       "9   15.0     10"
      ]
     },
     "execution_count": 12,
     "metadata": {},
     "output_type": "execute_result"
    }
   ],
   "source": [
    "insect_size_df"
   ]
  },
  {
   "cell_type": "code",
   "execution_count": 13,
   "metadata": {},
   "outputs": [
    {
     "data": {
      "text/html": [
       "<div>\n",
       "<style scoped>\n",
       "    .dataframe tbody tr th:only-of-type {\n",
       "        vertical-align: middle;\n",
       "    }\n",
       "\n",
       "    .dataframe tbody tr th {\n",
       "        vertical-align: top;\n",
       "    }\n",
       "\n",
       "    .dataframe thead th {\n",
       "        text-align: right;\n",
       "    }\n",
       "</style>\n",
       "<table border=\"1\" class=\"dataframe\">\n",
       "  <thead>\n",
       "    <tr style=\"text-align: right;\">\n",
       "      <th></th>\n",
       "      <th>order</th>\n",
       "      <th>resnet50_not_pretrained</th>\n",
       "      <th>Insect_size</th>\n",
       "      <th>order.1</th>\n",
       "      <th>resnet50_pretrained_freeze</th>\n",
       "      <th>resnet50_pretrained</th>\n",
       "    </tr>\n",
       "  </thead>\n",
       "  <tbody>\n",
       "    <tr>\n",
       "      <td>1</td>\n",
       "      <td>7.0</td>\n",
       "      <td>1.000000</td>\n",
       "      <td>205.833333</td>\n",
       "      <td>7.0</td>\n",
       "      <td>0.916667</td>\n",
       "      <td>1.000000</td>\n",
       "    </tr>\n",
       "    <tr>\n",
       "      <td>2</td>\n",
       "      <td>8.0</td>\n",
       "      <td>0.862745</td>\n",
       "      <td>395.039216</td>\n",
       "      <td>8.0</td>\n",
       "      <td>0.705882</td>\n",
       "      <td>0.901961</td>\n",
       "    </tr>\n",
       "    <tr>\n",
       "      <td>3</td>\n",
       "      <td>9.0</td>\n",
       "      <td>0.503937</td>\n",
       "      <td>770.850394</td>\n",
       "      <td>9.0</td>\n",
       "      <td>0.535433</td>\n",
       "      <td>0.716535</td>\n",
       "    </tr>\n",
       "    <tr>\n",
       "      <td>4</td>\n",
       "      <td>10.0</td>\n",
       "      <td>0.343220</td>\n",
       "      <td>1504.529661</td>\n",
       "      <td>10.0</td>\n",
       "      <td>0.423729</td>\n",
       "      <td>0.805085</td>\n",
       "    </tr>\n",
       "    <tr>\n",
       "      <td>5</td>\n",
       "      <td>11.0</td>\n",
       "      <td>0.396552</td>\n",
       "      <td>2941.368966</td>\n",
       "      <td>11.0</td>\n",
       "      <td>0.565517</td>\n",
       "      <td>0.875862</td>\n",
       "    </tr>\n",
       "    <tr>\n",
       "      <td>6</td>\n",
       "      <td>12.0</td>\n",
       "      <td>0.654839</td>\n",
       "      <td>5934.145161</td>\n",
       "      <td>12.0</td>\n",
       "      <td>0.780645</td>\n",
       "      <td>0.938710</td>\n",
       "    </tr>\n",
       "    <tr>\n",
       "      <td>7</td>\n",
       "      <td>13.0</td>\n",
       "      <td>0.732057</td>\n",
       "      <td>11264.789474</td>\n",
       "      <td>13.0</td>\n",
       "      <td>0.822967</td>\n",
       "      <td>0.956938</td>\n",
       "    </tr>\n",
       "    <tr>\n",
       "      <td>8</td>\n",
       "      <td>14.0</td>\n",
       "      <td>0.705128</td>\n",
       "      <td>22344.653846</td>\n",
       "      <td>14.0</td>\n",
       "      <td>0.628205</td>\n",
       "      <td>0.961538</td>\n",
       "    </tr>\n",
       "    <tr>\n",
       "      <td>9</td>\n",
       "      <td>15.0</td>\n",
       "      <td>0.600000</td>\n",
       "      <td>34865.400000</td>\n",
       "      <td>15.0</td>\n",
       "      <td>0.700000</td>\n",
       "      <td>0.900000</td>\n",
       "    </tr>\n",
       "  </tbody>\n",
       "</table>\n",
       "</div>"
      ],
      "text/plain": [
       "   order  resnet50_not_pretrained   Insect_size  order.1  \\\n",
       "1    7.0                 1.000000    205.833333      7.0   \n",
       "2    8.0                 0.862745    395.039216      8.0   \n",
       "3    9.0                 0.503937    770.850394      9.0   \n",
       "4   10.0                 0.343220   1504.529661     10.0   \n",
       "5   11.0                 0.396552   2941.368966     11.0   \n",
       "6   12.0                 0.654839   5934.145161     12.0   \n",
       "7   13.0                 0.732057  11264.789474     13.0   \n",
       "8   14.0                 0.705128  22344.653846     14.0   \n",
       "9   15.0                 0.600000  34865.400000     15.0   \n",
       "\n",
       "   resnet50_pretrained_freeze  resnet50_pretrained  \n",
       "1                    0.916667             1.000000  \n",
       "2                    0.705882             0.901961  \n",
       "3                    0.535433             0.716535  \n",
       "4                    0.423729             0.805085  \n",
       "5                    0.565517             0.875862  \n",
       "6                    0.780645             0.938710  \n",
       "7                    0.822967             0.956938  \n",
       "8                    0.628205             0.961538  \n",
       "9                    0.700000             0.900000  "
      ]
     },
     "execution_count": 13,
     "metadata": {},
     "output_type": "execute_result"
    }
   ],
   "source": [
    "all_df = resnet50_not_pretrained\n",
    "all_df = all_df.rename(columns={'Accuracy': 'resnet50_not_pretrained'})\n",
    "all_df = all_df.assign(resnet50_pretrained_freeze=resnet50_pretrained_freeze[\"Accuracy\"])\n",
    "all_df = all_df.assign(resnet50_pretrained=resnet50_pretrained[\"Accuracy\"])\n",
    "all_df"
   ]
  },
  {
   "cell_type": "code",
   "execution_count": 14,
   "metadata": {},
   "outputs": [
    {
     "data": {
      "image/png": "[encoded data removed]",
      "text/plain": [
       "<Figure size 432x288 with 1 Axes>"
      ]
     },
     "metadata": {
      "needs_background": "light"
     },
     "output_type": "display_data"
    }
   ],
   "source": [
    "all_df.plot(x=\"Insect_size\", y=[\"resnet50_not_pretrained\", \"resnet50_pretrained_freeze\", \"resnet50_pretrained\"], logx=True, legend=True, cmap=\"rainbow\")\n",
    "plt.ylabel(\"Precision\")\n",
    "plt.title(\"Precision distribution of size\")\n",
    "plt.ylim(0.0, 1.01)\n",
    "plt.savefig(\"/home/tanida/workspace/Insect_Phenology_Detector/result/classification/compare_finetuning/compare_precision_distrib_of_size.png\", bbox_inches=\"tight\")"
   ]
  }
 ],
 "metadata": {
  "kernelspec": {
   "display_name": "pytorch_040",
   "language": "python",
   "name": "pytorch_040"
  },
  "language_info": {
   "codemirror_mode": {
    "name": "ipython",
    "version": 3
   },
   "file_extension": ".py",
   "mimetype": "text/x-python",
   "name": "python",
   "nbconvert_exporter": "python",
   "pygments_lexer": "ipython3",
   "version": "3.7.4"
  }
 },
 "nbformat": 4,
 "nbformat_minor": 4
}
