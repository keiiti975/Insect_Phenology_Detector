{
 "cells": [
  {
   "cell_type": "code",
   "execution_count": 1,
   "metadata": {},
   "outputs": [],
   "source": [
    "import os\n",
    "from os.path import join as pj\n",
    "import numpy as np\n",
    "import pandas as pd\n",
    "import matplotlib.pyplot as plt\n",
    "# Statistics\n",
    "from evaluation.classification.statistics import compute_all_size_df, get_precisions\n",
    "plt.style.use(\"ggplot\")\n",
    "%matplotlib inline"
   ]
  },
  {
   "cell_type": "markdown",
   "metadata": {},
   "source": [
    "### --- compare accuracy per class ---"
   ]
  },
  {
   "cell_type": "code",
   "execution_count": 2,
   "metadata": {},
   "outputs": [],
   "source": [
    "resnet50 = pd.read_csv('/home/tanida/workspace/Insect_Phenology_Detector/figure/classification/ResNet101/resnet50_b20_r45_lr1e-5_crossvalid/validation_matrix.csv')\n",
    "resnet50_resize_fix_aspect_ratio = pd.read_csv('/home/tanida/workspace/Insect_Phenology_Detector/figure/classification/ResNet101/resnet50_b20_r45_lr1e-5_crossvalid_resize/validation_matrix.csv')\n",
    "resnet50_resize = pd.read_csv('/home/tanida/workspace/Insect_Phenology_Detector/figure/classification/ResNet101/resnet50_b20_r45_lr1e-5_resize_crossvalid/validation_matrix.csv')"
   ]
  },
  {
   "cell_type": "code",
   "execution_count": 3,
   "metadata": {},
   "outputs": [],
   "source": [
    "resnet50_precisions = get_precisions(resnet50)\n",
    "resnet50_resize_fix_aspect_ratio_precisions = get_precisions(resnet50_resize_fix_aspect_ratio)\n",
    "resnet50_resize_precisions = get_precisions(resnet50_resize)"
   ]
  },
  {
   "cell_type": "code",
   "execution_count": 4,
   "metadata": {},
   "outputs": [],
   "source": [
    "exp_name = [\"resnet50\", \"resnet50_resize_fix_aspect_ratio\", \"resnet50_resize\"]\n",
    "exp_ap = [resnet50_precisions.mean(), resnet50_resize_fix_aspect_ratio_precisions.mean(), resnet50_resize_precisions.mean()]"
   ]
  },
  {
   "cell_type": "code",
   "execution_count": 5,
   "metadata": {},
   "outputs": [
    {
     "data": {
      "text/html": [
       "<div>\n",
       "<style scoped>\n",
       "    .dataframe tbody tr th:only-of-type {\n",
       "        vertical-align: middle;\n",
       "    }\n",
       "\n",
       "    .dataframe tbody tr th {\n",
       "        vertical-align: top;\n",
       "    }\n",
       "\n",
       "    .dataframe thead th {\n",
       "        text-align: right;\n",
       "    }\n",
       "</style>\n",
       "<table border=\"1\" class=\"dataframe\">\n",
       "  <thead>\n",
       "    <tr style=\"text-align: right;\">\n",
       "      <th></th>\n",
       "      <th>exp_name</th>\n",
       "      <th>exp_ap</th>\n",
       "    </tr>\n",
       "  </thead>\n",
       "  <tbody>\n",
       "    <tr>\n",
       "      <td>0</td>\n",
       "      <td>resnet50</td>\n",
       "      <td>0.878885</td>\n",
       "    </tr>\n",
       "    <tr>\n",
       "      <td>1</td>\n",
       "      <td>resnet50_resize_fix_aspect_ratio</td>\n",
       "      <td>0.901115</td>\n",
       "    </tr>\n",
       "    <tr>\n",
       "      <td>2</td>\n",
       "      <td>resnet50_resize</td>\n",
       "      <td>0.889117</td>\n",
       "    </tr>\n",
       "  </tbody>\n",
       "</table>\n",
       "</div>"
      ],
      "text/plain": [
       "                           exp_name    exp_ap\n",
       "0                          resnet50  0.878885\n",
       "1  resnet50_resize_fix_aspect_ratio  0.901115\n",
       "2                   resnet50_resize  0.889117"
      ]
     },
     "execution_count": 5,
     "metadata": {},
     "output_type": "execute_result"
    }
   ],
   "source": [
    "df = pd.DataFrame({\"exp_name\": exp_name, \"exp_ap\": exp_ap})\n",
    "df"
   ]
  },
  {
   "cell_type": "code",
   "execution_count": 6,
   "metadata": {},
   "outputs": [],
   "source": [
    "df_per_label = pd.DataFrame({\"resnet50\": resnet50_precisions, \"resnet50_resize_fix_aspect_ratio\": resnet50_resize_fix_aspect_ratio_precisions, \"resnet50_resize\": resnet50_resize_precisions})\n",
    "df_per_label['Name'] = ['Diptera', 'Ephemeridae', 'Ephemeroptera', 'Lepidoptera', 'Plecoptera', 'Trichoptera']"
   ]
  },
  {
   "cell_type": "code",
   "execution_count": 7,
   "metadata": {},
   "outputs": [
    {
     "data": {
      "text/html": [
       "<div>\n",
       "<style scoped>\n",
       "    .dataframe tbody tr th:only-of-type {\n",
       "        vertical-align: middle;\n",
       "    }\n",
       "\n",
       "    .dataframe tbody tr th {\n",
       "        vertical-align: top;\n",
       "    }\n",
       "\n",
       "    .dataframe thead th {\n",
       "        text-align: right;\n",
       "    }\n",
       "</style>\n",
       "<table border=\"1\" class=\"dataframe\">\n",
       "  <thead>\n",
       "    <tr style=\"text-align: right;\">\n",
       "      <th></th>\n",
       "      <th>resnet50</th>\n",
       "      <th>resnet50_resize_fix_aspect_ratio</th>\n",
       "      <th>resnet50_resize</th>\n",
       "      <th>Name</th>\n",
       "    </tr>\n",
       "  </thead>\n",
       "  <tbody>\n",
       "    <tr>\n",
       "      <td>0</td>\n",
       "      <td>0.926471</td>\n",
       "      <td>0.960784</td>\n",
       "      <td>0.928922</td>\n",
       "      <td>Diptera</td>\n",
       "    </tr>\n",
       "    <tr>\n",
       "      <td>1</td>\n",
       "      <td>0.960784</td>\n",
       "      <td>0.941176</td>\n",
       "      <td>0.960784</td>\n",
       "      <td>Ephemeridae</td>\n",
       "    </tr>\n",
       "    <tr>\n",
       "      <td>2</td>\n",
       "      <td>0.764045</td>\n",
       "      <td>0.820225</td>\n",
       "      <td>0.752809</td>\n",
       "      <td>Ephemeroptera</td>\n",
       "    </tr>\n",
       "    <tr>\n",
       "      <td>3</td>\n",
       "      <td>0.887640</td>\n",
       "      <td>0.932584</td>\n",
       "      <td>0.880150</td>\n",
       "      <td>Lepidoptera</td>\n",
       "    </tr>\n",
       "    <tr>\n",
       "      <td>4</td>\n",
       "      <td>0.823077</td>\n",
       "      <td>0.876923</td>\n",
       "      <td>0.884615</td>\n",
       "      <td>Plecoptera</td>\n",
       "    </tr>\n",
       "    <tr>\n",
       "      <td>5</td>\n",
       "      <td>0.911290</td>\n",
       "      <td>0.875000</td>\n",
       "      <td>0.927419</td>\n",
       "      <td>Trichoptera</td>\n",
       "    </tr>\n",
       "  </tbody>\n",
       "</table>\n",
       "</div>"
      ],
      "text/plain": [
       "   resnet50  resnet50_resize_fix_aspect_ratio  resnet50_resize           Name\n",
       "0  0.926471                          0.960784         0.928922        Diptera\n",
       "1  0.960784                          0.941176         0.960784    Ephemeridae\n",
       "2  0.764045                          0.820225         0.752809  Ephemeroptera\n",
       "3  0.887640                          0.932584         0.880150    Lepidoptera\n",
       "4  0.823077                          0.876923         0.884615     Plecoptera\n",
       "5  0.911290                          0.875000         0.927419    Trichoptera"
      ]
     },
     "execution_count": 7,
     "metadata": {},
     "output_type": "execute_result"
    }
   ],
   "source": [
    "df_per_label"
   ]
  },
  {
   "cell_type": "code",
   "execution_count": 8,
   "metadata": {},
   "outputs": [
    {
     "data": {
      "image/png": "[encoded data removed]",
      "text/plain": [
       "<Figure size 432x288 with 1 Axes>"
      ]
     },
     "metadata": {
      "needs_background": "light"
     },
     "output_type": "display_data"
    }
   ],
   "source": [
    "df_per_label.plot(kind=\"bar\", x=\"Name\", y=[\"resnet50\", \"resnet50_resize_fix_aspect_ratio\", \"resnet50_resize\"], cmap=\"rainbow\")\n",
    "plt.legend(bbox_to_anchor=(1.05, 1), loc='upper left')\n",
    "plt.ylabel(\"Precision\")\n",
    "plt.title(\"Precision per class\")\n",
    "plt.savefig(\"/home/tanida/workspace/Insect_Phenology_Detector/result/classification/compare_insect_resize/compare_precision_resnet50.png\", bbox_inches=\"tight\")"
   ]
  },
  {
   "cell_type": "markdown",
   "metadata": {},
   "source": [
    "### --- compare accuracy per size ---"
   ]
  },
  {
   "cell_type": "code",
   "execution_count": 9,
   "metadata": {},
   "outputs": [],
   "source": [
    "resnet50 = pd.read_csv('/home/tanida/workspace/Insect_Phenology_Detector/figure/classification/ResNet101/resnet50_b20_r45_lr1e-5_crossvalid/each_size_df.csv')\n",
    "resnet50_resize_fix_aspect_ratio = pd.read_csv('/home/tanida/workspace/Insect_Phenology_Detector/figure/classification/ResNet101/resnet50_b20_r45_lr1e-5_crossvalid_resize/each_size_df.csv')\n",
    "resnet50_resize  = pd.read_csv('/home/tanida/workspace/Insect_Phenology_Detector/figure/classification/ResNet101/resnet50_b20_r45_lr1e-5_resize_crossvalid/each_size_df.csv')\n",
    "new_resnet50_resize_fix_aspect_ratio = pd.DataFrame({\"Accuracy\": resnet50_resize_fix_aspect_ratio[\"Accuracy\"].values, \"Insect_size\": resnet50[\"Insect_size\"].values})\n",
    "new_resnet50_resize = pd.DataFrame({\"Accuracy\": resnet50_resize[\"Accuracy\"].values, \"Insect_size\": resnet50[\"Insect_size\"].values})\n",
    "resnet50_resize_fix_aspect_ratio = compute_all_size_df(new_resnet50_resize_fix_aspect_ratio)\n",
    "resnet50_resize = compute_all_size_df(new_resnet50_resize)\n",
    "resnet50 = pd.read_csv('/home/tanida/workspace/Insect_Phenology_Detector/figure/classification/ResNet101/resnet50_b20_r45_lr1e-5_crossvalid/all_size_df.csv')"
   ]
  },
  {
   "cell_type": "code",
   "execution_count": 12,
   "metadata": {},
   "outputs": [],
   "source": [
    "resnet50 = resnet50.drop(resnet50.index[[0]])\n",
    "resnet50_resize_fix_aspect_ratio = resnet50_resize_fix_aspect_ratio.drop(resnet50_resize_fix_aspect_ratio.index[[0]])\n",
    "resnet50_resize = resnet50_resize.drop(resnet50_resize.index[[0]])"
   ]
  },
  {
   "cell_type": "code",
   "execution_count": 13,
   "metadata": {},
   "outputs": [
    {
     "data": {
      "text/html": [
       "<div>\n",
       "<style scoped>\n",
       "    .dataframe tbody tr th:only-of-type {\n",
       "        vertical-align: middle;\n",
       "    }\n",
       "\n",
       "    .dataframe tbody tr th {\n",
       "        vertical-align: top;\n",
       "    }\n",
       "\n",
       "    .dataframe thead th {\n",
       "        text-align: right;\n",
       "    }\n",
       "</style>\n",
       "<table border=\"1\" class=\"dataframe\">\n",
       "  <thead>\n",
       "    <tr style=\"text-align: right;\">\n",
       "      <th></th>\n",
       "      <th>Unnamed: 0</th>\n",
       "      <th>order</th>\n",
       "      <th>resnet50</th>\n",
       "      <th>Insect_size</th>\n",
       "      <th>resnet50_resize_fix_aspect_ratio</th>\n",
       "      <th>resnet50_resize</th>\n",
       "    </tr>\n",
       "  </thead>\n",
       "  <tbody>\n",
       "    <tr>\n",
       "      <td>1</td>\n",
       "      <td>1</td>\n",
       "      <td>7.0</td>\n",
       "      <td>1.000000</td>\n",
       "      <td>208.900000</td>\n",
       "      <td>1.000000</td>\n",
       "      <td>0.800000</td>\n",
       "    </tr>\n",
       "    <tr>\n",
       "      <td>2</td>\n",
       "      <td>2</td>\n",
       "      <td>8.0</td>\n",
       "      <td>0.883721</td>\n",
       "      <td>400.651163</td>\n",
       "      <td>0.906977</td>\n",
       "      <td>0.860465</td>\n",
       "    </tr>\n",
       "    <tr>\n",
       "      <td>3</td>\n",
       "      <td>3</td>\n",
       "      <td>9.0</td>\n",
       "      <td>0.761468</td>\n",
       "      <td>778.706422</td>\n",
       "      <td>0.779817</td>\n",
       "      <td>0.752294</td>\n",
       "    </tr>\n",
       "    <tr>\n",
       "      <td>4</td>\n",
       "      <td>4</td>\n",
       "      <td>10.0</td>\n",
       "      <td>0.812227</td>\n",
       "      <td>1510.864629</td>\n",
       "      <td>0.860262</td>\n",
       "      <td>0.838428</td>\n",
       "    </tr>\n",
       "    <tr>\n",
       "      <td>5</td>\n",
       "      <td>5</td>\n",
       "      <td>11.0</td>\n",
       "      <td>0.855634</td>\n",
       "      <td>2949.616197</td>\n",
       "      <td>0.890845</td>\n",
       "      <td>0.894366</td>\n",
       "    </tr>\n",
       "    <tr>\n",
       "      <td>6</td>\n",
       "      <td>6</td>\n",
       "      <td>12.0</td>\n",
       "      <td>0.932039</td>\n",
       "      <td>5938.822006</td>\n",
       "      <td>0.961165</td>\n",
       "      <td>0.928803</td>\n",
       "    </tr>\n",
       "    <tr>\n",
       "      <td>7</td>\n",
       "      <td>7</td>\n",
       "      <td>13.0</td>\n",
       "      <td>0.971292</td>\n",
       "      <td>11264.789474</td>\n",
       "      <td>0.971292</td>\n",
       "      <td>0.956938</td>\n",
       "    </tr>\n",
       "    <tr>\n",
       "      <td>8</td>\n",
       "      <td>8</td>\n",
       "      <td>14.0</td>\n",
       "      <td>0.948718</td>\n",
       "      <td>22344.653846</td>\n",
       "      <td>0.948718</td>\n",
       "      <td>0.935897</td>\n",
       "    </tr>\n",
       "    <tr>\n",
       "      <td>9</td>\n",
       "      <td>9</td>\n",
       "      <td>15.0</td>\n",
       "      <td>0.800000</td>\n",
       "      <td>34865.400000</td>\n",
       "      <td>0.800000</td>\n",
       "      <td>0.900000</td>\n",
       "    </tr>\n",
       "  </tbody>\n",
       "</table>\n",
       "</div>"
      ],
      "text/plain": [
       "   Unnamed: 0  order  resnet50   Insect_size  \\\n",
       "1           1    7.0  1.000000    208.900000   \n",
       "2           2    8.0  0.883721    400.651163   \n",
       "3           3    9.0  0.761468    778.706422   \n",
       "4           4   10.0  0.812227   1510.864629   \n",
       "5           5   11.0  0.855634   2949.616197   \n",
       "6           6   12.0  0.932039   5938.822006   \n",
       "7           7   13.0  0.971292  11264.789474   \n",
       "8           8   14.0  0.948718  22344.653846   \n",
       "9           9   15.0  0.800000  34865.400000   \n",
       "\n",
       "   resnet50_resize_fix_aspect_ratio  resnet50_resize  \n",
       "1                          1.000000         0.800000  \n",
       "2                          0.906977         0.860465  \n",
       "3                          0.779817         0.752294  \n",
       "4                          0.860262         0.838428  \n",
       "5                          0.890845         0.894366  \n",
       "6                          0.961165         0.928803  \n",
       "7                          0.971292         0.956938  \n",
       "8                          0.948718         0.935897  \n",
       "9                          0.800000         0.900000  "
      ]
     },
     "execution_count": 13,
     "metadata": {},
     "output_type": "execute_result"
    }
   ],
   "source": [
    "all_df = resnet50\n",
    "all_df = all_df.rename(columns={'Accuracy': 'resnet50'})\n",
    "all_df = all_df.assign(resnet50_resize_fix_aspect_ratio=resnet50_resize_fix_aspect_ratio[\"Accuracy\"])\n",
    "all_df = all_df.assign(resnet50_resize=resnet50_resize[\"Accuracy\"])\n",
    "all_df"
   ]
  },
  {
   "cell_type": "code",
   "execution_count": 14,
   "metadata": {},
   "outputs": [
    {
     "data": {
      "image/png": "[encoded data removed]",
      "text/plain": [
       "<Figure size 432x288 with 1 Axes>"
      ]
     },
     "metadata": {
      "needs_background": "light"
     },
     "output_type": "display_data"
    }
   ],
   "source": [
    "all_df.plot(x=\"Insect_size\", y=[\"resnet50\", \"resnet50_resize_fix_aspect_ratio\", \"resnet50_resize\"], logx=True, legend=True, cmap=\"rainbow\")\n",
    "plt.ylabel(\"Precision\")\n",
    "plt.title(\"Precision distribution of size\")\n",
    "plt.ylim(0.0, 1.01)\n",
    "plt.savefig(\"/home/tanida/workspace/Insect_Phenology_Detector/result/classification/compare_insect_resize/compare_precision_distrib_of_size.png\", bbox_inches=\"tight\")"
   ]
  }
 ],
 "metadata": {
  "kernelspec": {
   "display_name": "pytorch_040",
   "language": "python",
   "name": "pytorch_040"
  },
  "language_info": {
   "codemirror_mode": {
    "name": "ipython",
    "version": 3
   },
   "file_extension": ".py",
   "mimetype": "text/x-python",
   "name": "python",
   "nbconvert_exporter": "python",
   "pygments_lexer": "ipython3",
   "version": "3.7.4"
  }
 },
 "nbformat": 4,
 "nbformat_minor": 4
}
