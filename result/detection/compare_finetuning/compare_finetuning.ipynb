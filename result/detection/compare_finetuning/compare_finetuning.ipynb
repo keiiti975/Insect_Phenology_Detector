{
 "cells": [
  {
   "cell_type": "code",
   "execution_count": 1,
   "metadata": {},
   "outputs": [],
   "source": [
    "import os\n",
    "from os.path import join as pj\n",
    "import numpy as np\n",
    "import pandas as pd\n",
    "import matplotlib.pyplot as plt\n",
    "plt.style.use(\"ggplot\")\n",
    "%matplotlib inline"
   ]
  },
  {
   "cell_type": "markdown",
   "metadata": {},
   "source": [
    "### --- compare accuracy distribution of size ---"
   ]
  },
  {
   "cell_type": "code",
   "execution_count": 2,
   "metadata": {},
   "outputs": [],
   "source": [
    "det_each_size_df = pd.read_csv('/home/tanida/workspace/Insect_Phenology_Detector/figure/detection/RefineDet/crop_b2_2_4_8_16_32_im512_freeze/each_size_df.csv')\n",
    "det_each_size_df[\"order\"] = det_each_size_df[\"Insect_size\"].apply(lambda x: np.floor(np.log2(x)))\n",
    "insect_size = np.asarray(det_each_size_df[\"order\"])\n",
    "idx, count = np.unique(insect_size, return_counts=True)\n",
    "insect_size_df = pd.DataFrame({\"order\": idx, \"count\": count})"
   ]
  },
  {
   "cell_type": "code",
   "execution_count": 3,
   "metadata": {},
   "outputs": [],
   "source": [
    "refinedet_not_pretrained = pd.read_csv('/home/tanida/workspace/Insect_Phenology_Detector/figure/detection/RefineDet/crop_b2_2_4_8_16_32_im512_not_pretrain/accuracy_distribution_of_size.csv')\n",
    "refinedet_pretrained = pd.read_csv('/home/tanida/workspace/Insect_Phenology_Detector/figure/detection/RefineDet/crop_b2_2_4_8_16_32_im512/accuracy_distribution_of_size.csv')\n",
    "refinedet_pretrained_freeze = pd.read_csv('/home/tanida/workspace/Insect_Phenology_Detector/figure/detection/RefineDet/crop_b2_2_4_8_16_32_im512_freeze/all_size_df.csv')"
   ]
  },
  {
   "cell_type": "code",
   "execution_count": 4,
   "metadata": {},
   "outputs": [
    {
     "data": {
      "text/html": [
       "<div>\n",
       "<style scoped>\n",
       "    .dataframe tbody tr th:only-of-type {\n",
       "        vertical-align: middle;\n",
       "    }\n",
       "\n",
       "    .dataframe tbody tr th {\n",
       "        vertical-align: top;\n",
       "    }\n",
       "\n",
       "    .dataframe thead th {\n",
       "        text-align: right;\n",
       "    }\n",
       "</style>\n",
       "<table border=\"1\" class=\"dataframe\">\n",
       "  <thead>\n",
       "    <tr style=\"text-align: right;\">\n",
       "      <th></th>\n",
       "      <th>order</th>\n",
       "      <th>count</th>\n",
       "    </tr>\n",
       "  </thead>\n",
       "  <tbody>\n",
       "    <tr>\n",
       "      <td>0</td>\n",
       "      <td>7.0</td>\n",
       "      <td>15</td>\n",
       "    </tr>\n",
       "    <tr>\n",
       "      <td>1</td>\n",
       "      <td>8.0</td>\n",
       "      <td>181</td>\n",
       "    </tr>\n",
       "    <tr>\n",
       "      <td>2</td>\n",
       "      <td>9.0</td>\n",
       "      <td>189</td>\n",
       "    </tr>\n",
       "    <tr>\n",
       "      <td>3</td>\n",
       "      <td>10.0</td>\n",
       "      <td>84</td>\n",
       "    </tr>\n",
       "    <tr>\n",
       "      <td>4</td>\n",
       "      <td>11.0</td>\n",
       "      <td>50</td>\n",
       "    </tr>\n",
       "    <tr>\n",
       "      <td>5</td>\n",
       "      <td>12.0</td>\n",
       "      <td>38</td>\n",
       "    </tr>\n",
       "    <tr>\n",
       "      <td>6</td>\n",
       "      <td>13.0</td>\n",
       "      <td>47</td>\n",
       "    </tr>\n",
       "    <tr>\n",
       "      <td>7</td>\n",
       "      <td>14.0</td>\n",
       "      <td>16</td>\n",
       "    </tr>\n",
       "    <tr>\n",
       "      <td>8</td>\n",
       "      <td>15.0</td>\n",
       "      <td>3</td>\n",
       "    </tr>\n",
       "  </tbody>\n",
       "</table>\n",
       "</div>"
      ],
      "text/plain": [
       "   order  count\n",
       "0    7.0     15\n",
       "1    8.0    181\n",
       "2    9.0    189\n",
       "3   10.0     84\n",
       "4   11.0     50\n",
       "5   12.0     38\n",
       "6   13.0     47\n",
       "7   14.0     16\n",
       "8   15.0      3"
      ]
     },
     "execution_count": 4,
     "metadata": {},
     "output_type": "execute_result"
    }
   ],
   "source": [
    "insect_size_df"
   ]
  },
  {
   "cell_type": "code",
   "execution_count": 5,
   "metadata": {},
   "outputs": [
    {
     "data": {
      "text/html": [
       "<div>\n",
       "<style scoped>\n",
       "    .dataframe tbody tr th:only-of-type {\n",
       "        vertical-align: middle;\n",
       "    }\n",
       "\n",
       "    .dataframe tbody tr th {\n",
       "        vertical-align: top;\n",
       "    }\n",
       "\n",
       "    .dataframe thead th {\n",
       "        text-align: right;\n",
       "    }\n",
       "</style>\n",
       "<table border=\"1\" class=\"dataframe\">\n",
       "  <thead>\n",
       "    <tr style=\"text-align: right;\">\n",
       "      <th></th>\n",
       "      <th>order</th>\n",
       "      <th>refinedet_not_pretrained</th>\n",
       "      <th>Insect_size</th>\n",
       "      <th>order.1</th>\n",
       "      <th>refinedet_pretrained_freeze</th>\n",
       "      <th>refinedet_pretrained</th>\n",
       "    </tr>\n",
       "  </thead>\n",
       "  <tbody>\n",
       "    <tr>\n",
       "      <td>0</td>\n",
       "      <td>7.0</td>\n",
       "      <td>1.000000</td>\n",
       "      <td>224.800000</td>\n",
       "      <td>7.0</td>\n",
       "      <td>0.800000</td>\n",
       "      <td>0.933333</td>\n",
       "    </tr>\n",
       "    <tr>\n",
       "      <td>1</td>\n",
       "      <td>8.0</td>\n",
       "      <td>1.000000</td>\n",
       "      <td>394.436464</td>\n",
       "      <td>8.0</td>\n",
       "      <td>0.944751</td>\n",
       "      <td>1.000000</td>\n",
       "    </tr>\n",
       "    <tr>\n",
       "      <td>2</td>\n",
       "      <td>9.0</td>\n",
       "      <td>0.978836</td>\n",
       "      <td>726.137566</td>\n",
       "      <td>9.0</td>\n",
       "      <td>0.873016</td>\n",
       "      <td>0.994709</td>\n",
       "    </tr>\n",
       "    <tr>\n",
       "      <td>3</td>\n",
       "      <td>10.0</td>\n",
       "      <td>0.964286</td>\n",
       "      <td>1420.392857</td>\n",
       "      <td>10.0</td>\n",
       "      <td>0.857143</td>\n",
       "      <td>0.988095</td>\n",
       "    </tr>\n",
       "    <tr>\n",
       "      <td>4</td>\n",
       "      <td>11.0</td>\n",
       "      <td>0.960000</td>\n",
       "      <td>2870.260000</td>\n",
       "      <td>11.0</td>\n",
       "      <td>0.880000</td>\n",
       "      <td>0.980000</td>\n",
       "    </tr>\n",
       "    <tr>\n",
       "      <td>5</td>\n",
       "      <td>12.0</td>\n",
       "      <td>0.894737</td>\n",
       "      <td>6288.526316</td>\n",
       "      <td>12.0</td>\n",
       "      <td>0.789474</td>\n",
       "      <td>0.973684</td>\n",
       "    </tr>\n",
       "    <tr>\n",
       "      <td>6</td>\n",
       "      <td>13.0</td>\n",
       "      <td>0.872340</td>\n",
       "      <td>11189.978723</td>\n",
       "      <td>13.0</td>\n",
       "      <td>0.851064</td>\n",
       "      <td>0.957447</td>\n",
       "    </tr>\n",
       "    <tr>\n",
       "      <td>7</td>\n",
       "      <td>14.0</td>\n",
       "      <td>0.875000</td>\n",
       "      <td>22611.437500</td>\n",
       "      <td>14.0</td>\n",
       "      <td>0.875000</td>\n",
       "      <td>1.000000</td>\n",
       "    </tr>\n",
       "    <tr>\n",
       "      <td>8</td>\n",
       "      <td>15.0</td>\n",
       "      <td>1.000000</td>\n",
       "      <td>37326.666667</td>\n",
       "      <td>15.0</td>\n",
       "      <td>0.333333</td>\n",
       "      <td>1.000000</td>\n",
       "    </tr>\n",
       "  </tbody>\n",
       "</table>\n",
       "</div>"
      ],
      "text/plain": [
       "   order  refinedet_not_pretrained   Insect_size  order.1  \\\n",
       "0    7.0                  1.000000    224.800000      7.0   \n",
       "1    8.0                  1.000000    394.436464      8.0   \n",
       "2    9.0                  0.978836    726.137566      9.0   \n",
       "3   10.0                  0.964286   1420.392857     10.0   \n",
       "4   11.0                  0.960000   2870.260000     11.0   \n",
       "5   12.0                  0.894737   6288.526316     12.0   \n",
       "6   13.0                  0.872340  11189.978723     13.0   \n",
       "7   14.0                  0.875000  22611.437500     14.0   \n",
       "8   15.0                  1.000000  37326.666667     15.0   \n",
       "\n",
       "   refinedet_pretrained_freeze  refinedet_pretrained  \n",
       "0                     0.800000              0.933333  \n",
       "1                     0.944751              1.000000  \n",
       "2                     0.873016              0.994709  \n",
       "3                     0.857143              0.988095  \n",
       "4                     0.880000              0.980000  \n",
       "5                     0.789474              0.973684  \n",
       "6                     0.851064              0.957447  \n",
       "7                     0.875000              1.000000  \n",
       "8                     0.333333              1.000000  "
      ]
     },
     "execution_count": 5,
     "metadata": {},
     "output_type": "execute_result"
    }
   ],
   "source": [
    "all_df = refinedet_not_pretrained\n",
    "all_df = all_df.rename(columns={'Accuracy': 'refinedet_not_pretrained'})\n",
    "all_df = all_df.assign(refinedet_pretrained_freeze=refinedet_pretrained_freeze[\"Accuracy\"])\n",
    "all_df = all_df.assign(refinedet_pretrained=refinedet_pretrained[\"Accuracy\"])\n",
    "all_df"
   ]
  },
  {
   "cell_type": "code",
   "execution_count": 6,
   "metadata": {},
   "outputs": [
    {
     "data": {
      "text/plain": [
       "(0.7, 1.01)"
      ]
     },
     "execution_count": 6,
     "metadata": {},
     "output_type": "execute_result"
    },
    {
     "data": {
      "image/png": "[encoded data removed]",
      "text/plain": [
       "<Figure size 432x288 with 1 Axes>"
      ]
     },
     "metadata": {
      "needs_background": "light"
     },
     "output_type": "display_data"
    }
   ],
   "source": [
    "plt.rcParams[\"font.size\"] = 14\n",
    "all_df.plot(x=\"Insect_size\", y=[\"refinedet_not_pretrained\", \"refinedet_pretrained_freeze\", \"refinedet_pretrained\"], logx=True, legend=True, cmap=\"rainbow\")\n",
    "plt.ylabel(\"Precision\")\n",
    "plt.legend(fontsize=12)\n",
    "plt.ylim(0.7, 1.01)\n",
    "plt.savefig(\"/home/tanida/workspace/Insect_Phenology_Detector/result/detection/compare_finetuning/compare_precision_distrib_of_size.png\", bbox_inches=\"tight\")"
   ]
  },
  {
   "cell_type": "markdown",
   "metadata": {},
   "source": [
    "### --- compare accuracy distribution of class ---"
   ]
  },
  {
   "cell_type": "code",
   "execution_count": 7,
   "metadata": {},
   "outputs": [],
   "source": [
    "refinedet_not_pretrained = pd.read_csv('/home/tanida/workspace/Insect_Phenology_Detector/figure/detection/RefineDet/crop_b2_2_4_8_16_32_im512_not_pretrain/accuracy_distribution_of_class.csv')\n",
    "refinedet_pretrained = pd.read_csv('/home/tanida/workspace/Insect_Phenology_Detector/figure/detection/RefineDet/crop_b2_2_4_8_16_32_im512/accuracy_distribution_of_class.csv')\n",
    "refinedet_pretrained_freeze = pd.read_csv('/home/tanida/workspace/Insect_Phenology_Detector/figure/detection/RefineDet/crop_b2_2_4_8_16_32_im512_freeze/each_class_df.csv')"
   ]
  },
  {
   "cell_type": "code",
   "execution_count": 8,
   "metadata": {},
   "outputs": [
    {
     "data": {
      "text/html": [
       "<div>\n",
       "<style scoped>\n",
       "    .dataframe tbody tr th:only-of-type {\n",
       "        vertical-align: middle;\n",
       "    }\n",
       "\n",
       "    .dataframe tbody tr th {\n",
       "        vertical-align: top;\n",
       "    }\n",
       "\n",
       "    .dataframe thead th {\n",
       "        text-align: right;\n",
       "    }\n",
       "</style>\n",
       "<table border=\"1\" class=\"dataframe\">\n",
       "  <thead>\n",
       "    <tr style=\"text-align: right;\">\n",
       "      <th></th>\n",
       "      <th>Unnamed: 0</th>\n",
       "      <th>Name</th>\n",
       "      <th>refinedet_not_pretrained</th>\n",
       "      <th>refinedet_pretrained_freeze</th>\n",
       "      <th>refinedet_pretrained</th>\n",
       "    </tr>\n",
       "  </thead>\n",
       "  <tbody>\n",
       "    <tr>\n",
       "      <td>0</td>\n",
       "      <td>0</td>\n",
       "      <td>Coleoptera</td>\n",
       "      <td>1.000000</td>\n",
       "      <td>0.500000</td>\n",
       "      <td>1.000000</td>\n",
       "    </tr>\n",
       "    <tr>\n",
       "      <td>1</td>\n",
       "      <td>1</td>\n",
       "      <td>Diptera</td>\n",
       "      <td>0.836364</td>\n",
       "      <td>0.763636</td>\n",
       "      <td>0.963636</td>\n",
       "    </tr>\n",
       "    <tr>\n",
       "      <td>2</td>\n",
       "      <td>2</td>\n",
       "      <td>Ephemeridae</td>\n",
       "      <td>0.923077</td>\n",
       "      <td>0.923077</td>\n",
       "      <td>0.923077</td>\n",
       "    </tr>\n",
       "    <tr>\n",
       "      <td>3</td>\n",
       "      <td>3</td>\n",
       "      <td>Ephemeroptera</td>\n",
       "      <td>1.000000</td>\n",
       "      <td>0.870968</td>\n",
       "      <td>1.000000</td>\n",
       "    </tr>\n",
       "    <tr>\n",
       "      <td>4</td>\n",
       "      <td>4</td>\n",
       "      <td>Lepidoptera</td>\n",
       "      <td>0.925000</td>\n",
       "      <td>0.875000</td>\n",
       "      <td>1.000000</td>\n",
       "    </tr>\n",
       "    <tr>\n",
       "      <td>5</td>\n",
       "      <td>5</td>\n",
       "      <td>Plecoptera</td>\n",
       "      <td>1.000000</td>\n",
       "      <td>1.000000</td>\n",
       "      <td>1.000000</td>\n",
       "    </tr>\n",
       "    <tr>\n",
       "      <td>6</td>\n",
       "      <td>6</td>\n",
       "      <td>Trichoptera</td>\n",
       "      <td>1.000000</td>\n",
       "      <td>1.000000</td>\n",
       "      <td>0.961538</td>\n",
       "    </tr>\n",
       "    <tr>\n",
       "      <td>7</td>\n",
       "      <td>7</td>\n",
       "      <td>small insect</td>\n",
       "      <td>0.981233</td>\n",
       "      <td>0.887399</td>\n",
       "      <td>0.991957</td>\n",
       "    </tr>\n",
       "    <tr>\n",
       "      <td>8</td>\n",
       "      <td>8</td>\n",
       "      <td>medium insect</td>\n",
       "      <td>0.987013</td>\n",
       "      <td>0.896104</td>\n",
       "      <td>1.000000</td>\n",
       "    </tr>\n",
       "  </tbody>\n",
       "</table>\n",
       "</div>"
      ],
      "text/plain": [
       "   Unnamed: 0           Name  refinedet_not_pretrained  \\\n",
       "0           0     Coleoptera                  1.000000   \n",
       "1           1        Diptera                  0.836364   \n",
       "2           2    Ephemeridae                  0.923077   \n",
       "3           3  Ephemeroptera                  1.000000   \n",
       "4           4    Lepidoptera                  0.925000   \n",
       "5           5     Plecoptera                  1.000000   \n",
       "6           6    Trichoptera                  1.000000   \n",
       "7           7   small insect                  0.981233   \n",
       "8           8  medium insect                  0.987013   \n",
       "\n",
       "   refinedet_pretrained_freeze  refinedet_pretrained  \n",
       "0                     0.500000              1.000000  \n",
       "1                     0.763636              0.963636  \n",
       "2                     0.923077              0.923077  \n",
       "3                     0.870968              1.000000  \n",
       "4                     0.875000              1.000000  \n",
       "5                     1.000000              1.000000  \n",
       "6                     1.000000              0.961538  \n",
       "7                     0.887399              0.991957  \n",
       "8                     0.896104              1.000000  "
      ]
     },
     "execution_count": 8,
     "metadata": {},
     "output_type": "execute_result"
    }
   ],
   "source": [
    "all_df = refinedet_not_pretrained\n",
    "all_df = all_df.rename(columns={'Precision_per_class': 'refinedet_not_pretrained'})\n",
    "all_df = all_df.assign(refinedet_pretrained_freeze=refinedet_pretrained_freeze[\"Precision_per_class\"])\n",
    "all_df = all_df.assign(refinedet_pretrained=refinedet_pretrained[\"Precision_per_class\"])\n",
    "all_df"
   ]
  },
  {
   "cell_type": "code",
   "execution_count": 9,
   "metadata": {},
   "outputs": [
    {
     "data": {
      "text/plain": [
       "Text(0, 0.5, 'Precision')"
      ]
     },
     "execution_count": 9,
     "metadata": {},
     "output_type": "execute_result"
    },
    {
     "data": {
      "image/png": "[encoded data removed]",
      "text/plain": [
       "<Figure size 432x288 with 1 Axes>"
      ]
     },
     "metadata": {
      "needs_background": "light"
     },
     "output_type": "display_data"
    }
   ],
   "source": [
    "plt.rcParams[\"font.size\"] = 14\n",
    "all_df.plot(kind=\"bar\", x=\"Name\", y=[\"refinedet_not_pretrained\", \"refinedet_pretrained_freeze\", \"refinedet_pretrained\"], cmap=\"rainbow\")\n",
    "plt.ylabel(\"Precision\")\n",
    "plt.legend(bbox_to_anchor=(1.05, 1), loc='upper left', fontsize=12)\n",
    "plt.savefig(\"/home/tanida/workspace/Insect_Phenology_Detector/result/detection/compare_finetuning/compare_precision_per_class.png\", bbox_inches=\"tight\")"
   ]
  }
 ],
 "metadata": {
  "kernelspec": {
   "display_name": "pytorch_040",
   "language": "python",
   "name": "pytorch_040"
  },
  "language_info": {
   "codemirror_mode": {
    "name": "ipython",
    "version": 3
   },
   "file_extension": ".py",
   "mimetype": "text/x-python",
   "name": "python",
   "nbconvert_exporter": "python",
   "pygments_lexer": "ipython3",
   "version": "3.7.4"
  }
 },
 "nbformat": 4,
 "nbformat_minor": 4
}
