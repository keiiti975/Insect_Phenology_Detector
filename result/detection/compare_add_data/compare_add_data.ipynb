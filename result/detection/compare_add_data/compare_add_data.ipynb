{
 "cells": [
  {
   "cell_type": "code",
   "execution_count": 1,
   "metadata": {},
   "outputs": [],
   "source": [
    "import os\n",
    "from os.path import join as pj\n",
    "import numpy as np\n",
    "import pandas as pd\n",
    "import matplotlib.pyplot as plt\n",
    "plt.style.use(\"ggplot\")\n",
    "%matplotlib inline"
   ]
  },
  {
   "cell_type": "markdown",
   "metadata": {},
   "source": [
    "### --- compare AP, precision, recall ---"
   ]
  },
  {
   "cell_type": "code",
   "execution_count": 2,
   "metadata": {},
   "outputs": [],
   "source": [
    "refinedet = pd.read_csv('/home/tanida/workspace/Insect_Phenology_Detector/figure/detection/RefineDet/crop_b2_2_4_8_16_32_im512_freeze/class_df.csv')\n",
    "refinedet = refinedet.drop('Unnamed: 0', axis=1)\n",
    "refinedet_20200806 = pd.read_csv('/home/tanida/workspace/Insect_Phenology_Detector/figure/detection/RefineDet/crop_b2_2_4_8_16_32_im512_freeze_20200806/class_df.csv')\n",
    "refinedet_20200806 = refinedet_20200806.drop('Unnamed: 0', axis=1)"
   ]
  },
  {
   "cell_type": "code",
   "execution_count": 3,
   "metadata": {},
   "outputs": [
    {
     "data": {
      "text/html": [
       "<div>\n",
       "<style scoped>\n",
       "    .dataframe tbody tr th:only-of-type {\n",
       "        vertical-align: middle;\n",
       "    }\n",
       "\n",
       "    .dataframe tbody tr th {\n",
       "        vertical-align: top;\n",
       "    }\n",
       "\n",
       "    .dataframe thead th {\n",
       "        text-align: right;\n",
       "    }\n",
       "</style>\n",
       "<table border=\"1\" class=\"dataframe\">\n",
       "  <thead>\n",
       "    <tr style=\"text-align: right;\">\n",
       "      <th></th>\n",
       "      <th>AP</th>\n",
       "      <th>precision</th>\n",
       "      <th>recall</th>\n",
       "    </tr>\n",
       "  </thead>\n",
       "  <tbody>\n",
       "    <tr>\n",
       "      <td>refinedet</td>\n",
       "      <td>0.786075</td>\n",
       "      <td>0.672351</td>\n",
       "      <td>0.886035</td>\n",
       "    </tr>\n",
       "    <tr>\n",
       "      <td>refinedet_20200806</td>\n",
       "      <td>0.719268</td>\n",
       "      <td>0.752280</td>\n",
       "      <td>0.794543</td>\n",
       "    </tr>\n",
       "  </tbody>\n",
       "</table>\n",
       "</div>"
      ],
      "text/plain": [
       "                          AP  precision    recall\n",
       "refinedet           0.786075   0.672351  0.886035\n",
       "refinedet_20200806  0.719268   0.752280  0.794543"
      ]
     },
     "execution_count": 3,
     "metadata": {},
     "output_type": "execute_result"
    }
   ],
   "source": [
    "ap_df = pd.DataFrame(columns=[\"AP\", \"precision\", \"recall\"])\n",
    "ap_df = ap_df.append(refinedet, ignore_index=True)\n",
    "ap_df = ap_df.append(refinedet_20200806, ignore_index=True)\n",
    "ap_df.index = [\"refinedet\", \"refinedet_20200806\"]\n",
    "ap_df"
   ]
  },
  {
   "cell_type": "markdown",
   "metadata": {},
   "source": [
    "### --- compare accuracy per size ---"
   ]
  },
  {
   "cell_type": "code",
   "execution_count": 4,
   "metadata": {},
   "outputs": [],
   "source": [
    "det_each_size_df = pd.read_csv('/home/tanida/workspace/Insect_Phenology_Detector/figure/detection/RefineDet/crop_b2_2_4_8_16_32_im512_freeze_20200806/each_size_df.csv')\n",
    "det_each_size_df[\"order\"] = det_each_size_df[\"Insect_size\"].apply(lambda x: np.floor(np.log2(x)))\n",
    "insect_size = np.asarray(det_each_size_df[\"order\"])\n",
    "idx, count = np.unique(insect_size, return_counts=True)\n",
    "insect_size_df = pd.DataFrame({\"order\": idx, \"count\": count})"
   ]
  },
  {
   "cell_type": "code",
   "execution_count": 5,
   "metadata": {},
   "outputs": [],
   "source": [
    "refinedet = pd.read_csv('/home/tanida/workspace/Insect_Phenology_Detector/figure/detection/RefineDet/crop_b2_2_4_8_16_32_im512_freeze/all_size_df.csv')\n",
    "refinedet = refinedet.drop('Unnamed: 0', axis=1)\n",
    "refinedet_20200806 = pd.read_csv('/home/tanida/workspace/Insect_Phenology_Detector/figure/detection/RefineDet/crop_b2_2_4_8_16_32_im512_freeze_20200806/all_size_df.csv')\n",
    "refinedet_20200806 = refinedet_20200806.drop('Unnamed: 0', axis=1)"
   ]
  },
  {
   "cell_type": "code",
   "execution_count": 6,
   "metadata": {},
   "outputs": [
    {
     "data": {
      "text/html": [
       "<div>\n",
       "<style scoped>\n",
       "    .dataframe tbody tr th:only-of-type {\n",
       "        vertical-align: middle;\n",
       "    }\n",
       "\n",
       "    .dataframe tbody tr th {\n",
       "        vertical-align: top;\n",
       "    }\n",
       "\n",
       "    .dataframe thead th {\n",
       "        text-align: right;\n",
       "    }\n",
       "</style>\n",
       "<table border=\"1\" class=\"dataframe\">\n",
       "  <thead>\n",
       "    <tr style=\"text-align: right;\">\n",
       "      <th></th>\n",
       "      <th>order</th>\n",
       "      <th>count</th>\n",
       "      <th>Insect_size</th>\n",
       "    </tr>\n",
       "  </thead>\n",
       "  <tbody>\n",
       "    <tr>\n",
       "      <td>0</td>\n",
       "      <td>7.0</td>\n",
       "      <td>15</td>\n",
       "      <td>224.800000</td>\n",
       "    </tr>\n",
       "    <tr>\n",
       "      <td>1</td>\n",
       "      <td>8.0</td>\n",
       "      <td>181</td>\n",
       "      <td>394.436464</td>\n",
       "    </tr>\n",
       "    <tr>\n",
       "      <td>2</td>\n",
       "      <td>9.0</td>\n",
       "      <td>189</td>\n",
       "      <td>726.137566</td>\n",
       "    </tr>\n",
       "    <tr>\n",
       "      <td>3</td>\n",
       "      <td>10.0</td>\n",
       "      <td>84</td>\n",
       "      <td>1420.392857</td>\n",
       "    </tr>\n",
       "    <tr>\n",
       "      <td>4</td>\n",
       "      <td>11.0</td>\n",
       "      <td>50</td>\n",
       "      <td>2870.260000</td>\n",
       "    </tr>\n",
       "    <tr>\n",
       "      <td>5</td>\n",
       "      <td>12.0</td>\n",
       "      <td>38</td>\n",
       "      <td>6288.526316</td>\n",
       "    </tr>\n",
       "    <tr>\n",
       "      <td>6</td>\n",
       "      <td>13.0</td>\n",
       "      <td>47</td>\n",
       "      <td>11189.978723</td>\n",
       "    </tr>\n",
       "    <tr>\n",
       "      <td>7</td>\n",
       "      <td>14.0</td>\n",
       "      <td>16</td>\n",
       "      <td>22611.437500</td>\n",
       "    </tr>\n",
       "    <tr>\n",
       "      <td>8</td>\n",
       "      <td>15.0</td>\n",
       "      <td>3</td>\n",
       "      <td>37326.666667</td>\n",
       "    </tr>\n",
       "  </tbody>\n",
       "</table>\n",
       "</div>"
      ],
      "text/plain": [
       "   order  count   Insect_size\n",
       "0    7.0     15    224.800000\n",
       "1    8.0    181    394.436464\n",
       "2    9.0    189    726.137566\n",
       "3   10.0     84   1420.392857\n",
       "4   11.0     50   2870.260000\n",
       "5   12.0     38   6288.526316\n",
       "6   13.0     47  11189.978723\n",
       "7   14.0     16  22611.437500\n",
       "8   15.0      3  37326.666667"
      ]
     },
     "execution_count": 6,
     "metadata": {},
     "output_type": "execute_result"
    }
   ],
   "source": [
    "insect_size_df[\"Insect_size\"] = refinedet[\"Insect_size\"]\n",
    "insect_size_df"
   ]
  },
  {
   "cell_type": "code",
   "execution_count": 7,
   "metadata": {},
   "outputs": [
    {
     "data": {
      "text/html": [
       "<div>\n",
       "<style scoped>\n",
       "    .dataframe tbody tr th:only-of-type {\n",
       "        vertical-align: middle;\n",
       "    }\n",
       "\n",
       "    .dataframe tbody tr th {\n",
       "        vertical-align: top;\n",
       "    }\n",
       "\n",
       "    .dataframe thead th {\n",
       "        text-align: right;\n",
       "    }\n",
       "</style>\n",
       "<table border=\"1\" class=\"dataframe\">\n",
       "  <thead>\n",
       "    <tr style=\"text-align: right;\">\n",
       "      <th></th>\n",
       "      <th>order</th>\n",
       "      <th>count</th>\n",
       "      <th>refinedet</th>\n",
       "      <th>refinedet_20200806</th>\n",
       "    </tr>\n",
       "  </thead>\n",
       "  <tbody>\n",
       "    <tr>\n",
       "      <td>0</td>\n",
       "      <td>7.0</td>\n",
       "      <td>15</td>\n",
       "      <td>0.733333</td>\n",
       "      <td>0.733333</td>\n",
       "    </tr>\n",
       "    <tr>\n",
       "      <td>1</td>\n",
       "      <td>8.0</td>\n",
       "      <td>181</td>\n",
       "      <td>0.928177</td>\n",
       "      <td>0.812155</td>\n",
       "    </tr>\n",
       "    <tr>\n",
       "      <td>2</td>\n",
       "      <td>9.0</td>\n",
       "      <td>189</td>\n",
       "      <td>0.873016</td>\n",
       "      <td>0.751323</td>\n",
       "    </tr>\n",
       "    <tr>\n",
       "      <td>3</td>\n",
       "      <td>10.0</td>\n",
       "      <td>84</td>\n",
       "      <td>0.833333</td>\n",
       "      <td>0.773810</td>\n",
       "    </tr>\n",
       "    <tr>\n",
       "      <td>4</td>\n",
       "      <td>11.0</td>\n",
       "      <td>50</td>\n",
       "      <td>0.940000</td>\n",
       "      <td>0.880000</td>\n",
       "    </tr>\n",
       "    <tr>\n",
       "      <td>5</td>\n",
       "      <td>12.0</td>\n",
       "      <td>38</td>\n",
       "      <td>0.842105</td>\n",
       "      <td>0.789474</td>\n",
       "    </tr>\n",
       "    <tr>\n",
       "      <td>6</td>\n",
       "      <td>13.0</td>\n",
       "      <td>47</td>\n",
       "      <td>0.914894</td>\n",
       "      <td>0.872340</td>\n",
       "    </tr>\n",
       "    <tr>\n",
       "      <td>7</td>\n",
       "      <td>14.0</td>\n",
       "      <td>16</td>\n",
       "      <td>0.875000</td>\n",
       "      <td>0.812500</td>\n",
       "    </tr>\n",
       "    <tr>\n",
       "      <td>8</td>\n",
       "      <td>15.0</td>\n",
       "      <td>3</td>\n",
       "      <td>0.666667</td>\n",
       "      <td>0.666667</td>\n",
       "    </tr>\n",
       "  </tbody>\n",
       "</table>\n",
       "</div>"
      ],
      "text/plain": [
       "   order  count  refinedet  refinedet_20200806\n",
       "0    7.0     15   0.733333            0.733333\n",
       "1    8.0    181   0.928177            0.812155\n",
       "2    9.0    189   0.873016            0.751323\n",
       "3   10.0     84   0.833333            0.773810\n",
       "4   11.0     50   0.940000            0.880000\n",
       "5   12.0     38   0.842105            0.789474\n",
       "6   13.0     47   0.914894            0.872340\n",
       "7   14.0     16   0.875000            0.812500\n",
       "8   15.0      3   0.666667            0.666667"
      ]
     },
     "execution_count": 7,
     "metadata": {},
     "output_type": "execute_result"
    }
   ],
   "source": [
    "all_df = pd.DataFrame()\n",
    "all_df[\"order\"] = insect_size_df[\"order\"]\n",
    "all_df[\"count\"] = insect_size_df[\"count\"]\n",
    "all_df[\"refinedet\"] = refinedet[\"Accuracy\"]\n",
    "all_df[\"refinedet_20200806\"] = refinedet_20200806[\"Accuracy\"]\n",
    "all_df"
   ]
  },
  {
   "cell_type": "code",
   "execution_count": 8,
   "metadata": {},
   "outputs": [
    {
     "data": {
      "image/png": "[encoded data removed]",
      "text/plain": [
       "<Figure size 360x288 with 2 Axes>"
      ]
     },
     "metadata": {
      "needs_background": "light"
     },
     "output_type": "display_data"
    }
   ],
   "source": [
    "plt.rcParams[\"font.size\"] = 14\n",
    "fig, ax1 = plt.subplots(figsize=(5,4))\n",
    "ax2 = ax1.twinx()\n",
    "\n",
    "x_label = [\"7.0\", \"8.0\", \"9.0\", \"10.0\", \"11.0\", \"12.0\", \"13.0\", \"14.0\", \"15.0\"]\n",
    "\n",
    "ax1.bar(x_label, all_df[\"count\"], width=0.3, color=\"g\")\n",
    "ax2.plot(x_label, all_df[\"refinedet\"], label=\"refinedet\")\n",
    "ax2.plot(x_label, all_df[\"refinedet_20200806\"], label=\"refinedet_20200806\")\n",
    "ax1.yaxis.tick_right()\n",
    "ax2.yaxis.tick_left()\n",
    "\n",
    "h2, l2 = ax2.get_legend_handles_labels()\n",
    "ax1.legend(h2, l2, bbox_to_anchor=(0.67, 0.), loc='lower right', fontsize=10)\n",
    "\n",
    "ax1.set_xlabel(\"Insect_size order\")\n",
    "ax1.set_ylabel(\"Precision\")\n",
    "ax1.yaxis.set_label_coords(-0.15, 0.5)\n",
    "ax1.grid(False)\n",
    "ax2.set_ylabel(\"Population per order\")\n",
    "ax2.yaxis.set_label_coords(1.15, 0.5)\n",
    "plt.savefig(\"/home/tanida/workspace/Insect_Phenology_Detector/result/detection/compare_add_data/compare_accuracy_per_size.png\", bbox_inches=\"tight\")"
   ]
  }
 ],
 "metadata": {
  "kernelspec": {
   "display_name": "pytorch_040",
   "language": "python",
   "name": "pytorch_040"
  },
  "language_info": {
   "codemirror_mode": {
    "name": "ipython",
    "version": 3
   },
   "file_extension": ".py",
   "mimetype": "text/x-python",
   "name": "python",
   "nbconvert_exporter": "python",
   "pygments_lexer": "ipython3",
   "version": "3.7.4"
  }
 },
 "nbformat": 4,
 "nbformat_minor": 4
}
