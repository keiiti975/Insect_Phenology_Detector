{
 "cells": [
  {
   "cell_type": "code",
   "execution_count": 1,
   "metadata": {},
   "outputs": [],
   "source": [
    "import os\n",
    "from os.path import join as pj\n",
    "import numpy as np\n",
    "import pandas as pd\n",
    "import matplotlib.pyplot as plt\n",
    "plt.style.use(\"ggplot\")\n",
    "%matplotlib inline"
   ]
  },
  {
   "cell_type": "markdown",
   "metadata": {},
   "source": [
    "### --- compare accuracy distribution of size ---"
   ]
  },
  {
   "cell_type": "code",
   "execution_count": 2,
   "metadata": {},
   "outputs": [],
   "source": [
    "refinedet_not_CSL = pd.read_csv('/home/tanida/workspace/Insect_Phenology_Detector/figure/detection/RefineDet/crop_b2_2_4_8_16_32_im512/accuracy_distribution_of_size.csv')\n",
    "refinedet_CSL_param1 = pd.read_csv('/home/tanida/workspace/Insect_Phenology_Detector/figure/detection/RefineDet/crop_b2_2_4_8_16_32_im512_CSL_param1/all_size_df.csv')\n",
    "refinedet_CSL_param2 = pd.read_csv('/home/tanida/workspace/Insect_Phenology_Detector/figure/detection/RefineDet/crop_b2_2_4_8_16_32_im512_CSL_param2/all_size_df.csv')"
   ]
  },
  {
   "cell_type": "code",
   "execution_count": 3,
   "metadata": {},
   "outputs": [
    {
     "data": {
      "text/html": [
       "<div>\n",
       "<style scoped>\n",
       "    .dataframe tbody tr th:only-of-type {\n",
       "        vertical-align: middle;\n",
       "    }\n",
       "\n",
       "    .dataframe tbody tr th {\n",
       "        vertical-align: top;\n",
       "    }\n",
       "\n",
       "    .dataframe thead th {\n",
       "        text-align: right;\n",
       "    }\n",
       "</style>\n",
       "<table border=\"1\" class=\"dataframe\">\n",
       "  <thead>\n",
       "    <tr style=\"text-align: right;\">\n",
       "      <th></th>\n",
       "      <th>order</th>\n",
       "      <th>refinedet_not_CSL</th>\n",
       "      <th>Insect_size</th>\n",
       "      <th>order.1</th>\n",
       "      <th>refinedet_CSL_param1</th>\n",
       "      <th>refinedet_CSL_param2</th>\n",
       "    </tr>\n",
       "  </thead>\n",
       "  <tbody>\n",
       "    <tr>\n",
       "      <td>0</td>\n",
       "      <td>7.0</td>\n",
       "      <td>0.933333</td>\n",
       "      <td>224.800000</td>\n",
       "      <td>7.0</td>\n",
       "      <td>1.000000</td>\n",
       "      <td>0.800000</td>\n",
       "    </tr>\n",
       "    <tr>\n",
       "      <td>1</td>\n",
       "      <td>8.0</td>\n",
       "      <td>1.000000</td>\n",
       "      <td>394.436464</td>\n",
       "      <td>8.0</td>\n",
       "      <td>0.972376</td>\n",
       "      <td>0.966851</td>\n",
       "    </tr>\n",
       "    <tr>\n",
       "      <td>2</td>\n",
       "      <td>9.0</td>\n",
       "      <td>0.994709</td>\n",
       "      <td>726.137566</td>\n",
       "      <td>9.0</td>\n",
       "      <td>0.920635</td>\n",
       "      <td>0.851852</td>\n",
       "    </tr>\n",
       "    <tr>\n",
       "      <td>3</td>\n",
       "      <td>10.0</td>\n",
       "      <td>0.988095</td>\n",
       "      <td>1420.392857</td>\n",
       "      <td>10.0</td>\n",
       "      <td>0.857143</td>\n",
       "      <td>0.821429</td>\n",
       "    </tr>\n",
       "    <tr>\n",
       "      <td>4</td>\n",
       "      <td>11.0</td>\n",
       "      <td>0.980000</td>\n",
       "      <td>2870.260000</td>\n",
       "      <td>11.0</td>\n",
       "      <td>0.900000</td>\n",
       "      <td>0.880000</td>\n",
       "    </tr>\n",
       "    <tr>\n",
       "      <td>5</td>\n",
       "      <td>12.0</td>\n",
       "      <td>0.973684</td>\n",
       "      <td>6288.526316</td>\n",
       "      <td>12.0</td>\n",
       "      <td>0.842105</td>\n",
       "      <td>0.894737</td>\n",
       "    </tr>\n",
       "    <tr>\n",
       "      <td>6</td>\n",
       "      <td>13.0</td>\n",
       "      <td>0.957447</td>\n",
       "      <td>11189.978723</td>\n",
       "      <td>13.0</td>\n",
       "      <td>0.872340</td>\n",
       "      <td>0.893617</td>\n",
       "    </tr>\n",
       "    <tr>\n",
       "      <td>7</td>\n",
       "      <td>14.0</td>\n",
       "      <td>1.000000</td>\n",
       "      <td>22611.437500</td>\n",
       "      <td>14.0</td>\n",
       "      <td>0.937500</td>\n",
       "      <td>0.750000</td>\n",
       "    </tr>\n",
       "    <tr>\n",
       "      <td>8</td>\n",
       "      <td>15.0</td>\n",
       "      <td>1.000000</td>\n",
       "      <td>37326.666667</td>\n",
       "      <td>15.0</td>\n",
       "      <td>1.000000</td>\n",
       "      <td>0.666667</td>\n",
       "    </tr>\n",
       "  </tbody>\n",
       "</table>\n",
       "</div>"
      ],
      "text/plain": [
       "   order  refinedet_not_CSL   Insect_size  order.1  refinedet_CSL_param1  \\\n",
       "0    7.0           0.933333    224.800000      7.0              1.000000   \n",
       "1    8.0           1.000000    394.436464      8.0              0.972376   \n",
       "2    9.0           0.994709    726.137566      9.0              0.920635   \n",
       "3   10.0           0.988095   1420.392857     10.0              0.857143   \n",
       "4   11.0           0.980000   2870.260000     11.0              0.900000   \n",
       "5   12.0           0.973684   6288.526316     12.0              0.842105   \n",
       "6   13.0           0.957447  11189.978723     13.0              0.872340   \n",
       "7   14.0           1.000000  22611.437500     14.0              0.937500   \n",
       "8   15.0           1.000000  37326.666667     15.0              1.000000   \n",
       "\n",
       "   refinedet_CSL_param2  \n",
       "0              0.800000  \n",
       "1              0.966851  \n",
       "2              0.851852  \n",
       "3              0.821429  \n",
       "4              0.880000  \n",
       "5              0.894737  \n",
       "6              0.893617  \n",
       "7              0.750000  \n",
       "8              0.666667  "
      ]
     },
     "execution_count": 3,
     "metadata": {},
     "output_type": "execute_result"
    }
   ],
   "source": [
    "all_df = refinedet_not_CSL\n",
    "all_df = all_df.rename(columns={'Accuracy': 'refinedet_not_CSL'})\n",
    "all_df = all_df.assign(refinedet_CSL_param1=refinedet_CSL_param1[\"Accuracy\"])\n",
    "all_df = all_df.assign(refinedet_CSL_param2=refinedet_CSL_param2[\"Accuracy\"])\n",
    "all_df"
   ]
  },
  {
   "cell_type": "code",
   "execution_count": 4,
   "metadata": {},
   "outputs": [
    {
     "data": {
      "image/png": "[encoded data removed]",
      "text/plain": [
       "<Figure size 432x288 with 1 Axes>"
      ]
     },
     "metadata": {
      "needs_background": "light"
     },
     "output_type": "display_data"
    }
   ],
   "source": [
    "all_df.plot(x=\"Insect_size\", y=[\"refinedet_not_CSL\", \"refinedet_CSL_param1\", \"refinedet_CSL_param2\"], logx=True, legend=True, cmap=\"rainbow\")\n",
    "plt.ylabel(\"Precision\")\n",
    "plt.title(\"Precision distribution of size\")\n",
    "plt.savefig(\"/home/tanida/workspace/Insect_Phenology_Detector/result/detection/compare_CSL/compare_precision_distrib_of_size.png\", bbox_inches=\"tight\")"
   ]
  },
  {
   "cell_type": "markdown",
   "metadata": {},
   "source": [
    "### --- compare accuracy distribution of class ---"
   ]
  },
  {
   "cell_type": "code",
   "execution_count": 5,
   "metadata": {},
   "outputs": [],
   "source": [
    "refinedet_not_CSL = pd.read_csv('/home/tanida/workspace/Insect_Phenology_Detector/figure/detection/RefineDet/crop_b2_2_4_8_16_32_im512/accuracy_distribution_of_class.csv')\n",
    "refinedet_CSL_param1 = pd.read_csv('/home/tanida/workspace/Insect_Phenology_Detector/figure/detection/RefineDet/crop_b2_2_4_8_16_32_im512_CSL_param1/each_class_df.csv')\n",
    "refinedet_CSL_param2 = pd.read_csv('/home/tanida/workspace/Insect_Phenology_Detector/figure/detection/RefineDet/crop_b2_2_4_8_16_32_im512_CSL_param2/each_class_df.csv')"
   ]
  },
  {
   "cell_type": "code",
   "execution_count": 6,
   "metadata": {},
   "outputs": [
    {
     "data": {
      "text/html": [
       "<div>\n",
       "<style scoped>\n",
       "    .dataframe tbody tr th:only-of-type {\n",
       "        vertical-align: middle;\n",
       "    }\n",
       "\n",
       "    .dataframe tbody tr th {\n",
       "        vertical-align: top;\n",
       "    }\n",
       "\n",
       "    .dataframe thead th {\n",
       "        text-align: right;\n",
       "    }\n",
       "</style>\n",
       "<table border=\"1\" class=\"dataframe\">\n",
       "  <thead>\n",
       "    <tr style=\"text-align: right;\">\n",
       "      <th></th>\n",
       "      <th>Unnamed: 0</th>\n",
       "      <th>Name</th>\n",
       "      <th>refinedet_not_CSL</th>\n",
       "      <th>refinedet_CSL_param1</th>\n",
       "      <th>refinedet_CSL_param2</th>\n",
       "    </tr>\n",
       "  </thead>\n",
       "  <tbody>\n",
       "    <tr>\n",
       "      <td>0</td>\n",
       "      <td>0</td>\n",
       "      <td>Coleoptera</td>\n",
       "      <td>1.000000</td>\n",
       "      <td>1.000000</td>\n",
       "      <td>1.000000</td>\n",
       "    </tr>\n",
       "    <tr>\n",
       "      <td>1</td>\n",
       "      <td>1</td>\n",
       "      <td>Diptera</td>\n",
       "      <td>0.963636</td>\n",
       "      <td>0.836364</td>\n",
       "      <td>0.836364</td>\n",
       "    </tr>\n",
       "    <tr>\n",
       "      <td>2</td>\n",
       "      <td>2</td>\n",
       "      <td>Ephemeridae</td>\n",
       "      <td>0.923077</td>\n",
       "      <td>0.769231</td>\n",
       "      <td>0.923077</td>\n",
       "    </tr>\n",
       "    <tr>\n",
       "      <td>3</td>\n",
       "      <td>3</td>\n",
       "      <td>Ephemeroptera</td>\n",
       "      <td>1.000000</td>\n",
       "      <td>0.903226</td>\n",
       "      <td>0.838710</td>\n",
       "    </tr>\n",
       "    <tr>\n",
       "      <td>4</td>\n",
       "      <td>4</td>\n",
       "      <td>Lepidoptera</td>\n",
       "      <td>1.000000</td>\n",
       "      <td>0.950000</td>\n",
       "      <td>0.875000</td>\n",
       "    </tr>\n",
       "    <tr>\n",
       "      <td>5</td>\n",
       "      <td>5</td>\n",
       "      <td>Plecoptera</td>\n",
       "      <td>1.000000</td>\n",
       "      <td>1.000000</td>\n",
       "      <td>1.000000</td>\n",
       "    </tr>\n",
       "    <tr>\n",
       "      <td>6</td>\n",
       "      <td>6</td>\n",
       "      <td>Trichoptera</td>\n",
       "      <td>0.961538</td>\n",
       "      <td>1.000000</td>\n",
       "      <td>1.000000</td>\n",
       "    </tr>\n",
       "    <tr>\n",
       "      <td>7</td>\n",
       "      <td>7</td>\n",
       "      <td>small insect</td>\n",
       "      <td>0.991957</td>\n",
       "      <td>0.922252</td>\n",
       "      <td>0.879357</td>\n",
       "    </tr>\n",
       "    <tr>\n",
       "      <td>8</td>\n",
       "      <td>8</td>\n",
       "      <td>medium insect</td>\n",
       "      <td>1.000000</td>\n",
       "      <td>0.948052</td>\n",
       "      <td>0.909091</td>\n",
       "    </tr>\n",
       "  </tbody>\n",
       "</table>\n",
       "</div>"
      ],
      "text/plain": [
       "   Unnamed: 0           Name  refinedet_not_CSL  refinedet_CSL_param1  \\\n",
       "0           0     Coleoptera           1.000000              1.000000   \n",
       "1           1        Diptera           0.963636              0.836364   \n",
       "2           2    Ephemeridae           0.923077              0.769231   \n",
       "3           3  Ephemeroptera           1.000000              0.903226   \n",
       "4           4    Lepidoptera           1.000000              0.950000   \n",
       "5           5     Plecoptera           1.000000              1.000000   \n",
       "6           6    Trichoptera           0.961538              1.000000   \n",
       "7           7   small insect           0.991957              0.922252   \n",
       "8           8  medium insect           1.000000              0.948052   \n",
       "\n",
       "   refinedet_CSL_param2  \n",
       "0              1.000000  \n",
       "1              0.836364  \n",
       "2              0.923077  \n",
       "3              0.838710  \n",
       "4              0.875000  \n",
       "5              1.000000  \n",
       "6              1.000000  \n",
       "7              0.879357  \n",
       "8              0.909091  "
      ]
     },
     "execution_count": 6,
     "metadata": {},
     "output_type": "execute_result"
    }
   ],
   "source": [
    "all_df = refinedet_not_CSL\n",
    "all_df = all_df.rename(columns={'Precision_per_class': 'refinedet_not_CSL'})\n",
    "all_df = all_df.assign(refinedet_CSL_param1=refinedet_CSL_param1[\"Precision_per_class\"])\n",
    "all_df = all_df.assign(refinedet_CSL_param2=refinedet_CSL_param2[\"Precision_per_class\"])\n",
    "all_df"
   ]
  },
  {
   "cell_type": "code",
   "execution_count": 7,
   "metadata": {},
   "outputs": [
    {
     "data": {
      "image/png": "[encoded data removed]",
      "text/plain": [
       "<Figure size 432x288 with 1 Axes>"
      ]
     },
     "metadata": {
      "needs_background": "light"
     },
     "output_type": "display_data"
    }
   ],
   "source": [
    "all_df.plot(kind=\"bar\", x=\"Name\", y=[\"refinedet_not_CSL\", \"refinedet_CSL_param1\", \"refinedet_CSL_param2\"], cmap=\"rainbow\")\n",
    "plt.legend(bbox_to_anchor=(1.05, 1), loc='upper left')\n",
    "plt.ylabel(\"Precision\")\n",
    "plt.title(\"Precision per class\")\n",
    "plt.savefig(\"/home/tanida/workspace/Insect_Phenology_Detector/result/detection/compare_CSL/compare_precision_per_class.png\", bbox_inches=\"tight\")"
   ]
  }
 ],
 "metadata": {
  "kernelspec": {
   "display_name": "pytorch_040",
   "language": "python",
   "name": "pytorch_040"
  },
  "language_info": {
   "codemirror_mode": {
    "name": "ipython",
    "version": 3
   },
   "file_extension": ".py",
   "mimetype": "text/x-python",
   "name": "python",
   "nbconvert_exporter": "python",
   "pygments_lexer": "ipython3",
   "version": "3.7.4"
  }
 },
 "nbformat": 4,
 "nbformat_minor": 4
}
