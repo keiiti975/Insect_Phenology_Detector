{
 "cells": [
  {
   "cell_type": "code",
   "execution_count": 1,
   "metadata": {},
   "outputs": [],
   "source": [
    "import os\n",
    "from os.path import join as pj\n",
    "import numpy as np\n",
    "import pandas as pd\n",
    "import matplotlib.pyplot as plt\n",
    "%matplotlib inline"
   ]
  },
  {
   "cell_type": "markdown",
   "metadata": {},
   "source": [
    "### --- compare AP, precision, recall ---"
   ]
  },
  {
   "cell_type": "code",
   "execution_count": 2,
   "metadata": {},
   "outputs": [],
   "source": [
    "refinedet_not_crop = pd.read_csv('/home/tanida/workspace/Insect_Phenology_Detector/figure/detection/RefineDet/b2/tcb5_im512/class_df.csv')\n",
    "refinedet_not_crop = refinedet_not_crop.drop('Unnamed: 0', axis=1)\n",
    "refinedet_crop = pd.read_csv('/home/tanida/workspace/Insect_Phenology_Detector/figure/detection/RefineDet/master_paper/crop_b2/tcb5_im512/class_df.csv')\n",
    "refinedet_crop = refinedet_crop.drop('Unnamed: 0', axis=1)"
   ]
  },
  {
   "cell_type": "code",
   "execution_count": 3,
   "metadata": {},
   "outputs": [
    {
     "data": {
      "text/html": [
       "<div>\n",
       "<style scoped>\n",
       "    .dataframe tbody tr th:only-of-type {\n",
       "        vertical-align: middle;\n",
       "    }\n",
       "\n",
       "    .dataframe tbody tr th {\n",
       "        vertical-align: top;\n",
       "    }\n",
       "\n",
       "    .dataframe thead th {\n",
       "        text-align: right;\n",
       "    }\n",
       "</style>\n",
       "<table border=\"1\" class=\"dataframe\">\n",
       "  <thead>\n",
       "    <tr style=\"text-align: right;\">\n",
       "      <th></th>\n",
       "      <th>AP</th>\n",
       "      <th>precision</th>\n",
       "      <th>recall</th>\n",
       "    </tr>\n",
       "  </thead>\n",
       "  <tbody>\n",
       "    <tr>\n",
       "      <td>refinedet_not_crop</td>\n",
       "      <td>0.503478</td>\n",
       "      <td>0.260309</td>\n",
       "      <td>0.648475</td>\n",
       "    </tr>\n",
       "    <tr>\n",
       "      <td>refinedet_crop</td>\n",
       "      <td>0.690169</td>\n",
       "      <td>0.805217</td>\n",
       "      <td>0.743178</td>\n",
       "    </tr>\n",
       "  </tbody>\n",
       "</table>\n",
       "</div>"
      ],
      "text/plain": [
       "                          AP  precision    recall\n",
       "refinedet_not_crop  0.503478   0.260309  0.648475\n",
       "refinedet_crop      0.690169   0.805217  0.743178"
      ]
     },
     "execution_count": 3,
     "metadata": {},
     "output_type": "execute_result"
    }
   ],
   "source": [
    "ap_df = pd.DataFrame(columns=[\"AP\", \"precision\", \"recall\"])\n",
    "ap_df = ap_df.append(refinedet_not_crop, ignore_index=True)\n",
    "ap_df = ap_df.append(refinedet_crop, ignore_index=True)\n",
    "ap_df.index = [\"refinedet_not_crop\", \"refinedet_crop\"]\n",
    "ap_df"
   ]
  },
  {
   "cell_type": "markdown",
   "metadata": {},
   "source": [
    "### --- compare accuracy per size ---"
   ]
  },
  {
   "cell_type": "code",
   "execution_count": 4,
   "metadata": {},
   "outputs": [],
   "source": [
    "det_each_size_df = pd.read_csv('/home/tanida/workspace/Insect_Phenology_Detector/figure/detection/RefineDet/crop_b2/tcb5_im512/each_size_df.csv')\n",
    "det_each_size_df[\"order\"] = det_each_size_df[\"Insect_size\"].apply(lambda x: np.floor(np.log2(x)))\n",
    "insect_size = np.asarray(det_each_size_df[\"order\"])\n",
    "idx, count = np.unique(insect_size, return_counts=True)\n",
    "insect_size_df = pd.DataFrame({\"order\": idx, \"count\": count})"
   ]
  },
  {
   "cell_type": "code",
   "execution_count": 5,
   "metadata": {},
   "outputs": [],
   "source": [
    "refinedet_not_crop = pd.read_csv('/home/tanida/workspace/Insect_Phenology_Detector/figure/detection/RefineDet/b2/tcb5_im512/all_size_df.csv')\n",
    "refinedet_not_crop = refinedet_not_crop.drop('Unnamed: 0', axis=1)\n",
    "refinedet_crop = pd.read_csv('/home/tanida/workspace/Insect_Phenology_Detector/figure/detection/RefineDet/master_paper/crop_b2/tcb5_im512/all_size_df.csv')\n",
    "refinedet_crop = refinedet_crop.drop('Unnamed: 0', axis=1)"
   ]
  },
  {
   "cell_type": "code",
   "execution_count": 6,
   "metadata": {},
   "outputs": [
    {
     "data": {
      "text/html": [
       "<div>\n",
       "<style scoped>\n",
       "    .dataframe tbody tr th:only-of-type {\n",
       "        vertical-align: middle;\n",
       "    }\n",
       "\n",
       "    .dataframe tbody tr th {\n",
       "        vertical-align: top;\n",
       "    }\n",
       "\n",
       "    .dataframe thead th {\n",
       "        text-align: right;\n",
       "    }\n",
       "</style>\n",
       "<table border=\"1\" class=\"dataframe\">\n",
       "  <thead>\n",
       "    <tr style=\"text-align: right;\">\n",
       "      <th></th>\n",
       "      <th>order</th>\n",
       "      <th>count</th>\n",
       "      <th>Insect_size</th>\n",
       "    </tr>\n",
       "  </thead>\n",
       "  <tbody>\n",
       "    <tr>\n",
       "      <td>0</td>\n",
       "      <td>7.0</td>\n",
       "      <td>15</td>\n",
       "      <td>224.800000</td>\n",
       "    </tr>\n",
       "    <tr>\n",
       "      <td>1</td>\n",
       "      <td>8.0</td>\n",
       "      <td>181</td>\n",
       "      <td>394.436464</td>\n",
       "    </tr>\n",
       "    <tr>\n",
       "      <td>2</td>\n",
       "      <td>9.0</td>\n",
       "      <td>189</td>\n",
       "      <td>726.137566</td>\n",
       "    </tr>\n",
       "    <tr>\n",
       "      <td>3</td>\n",
       "      <td>10.0</td>\n",
       "      <td>84</td>\n",
       "      <td>1420.392857</td>\n",
       "    </tr>\n",
       "    <tr>\n",
       "      <td>4</td>\n",
       "      <td>11.0</td>\n",
       "      <td>50</td>\n",
       "      <td>2870.260000</td>\n",
       "    </tr>\n",
       "    <tr>\n",
       "      <td>5</td>\n",
       "      <td>12.0</td>\n",
       "      <td>38</td>\n",
       "      <td>6288.526316</td>\n",
       "    </tr>\n",
       "    <tr>\n",
       "      <td>6</td>\n",
       "      <td>13.0</td>\n",
       "      <td>47</td>\n",
       "      <td>11189.978723</td>\n",
       "    </tr>\n",
       "    <tr>\n",
       "      <td>7</td>\n",
       "      <td>14.0</td>\n",
       "      <td>16</td>\n",
       "      <td>22611.437500</td>\n",
       "    </tr>\n",
       "    <tr>\n",
       "      <td>8</td>\n",
       "      <td>15.0</td>\n",
       "      <td>3</td>\n",
       "      <td>37326.666667</td>\n",
       "    </tr>\n",
       "  </tbody>\n",
       "</table>\n",
       "</div>"
      ],
      "text/plain": [
       "   order  count   Insect_size\n",
       "0    7.0     15    224.800000\n",
       "1    8.0    181    394.436464\n",
       "2    9.0    189    726.137566\n",
       "3   10.0     84   1420.392857\n",
       "4   11.0     50   2870.260000\n",
       "5   12.0     38   6288.526316\n",
       "6   13.0     47  11189.978723\n",
       "7   14.0     16  22611.437500\n",
       "8   15.0      3  37326.666667"
      ]
     },
     "execution_count": 6,
     "metadata": {},
     "output_type": "execute_result"
    }
   ],
   "source": [
    "insect_size_df[\"Insect_size\"] = refinedet_crop[\"Insect_size\"]\n",
    "insect_size_df"
   ]
  },
  {
   "cell_type": "code",
   "execution_count": 7,
   "metadata": {},
   "outputs": [
    {
     "data": {
      "text/html": [
       "<div>\n",
       "<style scoped>\n",
       "    .dataframe tbody tr th:only-of-type {\n",
       "        vertical-align: middle;\n",
       "    }\n",
       "\n",
       "    .dataframe tbody tr th {\n",
       "        vertical-align: top;\n",
       "    }\n",
       "\n",
       "    .dataframe thead th {\n",
       "        text-align: right;\n",
       "    }\n",
       "</style>\n",
       "<table border=\"1\" class=\"dataframe\">\n",
       "  <thead>\n",
       "    <tr style=\"text-align: right;\">\n",
       "      <th></th>\n",
       "      <th>order</th>\n",
       "      <th>count</th>\n",
       "      <th>refinedet_not_crop</th>\n",
       "      <th>refinedet_crop</th>\n",
       "    </tr>\n",
       "  </thead>\n",
       "  <tbody>\n",
       "    <tr>\n",
       "      <td>0</td>\n",
       "      <td>7.0</td>\n",
       "      <td>15</td>\n",
       "      <td>0.200000</td>\n",
       "      <td>0.533333</td>\n",
       "    </tr>\n",
       "    <tr>\n",
       "      <td>1</td>\n",
       "      <td>8.0</td>\n",
       "      <td>181</td>\n",
       "      <td>0.486188</td>\n",
       "      <td>0.723757</td>\n",
       "    </tr>\n",
       "    <tr>\n",
       "      <td>2</td>\n",
       "      <td>9.0</td>\n",
       "      <td>189</td>\n",
       "      <td>0.603175</td>\n",
       "      <td>0.719577</td>\n",
       "    </tr>\n",
       "    <tr>\n",
       "      <td>3</td>\n",
       "      <td>10.0</td>\n",
       "      <td>84</td>\n",
       "      <td>0.785714</td>\n",
       "      <td>0.726190</td>\n",
       "    </tr>\n",
       "    <tr>\n",
       "      <td>4</td>\n",
       "      <td>11.0</td>\n",
       "      <td>50</td>\n",
       "      <td>0.880000</td>\n",
       "      <td>0.680000</td>\n",
       "    </tr>\n",
       "    <tr>\n",
       "      <td>5</td>\n",
       "      <td>12.0</td>\n",
       "      <td>38</td>\n",
       "      <td>0.815789</td>\n",
       "      <td>0.815789</td>\n",
       "    </tr>\n",
       "    <tr>\n",
       "      <td>6</td>\n",
       "      <td>13.0</td>\n",
       "      <td>47</td>\n",
       "      <td>0.829787</td>\n",
       "      <td>0.936170</td>\n",
       "    </tr>\n",
       "    <tr>\n",
       "      <td>7</td>\n",
       "      <td>14.0</td>\n",
       "      <td>16</td>\n",
       "      <td>1.000000</td>\n",
       "      <td>0.937500</td>\n",
       "    </tr>\n",
       "    <tr>\n",
       "      <td>8</td>\n",
       "      <td>15.0</td>\n",
       "      <td>3</td>\n",
       "      <td>1.000000</td>\n",
       "      <td>1.000000</td>\n",
       "    </tr>\n",
       "  </tbody>\n",
       "</table>\n",
       "</div>"
      ],
      "text/plain": [
       "   order  count  refinedet_not_crop  refinedet_crop\n",
       "0    7.0     15            0.200000        0.533333\n",
       "1    8.0    181            0.486188        0.723757\n",
       "2    9.0    189            0.603175        0.719577\n",
       "3   10.0     84            0.785714        0.726190\n",
       "4   11.0     50            0.880000        0.680000\n",
       "5   12.0     38            0.815789        0.815789\n",
       "6   13.0     47            0.829787        0.936170\n",
       "7   14.0     16            1.000000        0.937500\n",
       "8   15.0      3            1.000000        1.000000"
      ]
     },
     "execution_count": 7,
     "metadata": {},
     "output_type": "execute_result"
    }
   ],
   "source": [
    "all_df = pd.DataFrame()\n",
    "all_df[\"order\"] = insect_size_df[\"order\"]\n",
    "all_df[\"count\"] = insect_size_df[\"count\"]\n",
    "all_df[\"refinedet_not_crop\"] = refinedet_not_crop[\"Accuracy\"]\n",
    "all_df[\"refinedet_crop\"] = refinedet_crop[\"Accuracy\"]\n",
    "all_df"
   ]
  },
  {
   "cell_type": "code",
   "execution_count": 8,
   "metadata": {},
   "outputs": [
    {
     "data": {
      "image/png": "[encoded data removed]",
      "text/plain": [
       "<Figure size 360x288 with 2 Axes>"
      ]
     },
     "metadata": {
      "needs_background": "light"
     },
     "output_type": "display_data"
    }
   ],
   "source": [
    "plt.rcParams[\"font.size\"] = 14\n",
    "fig, ax1 = plt.subplots(figsize=(5,4))\n",
    "ax2 = ax1.twinx()\n",
    "\n",
    "x_label = [\"7.0\", \"8.0\", \"9.0\", \"10.0\", \"11.0\", \"12.0\", \"13.0\", \"14.0\", \"15.0\"]\n",
    "\n",
    "ax1.bar(x_label, all_df[\"count\"], width=0.3, color=\"g\")\n",
    "ax2.plot(x_label, all_df[\"refinedet_not_crop\"], label=\"Not Crop\")\n",
    "ax2.plot(x_label, all_df[\"refinedet_crop\"], label=\"Crop\")\n",
    "ax1.yaxis.tick_right()\n",
    "ax2.yaxis.tick_left()\n",
    "\n",
    "h2, l2 = ax2.get_legend_handles_labels()\n",
    "ax1.legend(h2, l2, bbox_to_anchor=(0.66, 1.), loc='lower right', fontsize=14)\n",
    "\n",
    "ax1.set_xlabel(\"BBox size exponent of base 2\", fontsize=14)\n",
    "ax1.set_ylabel(\"Recall\", fontsize=14)\n",
    "ax1.yaxis.set_label_coords(-0.15, 0.5)\n",
    "ax1.grid(False)\n",
    "ax2.set_ylabel(\"Number of insects\", fontsize=14)\n",
    "ax2.yaxis.set_label_coords(1.15, 0.5)\n",
    "plt.savefig(\"/home/tanida/workspace/Insect_Phenology_Detector/result/detection/compare_crop/compare_accuracy_per_size.png\", bbox_inches=\"tight\")"
   ]
  }
 ],
 "metadata": {
  "kernelspec": {
   "display_name": "pytorch_040",
   "language": "python",
   "name": "pytorch_040"
  },
  "language_info": {
   "codemirror_mode": {
    "name": "ipython",
    "version": 3
   },
   "file_extension": ".py",
   "mimetype": "text/x-python",
   "name": "python",
   "nbconvert_exporter": "python",
   "pygments_lexer": "ipython3",
   "version": "3.7.4"
  }
 },
 "nbformat": 4,
 "nbformat_minor": 4
}
