{
 "cells": [
  {
   "cell_type": "code",
   "execution_count": 1,
   "metadata": {},
   "outputs": [],
   "source": [
    "import os\n",
    "os.environ[\"CUDA_VISIBLE_DEVICES\"]=\"0\""
   ]
  },
  {
   "cell_type": "code",
   "execution_count": 2,
   "metadata": {},
   "outputs": [],
   "source": [
    "import cv2\n",
    "import numpy as np\n",
    "from os import listdir as ld\n",
    "from os.path import join as pj\n",
    "import pandas as pd\n",
    "from PIL import Image\n",
    "from tqdm import tqdm\n",
    "import torch\n",
    "import torch.nn as nn\n",
    "import torch.nn.functional as F\n",
    "import torch.optim as optim\n",
    "import torch.backends.cudnn as cudnn\n",
    "import torch.nn.init as init\n",
    "import torch.utils.data as data\n",
    "\n",
    "# Dataset\n",
    "from dataset.detection.dataset import insects_dataset_from_voc_style_txt, collate_fn\n",
    "from IO.build_ds import build_classification_ds_from_result\n",
    "# Loader\n",
    "from IO.loader import load_path, load_images, load_annotations_path, load_annotations, get_anno_recs\n",
    "# Predict\n",
    "from model.refinedet.utils.predict import test_prediction as test_detection\n",
    "from model.resnet.predict import test_classification\n",
    "# utils\n",
    "from IO.utils import refine_result_by_ovthresh\n",
    "# Evaluate\n",
    "from evaluation.det2cls.evaluate import evaluate, get_cls_accuracy_per_class\n",
    "# Visualize\n",
    "from evaluation.detection.visualize import plot_pr_curve\n",
    "from evaluation.det2cls.visualize import vis_detections"
   ]
  },
  {
   "cell_type": "markdown",
   "metadata": {},
   "source": [
    "# Test Config"
   ]
  },
  {
   "cell_type": "code",
   "execution_count": 3,
   "metadata": {},
   "outputs": [],
   "source": [
    "class args:\n",
    "    # paths\n",
    "    data_root = \"/home/tanida/workspace/Insect_Phenology_Detector/data\"\n",
    "    test_image_root = \"/home/tanida/workspace/Insect_Phenology_Detector/data/test_refined_images\"\n",
    "    det_model_root = pj(\"/home/tanida/workspace/Insect_Phenology_Detector/output_model/detection/RefineDet\", \"crop_b2_2_4_8_16_32_im512\")\n",
    "    divide_model_root = pj(\"/home/tanida/workspace/Insect_Phenology_Detector/output_model/classification/ResNet101\", \"resnet101_b20_r45_lr1e-5_crossvalid_divide_resize\")\n",
    "    cls_model_root = pj(\"/home/tanida/workspace/Insect_Phenology_Detector/output_model/classification/ResNet101\", \"resnet50_b20_r45_lr1e-5_crossvalid_resize\")\n",
    "    figure_root = pj(\"/home/tanida/workspace/Insect_Phenology_Detector/figure/det2cls/RefineDet_ResNet\", \"refinedet_resnet50_resnet101_param1\")\n",
    "    test_anno_folders = [\"annotations_4\"]\n",
    "    # training config\n",
    "    div_model_name = \"ResNet101\"\n",
    "    cls_model_name = \"ResNet50\"\n",
    "    input_size = 512 # choices=[320, 512, 1024]\n",
    "    crop_num = (5, 5)\n",
    "    tcb_layer_num = 5\n",
    "    rm_last = True\n",
    "    # test config\n",
    "    save_fig = True\n",
    "    save_df = True\n",
    "    add_div_model = True\n",
    "    # class label\n",
    "    div_labels =  ['Aquatic_insects', 'Other_insects']\n",
    "    cls_labels =  ['Diptera', 'Ephemeridae', 'Ephemeroptera', \n",
    "               'Lepidoptera', 'Plecoptera', 'Trichoptera']"
   ]
  },
  {
   "cell_type": "markdown",
   "metadata": {},
   "source": [
    "# Model Config"
   ]
  },
  {
   "cell_type": "code",
   "execution_count": 4,
   "metadata": {},
   "outputs": [],
   "source": [
    "if args.tcb_layer_num == 4 and args.rm_last == False:\n",
    "    from model.refinedet.config import tcb_4_rm_false as insect_refinedet\n",
    "elif args.tcb_layer_num == 4 and args.rm_last == True:\n",
    "    from model.refinedet.config import tcb_4_rm_true as insect_refinedet\n",
    "elif args.tcb_layer_num == 5 and args.rm_last == False:\n",
    "    from model.refinedet.config import tcb_5_rm_false as insect_refinedet\n",
    "elif args.tcb_layer_num == 5 and args.rm_last == True:\n",
    "    from model.refinedet.config import tcb_5_rm_true as insect_refinedet\n",
    "elif args.tcb_layer_num == 6 and args.rm_last == False:\n",
    "    from model.refinedet.config import tcb_6_rm_false as insect_refinedet"
   ]
  },
  {
   "cell_type": "markdown",
   "metadata": {},
   "source": [
    "# Set cuda"
   ]
  },
  {
   "cell_type": "code",
   "execution_count": 5,
   "metadata": {},
   "outputs": [],
   "source": [
    "if torch.cuda.is_available():\n",
    "    torch.set_default_tensor_type('torch.cuda.FloatTensor')\n",
    "else:\n",
    "    torch.set_default_tensor_type('torch.FloatTensor')"
   ]
  },
  {
   "cell_type": "markdown",
   "metadata": {},
   "source": [
    "# Detection Model"
   ]
  },
  {
   "cell_type": "code",
   "execution_count": 6,
   "metadata": {},
   "outputs": [],
   "source": [
    "if args.rm_last == True:\n",
    "    from model.refinedet.refinedet_rmlast import build_refinedet\n",
    "else:\n",
    "    from model.refinedet.refinedet import build_refinedet"
   ]
  },
  {
   "cell_type": "code",
   "execution_count": 7,
   "metadata": {},
   "outputs": [],
   "source": [
    "det_model = build_refinedet('test', insect_refinedet, args.input_size, args.tcb_layer_num).cuda()\n",
    "load_name = pj(args.det_model_root, 'RefineDet{}_{}.pth'.format(args.input_size, \"final\"))\n",
    "det_model.load_state_dict(torch.load(load_name))"
   ]
  },
  {
   "cell_type": "markdown",
   "metadata": {},
   "source": [
    "# Aquatic insect Classifier"
   ]
  },
  {
   "cell_type": "code",
   "execution_count": 8,
   "metadata": {},
   "outputs": [],
   "source": [
    "if args.div_model_name==\"ResNet18\":\n",
    "    from model.resnet.resnet18 import ResNet18\n",
    "    div_model = ResNet18(len(args.div_labels)).cuda()\n",
    "elif args.div_model_name==\"ResNet34\":\n",
    "    from model.resnet.resnet34 import ResNet34\n",
    "    div_model = ResNet34(len(args.div_labels)).cuda()\n",
    "elif args.div_model_name==\"ResNet50\":\n",
    "    from model.resnet.resnet50 import ResNet50\n",
    "    div_model = ResNet50(len(args.div_labels)).cuda()\n",
    "elif args.div_model_name==\"ResNet101\":\n",
    "    from model.resnet.resnet101 import ResNet101\n",
    "    div_model = ResNet101(len(args.div_labels)).cuda()\n",
    "else:\n",
    "    print(\"error! write correct model name!\")\n",
    "div_model.load_state_dict(torch.load(pj(args.divide_model_root, \"final.pth\")))"
   ]
  },
  {
   "cell_type": "markdown",
   "metadata": {},
   "source": [
    "# Classification Model"
   ]
  },
  {
   "cell_type": "code",
   "execution_count": 9,
   "metadata": {},
   "outputs": [],
   "source": [
    "if args.cls_model_name==\"ResNet18\":\n",
    "    from model.resnet.resnet18 import ResNet18\n",
    "    cls_model = ResNet18(len(args.cls_labels)).cuda()\n",
    "elif args.cls_model_name==\"ResNet34\":\n",
    "    from model.resnet.resnet34 import ResNet34\n",
    "    cls_model = ResNet34(len(args.cls_labels)).cuda()\n",
    "elif args.cls_model_name==\"ResNet50\":\n",
    "    from model.resnet.resnet50 import ResNet50\n",
    "    cls_model = ResNet50(len(args.cls_labels)).cuda()\n",
    "elif args.cls_model_name==\"ResNet101\":\n",
    "    from model.resnet.resnet101 import ResNet101\n",
    "    cls_model = ResNet101(len(args.cls_labels)).cuda()\n",
    "else:\n",
    "    print(\"error! write correct model name!\")\n",
    "cls_model.load_state_dict(torch.load(pj(args.cls_model_root, \"final.pth\")))"
   ]
  },
  {
   "cell_type": "markdown",
   "metadata": {},
   "source": [
    "### Make data"
   ]
  },
  {
   "cell_type": "code",
   "execution_count": 10,
   "metadata": {},
   "outputs": [
    {
     "name": "stdout",
     "output_type": "stream",
     "text": [
      "Loading dataset for test ...\n",
      "Loading annotation for test...\n"
     ]
    }
   ],
   "source": [
    "print('Loading dataset for test ...')\n",
    "test_dataset = insects_dataset_from_voc_style_txt(args.test_image_root, args.input_size, args.crop_num, training=False)\n",
    "test_data_loader = data.DataLoader(test_dataset, 1, num_workers=1, shuffle=False, collate_fn=collate_fn)\n",
    "print('Loading annotation for test...')\n",
    "annos, imgs = load_path(args.data_root, \"refined_images\", args.test_anno_folders)\n",
    "images = load_images(imgs)\n",
    "annotations_path = load_annotations_path(annos, images)\n",
    "anno = load_annotations(annotations_path)\n",
    "imagenames, recs = get_anno_recs(anno)"
   ]
  },
  {
   "cell_type": "markdown",
   "metadata": {},
   "source": [
    "### Get refinedet config"
   ]
  },
  {
   "cell_type": "code",
   "execution_count": 11,
   "metadata": {},
   "outputs": [],
   "source": [
    "cfg = insect_refinedet[str(args.input_size)]"
   ]
  },
  {
   "cell_type": "markdown",
   "metadata": {},
   "source": [
    "# --- result analysis ---"
   ]
  },
  {
   "cell_type": "code",
   "execution_count": 12,
   "metadata": {},
   "outputs": [
    {
     "name": "stderr",
     "output_type": "stream",
     "text": [
      "                                               \r"
     ]
    }
   ],
   "source": [
    "result = test_detection(det_model, test_data_loader, args.crop_num, nms_thresh=0.3)"
   ]
  },
  {
   "cell_type": "code",
   "execution_count": 13,
   "metadata": {},
   "outputs": [],
   "source": [
    "result = refine_result_by_ovthresh(result, ovthresh=0.3)"
   ]
  },
  {
   "cell_type": "code",
   "execution_count": 14,
   "metadata": {},
   "outputs": [
    {
     "name": "stderr",
     "output_type": "stream",
     "text": [
      "                                               \r"
     ]
    }
   ],
   "source": [
    "insect_dataset = build_classification_ds_from_result(images, result, use_resize=True)"
   ]
  },
  {
   "cell_type": "code",
   "execution_count": 15,
   "metadata": {},
   "outputs": [],
   "source": [
    "for image_id, imgs in insect_dataset.items():\n",
    "    imgs = torch.from_numpy(imgs).cuda()\n",
    "    cls_lbls = test_classification(cls_model, imgs, bs=20)\n",
    "    divide_lbls = test_classification(div_model, imgs, bs=20)\n",
    "    result[image_id].update({\"output_lbl\": cls_lbls})\n",
    "    result[image_id].update({\"divide_lbl\": divide_lbls})"
   ]
  },
  {
   "cell_type": "code",
   "execution_count": 16,
   "metadata": {},
   "outputs": [],
   "source": [
    "# arrange index to label\n",
    "# not considered label = -1\n",
    "name2lbl = {\n",
    "    'Coleoptera': -1, \n",
    "    'Diptera': 0, \n",
    "    'Ephemeridae': 1, \n",
    "    'Ephemeroptera': 2, \n",
    "    'Hemiptera': -1, \n",
    "    'Lepidoptera': 3, \n",
    "    'Plecoptera': 4, \n",
    "    'Trichoptera': 5, \n",
    "    'medium insect': -1, \n",
    "    'small insect': -1, \n",
    "    'snail': -1, \n",
    "    'spider': -1\n",
    "}"
   ]
  },
  {
   "cell_type": "code",
   "execution_count": 17,
   "metadata": {},
   "outputs": [],
   "source": [
    "recall, precision, avg_precision, gt_dict = evaluate(result, recs, name2lbl, 0.3)"
   ]
  },
  {
   "cell_type": "markdown",
   "metadata": {},
   "source": [
    "### --- visualize accuracy distribution of size ---"
   ]
  },
  {
   "cell_type": "code",
   "execution_count": 18,
   "metadata": {},
   "outputs": [
    {
     "data": {
      "text/html": [
       "<div>\n",
       "<style scoped>\n",
       "    .dataframe tbody tr th:only-of-type {\n",
       "        vertical-align: middle;\n",
       "    }\n",
       "\n",
       "    .dataframe tbody tr th {\n",
       "        vertical-align: top;\n",
       "    }\n",
       "\n",
       "    .dataframe thead th {\n",
       "        text-align: right;\n",
       "    }\n",
       "</style>\n",
       "<table border=\"1\" class=\"dataframe\">\n",
       "  <thead>\n",
       "    <tr style=\"text-align: right;\">\n",
       "      <th></th>\n",
       "      <th>precision</th>\n",
       "      <th>recall</th>\n",
       "    </tr>\n",
       "  </thead>\n",
       "  <tbody>\n",
       "    <tr>\n",
       "      <td>0</td>\n",
       "      <td>0.001605</td>\n",
       "      <td>1.000000</td>\n",
       "    </tr>\n",
       "    <tr>\n",
       "      <td>1</td>\n",
       "      <td>0.003210</td>\n",
       "      <td>1.000000</td>\n",
       "    </tr>\n",
       "    <tr>\n",
       "      <td>2</td>\n",
       "      <td>0.004815</td>\n",
       "      <td>1.000000</td>\n",
       "    </tr>\n",
       "    <tr>\n",
       "      <td>3</td>\n",
       "      <td>0.006421</td>\n",
       "      <td>1.000000</td>\n",
       "    </tr>\n",
       "    <tr>\n",
       "      <td>4</td>\n",
       "      <td>0.008026</td>\n",
       "      <td>1.000000</td>\n",
       "    </tr>\n",
       "    <tr>\n",
       "      <td>...</td>\n",
       "      <td>...</td>\n",
       "      <td>...</td>\n",
       "    </tr>\n",
       "    <tr>\n",
       "      <td>635</td>\n",
       "      <td>0.202247</td>\n",
       "      <td>0.340541</td>\n",
       "    </tr>\n",
       "    <tr>\n",
       "      <td>636</td>\n",
       "      <td>0.202247</td>\n",
       "      <td>0.340541</td>\n",
       "    </tr>\n",
       "    <tr>\n",
       "      <td>637</td>\n",
       "      <td>0.202247</td>\n",
       "      <td>0.339623</td>\n",
       "    </tr>\n",
       "    <tr>\n",
       "      <td>638</td>\n",
       "      <td>0.202247</td>\n",
       "      <td>0.338710</td>\n",
       "    </tr>\n",
       "    <tr>\n",
       "      <td>639</td>\n",
       "      <td>0.202247</td>\n",
       "      <td>0.337802</td>\n",
       "    </tr>\n",
       "  </tbody>\n",
       "</table>\n",
       "<p>640 rows × 2 columns</p>\n",
       "</div>"
      ],
      "text/plain": [
       "     precision    recall\n",
       "0     0.001605  1.000000\n",
       "1     0.003210  1.000000\n",
       "2     0.004815  1.000000\n",
       "3     0.006421  1.000000\n",
       "4     0.008026  1.000000\n",
       "..         ...       ...\n",
       "635   0.202247  0.340541\n",
       "636   0.202247  0.340541\n",
       "637   0.202247  0.339623\n",
       "638   0.202247  0.338710\n",
       "639   0.202247  0.337802\n",
       "\n",
       "[640 rows x 2 columns]"
      ]
     },
     "execution_count": 18,
     "metadata": {},
     "output_type": "execute_result"
    }
   ],
   "source": [
    "df = pd.DataFrame({\"precision\": precision, \"recall\": recall})\n",
    "if args.save_df is True:\n",
    "    df.to_csv(pj(args.figure_root, \"pr_curve_df.csv\"))\n",
    "df"
   ]
  },
  {
   "cell_type": "code",
   "execution_count": 19,
   "metadata": {},
   "outputs": [
    {
     "data": {
      "image/png": "[encoded data removed]",
      "text/plain": [
       "<Figure size 432x288 with 1 Axes>"
      ]
     },
     "metadata": {
      "needs_background": "light"
     },
     "output_type": "display_data"
    }
   ],
   "source": [
    "plot_pr_curve(df, args.figure_root, save=False)"
   ]
  },
  {
   "cell_type": "markdown",
   "metadata": {},
   "source": [
    "### --- visualize cls accuracy ---"
   ]
  },
  {
   "cell_type": "code",
   "execution_count": 45,
   "metadata": {},
   "outputs": [],
   "source": [
    "accs, recalls, precisions = get_cls_accuracy_per_class(cls_model, insect_dataset, result, gt_dict, name2lbl, add_divide_model=args.add_div_model)"
   ]
  },
  {
   "cell_type": "code",
   "execution_count": 46,
   "metadata": {},
   "outputs": [
    {
     "data": {
      "text/plain": [
       "0.6539010088352193"
      ]
     },
     "execution_count": 46,
     "metadata": {},
     "output_type": "execute_result"
    }
   ],
   "source": [
    "np.mean(accs)"
   ]
  },
  {
   "cell_type": "code",
   "execution_count": 47,
   "metadata": {},
   "outputs": [
    {
     "data": {
      "text/plain": [
       "0.7982310700052636"
      ]
     },
     "execution_count": 47,
     "metadata": {},
     "output_type": "execute_result"
    }
   ],
   "source": [
    "np.mean(recalls)"
   ]
  },
  {
   "cell_type": "code",
   "execution_count": 48,
   "metadata": {},
   "outputs": [
    {
     "data": {
      "text/plain": [
       "0.7152263802263802"
      ]
     },
     "execution_count": 48,
     "metadata": {},
     "output_type": "execute_result"
    }
   ],
   "source": [
    "np.mean(precisions)"
   ]
  },
  {
   "cell_type": "code",
   "execution_count": 51,
   "metadata": {},
   "outputs": [
    {
     "data": {
      "text/plain": [
       "[0.7878787878787878,\n",
       " 0.7083333333333334,\n",
       " 0.55,\n",
       " 0.7,\n",
       " 0.5625,\n",
       " 0.8333333333333334,\n",
       " 0.6111111111111112,\n",
       " 0.5714285714285714,\n",
       " 0.47368421052631576,\n",
       " 0.7407407407407407]"
      ]
     },
     "execution_count": 51,
     "metadata": {},
     "output_type": "execute_result"
    }
   ],
   "source": [
    "accs"
   ]
  },
  {
   "cell_type": "code",
   "execution_count": 49,
   "metadata": {},
   "outputs": [
    {
     "data": {
      "text/plain": [
       "array([0.78181818, 0.69230769, 0.58064516, 0.85      , 1.        ,\n",
       "       0.88461538])"
      ]
     },
     "execution_count": 49,
     "metadata": {},
     "output_type": "execute_result"
    }
   ],
   "source": [
    "recalls"
   ]
  },
  {
   "cell_type": "code",
   "execution_count": 50,
   "metadata": {},
   "outputs": [
    {
     "data": {
      "text/plain": [
       "array([0.57333333, 1.        , 0.48648649, 0.85      , 0.46153846,\n",
       "       0.92      ])"
      ]
     },
     "execution_count": 50,
     "metadata": {},
     "output_type": "execute_result"
    }
   ],
   "source": [
    "precisions"
   ]
  },
  {
   "cell_type": "markdown",
   "metadata": {},
   "source": [
    "### --- compare ground truth and output ---"
   ]
  },
  {
   "cell_type": "code",
   "execution_count": 26,
   "metadata": {},
   "outputs": [],
   "source": [
    "im_index = 0\n",
    "if os.path.exists(args.figure_root) is False:\n",
    "    os.makedirs(args.figure_root)"
   ]
  },
  {
   "cell_type": "code",
   "execution_count": 27,
   "metadata": {},
   "outputs": [],
   "source": [
    "colors = [\"white\", \"red\", \"lime\", \"blue\", \"yellow\", \"fuchsia\", \"aqua\", \"gray\", \"maroon\", \"green\", \"navy\", \"olive\", \"purple\", \"teal\"]\n",
    "insect_name =  ['Diptera', 'Ephemeridae', 'Ephemeroptera', 'Lepidoptera', 'Plecoptera', 'Trichoptera', 'Coleoptera', 'Hemiptera', 'medium insect', 'small insect']\n",
    "# arrange index to label\n",
    "# not considered label = -1\n",
    "# to see ground truth, use medium and small label\n",
    "name2lbl = {\n",
    "    'Coleoptera': -1, \n",
    "    'Diptera': 0, \n",
    "    'Ephemeridae': 1, \n",
    "    'Ephemeroptera': 2, \n",
    "    'Hemiptera': -1, \n",
    "    'Lepidoptera': 3, \n",
    "    'Plecoptera': 4, \n",
    "    'Trichoptera': 5, \n",
    "    'medium insect': -1, \n",
    "    'small insect': -1, \n",
    "    'snail': -1, \n",
    "    'spider': -1\n",
    "}"
   ]
  },
  {
   "cell_type": "code",
   "execution_count": 38,
   "metadata": {},
   "outputs": [
    {
     "ename": "IndexError",
     "evalue": "list index out of range",
     "output_type": "error",
     "traceback": [
      "\u001b[0;31m------------------------------------------------------------------------\u001b[0m",
      "\u001b[0;31mIndexError\u001b[0m                             Traceback (most recent call last)",
      "\u001b[0;32m<ipython-input-38-d476490e38b5>\u001b[0m in \u001b[0;36m<module>\u001b[0;34m\u001b[0m\n\u001b[0;32m----> 1\u001b[0;31m \u001b[0mimg\u001b[0m \u001b[0;34m=\u001b[0m \u001b[0mnp\u001b[0m\u001b[0;34m.\u001b[0m\u001b[0masarray\u001b[0m\u001b[0;34m(\u001b[0m\u001b[0mImage\u001b[0m\u001b[0;34m.\u001b[0m\u001b[0mopen\u001b[0m\u001b[0;34m(\u001b[0m\u001b[0mpj\u001b[0m\u001b[0;34m(\u001b[0m\u001b[0;34m\"/home/tanida/workspace/Insect_Phenology_Detector/data/refined_images\"\u001b[0m\u001b[0;34m,\u001b[0m \u001b[0mimagenames\u001b[0m\u001b[0;34m[\u001b[0m\u001b[0mim_index\u001b[0m\u001b[0;34m]\u001b[0m\u001b[0;34m+\u001b[0m\u001b[0;34m\".png\"\u001b[0m\u001b[0;34m)\u001b[0m\u001b[0;34m)\u001b[0m\u001b[0;34m)\u001b[0m\u001b[0;34m\u001b[0m\u001b[0;34m\u001b[0m\u001b[0m\n\u001b[0m\u001b[1;32m      2\u001b[0m \u001b[0;32mfor\u001b[0m \u001b[0mi\u001b[0m \u001b[0;32min\u001b[0m \u001b[0mrange\u001b[0m\u001b[0;34m(\u001b[0m\u001b[0mlen\u001b[0m\u001b[0;34m(\u001b[0m\u001b[0minsect_name\u001b[0m\u001b[0;34m)\u001b[0m\u001b[0;34m)\u001b[0m\u001b[0;34m:\u001b[0m\u001b[0;34m\u001b[0m\u001b[0;34m\u001b[0m\u001b[0m\n\u001b[1;32m      3\u001b[0m     \u001b[0mlbl_filter\u001b[0m \u001b[0;34m=\u001b[0m \u001b[0mresult\u001b[0m\u001b[0;34m[\u001b[0m\u001b[0mimagenames\u001b[0m\u001b[0;34m[\u001b[0m\u001b[0mim_index\u001b[0m\u001b[0;34m]\u001b[0m\u001b[0;34m]\u001b[0m\u001b[0;34m[\u001b[0m\u001b[0;34m'output_lbl'\u001b[0m\u001b[0;34m]\u001b[0m \u001b[0;34m==\u001b[0m \u001b[0mi\u001b[0m\u001b[0;34m\u001b[0m\u001b[0;34m\u001b[0m\u001b[0m\n\u001b[1;32m      4\u001b[0m     \u001b[0mresult_coord_filtered_by_lbl\u001b[0m \u001b[0;34m=\u001b[0m \u001b[0mresult\u001b[0m\u001b[0;34m[\u001b[0m\u001b[0mimagenames\u001b[0m\u001b[0;34m[\u001b[0m\u001b[0mim_index\u001b[0m\u001b[0;34m]\u001b[0m\u001b[0;34m]\u001b[0m\u001b[0;34m[\u001b[0m\u001b[0;34m'coord'\u001b[0m\u001b[0;34m]\u001b[0m\u001b[0;34m[\u001b[0m\u001b[0mlbl_filter\u001b[0m\u001b[0;34m]\u001b[0m\u001b[0;34m\u001b[0m\u001b[0;34m\u001b[0m\u001b[0m\n\u001b[1;32m      5\u001b[0m     \u001b[0mgt_lbls\u001b[0m \u001b[0;34m=\u001b[0m \u001b[0mnp\u001b[0m\u001b[0;34m.\u001b[0m\u001b[0masarray\u001b[0m\u001b[0;34m(\u001b[0m\u001b[0;34m[\u001b[0m\u001b[0mname2lbl\u001b[0m\u001b[0;34m[\u001b[0m\u001b[0mname\u001b[0m\u001b[0;34m]\u001b[0m \u001b[0;32mfor\u001b[0m \u001b[0mname\u001b[0m \u001b[0;32min\u001b[0m \u001b[0mgt_dict\u001b[0m\u001b[0;34m[\u001b[0m\u001b[0mimagenames\u001b[0m\u001b[0;34m[\u001b[0m\u001b[0mim_index\u001b[0m\u001b[0;34m]\u001b[0m\u001b[0;34m]\u001b[0m\u001b[0;34m[\u001b[0m\u001b[0;34m'default_name'\u001b[0m\u001b[0;34m]\u001b[0m\u001b[0;34m]\u001b[0m\u001b[0;34m)\u001b[0m\u001b[0;34m\u001b[0m\u001b[0;34m\u001b[0m\u001b[0m\n",
      "\u001b[0;31mIndexError\u001b[0m: list index out of range"
     ]
    }
   ],
   "source": [
    "img = np.asarray(Image.open(pj(\"/home/tanida/workspace/Insect_Phenology_Detector/data/refined_images\", imagenames[im_index]+\".png\")))\n",
    "for i in range(len(insect_name)):\n",
    "    lbl_filter = result[imagenames[im_index]]['output_lbl'] == i\n",
    "    result_coord_filtered_by_lbl = result[imagenames[im_index]]['coord'][lbl_filter]\n",
    "    gt_lbls = np.asarray([name2lbl[name] for name in gt_dict[imagenames[im_index]]['default_name']])\n",
    "    lbl_filter = gt_lbls == i\n",
    "    gt_coord_filtered_by_lbl = gt_dict[imagenames[im_index]]['bbox'][lbl_filter]\n",
    "    \n",
    "    img = vis_detections(img, result_coord_filtered_by_lbl, class_name=insect_name[i], color_name=colors[i])\n",
    "    img = vis_detections(img, gt_coord_filtered_by_lbl, class_name=insect_name[i], color_name=colors[i])\n",
    "\n",
    "img = Image.fromarray(img)\n",
    "img.save(pj(args.figure_root, imagenames[im_index]+\".png\"))\n",
    "print(imagenames[im_index])\n",
    "im_index += 1"
   ]
  }
 ],
 "metadata": {
  "kernelspec": {
   "display_name": "pytorch_040",
   "language": "python",
   "name": "pytorch_040"
  },
  "language_info": {
   "codemirror_mode": {
    "name": "ipython",
    "version": 3
   },
   "file_extension": ".py",
   "mimetype": "text/x-python",
   "name": "python",
   "nbconvert_exporter": "python",
   "pygments_lexer": "ipython3",
   "version": "3.7.4"
  }
 },
 "nbformat": 4,
 "nbformat_minor": 4
}
