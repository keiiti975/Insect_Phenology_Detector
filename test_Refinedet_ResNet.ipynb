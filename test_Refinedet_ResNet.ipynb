{
 "cells": [
  {
   "cell_type": "code",
   "execution_count": null,
   "metadata": {},
   "outputs": [],
   "source": [
    "import os\n",
    "os.environ[\"CUDA_VISIBLE_DEVICES\"]=\"0\""
   ]
  },
  {
   "cell_type": "code",
   "execution_count": null,
   "metadata": {},
   "outputs": [],
   "source": [
    "import copy\n",
    "import numpy as np\n",
    "from os.path import join as pj\n",
    "import pandas as pd\n",
    "from PIL import Image\n",
    "import torch\n",
    "import torch.utils.data as data\n",
    "\n",
    "# IO\n",
    "from IO.utils import refine_result_by_ovthresh, output_formatter, write_output_xml\n",
    "from IO.loader import load_path, load_images\n",
    "from IO.build_ds import build_classification_ds_from_result\n",
    "# Dataset\n",
    "from dataset.detection.dataset import insects_dataset_from_voc_style_txt, collate_fn\n",
    "from dataset.classification.dataset import insects_dataset\n",
    "# det model\n",
    "from model.refinedet.refinedet import RefineDet\n",
    "from model.refinedet.utils.predict import test_prediction\n",
    "# cls model\n",
    "from model.resnet.resnet import ResNet\n",
    "from model.resnet.predict import test_classification\n",
    "# Evaluate\n",
    "from evaluation.detection.evaluate import Voc_Evaluater, visualize_mean_index\n",
    "from evaluation.det2cls.visualize import vis_detections"
   ]
  },
  {
   "cell_type": "markdown",
   "metadata": {},
   "source": [
    "### Test Config"
   ]
  },
  {
   "cell_type": "code",
   "execution_count": null,
   "metadata": {},
   "outputs": [],
   "source": [
    "class args:\n",
    "    # paths\n",
    "    data_root = pj(os.getcwd(), \"data\")\n",
    "    test_image_root = pj(os.getcwd(), \"data/refined_images\")\n",
    "    test_target_root = pj(os.getcwd(), \"data/test_detection_data/target_with_other_alldata\")\n",
    "    det_model_root = pj(os.getcwd(), \"output_model/detection/RefineDet\", \"master_paper/crop_b2/tcb5_im512_freeze_All0to2_withOther\")\n",
    "    cls_model_root = pj(os.getcwd(), \"output_model/classification\", \"master_paper/resnet50/b20_lr1e-5/crossvalid_20200806_OS_All5to6withResize\")\n",
    "    size_model_root = pj(os.getcwd(), \"output_model/image2size\", \"ResNet34_b80_lr1e-4_all02\")\n",
    "    figure_root = pj(os.getcwd(), \"figure/det2cls\", \"master_paper/refinedet_plus_other_resnet_size\")\n",
    "    save_img_root = pj(os.getcwd(), \"figure/det2cls\", \"master_paper/refinedet_plus_other_resnet_size/output_image\")\n",
    "    save_xml_root = pj(os.getcwd(), \"output_xml/det2cls\", \"master_paper/refinedet_plus_other_resnet_size\")\n",
    "    test_anno_folders = [\"annotations_0\", \"annotations_2\", \"annotations_3\", \"annotations_4\", \"annotations_20200806\"]\n",
    "    # det model config\n",
    "    input_size = 512\n",
    "    crop_num = (5, 5)\n",
    "    tcb_layer_num = 6\n",
    "    use_extra_layer = True\n",
    "    det_activation_function = \"ReLU\"\n",
    "    # cls model config\n",
    "    cls_model_name = \"resnet50\"\n",
    "    cls_activation_function = \"ReLU\"\n",
    "    cls_use_dropout = True\n",
    "    # size model config\n",
    "    size_model_name = \"resnet34\"\n",
    "    size_activation_function = \"ReLU\"\n",
    "    size_use_dropout = True"
   ]
  },
  {
   "cell_type": "code",
   "execution_count": null,
   "metadata": {},
   "outputs": [],
   "source": [
    "args.det_labels = [\"Aquatic Insect\", \"Other\"]\n",
    "args.cls_labels = [\"Diptera\", \"Ephemeridae\", \"Ephemeroptera\",\n",
    "                   \"Lepidoptera\", \"Plecoptera\", \"Trichoptera\"]"
   ]
  },
  {
   "cell_type": "code",
   "execution_count": null,
   "metadata": {},
   "outputs": [],
   "source": [
    "if torch.cuda.is_available():\n",
    "    torch.set_default_tensor_type('torch.cuda.FloatTensor')\n",
    "else:\n",
    "    torch.set_default_tensor_type('torch.FloatTensor')"
   ]
  },
  {
   "cell_type": "markdown",
   "metadata": {},
   "source": [
    "### Detection Model"
   ]
  },
  {
   "cell_type": "code",
   "execution_count": null,
   "metadata": {},
   "outputs": [],
   "source": [
    "det_model = RefineDet(args.input_size, len(args.det_labels)+1, args.tcb_layer_num, activation_function=args.det_activation_function, use_extra_layer=args.use_extra_layer, use_GN_WS=False)\n",
    "load_name = pj(args.det_model_root, 'best.pth')\n",
    "det_model.load_state_dict(torch.load(load_name))"
   ]
  },
  {
   "cell_type": "markdown",
   "metadata": {},
   "source": [
    "### Classification Model"
   ]
  },
  {
   "cell_type": "code",
   "execution_count": null,
   "metadata": {},
   "outputs": [],
   "source": [
    "cls_model = ResNet(args.cls_model_name, len(args.cls_labels), use_dropout=args.cls_use_dropout, activation_function=args.cls_activation_function, decoder=None).cuda()\n",
    "load_name = pj(args.cls_model_root, \"valid_3_best.pth\")\n",
    "cls_model.load_state_dict(torch.load(load_name))"
   ]
  },
  {
   "cell_type": "markdown",
   "metadata": {},
   "source": [
    "### Size Estimation Model"
   ]
  },
  {
   "cell_type": "code",
   "execution_count": null,
   "metadata": {},
   "outputs": [],
   "source": [
    "size_model = ResNet(args.size_model_name, 1, use_dropout=args.size_use_dropout, activation_function=args.size_activation_function, decoder=None).cuda()\n",
    "load_name = pj(args.size_model_root, \"valid_3_best.pth\")\n",
    "size_model.load_state_dict(torch.load(load_name))"
   ]
  },
  {
   "cell_type": "markdown",
   "metadata": {},
   "source": [
    "### Make data"
   ]
  },
  {
   "cell_type": "code",
   "execution_count": null,
   "metadata": {},
   "outputs": [],
   "source": [
    "print('Loading dataset for test ...')\n",
    "test_dataset = insects_dataset_from_voc_style_txt(args.test_image_root, args.input_size, args.crop_num, training=False)\n",
    "test_data_loader = data.DataLoader(test_dataset, 1, num_workers=1, shuffle=False, collate_fn=collate_fn)\n",
    "print('Loading images ...')\n",
    "anno_paths, image_paths = load_path(args.data_root, \"refined_images\", args.test_anno_folders)\n",
    "images = load_images(image_paths)"
   ]
  },
  {
   "cell_type": "markdown",
   "metadata": {},
   "source": [
    "# --- result analysis ---"
   ]
  },
  {
   "cell_type": "code",
   "execution_count": null,
   "metadata": {},
   "outputs": [],
   "source": [
    "if os.path.exists(args.figure_root) is False:\n",
    "    os.makedirs(args.figure_root)"
   ]
  },
  {
   "cell_type": "code",
   "execution_count": null,
   "metadata": {},
   "outputs": [],
   "source": [
    "def get_det_result(det_model, data_loader, crop_num, num_classes, nms_thresh=0.5, ovthresh=0.3):\n",
    "    det_result = test_prediction(det_model, data_loader, crop_num, num_classes, nms_thresh)\n",
    "    det_result = refine_result_by_ovthresh(det_result, ovthresh)\n",
    "    return det_result"
   ]
  },
  {
   "cell_type": "code",
   "execution_count": null,
   "metadata": {
    "scrolled": true
   },
   "outputs": [],
   "source": [
    "det_result = get_det_result(det_model, test_data_loader, args.crop_num, len(args.det_labels)+1)"
   ]
  },
  {
   "cell_type": "code",
   "execution_count": null,
   "metadata": {
    "scrolled": true
   },
   "outputs": [],
   "source": [
    "insect_dataset = build_classification_ds_from_result(images, det_result)"
   ]
  },
  {
   "cell_type": "code",
   "execution_count": null,
   "metadata": {},
   "outputs": [],
   "source": [
    "def estimate_size(model, dataloader):\n",
    "    \"\"\"\n",
    "        image2size estimation function\n",
    "    \"\"\"\n",
    "    size_array = []\n",
    "    \n",
    "    model.eval()\n",
    "    for image in dataloader:\n",
    "        image = image.cuda()\n",
    "        out = model(image)\n",
    "        size_array.extend(out.cpu().detach().numpy())\n",
    "\n",
    "    model.train()\n",
    "    return np.array(size_array)"
   ]
  },
  {
   "cell_type": "code",
   "execution_count": null,
   "metadata": {},
   "outputs": [],
   "source": [
    "def get_det2cls_result(cls_model, insect_dataset, det_result, size_model=None):\n",
    "    det2cls_result = {}\n",
    "    if size_model is not None:\n",
    "        lbl_array = []\n",
    "        size_array = []\n",
    "    \n",
    "    for image_id, imgs in insect_dataset.items():\n",
    "        print(\"classify images: {}\".format(image_id))\n",
    "        det2cls_result_per_image = copy.copy(det_result[image_id])\n",
    "        det2cls_result_per_image.update({len(args.cls_labels): det_result[image_id][1]})\n",
    "        \n",
    "        test_dataset = insects_dataset(imgs, training=False)\n",
    "        test_dataloader = data.DataLoader(test_dataset, 1, num_workers=1, shuffle=False)\n",
    "        \n",
    "        # classification\n",
    "        lbls = test_classification(cls_model, test_dataloader)\n",
    "        \n",
    "        # size estimation\n",
    "        if size_model is not None:\n",
    "            sizes = estimate_size(size_model, test_dataloader)\n",
    "            lbl_array.extend(lbls)\n",
    "            size_array.extend(sizes)\n",
    "        \n",
    "        coords = det_result[image_id][0]\n",
    "        for lbl in range(len(args.cls_labels)):\n",
    "            lbl_filter = lbls == lbl\n",
    "            filtered_coords = coords[lbl_filter]\n",
    "            det2cls_result_per_image.update({lbl: filtered_coords})\n",
    "        det2cls_result.update({image_id: det2cls_result_per_image})\n",
    "    \n",
    "    if size_model is not None:\n",
    "        cls_and_size_df = pd.DataFrame({\"lbl\": np.array(lbl_array), \"size\": np.array(size_array)})\n",
    "        return det2cls_result, cls_and_size_df\n",
    "    else:\n",
    "        return det2cls_result"
   ]
  },
  {
   "cell_type": "code",
   "execution_count": null,
   "metadata": {},
   "outputs": [],
   "source": [
    "det2cls_result, cls_and_size_df = get_det2cls_result(cls_model, insect_dataset, det_result, size_model=size_model)"
   ]
  },
  {
   "cell_type": "code",
   "execution_count": null,
   "metadata": {},
   "outputs": [],
   "source": [
    "evaluater = Voc_Evaluater(args.test_image_root, args.test_target_root, args.figure_root)\n",
    "evaluater.set_result(det2cls_result)\n",
    "eval_metrics = evaluater.get_eval_metrics()"
   ]
  },
  {
   "cell_type": "code",
   "execution_count": null,
   "metadata": {},
   "outputs": [],
   "source": [
    "visualize_mean_index(eval_metrics, figure_root=args.figure_root)"
   ]
  },
  {
   "cell_type": "code",
   "execution_count": null,
   "metadata": {},
   "outputs": [],
   "source": [
    "cls_and_size_df.to_csv(pj(args.figure_root, \"cls_and_size_df.csv\"))\n",
    "cls_and_size_df"
   ]
  },
  {
   "cell_type": "markdown",
   "metadata": {},
   "source": [
    "### --- Output image with Result ---"
   ]
  },
  {
   "cell_type": "code",
   "execution_count": null,
   "metadata": {},
   "outputs": [],
   "source": [
    "if os.path.exists(args.save_img_root) is False:\n",
    "    os.makedirs(args.save_img_root)"
   ]
  },
  {
   "cell_type": "code",
   "execution_count": null,
   "metadata": {},
   "outputs": [],
   "source": [
    "def get_imagenames_from_anno_paths(anno_paths):\n",
    "    imagenames = [anno_path.split('/')[-1] for anno_path in anno_paths]\n",
    "    imagenames = [imagename.split('.')[0] for imagename in imagenames if imagename != '.ipynb_checkpoints']\n",
    "    return imagenames"
   ]
  },
  {
   "cell_type": "code",
   "execution_count": null,
   "metadata": {},
   "outputs": [],
   "source": [
    "imagenames = get_imagenames_from_anno_paths(anno_paths)\n",
    "colors = [\"white\", \"red\", \"lime\", \"blue\", \"yellow\", \"fuchsia\", \"aqua\", \"gray\", \"maroon\", \"green\", \"navy\", \"olive\", \"purple\", \"teal\"]\n",
    "insect_names = ['Diptera', 'Ephemeridae', 'Ephemeroptera', \n",
    "                'Lepidoptera', 'Plecoptera', 'Trichoptera', 'Other']"
   ]
  },
  {
   "cell_type": "code",
   "execution_count": null,
   "metadata": {},
   "outputs": [],
   "source": [
    "def read_ground_truth(test_target_path, insect_names, height, width):\n",
    "    gt_coord = {}\n",
    "    for lbl in range(len(insect_names)):\n",
    "        gt_coord.update({lbl: []})\n",
    "\n",
    "    with open(test_target_path, mode=\"r\") as f:\n",
    "        lines = f.readlines()\n",
    "        for line in lines:\n",
    "            line = line.split('\\n')[0]\n",
    "            elements = line.split(' ')\n",
    "            target_lbl = int(elements[4])\n",
    "            x1 = float(elements[0]) * width\n",
    "            x2 = float(elements[2]) * width\n",
    "            y1 = float(elements[1]) * height\n",
    "            y2 = float(elements[3]) * height\n",
    "            coord = [x1, y1, x2, y2]\n",
    "            gt_coord[target_lbl].append(coord)\n",
    "    \n",
    "    for lbl in range(len(insect_names)):\n",
    "        gt_coord[lbl] = np.asarray(gt_coord[lbl])\n",
    "    \n",
    "    return gt_coord"
   ]
  },
  {
   "cell_type": "code",
   "execution_count": null,
   "metadata": {},
   "outputs": [],
   "source": [
    "def output_img_with_result(det2cls_result, test_image_root, test_target_root, imagenames, insect_names, save_img_root):\n",
    "    for i in range(len(imagenames)):\n",
    "        print(\"output image: {}\".format(imagenames[i]+\".png\"))\n",
    "        img = np.asarray(Image.open(pj(test_image_root, imagenames[i]+\".png\")))\n",
    "        height, width, _ = img.shape\n",
    "        gt_coord = read_ground_truth(pj(test_target_root, imagenames[i]+\".txt\"), insect_names, height, width)\n",
    "        coord_per_image = copy.copy(det2cls_result[imagenames[i]])\n",
    "        for lbl in range(len(insect_names)):\n",
    "            img = vis_detections(img, coord_per_image[lbl], class_name=insect_names[lbl], color_name=colors[lbl], thresh=0.5)\n",
    "            img = vis_detections(img, gt_coord[lbl], class_name=insect_names[lbl], color_name=colors[lbl])\n",
    "        \n",
    "        img = Image.fromarray(img)\n",
    "        img.save(pj(save_img_root, imagenames[i]+\".png\"))"
   ]
  },
  {
   "cell_type": "code",
   "execution_count": null,
   "metadata": {},
   "outputs": [],
   "source": [
    "output_img_with_result(det2cls_result, args.test_image_root, args.test_target_root, imagenames, insect_names, args.save_img_root)"
   ]
  },
  {
   "cell_type": "markdown",
   "metadata": {},
   "source": [
    "### --- Output labelImg XML ---"
   ]
  },
  {
   "cell_type": "code",
   "execution_count": null,
   "metadata": {},
   "outputs": [],
   "source": [
    "if os.path.exists(args.save_xml_root) is False:\n",
    "    os.makedirs(args.save_xml_root)"
   ]
  },
  {
   "cell_type": "code",
   "execution_count": null,
   "metadata": {},
   "outputs": [],
   "source": [
    "insect_names = ['Diptera', 'Ephemeridae', 'Ephemeroptera', \n",
    "                'Lepidoptera', 'Plecoptera', 'Trichoptera', 'Other']\n",
    "label_map = {}\n",
    "for i, insect_name in enumerate(insect_names):\n",
    "    label_map.update({i: insect_name})\n",
    "label_map"
   ]
  },
  {
   "cell_type": "code",
   "execution_count": null,
   "metadata": {},
   "outputs": [],
   "source": [
    "output = output_formatter(det2cls_result, label_map)"
   ]
  },
  {
   "cell_type": "code",
   "execution_count": null,
   "metadata": {},
   "outputs": [],
   "source": [
    "write_output_xml(output, args.save_xml_root)"
   ]
  }
 ],
 "metadata": {
  "kernelspec": {
   "display_name": "pytorch_100",
   "language": "python",
   "name": "pytorch_100"
  },
  "language_info": {
   "codemirror_mode": {
    "name": "ipython",
    "version": 3
   },
   "file_extension": ".py",
   "mimetype": "text/x-python",
   "name": "python",
   "nbconvert_exporter": "python",
   "pygments_lexer": "ipython3",
   "version": "3.7.4"
  }
 },
 "nbformat": 4,
 "nbformat_minor": 4
}
