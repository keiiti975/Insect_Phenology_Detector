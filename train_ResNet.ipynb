{
 "cells": [
  {
   "cell_type": "code",
   "execution_count": 1,
   "metadata": {},
   "outputs": [],
   "source": [
    "import os\n",
    "os.environ[\"CUDA_VISIBLE_DEVICES\"] = \"0\""
   ]
  },
  {
   "cell_type": "code",
   "execution_count": 2,
   "metadata": {},
   "outputs": [],
   "source": [
    "import h5py\n",
    "from IPython.display import display\n",
    "import numpy as np\n",
    "from os.path import join as pj\n",
    "import pandas as pd\n",
    "import random\n",
    "import sys\n",
    "import torch\n",
    "from tqdm import tqdm\n",
    "import visdom\n",
    "\n",
    "# Logger\n",
    "from IO.logger import Logger\n",
    "# Data Augument\n",
    "from dataset.classification.loader import create_validation_split, load_validation_data, create_train_data, create_train_data_DCL\n",
    "# RCM\n",
    "from dataset.classification.region_confusion_mechanism import region_confusion_mechanism\n",
    "# Model\n",
    "from model.resnet.utils import define_weight\n",
    "from model.resnet.predict import test_classification\n",
    "# Evaluation\n",
    "from evaluation.classification.evaluate import accuracy, confusion_matrix\n",
    "# Statistics\n",
    "from evaluation.classification.statistics import compute_each_size_df, compute_all_size_df\n",
    "# Visualize\n",
    "from evaluation.classification.visualize import create_confusion_matrix, plot_df_distrib_size"
   ]
  },
  {
   "cell_type": "markdown",
   "metadata": {},
   "source": [
    "# Train Config"
   ]
  },
  {
   "cell_type": "code",
   "execution_count": 3,
   "metadata": {},
   "outputs": [],
   "source": [
    "class args:\n",
    "    # experiment_name\n",
    "    experiment_name = \"resnet50_b20_r45_lr1e-5_crossvalid_freeze\"\n",
    "    # data split\n",
    "    train_ratio = 0.8 # unused parameters\n",
    "    test_ratio = 0.2\n",
    "    # paths\n",
    "    all_data_path = \"/home/tanida/workspace/Insect_Phenology_Detector/data/all_classification_data/classify_insect_std_aquatic\"\n",
    "    model_root = pj(\"/home/tanida/workspace/Insect_Phenology_Detector/output_model/classification/ResNet101\", experiment_name)\n",
    "    figure_root = pj(\"/home/tanida/workspace/Insect_Phenology_Detector/figure/classification/ResNet101\", experiment_name)\n",
    "    # class names to visualize\n",
    "    #labels =  ['Aquatic_insects', 'Other_insects']\n",
    "    labels =  ['Diptera', 'Ephemeridae', 'Ephemeroptera', \n",
    "               'Lepidoptera', 'Plecoptera', 'Trichoptera']\n",
    "    #labels =  ['Diptera', 'Ephemeridae', 'Ephemeroptera', \n",
    "    #           'Lepidoptera', 'Plecoptera', 'Trichoptera', \n",
    "    #           'Coleoptera', 'Hemiptera', 'medium insect', 'small insect']\n",
    "    # train config\n",
    "    model_name = \"ResNet50\" # choice [\"ResNet18\", \"ResNet34\", \"ResNet50\", \"ResNet101\"]\n",
    "    use_DCL = False\n",
    "    division_number = 7\n",
    "    neighborhood_range = 1\n",
    "    cls_weight = 1\n",
    "    dest_weight = 10\n",
    "    coord_weight = 0.1\n",
    "    bs = 20\n",
    "    lr = 1e-5\n",
    "    nepoch = 40\n",
    "    rotate = 45\n",
    "    pretrain = True\n",
    "    freeze = True\n",
    "    # test config\n",
    "    save_fig = True\n",
    "    save_df = True\n",
    "    # visdom\n",
    "    visdom = False\n",
    "    port = 8097"
   ]
  },
  {
   "cell_type": "markdown",
   "metadata": {},
   "source": [
    "# Load Model"
   ]
  },
  {
   "cell_type": "code",
   "execution_count": 4,
   "metadata": {},
   "outputs": [],
   "source": [
    "# Model\n",
    "if args.model_name==\"ResNet18\":\n",
    "    from model.resnet.resnet18 import ResNet18\n",
    "elif args.model_name==\"ResNet34\":\n",
    "    from model.resnet.resnet34 import ResNet34\n",
    "elif args.model_name==\"ResNet50\":\n",
    "    from model.resnet.resnet50 import ResNet50\n",
    "elif args.model_name==\"ResNet101\":\n",
    "    from model.resnet.resnet101 import ResNet101\n",
    "else:\n",
    "    print(\"error! write correct model name!\")"
   ]
  },
  {
   "cell_type": "markdown",
   "metadata": {},
   "source": [
    "# Train"
   ]
  },
  {
   "cell_type": "code",
   "execution_count": 5,
   "metadata": {},
   "outputs": [],
   "source": [
    "def train(model, xtr, ytr, bs=20, lr=1e-5, nepoch=40, visdom=False):\n",
    "    # calculate counts and count_sum\n",
    "    _, counts = np.unique(ytr, return_counts=True)\n",
    "    counts_sum = counts.sum()\n",
    "    \n",
    "    # define weight and create loss function\n",
    "    ce = torch.nn.CrossEntropyLoss(define_weight(counts))\n",
    "    \n",
    "    # define optimizer\n",
    "    opt = torch.optim.Adam(model.parameters(), lr=lr)\n",
    "    \n",
    "    # set model train mode\n",
    "    model.train()\n",
    "    \n",
    "    t = tqdm(range(nepoch),leave=False)\n",
    "    # training\n",
    "    for epoch in t:\n",
    "        total_loss = 0\n",
    "        index = random.sample(range(counts_sum),counts_sum)\n",
    "        t.set_description(\"epoch=%s\" % (epoch))\n",
    "        for idx in range(0,counts_sum-bs,bs):\n",
    "            idx = index[idx:idx+bs]\n",
    "            x = xtr[idx].cuda()\n",
    "            y = ytr[idx].cuda()\n",
    "            opt.zero_grad()\n",
    "            out = model(x)\n",
    "            loss = ce(out, y)\n",
    "            total_loss += loss.item()\n",
    "            loss.backward()\n",
    "            opt.step()\n",
    "        \n",
    "        model.training = False\n",
    "        te_acc = accuracy(model, xte, yte, bs)\n",
    "        model.training = True\n",
    "        if visdom:\n",
    "            visualize(vis, epoch+1, total_loss, win_train_loss)\n",
    "            visualize(vis, epoch+1, te_acc, win_test_acc)\n",
    "        sys.stdout.write(\"\\rtotal_loss=%f, te_acc=%f\" % (total_loss,te_acc))\n",
    "        sys.stdout.flush()\n",
    "        \n",
    "\n",
    "def train_DCL(model, xtr, ytr, target_dest_or_not, target_coordinate, bs=20, lr=1e-5, nepoch=40, visdom=False, cls_weight=1, dest_weight=10, coord_weight=0.1):\n",
    "    # calculate counts and count_sum\n",
    "    _, counts = np.unique(ytr, return_counts=True)\n",
    "    counts_sum = counts.sum()\n",
    "    \n",
    "    # define weight and create loss function\n",
    "    cls_ce = torch.nn.CrossEntropyLoss(define_weight(counts))\n",
    "    dest_ce = torch.nn.CrossEntropyLoss()\n",
    "    coord_l1 = torch.nn.L1Loss()\n",
    "    \n",
    "    # define optimizer\n",
    "    opt = torch.optim.Adam(model.parameters(), lr=lr)\n",
    "    \n",
    "    # set model train mode\n",
    "    model.train()\n",
    "    \n",
    "    t = tqdm(range(nepoch),leave=False)\n",
    "    # training\n",
    "    for epoch in t:\n",
    "        sum_cls_loss = 0\n",
    "        sum_dest_loss = 0\n",
    "        sum_coord_loss = 0\n",
    "        total_loss = 0\n",
    "        index = random.sample(range(counts_sum),counts_sum)\n",
    "        t.set_description(\"epoch=%s\" % (epoch))\n",
    "        for idx in range(0,counts_sum-bs,bs):\n",
    "            idx = index[idx:idx+bs]\n",
    "            x = xtr[idx].cuda()\n",
    "            y = ytr[idx].cuda()\n",
    "            sample_dest_or_not = target_dest_or_not[idx].cuda()\n",
    "            sample_coordinate = target_coordinate[idx].cuda()\n",
    "            opt.zero_grad()\n",
    "            out, predict_loc, dest_or_not = model(x)\n",
    "            cls_loss = cls_ce(out, y) * cls_weight\n",
    "            dest_loss = dest_ce(dest_or_not, sample_dest_or_not) * dest_weight\n",
    "            coord_loss = coord_l1(predict_loc, sample_coordinate) * coord_weight\n",
    "            loss = cls_loss + dest_loss + coord_loss\n",
    "            sum_cls_loss += cls_loss.item()\n",
    "            sum_dest_loss += dest_loss.item()\n",
    "            sum_coord_loss += coord_loss.item()\n",
    "            total_loss += loss.item()\n",
    "            loss.backward()\n",
    "            opt.step()\n",
    "        \n",
    "        model.training = False\n",
    "        te_acc = accuracy(model, xte, yte, bs)\n",
    "        model.training = True\n",
    "        if visdom:\n",
    "            visualize(vis, epoch+1, sum_cls_loss, win_cls_loss)\n",
    "            visualize(vis, epoch+1, sum_dest_loss, win_dest_loss)\n",
    "            visualize(vis, epoch+1, sum_coord_loss, win_coord_loss)\n",
    "            visualize(vis, epoch+1, total_loss, win_train_loss)\n",
    "            visualize(vis, epoch+1, te_acc, win_test_acc)\n",
    "        sys.stdout.write(\"\\rcls_loss=%f, dest_loss=%f, coord_loss=%f, train_loss=%f, te_acc=%f\" % (sum_cls_loss, sum_dest_loss, sum_coord_loss, total_loss, te_acc))\n",
    "        sys.stdout.flush()"
   ]
  },
  {
   "cell_type": "markdown",
   "metadata": {},
   "source": [
    "# Set Visdom"
   ]
  },
  {
   "cell_type": "code",
   "execution_count": 6,
   "metadata": {},
   "outputs": [],
   "source": [
    "if args.visdom:\n",
    "    # Create visdom\n",
    "    vis = visdom.Visdom(port=args.port)\n",
    "    \n",
    "    \"\"\"train_loss\"\"\"\n",
    "    win_train_loss = vis.line(\n",
    "        X=np.array([0]),\n",
    "        Y=np.array([0]),\n",
    "        opts=dict(\n",
    "            title='train_loss',\n",
    "            xlabel='epoch',\n",
    "            ylabel='loss',\n",
    "            width=800,\n",
    "            height=400\n",
    "        )\n",
    "    )\n",
    "    \"\"\"test_accuracy\"\"\"\n",
    "    win_test_acc = vis.line(\n",
    "        X=np.array([0]),\n",
    "        Y=np.array([0]),\n",
    "        opts=dict(\n",
    "            title='test_accuracy',\n",
    "            xlabel='epoch',\n",
    "            ylabel='loss',\n",
    "            width=800,\n",
    "            height=400\n",
    "        )\n",
    "    )\n",
    "    \n",
    "    if args.use_DCL is True:\n",
    "        \"\"\"train_loss\"\"\"\n",
    "        win_cls_loss = vis.line(\n",
    "            X=np.array([0]),\n",
    "            Y=np.array([0]),\n",
    "            opts=dict(\n",
    "                title='classification_loss',\n",
    "                xlabel='epoch',\n",
    "                ylabel='loss',\n",
    "                width=800,\n",
    "                height=400\n",
    "            )\n",
    "        )\n",
    "        win_dest_loss = vis.line(\n",
    "            X=np.array([0]),\n",
    "            Y=np.array([0]),\n",
    "            opts=dict(\n",
    "                title='adversarial_loss',\n",
    "                xlabel='epoch',\n",
    "                ylabel='loss',\n",
    "                width=800,\n",
    "                height=400\n",
    "            )\n",
    "        )\n",
    "        win_coord_loss = vis.line(\n",
    "            X=np.array([0]),\n",
    "            Y=np.array([0]),\n",
    "            opts=dict(\n",
    "                title='coordinate_loss',\n",
    "                xlabel='epoch',\n",
    "                ylabel='loss',\n",
    "                width=800,\n",
    "                height=400\n",
    "            )\n",
    "        )"
   ]
  },
  {
   "cell_type": "code",
   "execution_count": 7,
   "metadata": {},
   "outputs": [],
   "source": [
    "def visualize(vis, phase, visualized_data, window):\n",
    "    vis.line(\n",
    "        X=np.array([phase]),\n",
    "        Y=np.array([visualized_data]),\n",
    "        update='append',\n",
    "        win=window\n",
    "    )"
   ]
  },
  {
   "cell_type": "markdown",
   "metadata": {},
   "source": [
    "### Save args"
   ]
  },
  {
   "cell_type": "code",
   "execution_count": 8,
   "metadata": {},
   "outputs": [],
   "source": [
    "args_logger = Logger(args)\n",
    "args_logger.save()"
   ]
  },
  {
   "cell_type": "markdown",
   "metadata": {},
   "source": [
    "# Cross Validation"
   ]
  },
  {
   "cell_type": "code",
   "execution_count": 9,
   "metadata": {},
   "outputs": [],
   "source": [
    "model_save_path = pj(args.model_root, \"final.pth\")\n",
    "if os.path.exists(args.model_root) is False:\n",
    "    os.makedirs(args.model_root)\n",
    "if os.path.exists(args.figure_root) is False:\n",
    "    os.makedirs(args.figure_root)"
   ]
  },
  {
   "cell_type": "code",
   "execution_count": 10,
   "metadata": {
    "scrolled": true
   },
   "outputs": [
    {
     "name": "stderr",
     "output_type": "stream",
     "text": [
      "  0%|          | 1/1059 [00:00<03:27,  5.09it/s]"
     ]
    },
    {
     "name": "stdout",
     "output_type": "stream",
     "text": [
      "making rotate45 dataset\n"
     ]
    },
    {
     "name": "stderr",
     "output_type": "stream",
     "text": [
      "epoch=0:   0%|          | 0/40 [00:00<?, ?it/s]    "
     ]
    },
    {
     "name": "stdout",
     "output_type": "stream",
     "text": [
      "total_loss=752.900564, te_acc=0.301887"
     ]
    },
    {
     "name": "stderr",
     "output_type": "stream",
     "text": [
      "epoch=1:   2%|▎         | 1/40 [00:21<14:04, 21.66s/it]"
     ]
    },
    {
     "name": "stdout",
     "output_type": "stream",
     "text": [
      "total_loss=717.373404, te_acc=0.483019"
     ]
    },
    {
     "name": "stderr",
     "output_type": "stream",
     "text": [
      "epoch=2:   5%|▌         | 2/40 [00:41<13:25, 21.20s/it]"
     ]
    },
    {
     "name": "stdout",
     "output_type": "stream",
     "text": [
      "total_loss=687.352064, te_acc=0.498113"
     ]
    },
    {
     "name": "stderr",
     "output_type": "stream",
     "text": [
      "epoch=3:   8%|▊         | 3/40 [00:58<12:12, 19.80s/it]"
     ]
    },
    {
     "name": "stdout",
     "output_type": "stream",
     "text": [
      "total_loss=661.148947, te_acc=0.532075"
     ]
    },
    {
     "name": "stderr",
     "output_type": "stream",
     "text": [
      "epoch=4:  10%|█         | 4/40 [01:15<11:22, 18.97s/it]"
     ]
    },
    {
     "name": "stdout",
     "output_type": "stream",
     "text": [
      "total_loss=638.769133, te_acc=0.573585"
     ]
    },
    {
     "name": "stderr",
     "output_type": "stream",
     "text": [
      "epoch=5:  12%|█▎        | 5/40 [01:31<10:39, 18.27s/it]"
     ]
    },
    {
     "name": "stdout",
     "output_type": "stream",
     "text": [
      "total_loss=618.861397, te_acc=0.562264"
     ]
    },
    {
     "name": "stderr",
     "output_type": "stream",
     "text": [
      "epoch=6:  15%|█▌        | 6/40 [01:48<10:05, 17.81s/it]"
     ]
    },
    {
     "name": "stdout",
     "output_type": "stream",
     "text": [
      "total_loss=600.907946, te_acc=0.584906"
     ]
    },
    {
     "name": "stderr",
     "output_type": "stream",
     "text": [
      "epoch=7:  18%|█▊        | 7/40 [02:05<09:35, 17.44s/it]"
     ]
    },
    {
     "name": "stdout",
     "output_type": "stream",
     "text": [
      "total_loss=586.349732, te_acc=0.577358"
     ]
    },
    {
     "name": "stderr",
     "output_type": "stream",
     "text": [
      "epoch=8:  20%|██        | 8/40 [02:21<09:09, 17.19s/it]"
     ]
    },
    {
     "name": "stdout",
     "output_type": "stream",
     "text": [
      "total_loss=573.173131, te_acc=0.566038"
     ]
    },
    {
     "name": "stderr",
     "output_type": "stream",
     "text": [
      "epoch=9:  22%|██▎       | 9/40 [02:38<08:48, 17.06s/it]"
     ]
    },
    {
     "name": "stdout",
     "output_type": "stream",
     "text": [
      "total_loss=562.337968, te_acc=0.592453"
     ]
    },
    {
     "name": "stderr",
     "output_type": "stream",
     "text": [
      "epoch=10:  25%|██▌       | 10/40 [02:55<08:26, 16.89s/it]"
     ]
    },
    {
     "name": "stdout",
     "output_type": "stream",
     "text": [
      "total_loss=552.561733, te_acc=0.592453"
     ]
    },
    {
     "name": "stderr",
     "output_type": "stream",
     "text": [
      "epoch=11:  28%|██▊       | 11/40 [03:11<08:07, 16.83s/it]"
     ]
    },
    {
     "name": "stdout",
     "output_type": "stream",
     "text": [
      "total_loss=541.798070, te_acc=0.603774"
     ]
    },
    {
     "name": "stderr",
     "output_type": "stream",
     "text": [
      "epoch=12:  30%|███       | 12/40 [03:28<07:48, 16.74s/it]"
     ]
    },
    {
     "name": "stdout",
     "output_type": "stream",
     "text": [
      "total_loss=533.691022, te_acc=0.584906"
     ]
    },
    {
     "name": "stderr",
     "output_type": "stream",
     "text": [
      "epoch=13:  32%|███▎      | 13/40 [03:44<07:30, 16.69s/it]"
     ]
    },
    {
     "name": "stdout",
     "output_type": "stream",
     "text": [
      "total_loss=524.189316, te_acc=0.588679"
     ]
    },
    {
     "name": "stderr",
     "output_type": "stream",
     "text": [
      "epoch=14:  35%|███▌      | 14/40 [04:01<07:14, 16.70s/it]"
     ]
    },
    {
     "name": "stdout",
     "output_type": "stream",
     "text": [
      "total_loss=519.334378, te_acc=0.569811"
     ]
    },
    {
     "name": "stderr",
     "output_type": "stream",
     "text": [
      "epoch=15:  38%|███▊      | 15/40 [04:18<06:58, 16.74s/it]"
     ]
    },
    {
     "name": "stdout",
     "output_type": "stream",
     "text": [
      "total_loss=511.143336, te_acc=0.603774"
     ]
    },
    {
     "name": "stderr",
     "output_type": "stream",
     "text": [
      "epoch=16:  40%|████      | 16/40 [04:36<06:49, 17.05s/it]"
     ]
    },
    {
     "name": "stdout",
     "output_type": "stream",
     "text": [
      "total_loss=508.452918, te_acc=0.603774"
     ]
    },
    {
     "name": "stderr",
     "output_type": "stream",
     "text": [
      "epoch=17:  42%|████▎     | 17/40 [04:57<07:02, 18.35s/it]"
     ]
    },
    {
     "name": "stdout",
     "output_type": "stream",
     "text": [
      "total_loss=501.031042, te_acc=0.603774"
     ]
    },
    {
     "name": "stderr",
     "output_type": "stream",
     "text": [
      "epoch=18:  45%|████▌     | 18/40 [05:19<07:04, 19.28s/it]"
     ]
    },
    {
     "name": "stdout",
     "output_type": "stream",
     "text": [
      "total_loss=495.594153, te_acc=0.626415"
     ]
    },
    {
     "name": "stderr",
     "output_type": "stream",
     "text": [
      "epoch=19:  48%|████▊     | 19/40 [05:40<06:59, 19.98s/it]"
     ]
    },
    {
     "name": "stdout",
     "output_type": "stream",
     "text": [
      "total_loss=488.903740, te_acc=0.607547"
     ]
    },
    {
     "name": "stderr",
     "output_type": "stream",
     "text": [
      "epoch=20:  50%|█████     | 20/40 [06:02<06:47, 20.37s/it]"
     ]
    },
    {
     "name": "stdout",
     "output_type": "stream",
     "text": [
      "total_loss=489.058778, te_acc=0.618868"
     ]
    },
    {
     "name": "stderr",
     "output_type": "stream",
     "text": [
      "epoch=21:  52%|█████▎    | 21/40 [06:23<06:32, 20.66s/it]"
     ]
    },
    {
     "name": "stdout",
     "output_type": "stream",
     "text": [
      "total_loss=481.028284, te_acc=0.607547"
     ]
    },
    {
     "name": "stderr",
     "output_type": "stream",
     "text": [
      "epoch=22:  55%|█████▌    | 22/40 [06:44<06:15, 20.88s/it]"
     ]
    },
    {
     "name": "stdout",
     "output_type": "stream",
     "text": [
      "total_loss=477.965128, te_acc=0.596226"
     ]
    },
    {
     "name": "stderr",
     "output_type": "stream",
     "text": [
      "epoch=23:  57%|█████▊    | 23/40 [07:06<05:57, 21.06s/it]"
     ]
    },
    {
     "name": "stdout",
     "output_type": "stream",
     "text": [
      "total_loss=478.765692, te_acc=0.615094"
     ]
    },
    {
     "name": "stderr",
     "output_type": "stream",
     "text": [
      "epoch=24:  60%|██████    | 24/40 [07:27<05:37, 21.12s/it]"
     ]
    },
    {
     "name": "stdout",
     "output_type": "stream",
     "text": [
      "total_loss=470.162988, te_acc=0.622642"
     ]
    },
    {
     "name": "stderr",
     "output_type": "stream",
     "text": [
      "epoch=25:  62%|██████▎   | 25/40 [07:48<05:17, 21.15s/it]"
     ]
    },
    {
     "name": "stdout",
     "output_type": "stream",
     "text": [
      "total_loss=467.622527, te_acc=0.630189"
     ]
    },
    {
     "name": "stderr",
     "output_type": "stream",
     "text": [
      "epoch=26:  65%|██████▌   | 26/40 [08:10<04:57, 21.22s/it]"
     ]
    },
    {
     "name": "stdout",
     "output_type": "stream",
     "text": [
      "total_loss=465.494745, te_acc=0.633962"
     ]
    },
    {
     "name": "stderr",
     "output_type": "stream",
     "text": [
      "epoch=27:  68%|██████▊   | 27/40 [08:31<04:35, 21.23s/it]"
     ]
    },
    {
     "name": "stdout",
     "output_type": "stream",
     "text": [
      "total_loss=461.402784, te_acc=0.622642"
     ]
    },
    {
     "name": "stderr",
     "output_type": "stream",
     "text": [
      "epoch=28:  70%|███████   | 28/40 [08:52<04:15, 21.28s/it]"
     ]
    },
    {
     "name": "stdout",
     "output_type": "stream",
     "text": [
      "total_loss=456.397402, te_acc=0.626415"
     ]
    },
    {
     "name": "stderr",
     "output_type": "stream",
     "text": [
      "epoch=29:  72%|███████▎  | 29/40 [09:14<03:54, 21.30s/it]"
     ]
    },
    {
     "name": "stdout",
     "output_type": "stream",
     "text": [
      "total_loss=456.900205, te_acc=0.637736"
     ]
    },
    {
     "name": "stderr",
     "output_type": "stream",
     "text": [
      "epoch=30:  75%|███████▌  | 30/40 [09:35<03:33, 21.33s/it]"
     ]
    },
    {
     "name": "stdout",
     "output_type": "stream",
     "text": [
      "total_loss=454.274493, te_acc=0.626415"
     ]
    },
    {
     "name": "stderr",
     "output_type": "stream",
     "text": [
      "epoch=31:  78%|███████▊  | 31/40 [09:56<03:11, 21.27s/it]"
     ]
    },
    {
     "name": "stdout",
     "output_type": "stream",
     "text": [
      "total_loss=453.241848, te_acc=0.637736"
     ]
    },
    {
     "name": "stderr",
     "output_type": "stream",
     "text": [
      "epoch=32:  80%|████████  | 32/40 [10:18<02:50, 21.32s/it]"
     ]
    },
    {
     "name": "stdout",
     "output_type": "stream",
     "text": [
      "total_loss=451.605258, te_acc=0.622642"
     ]
    },
    {
     "name": "stderr",
     "output_type": "stream",
     "text": [
      "epoch=33:  82%|████████▎ | 33/40 [10:39<02:29, 21.37s/it]"
     ]
    },
    {
     "name": "stdout",
     "output_type": "stream",
     "text": [
      "total_loss=447.432631, te_acc=0.630189"
     ]
    },
    {
     "name": "stderr",
     "output_type": "stream",
     "text": [
      "epoch=34:  85%|████████▌ | 34/40 [11:00<02:08, 21.34s/it]"
     ]
    },
    {
     "name": "stdout",
     "output_type": "stream",
     "text": [
      "total_loss=446.153907, te_acc=0.618868"
     ]
    },
    {
     "name": "stderr",
     "output_type": "stream",
     "text": [
      "epoch=35:  88%|████████▊ | 35/40 [11:22<01:47, 21.45s/it]"
     ]
    },
    {
     "name": "stdout",
     "output_type": "stream",
     "text": [
      "total_loss=442.056476, te_acc=0.626415"
     ]
    },
    {
     "name": "stderr",
     "output_type": "stream",
     "text": [
      "epoch=36:  90%|█████████ | 36/40 [11:43<01:24, 21.24s/it]"
     ]
    },
    {
     "name": "stdout",
     "output_type": "stream",
     "text": [
      "total_loss=436.856597, te_acc=0.622642"
     ]
    },
    {
     "name": "stderr",
     "output_type": "stream",
     "text": [
      "epoch=37:  92%|█████████▎| 37/40 [12:04<01:03, 21.33s/it]"
     ]
    },
    {
     "name": "stdout",
     "output_type": "stream",
     "text": [
      "total_loss=437.697220, te_acc=0.633962"
     ]
    },
    {
     "name": "stderr",
     "output_type": "stream",
     "text": [
      "epoch=38:  95%|█████████▌| 38/40 [12:25<00:42, 21.27s/it]"
     ]
    },
    {
     "name": "stdout",
     "output_type": "stream",
     "text": [
      "total_loss=433.396176, te_acc=0.633962"
     ]
    },
    {
     "name": "stderr",
     "output_type": "stream",
     "text": [
      "epoch=39:  98%|█████████▊| 39/40 [12:46<00:21, 21.20s/it]"
     ]
    },
    {
     "name": "stdout",
     "output_type": "stream",
     "text": [
      "total_loss=435.757123, te_acc=0.630189"
     ]
    },
    {
     "name": "stderr",
     "output_type": "stream",
     "text": [
      "                                                         \r"
     ]
    },
    {
     "data": {
      "text/html": [
       "<div>\n",
       "<style scoped>\n",
       "    .dataframe tbody tr th:only-of-type {\n",
       "        vertical-align: middle;\n",
       "    }\n",
       "\n",
       "    .dataframe tbody tr th {\n",
       "        vertical-align: top;\n",
       "    }\n",
       "\n",
       "    .dataframe thead th {\n",
       "        text-align: right;\n",
       "    }\n",
       "</style>\n",
       "<table border=\"1\" class=\"dataframe\">\n",
       "  <thead>\n",
       "    <tr style=\"text-align: right;\">\n",
       "      <th></th>\n",
       "      <th>0</th>\n",
       "      <th>1</th>\n",
       "      <th>2</th>\n",
       "      <th>3</th>\n",
       "      <th>4</th>\n",
       "      <th>5</th>\n",
       "    </tr>\n",
       "  </thead>\n",
       "  <tbody>\n",
       "    <tr>\n",
       "      <td>0</td>\n",
       "      <td>68.0</td>\n",
       "      <td>3.0</td>\n",
       "      <td>8.0</td>\n",
       "      <td>1.0</td>\n",
       "      <td>4.0</td>\n",
       "      <td>0.0</td>\n",
       "    </tr>\n",
       "    <tr>\n",
       "      <td>1</td>\n",
       "      <td>0.0</td>\n",
       "      <td>4.0</td>\n",
       "      <td>2.0</td>\n",
       "      <td>2.0</td>\n",
       "      <td>1.0</td>\n",
       "      <td>1.0</td>\n",
       "    </tr>\n",
       "    <tr>\n",
       "      <td>2</td>\n",
       "      <td>6.0</td>\n",
       "      <td>0.0</td>\n",
       "      <td>13.0</td>\n",
       "      <td>6.0</td>\n",
       "      <td>10.0</td>\n",
       "      <td>5.0</td>\n",
       "    </tr>\n",
       "    <tr>\n",
       "      <td>3</td>\n",
       "      <td>3.0</td>\n",
       "      <td>4.0</td>\n",
       "      <td>4.0</td>\n",
       "      <td>38.0</td>\n",
       "      <td>2.0</td>\n",
       "      <td>3.0</td>\n",
       "    </tr>\n",
       "    <tr>\n",
       "      <td>4</td>\n",
       "      <td>5.0</td>\n",
       "      <td>1.0</td>\n",
       "      <td>7.0</td>\n",
       "      <td>1.0</td>\n",
       "      <td>12.0</td>\n",
       "      <td>1.0</td>\n",
       "    </tr>\n",
       "    <tr>\n",
       "      <td>5</td>\n",
       "      <td>4.0</td>\n",
       "      <td>0.0</td>\n",
       "      <td>5.0</td>\n",
       "      <td>6.0</td>\n",
       "      <td>3.0</td>\n",
       "      <td>32.0</td>\n",
       "    </tr>\n",
       "  </tbody>\n",
       "</table>\n",
       "</div>"
      ],
      "text/plain": [
       "      0    1     2     3     4     5\n",
       "0  68.0  3.0   8.0   1.0   4.0   0.0\n",
       "1   0.0  4.0   2.0   2.0   1.0   1.0\n",
       "2   6.0  0.0  13.0   6.0  10.0   5.0\n",
       "3   3.0  4.0   4.0  38.0   2.0   3.0\n",
       "4   5.0  1.0   7.0   1.0  12.0   1.0\n",
       "5   4.0  0.0   5.0   6.0   3.0  32.0"
      ]
     },
     "metadata": {},
     "output_type": "display_data"
    },
    {
     "name": "stderr",
     "output_type": "stream",
     "text": [
      "  0%|          | 2/1059 [00:00<01:43, 10.19it/s]"
     ]
    },
    {
     "name": "stdout",
     "output_type": "stream",
     "text": [
      "making rotate45 dataset\n"
     ]
    },
    {
     "name": "stderr",
     "output_type": "stream",
     "text": [
      "epoch=0:   0%|          | 0/40 [00:00<?, ?it/s]    "
     ]
    },
    {
     "name": "stdout",
     "output_type": "stream",
     "text": [
      "total_loss=753.711264, te_acc=0.377358"
     ]
    },
    {
     "name": "stderr",
     "output_type": "stream",
     "text": [
      "epoch=1:   2%|▎         | 1/40 [00:21<13:59, 21.52s/it]"
     ]
    },
    {
     "name": "stdout",
     "output_type": "stream",
     "text": [
      "total_loss=716.583647, te_acc=0.501887"
     ]
    },
    {
     "name": "stderr",
     "output_type": "stream",
     "text": [
      "epoch=2:   5%|▌         | 2/40 [00:43<13:39, 21.56s/it]"
     ]
    },
    {
     "name": "stdout",
     "output_type": "stream",
     "text": [
      "total_loss=686.557077, te_acc=0.532075"
     ]
    },
    {
     "name": "stderr",
     "output_type": "stream",
     "text": [
      "epoch=3:   8%|▊         | 3/40 [01:04<13:14, 21.48s/it]"
     ]
    },
    {
     "name": "stdout",
     "output_type": "stream",
     "text": [
      "total_loss=661.150922, te_acc=0.547170"
     ]
    },
    {
     "name": "stderr",
     "output_type": "stream",
     "text": [
      "epoch=4:  10%|█         | 4/40 [01:25<12:52, 21.45s/it]"
     ]
    },
    {
     "name": "stdout",
     "output_type": "stream",
     "text": [
      "total_loss=640.630405, te_acc=0.558491"
     ]
    },
    {
     "name": "stderr",
     "output_type": "stream",
     "text": [
      "epoch=5:  12%|█▎        | 5/40 [01:47<12:32, 21.49s/it]"
     ]
    },
    {
     "name": "stdout",
     "output_type": "stream",
     "text": [
      "total_loss=619.354460, te_acc=0.584906"
     ]
    },
    {
     "name": "stderr",
     "output_type": "stream",
     "text": [
      "epoch=6:  15%|█▌        | 6/40 [02:08<12:08, 21.42s/it]"
     ]
    },
    {
     "name": "stdout",
     "output_type": "stream",
     "text": [
      "total_loss=604.076555, te_acc=0.581132"
     ]
    },
    {
     "name": "stderr",
     "output_type": "stream",
     "text": [
      "epoch=7:  18%|█▊        | 7/40 [02:26<11:14, 20.45s/it]"
     ]
    },
    {
     "name": "stdout",
     "output_type": "stream",
     "text": [
      "total_loss=589.371697, te_acc=0.573585"
     ]
    },
    {
     "name": "stderr",
     "output_type": "stream",
     "text": [
      "epoch=8:  20%|██        | 8/40 [02:43<10:20, 19.39s/it]"
     ]
    },
    {
     "name": "stdout",
     "output_type": "stream",
     "text": [
      "total_loss=577.983076, te_acc=0.584906"
     ]
    },
    {
     "name": "stderr",
     "output_type": "stream",
     "text": [
      "epoch=9:  22%|██▎       | 9/40 [03:00<09:38, 18.66s/it]"
     ]
    },
    {
     "name": "stdout",
     "output_type": "stream",
     "text": [
      "total_loss=564.377142, te_acc=0.607547"
     ]
    },
    {
     "name": "stderr",
     "output_type": "stream",
     "text": [
      "epoch=10:  25%|██▌       | 10/40 [03:17<09:03, 18.11s/it]"
     ]
    },
    {
     "name": "stdout",
     "output_type": "stream",
     "text": [
      "total_loss=554.993165, te_acc=0.630189"
     ]
    },
    {
     "name": "stderr",
     "output_type": "stream",
     "text": [
      "epoch=11:  28%|██▊       | 11/40 [03:34<08:34, 17.73s/it]"
     ]
    },
    {
     "name": "stdout",
     "output_type": "stream",
     "text": [
      "total_loss=545.549235, te_acc=0.603774"
     ]
    },
    {
     "name": "stderr",
     "output_type": "stream",
     "text": [
      "epoch=12:  30%|███       | 12/40 [03:51<08:10, 17.50s/it]"
     ]
    },
    {
     "name": "stdout",
     "output_type": "stream",
     "text": [
      "total_loss=538.052457, te_acc=0.626415"
     ]
    },
    {
     "name": "stderr",
     "output_type": "stream",
     "text": [
      "epoch=13:  32%|███▎      | 13/40 [04:08<07:47, 17.33s/it]"
     ]
    },
    {
     "name": "stdout",
     "output_type": "stream",
     "text": [
      "total_loss=530.554301, te_acc=0.611321"
     ]
    },
    {
     "name": "stderr",
     "output_type": "stream",
     "text": [
      "epoch=14:  35%|███▌      | 14/40 [04:25<07:25, 17.15s/it]"
     ]
    },
    {
     "name": "stdout",
     "output_type": "stream",
     "text": [
      "total_loss=522.106027, te_acc=0.596226"
     ]
    },
    {
     "name": "stderr",
     "output_type": "stream",
     "text": [
      "epoch=15:  38%|███▊      | 15/40 [04:41<07:06, 17.04s/it]"
     ]
    },
    {
     "name": "stdout",
     "output_type": "stream",
     "text": [
      "total_loss=515.529946, te_acc=0.630189"
     ]
    },
    {
     "name": "stderr",
     "output_type": "stream",
     "text": [
      "epoch=16:  40%|████      | 16/40 [04:58<06:47, 16.98s/it]"
     ]
    },
    {
     "name": "stdout",
     "output_type": "stream",
     "text": [
      "total_loss=509.426085, te_acc=0.626415"
     ]
    },
    {
     "name": "stderr",
     "output_type": "stream",
     "text": [
      "epoch=17:  42%|████▎     | 17/40 [05:15<06:29, 16.96s/it]"
     ]
    },
    {
     "name": "stdout",
     "output_type": "stream",
     "text": [
      "total_loss=503.884953, te_acc=0.615094"
     ]
    },
    {
     "name": "stderr",
     "output_type": "stream",
     "text": [
      "epoch=18:  45%|████▌     | 18/40 [05:36<06:40, 18.20s/it]"
     ]
    },
    {
     "name": "stdout",
     "output_type": "stream",
     "text": [
      "total_loss=498.875430, te_acc=0.611321"
     ]
    },
    {
     "name": "stderr",
     "output_type": "stream",
     "text": [
      "epoch=19:  48%|████▊     | 19/40 [05:57<06:41, 19.13s/it]"
     ]
    },
    {
     "name": "stdout",
     "output_type": "stream",
     "text": [
      "total_loss=494.784794, te_acc=0.607547"
     ]
    },
    {
     "name": "stderr",
     "output_type": "stream",
     "text": [
      "epoch=20:  50%|█████     | 20/40 [06:19<06:36, 19.80s/it]"
     ]
    },
    {
     "name": "stdout",
     "output_type": "stream",
     "text": [
      "total_loss=490.948042, te_acc=0.630189"
     ]
    },
    {
     "name": "stderr",
     "output_type": "stream",
     "text": [
      "epoch=21:  52%|█████▎    | 21/40 [06:40<06:26, 20.35s/it]"
     ]
    },
    {
     "name": "stdout",
     "output_type": "stream",
     "text": [
      "total_loss=484.792953, te_acc=0.618868"
     ]
    },
    {
     "name": "stderr",
     "output_type": "stream",
     "text": [
      "epoch=22:  55%|█████▌    | 22/40 [07:02<06:11, 20.65s/it]"
     ]
    },
    {
     "name": "stdout",
     "output_type": "stream",
     "text": [
      "total_loss=482.580630, te_acc=0.611321"
     ]
    },
    {
     "name": "stderr",
     "output_type": "stream",
     "text": [
      "epoch=23:  57%|█████▊    | 23/40 [07:23<05:54, 20.88s/it]"
     ]
    },
    {
     "name": "stdout",
     "output_type": "stream",
     "text": [
      "total_loss=479.577689, te_acc=0.615094"
     ]
    },
    {
     "name": "stderr",
     "output_type": "stream",
     "text": [
      "epoch=24:  60%|██████    | 24/40 [07:45<05:36, 21.05s/it]"
     ]
    },
    {
     "name": "stdout",
     "output_type": "stream",
     "text": [
      "total_loss=475.106296, te_acc=0.603774"
     ]
    },
    {
     "name": "stderr",
     "output_type": "stream",
     "text": [
      "epoch=25:  62%|██████▎   | 25/40 [08:06<05:18, 21.20s/it]"
     ]
    },
    {
     "name": "stdout",
     "output_type": "stream",
     "text": [
      "total_loss=475.777406, te_acc=0.615094"
     ]
    },
    {
     "name": "stderr",
     "output_type": "stream",
     "text": [
      "epoch=26:  65%|██████▌   | 26/40 [08:28<04:57, 21.24s/it]"
     ]
    },
    {
     "name": "stdout",
     "output_type": "stream",
     "text": [
      "total_loss=471.349882, te_acc=0.618868"
     ]
    },
    {
     "name": "stderr",
     "output_type": "stream",
     "text": [
      "epoch=27:  68%|██████▊   | 27/40 [08:49<04:37, 21.34s/it]"
     ]
    },
    {
     "name": "stdout",
     "output_type": "stream",
     "text": [
      "total_loss=465.688707, te_acc=0.630189"
     ]
    },
    {
     "name": "stderr",
     "output_type": "stream",
     "text": [
      "epoch=28:  70%|███████   | 28/40 [09:10<04:15, 21.30s/it]"
     ]
    },
    {
     "name": "stdout",
     "output_type": "stream",
     "text": [
      "total_loss=464.089209, te_acc=0.630189"
     ]
    },
    {
     "name": "stderr",
     "output_type": "stream",
     "text": [
      "epoch=29:  72%|███████▎  | 29/40 [09:32<03:54, 21.32s/it]"
     ]
    },
    {
     "name": "stdout",
     "output_type": "stream",
     "text": [
      "total_loss=461.543418, te_acc=0.618868"
     ]
    },
    {
     "name": "stderr",
     "output_type": "stream",
     "text": [
      "epoch=30:  75%|███████▌  | 30/40 [09:53<03:31, 21.20s/it]"
     ]
    },
    {
     "name": "stdout",
     "output_type": "stream",
     "text": [
      "total_loss=461.004419, te_acc=0.622642"
     ]
    },
    {
     "name": "stderr",
     "output_type": "stream",
     "text": [
      "epoch=31:  78%|███████▊  | 31/40 [10:14<03:11, 21.30s/it]"
     ]
    },
    {
     "name": "stdout",
     "output_type": "stream",
     "text": [
      "total_loss=456.440023, te_acc=0.626415"
     ]
    },
    {
     "name": "stderr",
     "output_type": "stream",
     "text": [
      "epoch=32:  80%|████████  | 32/40 [10:36<02:50, 21.35s/it]"
     ]
    },
    {
     "name": "stdout",
     "output_type": "stream",
     "text": [
      "total_loss=454.784134, te_acc=0.641509"
     ]
    },
    {
     "name": "stderr",
     "output_type": "stream",
     "text": [
      "epoch=33:  82%|████████▎ | 33/40 [10:57<02:29, 21.34s/it]"
     ]
    },
    {
     "name": "stdout",
     "output_type": "stream",
     "text": [
      "total_loss=448.474567, te_acc=0.633962"
     ]
    },
    {
     "name": "stderr",
     "output_type": "stream",
     "text": [
      "epoch=34:  85%|████████▌ | 34/40 [11:18<02:08, 21.34s/it]"
     ]
    },
    {
     "name": "stdout",
     "output_type": "stream",
     "text": [
      "total_loss=451.173058, te_acc=0.637736"
     ]
    },
    {
     "name": "stderr",
     "output_type": "stream",
     "text": [
      "epoch=35:  88%|████████▊ | 35/40 [11:40<01:46, 21.30s/it]"
     ]
    },
    {
     "name": "stdout",
     "output_type": "stream",
     "text": [
      "total_loss=450.445083, te_acc=0.615094"
     ]
    },
    {
     "name": "stderr",
     "output_type": "stream",
     "text": [
      "epoch=36:  90%|█████████ | 36/40 [12:01<01:25, 21.34s/it]"
     ]
    },
    {
     "name": "stdout",
     "output_type": "stream",
     "text": [
      "total_loss=447.495465, te_acc=0.633962"
     ]
    },
    {
     "name": "stderr",
     "output_type": "stream",
     "text": [
      "epoch=37:  92%|█████████▎| 37/40 [12:22<01:04, 21.40s/it]"
     ]
    },
    {
     "name": "stdout",
     "output_type": "stream",
     "text": [
      "total_loss=444.728328, te_acc=0.637736"
     ]
    },
    {
     "name": "stderr",
     "output_type": "stream",
     "text": [
      "epoch=38:  95%|█████████▌| 38/40 [12:44<00:42, 21.33s/it]"
     ]
    },
    {
     "name": "stdout",
     "output_type": "stream",
     "text": [
      "total_loss=442.028475, te_acc=0.645283"
     ]
    },
    {
     "name": "stderr",
     "output_type": "stream",
     "text": [
      "epoch=39:  98%|█████████▊| 39/40 [13:05<00:21, 21.36s/it]"
     ]
    },
    {
     "name": "stdout",
     "output_type": "stream",
     "text": [
      "total_loss=439.457520, te_acc=0.649057"
     ]
    },
    {
     "name": "stderr",
     "output_type": "stream",
     "text": [
      "                                                         \r"
     ]
    },
    {
     "data": {
      "text/html": [
       "<div>\n",
       "<style scoped>\n",
       "    .dataframe tbody tr th:only-of-type {\n",
       "        vertical-align: middle;\n",
       "    }\n",
       "\n",
       "    .dataframe tbody tr th {\n",
       "        vertical-align: top;\n",
       "    }\n",
       "\n",
       "    .dataframe thead th {\n",
       "        text-align: right;\n",
       "    }\n",
       "</style>\n",
       "<table border=\"1\" class=\"dataframe\">\n",
       "  <thead>\n",
       "    <tr style=\"text-align: right;\">\n",
       "      <th></th>\n",
       "      <th>0</th>\n",
       "      <th>1</th>\n",
       "      <th>2</th>\n",
       "      <th>3</th>\n",
       "      <th>4</th>\n",
       "      <th>5</th>\n",
       "    </tr>\n",
       "  </thead>\n",
       "  <tbody>\n",
       "    <tr>\n",
       "      <td>0</td>\n",
       "      <td>65.0</td>\n",
       "      <td>4.0</td>\n",
       "      <td>5.0</td>\n",
       "      <td>3.0</td>\n",
       "      <td>6.0</td>\n",
       "      <td>1.0</td>\n",
       "    </tr>\n",
       "    <tr>\n",
       "      <td>1</td>\n",
       "      <td>1.0</td>\n",
       "      <td>9.0</td>\n",
       "      <td>0.0</td>\n",
       "      <td>0.0</td>\n",
       "      <td>0.0</td>\n",
       "      <td>0.0</td>\n",
       "    </tr>\n",
       "    <tr>\n",
       "      <td>2</td>\n",
       "      <td>6.0</td>\n",
       "      <td>3.0</td>\n",
       "      <td>25.0</td>\n",
       "      <td>2.0</td>\n",
       "      <td>2.0</td>\n",
       "      <td>2.0</td>\n",
       "    </tr>\n",
       "    <tr>\n",
       "      <td>3</td>\n",
       "      <td>5.0</td>\n",
       "      <td>8.0</td>\n",
       "      <td>2.0</td>\n",
       "      <td>29.0</td>\n",
       "      <td>2.0</td>\n",
       "      <td>8.0</td>\n",
       "    </tr>\n",
       "    <tr>\n",
       "      <td>4</td>\n",
       "      <td>4.0</td>\n",
       "      <td>1.0</td>\n",
       "      <td>6.0</td>\n",
       "      <td>1.0</td>\n",
       "      <td>10.0</td>\n",
       "      <td>5.0</td>\n",
       "    </tr>\n",
       "    <tr>\n",
       "      <td>5</td>\n",
       "      <td>4.0</td>\n",
       "      <td>1.0</td>\n",
       "      <td>2.0</td>\n",
       "      <td>3.0</td>\n",
       "      <td>6.0</td>\n",
       "      <td>34.0</td>\n",
       "    </tr>\n",
       "  </tbody>\n",
       "</table>\n",
       "</div>"
      ],
      "text/plain": [
       "      0    1     2     3     4     5\n",
       "0  65.0  4.0   5.0   3.0   6.0   1.0\n",
       "1   1.0  9.0   0.0   0.0   0.0   0.0\n",
       "2   6.0  3.0  25.0   2.0   2.0   2.0\n",
       "3   5.0  8.0   2.0  29.0   2.0   8.0\n",
       "4   4.0  1.0   6.0   1.0  10.0   5.0\n",
       "5   4.0  1.0   2.0   3.0   6.0  34.0"
      ]
     },
     "metadata": {},
     "output_type": "display_data"
    },
    {
     "name": "stderr",
     "output_type": "stream",
     "text": [
      "  0%|          | 1/1059 [00:00<02:02,  8.64it/s]"
     ]
    },
    {
     "name": "stdout",
     "output_type": "stream",
     "text": [
      "making rotate45 dataset\n"
     ]
    },
    {
     "name": "stderr",
     "output_type": "stream",
     "text": [
      "epoch=0:   0%|          | 0/40 [00:00<?, ?it/s]    "
     ]
    },
    {
     "name": "stdout",
     "output_type": "stream",
     "text": [
      "total_loss=751.854959, te_acc=0.256604"
     ]
    },
    {
     "name": "stderr",
     "output_type": "stream",
     "text": [
      "epoch=1:   2%|▎         | 1/40 [00:21<13:43, 21.12s/it]"
     ]
    },
    {
     "name": "stdout",
     "output_type": "stream",
     "text": [
      "total_loss=714.847981, te_acc=0.415094"
     ]
    },
    {
     "name": "stderr",
     "output_type": "stream",
     "text": [
      "epoch=2:   5%|▌         | 2/40 [00:42<13:27, 21.24s/it]"
     ]
    },
    {
     "name": "stdout",
     "output_type": "stream",
     "text": [
      "total_loss=685.258203, te_acc=0.490566"
     ]
    },
    {
     "name": "stderr",
     "output_type": "stream",
     "text": [
      "epoch=3:   8%|▊         | 3/40 [01:04<13:12, 21.43s/it]"
     ]
    },
    {
     "name": "stdout",
     "output_type": "stream",
     "text": [
      "total_loss=659.587386, te_acc=0.490566"
     ]
    },
    {
     "name": "stderr",
     "output_type": "stream",
     "text": [
      "epoch=4:  10%|█         | 4/40 [01:26<12:52, 21.47s/it]"
     ]
    },
    {
     "name": "stdout",
     "output_type": "stream",
     "text": [
      "total_loss=636.961523, te_acc=0.547170"
     ]
    },
    {
     "name": "stderr",
     "output_type": "stream",
     "text": [
      "epoch=5:  12%|█▎        | 5/40 [01:47<12:31, 21.47s/it]"
     ]
    },
    {
     "name": "stdout",
     "output_type": "stream",
     "text": [
      "total_loss=617.757352, te_acc=0.584906"
     ]
    },
    {
     "name": "stderr",
     "output_type": "stream",
     "text": [
      "epoch=6:  15%|█▌        | 6/40 [02:08<12:08, 21.43s/it]"
     ]
    },
    {
     "name": "stdout",
     "output_type": "stream",
     "text": [
      "total_loss=600.998581, te_acc=0.547170"
     ]
    },
    {
     "name": "stderr",
     "output_type": "stream",
     "text": [
      "epoch=7:  18%|█▊        | 7/40 [02:30<11:45, 21.39s/it]"
     ]
    },
    {
     "name": "stdout",
     "output_type": "stream",
     "text": [
      "total_loss=587.578288, te_acc=0.573585"
     ]
    },
    {
     "name": "stderr",
     "output_type": "stream",
     "text": [
      "epoch=8:  20%|██        | 8/40 [02:49<11:07, 20.86s/it]"
     ]
    },
    {
     "name": "stdout",
     "output_type": "stream",
     "text": [
      "total_loss=574.127761, te_acc=0.577358"
     ]
    },
    {
     "name": "stderr",
     "output_type": "stream",
     "text": [
      "epoch=9:  22%|██▎       | 9/40 [03:06<10:10, 19.70s/it]"
     ]
    },
    {
     "name": "stdout",
     "output_type": "stream",
     "text": [
      "total_loss=564.937879, te_acc=0.566038"
     ]
    },
    {
     "name": "stderr",
     "output_type": "stream",
     "text": [
      "epoch=10:  25%|██▌       | 10/40 [03:23<09:27, 18.92s/it]"
     ]
    },
    {
     "name": "stdout",
     "output_type": "stream",
     "text": [
      "total_loss=553.807658, te_acc=0.566038"
     ]
    },
    {
     "name": "stderr",
     "output_type": "stream",
     "text": [
      "epoch=11:  28%|██▊       | 11/40 [03:41<08:54, 18.43s/it]"
     ]
    },
    {
     "name": "stdout",
     "output_type": "stream",
     "text": [
      "total_loss=544.387962, te_acc=0.569811"
     ]
    },
    {
     "name": "stderr",
     "output_type": "stream",
     "text": [
      "epoch=12:  30%|███       | 12/40 [03:58<08:23, 17.98s/it]"
     ]
    },
    {
     "name": "stdout",
     "output_type": "stream",
     "text": [
      "total_loss=534.734905, te_acc=0.581132"
     ]
    },
    {
     "name": "stderr",
     "output_type": "stream",
     "text": [
      "epoch=13:  32%|███▎      | 13/40 [04:15<07:57, 17.70s/it]"
     ]
    },
    {
     "name": "stdout",
     "output_type": "stream",
     "text": [
      "total_loss=526.860957, te_acc=0.573585"
     ]
    },
    {
     "name": "stderr",
     "output_type": "stream",
     "text": [
      "epoch=14:  35%|███▌      | 14/40 [04:32<07:34, 17.48s/it]"
     ]
    },
    {
     "name": "stdout",
     "output_type": "stream",
     "text": [
      "total_loss=520.005699, te_acc=0.573585"
     ]
    },
    {
     "name": "stderr",
     "output_type": "stream",
     "text": [
      "epoch=15:  38%|███▊      | 15/40 [04:49<07:12, 17.29s/it]"
     ]
    },
    {
     "name": "stdout",
     "output_type": "stream",
     "text": [
      "total_loss=512.425455, te_acc=0.573585"
     ]
    },
    {
     "name": "stderr",
     "output_type": "stream",
     "text": [
      "epoch=16:  40%|████      | 16/40 [05:06<06:53, 17.21s/it]"
     ]
    },
    {
     "name": "stdout",
     "output_type": "stream",
     "text": [
      "total_loss=509.151456, te_acc=0.581132"
     ]
    },
    {
     "name": "stderr",
     "output_type": "stream",
     "text": [
      "epoch=17:  42%|████▎     | 17/40 [05:24<06:42, 17.49s/it]"
     ]
    },
    {
     "name": "stdout",
     "output_type": "stream",
     "text": [
      "total_loss=502.506401, te_acc=0.588679"
     ]
    },
    {
     "name": "stderr",
     "output_type": "stream",
     "text": [
      "epoch=18:  45%|████▌     | 18/40 [05:45<06:50, 18.67s/it]"
     ]
    },
    {
     "name": "stdout",
     "output_type": "stream",
     "text": [
      "total_loss=497.199072, te_acc=0.596226"
     ]
    },
    {
     "name": "stderr",
     "output_type": "stream",
     "text": [
      "epoch=19:  48%|████▊     | 19/40 [06:06<06:48, 19.45s/it]"
     ]
    },
    {
     "name": "stdout",
     "output_type": "stream",
     "text": [
      "total_loss=492.228317, te_acc=0.592453"
     ]
    },
    {
     "name": "stderr",
     "output_type": "stream",
     "text": [
      "epoch=20:  50%|█████     | 20/40 [06:28<06:40, 20.03s/it]"
     ]
    },
    {
     "name": "stdout",
     "output_type": "stream",
     "text": [
      "total_loss=486.155563, te_acc=0.592453"
     ]
    },
    {
     "name": "stderr",
     "output_type": "stream",
     "text": [
      "epoch=21:  52%|█████▎    | 21/40 [06:49<06:28, 20.47s/it]"
     ]
    },
    {
     "name": "stdout",
     "output_type": "stream",
     "text": [
      "total_loss=485.886410, te_acc=0.603774"
     ]
    },
    {
     "name": "stderr",
     "output_type": "stream",
     "text": [
      "epoch=22:  55%|█████▌    | 22/40 [07:11<06:13, 20.74s/it]"
     ]
    },
    {
     "name": "stdout",
     "output_type": "stream",
     "text": [
      "total_loss=477.860271, te_acc=0.584906"
     ]
    },
    {
     "name": "stderr",
     "output_type": "stream",
     "text": [
      "epoch=23:  57%|█████▊    | 23/40 [07:32<05:55, 20.93s/it]"
     ]
    },
    {
     "name": "stdout",
     "output_type": "stream",
     "text": [
      "total_loss=478.868438, te_acc=0.603774"
     ]
    },
    {
     "name": "stderr",
     "output_type": "stream",
     "text": [
      "epoch=24:  60%|██████    | 24/40 [07:53<05:36, 21.01s/it]"
     ]
    },
    {
     "name": "stdout",
     "output_type": "stream",
     "text": [
      "total_loss=473.812507, te_acc=0.607547"
     ]
    },
    {
     "name": "stderr",
     "output_type": "stream",
     "text": [
      "epoch=25:  62%|██████▎   | 25/40 [08:15<05:18, 21.22s/it]"
     ]
    },
    {
     "name": "stdout",
     "output_type": "stream",
     "text": [
      "total_loss=467.529553, te_acc=0.618868"
     ]
    },
    {
     "name": "stderr",
     "output_type": "stream",
     "text": [
      "epoch=26:  65%|██████▌   | 26/40 [08:36<04:57, 21.24s/it]"
     ]
    },
    {
     "name": "stdout",
     "output_type": "stream",
     "text": [
      "total_loss=463.328435, te_acc=0.622642"
     ]
    },
    {
     "name": "stderr",
     "output_type": "stream",
     "text": [
      "epoch=27:  68%|██████▊   | 27/40 [08:58<04:36, 21.27s/it]"
     ]
    },
    {
     "name": "stdout",
     "output_type": "stream",
     "text": [
      "total_loss=461.110694, te_acc=0.607547"
     ]
    },
    {
     "name": "stderr",
     "output_type": "stream",
     "text": [
      "epoch=28:  70%|███████   | 28/40 [09:19<04:15, 21.26s/it]"
     ]
    },
    {
     "name": "stdout",
     "output_type": "stream",
     "text": [
      "total_loss=458.664379, te_acc=0.588679"
     ]
    },
    {
     "name": "stderr",
     "output_type": "stream",
     "text": [
      "epoch=29:  72%|███████▎  | 29/40 [09:40<03:55, 21.38s/it]"
     ]
    },
    {
     "name": "stdout",
     "output_type": "stream",
     "text": [
      "total_loss=457.540784, te_acc=0.592453"
     ]
    },
    {
     "name": "stderr",
     "output_type": "stream",
     "text": [
      "epoch=30:  75%|███████▌  | 30/40 [10:02<03:33, 21.32s/it]"
     ]
    },
    {
     "name": "stdout",
     "output_type": "stream",
     "text": [
      "total_loss=452.051216, te_acc=0.600000"
     ]
    },
    {
     "name": "stderr",
     "output_type": "stream",
     "text": [
      "epoch=31:  78%|███████▊  | 31/40 [10:23<03:11, 21.32s/it]"
     ]
    },
    {
     "name": "stdout",
     "output_type": "stream",
     "text": [
      "total_loss=449.390287, te_acc=0.588679"
     ]
    },
    {
     "name": "stderr",
     "output_type": "stream",
     "text": [
      "epoch=32:  80%|████████  | 32/40 [10:44<02:50, 21.29s/it]"
     ]
    },
    {
     "name": "stdout",
     "output_type": "stream",
     "text": [
      "total_loss=449.089458, te_acc=0.603774"
     ]
    },
    {
     "name": "stderr",
     "output_type": "stream",
     "text": [
      "epoch=33:  82%|████████▎ | 33/40 [11:06<02:29, 21.31s/it]"
     ]
    },
    {
     "name": "stdout",
     "output_type": "stream",
     "text": [
      "total_loss=444.988439, te_acc=0.600000"
     ]
    },
    {
     "name": "stderr",
     "output_type": "stream",
     "text": [
      "epoch=34:  85%|████████▌ | 34/40 [11:27<02:07, 21.31s/it]"
     ]
    },
    {
     "name": "stdout",
     "output_type": "stream",
     "text": [
      "total_loss=443.771392, te_acc=0.607547"
     ]
    },
    {
     "name": "stderr",
     "output_type": "stream",
     "text": [
      "epoch=35:  88%|████████▊ | 35/40 [11:48<01:46, 21.29s/it]"
     ]
    },
    {
     "name": "stdout",
     "output_type": "stream",
     "text": [
      "total_loss=442.969807, te_acc=0.611321"
     ]
    },
    {
     "name": "stderr",
     "output_type": "stream",
     "text": [
      "epoch=36:  90%|█████████ | 36/40 [12:09<01:25, 21.28s/it]"
     ]
    },
    {
     "name": "stdout",
     "output_type": "stream",
     "text": [
      "total_loss=443.874402, te_acc=0.607547"
     ]
    },
    {
     "name": "stderr",
     "output_type": "stream",
     "text": [
      "epoch=37:  92%|█████████▎| 37/40 [12:31<01:03, 21.32s/it]"
     ]
    },
    {
     "name": "stdout",
     "output_type": "stream",
     "text": [
      "total_loss=440.782979, te_acc=0.611321"
     ]
    },
    {
     "name": "stderr",
     "output_type": "stream",
     "text": [
      "epoch=38:  95%|█████████▌| 38/40 [12:52<00:42, 21.39s/it]"
     ]
    },
    {
     "name": "stdout",
     "output_type": "stream",
     "text": [
      "total_loss=438.836149, te_acc=0.630189"
     ]
    },
    {
     "name": "stderr",
     "output_type": "stream",
     "text": [
      "epoch=39:  98%|█████████▊| 39/40 [13:13<00:21, 21.26s/it]"
     ]
    },
    {
     "name": "stdout",
     "output_type": "stream",
     "text": [
      "total_loss=434.054344, te_acc=0.615094"
     ]
    },
    {
     "name": "stderr",
     "output_type": "stream",
     "text": [
      "                                                         \r"
     ]
    },
    {
     "data": {
      "text/html": [
       "<div>\n",
       "<style scoped>\n",
       "    .dataframe tbody tr th:only-of-type {\n",
       "        vertical-align: middle;\n",
       "    }\n",
       "\n",
       "    .dataframe tbody tr th {\n",
       "        vertical-align: top;\n",
       "    }\n",
       "\n",
       "    .dataframe thead th {\n",
       "        text-align: right;\n",
       "    }\n",
       "</style>\n",
       "<table border=\"1\" class=\"dataframe\">\n",
       "  <thead>\n",
       "    <tr style=\"text-align: right;\">\n",
       "      <th></th>\n",
       "      <th>0</th>\n",
       "      <th>1</th>\n",
       "      <th>2</th>\n",
       "      <th>3</th>\n",
       "      <th>4</th>\n",
       "      <th>5</th>\n",
       "    </tr>\n",
       "  </thead>\n",
       "  <tbody>\n",
       "    <tr>\n",
       "      <td>0</td>\n",
       "      <td>69.0</td>\n",
       "      <td>0.0</td>\n",
       "      <td>4.0</td>\n",
       "      <td>1.0</td>\n",
       "      <td>9.0</td>\n",
       "      <td>1.0</td>\n",
       "    </tr>\n",
       "    <tr>\n",
       "      <td>1</td>\n",
       "      <td>0.0</td>\n",
       "      <td>7.0</td>\n",
       "      <td>0.0</td>\n",
       "      <td>3.0</td>\n",
       "      <td>0.0</td>\n",
       "      <td>0.0</td>\n",
       "    </tr>\n",
       "    <tr>\n",
       "      <td>2</td>\n",
       "      <td>15.0</td>\n",
       "      <td>0.0</td>\n",
       "      <td>14.0</td>\n",
       "      <td>1.0</td>\n",
       "      <td>8.0</td>\n",
       "      <td>2.0</td>\n",
       "    </tr>\n",
       "    <tr>\n",
       "      <td>3</td>\n",
       "      <td>3.0</td>\n",
       "      <td>5.0</td>\n",
       "      <td>1.0</td>\n",
       "      <td>37.0</td>\n",
       "      <td>7.0</td>\n",
       "      <td>1.0</td>\n",
       "    </tr>\n",
       "    <tr>\n",
       "      <td>4</td>\n",
       "      <td>3.0</td>\n",
       "      <td>3.0</td>\n",
       "      <td>6.0</td>\n",
       "      <td>1.0</td>\n",
       "      <td>10.0</td>\n",
       "      <td>4.0</td>\n",
       "    </tr>\n",
       "    <tr>\n",
       "      <td>5</td>\n",
       "      <td>3.0</td>\n",
       "      <td>2.0</td>\n",
       "      <td>8.0</td>\n",
       "      <td>4.0</td>\n",
       "      <td>7.0</td>\n",
       "      <td>26.0</td>\n",
       "    </tr>\n",
       "  </tbody>\n",
       "</table>\n",
       "</div>"
      ],
      "text/plain": [
       "      0    1     2     3     4     5\n",
       "0  69.0  0.0   4.0   1.0   9.0   1.0\n",
       "1   0.0  7.0   0.0   3.0   0.0   0.0\n",
       "2  15.0  0.0  14.0   1.0   8.0   2.0\n",
       "3   3.0  5.0   1.0  37.0   7.0   1.0\n",
       "4   3.0  3.0   6.0   1.0  10.0   4.0\n",
       "5   3.0  2.0   8.0   4.0   7.0  26.0"
      ]
     },
     "metadata": {},
     "output_type": "display_data"
    },
    {
     "name": "stderr",
     "output_type": "stream",
     "text": [
      "  0%|          | 2/1059 [00:00<01:40, 10.53it/s]"
     ]
    },
    {
     "name": "stdout",
     "output_type": "stream",
     "text": [
      "making rotate45 dataset\n"
     ]
    },
    {
     "name": "stderr",
     "output_type": "stream",
     "text": [
      "epoch=0:   0%|          | 0/40 [00:00<?, ?it/s]    "
     ]
    },
    {
     "name": "stdout",
     "output_type": "stream",
     "text": [
      "total_loss=741.159914, te_acc=0.339623"
     ]
    },
    {
     "name": "stderr",
     "output_type": "stream",
     "text": [
      "epoch=1:   2%|▎         | 1/40 [00:21<13:56, 21.45s/it]"
     ]
    },
    {
     "name": "stdout",
     "output_type": "stream",
     "text": [
      "total_loss=704.542383, te_acc=0.486792"
     ]
    },
    {
     "name": "stderr",
     "output_type": "stream",
     "text": [
      "epoch=2:   5%|▌         | 2/40 [00:42<13:33, 21.40s/it]"
     ]
    },
    {
     "name": "stdout",
     "output_type": "stream",
     "text": [
      "total_loss=677.084339, te_acc=0.524528"
     ]
    },
    {
     "name": "stderr",
     "output_type": "stream",
     "text": [
      "epoch=3:   8%|▊         | 3/40 [01:04<13:15, 21.51s/it]"
     ]
    },
    {
     "name": "stdout",
     "output_type": "stream",
     "text": [
      "total_loss=653.173232, te_acc=0.513208"
     ]
    },
    {
     "name": "stderr",
     "output_type": "stream",
     "text": [
      "epoch=4:  10%|█         | 4/40 [01:25<12:53, 21.47s/it]"
     ]
    },
    {
     "name": "stdout",
     "output_type": "stream",
     "text": [
      "total_loss=630.814493, te_acc=0.577358"
     ]
    },
    {
     "name": "stderr",
     "output_type": "stream",
     "text": [
      "epoch=5:  12%|█▎        | 5/40 [01:47<12:31, 21.48s/it]"
     ]
    },
    {
     "name": "stdout",
     "output_type": "stream",
     "text": [
      "total_loss=611.960814, te_acc=0.600000"
     ]
    },
    {
     "name": "stderr",
     "output_type": "stream",
     "text": [
      "epoch=6:  15%|█▌        | 6/40 [02:08<12:10, 21.49s/it]"
     ]
    },
    {
     "name": "stdout",
     "output_type": "stream",
     "text": [
      "total_loss=596.679189, te_acc=0.611321"
     ]
    },
    {
     "name": "stderr",
     "output_type": "stream",
     "text": [
      "epoch=7:  18%|█▊        | 7/40 [02:29<11:43, 21.32s/it]"
     ]
    },
    {
     "name": "stdout",
     "output_type": "stream",
     "text": [
      "total_loss=583.625446, te_acc=0.615094"
     ]
    },
    {
     "name": "stderr",
     "output_type": "stream",
     "text": [
      "epoch=8:  20%|██        | 8/40 [02:47<10:45, 20.16s/it]"
     ]
    },
    {
     "name": "stdout",
     "output_type": "stream",
     "text": [
      "total_loss=570.544444, te_acc=0.630189"
     ]
    },
    {
     "name": "stderr",
     "output_type": "stream",
     "text": [
      "epoch=9:  22%|██▎       | 9/40 [03:04<09:59, 19.34s/it]"
     ]
    },
    {
     "name": "stdout",
     "output_type": "stream",
     "text": [
      "total_loss=559.545934, te_acc=0.633962"
     ]
    },
    {
     "name": "stderr",
     "output_type": "stream",
     "text": [
      "epoch=10:  25%|██▌       | 10/40 [03:21<09:19, 18.66s/it]"
     ]
    },
    {
     "name": "stdout",
     "output_type": "stream",
     "text": [
      "total_loss=549.287064, te_acc=0.633962"
     ]
    },
    {
     "name": "stderr",
     "output_type": "stream",
     "text": [
      "epoch=11:  28%|██▊       | 11/40 [03:38<08:48, 18.21s/it]"
     ]
    },
    {
     "name": "stdout",
     "output_type": "stream",
     "text": [
      "total_loss=540.807008, te_acc=0.626415"
     ]
    },
    {
     "name": "stderr",
     "output_type": "stream",
     "text": [
      "epoch=12:  30%|███       | 12/40 [03:56<08:21, 17.92s/it]"
     ]
    },
    {
     "name": "stdout",
     "output_type": "stream",
     "text": [
      "total_loss=534.274532, te_acc=0.645283"
     ]
    },
    {
     "name": "stderr",
     "output_type": "stream",
     "text": [
      "epoch=13:  32%|███▎      | 13/40 [04:13<07:56, 17.63s/it]"
     ]
    },
    {
     "name": "stdout",
     "output_type": "stream",
     "text": [
      "total_loss=525.960465, te_acc=0.645283"
     ]
    },
    {
     "name": "stderr",
     "output_type": "stream",
     "text": [
      "epoch=14:  35%|███▌      | 14/40 [04:30<07:35, 17.50s/it]"
     ]
    },
    {
     "name": "stdout",
     "output_type": "stream",
     "text": [
      "total_loss=520.673942, te_acc=0.641509"
     ]
    },
    {
     "name": "stderr",
     "output_type": "stream",
     "text": [
      "epoch=15:  38%|███▊      | 15/40 [04:47<07:16, 17.44s/it]"
     ]
    },
    {
     "name": "stdout",
     "output_type": "stream",
     "text": [
      "total_loss=512.550644, te_acc=0.656604"
     ]
    },
    {
     "name": "stderr",
     "output_type": "stream",
     "text": [
      "epoch=16:  40%|████      | 16/40 [05:08<07:20, 18.34s/it]"
     ]
    },
    {
     "name": "stdout",
     "output_type": "stream",
     "text": [
      "total_loss=508.298330, te_acc=0.656604"
     ]
    },
    {
     "name": "stderr",
     "output_type": "stream",
     "text": [
      "epoch=17:  42%|████▎     | 17/40 [05:29<07:22, 19.26s/it]"
     ]
    },
    {
     "name": "stdout",
     "output_type": "stream",
     "text": [
      "total_loss=501.548629, te_acc=0.626415"
     ]
    },
    {
     "name": "stderr",
     "output_type": "stream",
     "text": [
      "epoch=18:  45%|████▌     | 18/40 [05:50<07:18, 19.93s/it]"
     ]
    },
    {
     "name": "stdout",
     "output_type": "stream",
     "text": [
      "total_loss=498.784767, te_acc=0.637736"
     ]
    },
    {
     "name": "stderr",
     "output_type": "stream",
     "text": [
      "epoch=19:  48%|████▊     | 19/40 [06:12<07:07, 20.36s/it]"
     ]
    },
    {
     "name": "stdout",
     "output_type": "stream",
     "text": [
      "total_loss=490.598569, te_acc=0.645283"
     ]
    },
    {
     "name": "stderr",
     "output_type": "stream",
     "text": [
      "epoch=20:  50%|█████     | 20/40 [06:33<06:53, 20.65s/it]"
     ]
    },
    {
     "name": "stdout",
     "output_type": "stream",
     "text": [
      "total_loss=487.566384, te_acc=0.618868"
     ]
    },
    {
     "name": "stderr",
     "output_type": "stream",
     "text": [
      "epoch=21:  52%|█████▎    | 21/40 [06:55<06:36, 20.89s/it]"
     ]
    },
    {
     "name": "stdout",
     "output_type": "stream",
     "text": [
      "total_loss=482.575315, te_acc=0.652830"
     ]
    },
    {
     "name": "stderr",
     "output_type": "stream",
     "text": [
      "epoch=22:  55%|█████▌    | 22/40 [07:16<06:17, 20.99s/it]"
     ]
    },
    {
     "name": "stdout",
     "output_type": "stream",
     "text": [
      "total_loss=480.110441, te_acc=0.633962"
     ]
    },
    {
     "name": "stderr",
     "output_type": "stream",
     "text": [
      "epoch=23:  57%|█████▊    | 23/40 [07:38<06:00, 21.23s/it]"
     ]
    },
    {
     "name": "stdout",
     "output_type": "stream",
     "text": [
      "total_loss=475.705622, te_acc=0.637736"
     ]
    },
    {
     "name": "stderr",
     "output_type": "stream",
     "text": [
      "epoch=24:  60%|██████    | 24/40 [07:59<05:40, 21.31s/it]"
     ]
    },
    {
     "name": "stdout",
     "output_type": "stream",
     "text": [
      "total_loss=473.430144, te_acc=0.641509"
     ]
    },
    {
     "name": "stderr",
     "output_type": "stream",
     "text": [
      "epoch=25:  62%|██████▎   | 25/40 [08:20<05:19, 21.32s/it]"
     ]
    },
    {
     "name": "stdout",
     "output_type": "stream",
     "text": [
      "total_loss=471.908424, te_acc=0.645283"
     ]
    },
    {
     "name": "stderr",
     "output_type": "stream",
     "text": [
      "epoch=26:  65%|██████▌   | 26/40 [08:42<04:58, 21.32s/it]"
     ]
    },
    {
     "name": "stdout",
     "output_type": "stream",
     "text": [
      "total_loss=467.756995, te_acc=0.622642"
     ]
    },
    {
     "name": "stderr",
     "output_type": "stream",
     "text": [
      "epoch=27:  68%|██████▊   | 27/40 [09:03<04:37, 21.35s/it]"
     ]
    },
    {
     "name": "stdout",
     "output_type": "stream",
     "text": [
      "total_loss=466.005191, te_acc=0.641509"
     ]
    },
    {
     "name": "stderr",
     "output_type": "stream",
     "text": [
      "epoch=28:  70%|███████   | 28/40 [09:25<04:16, 21.34s/it]"
     ]
    },
    {
     "name": "stdout",
     "output_type": "stream",
     "text": [
      "total_loss=459.765147, te_acc=0.645283"
     ]
    },
    {
     "name": "stderr",
     "output_type": "stream",
     "text": [
      "epoch=29:  72%|███████▎  | 29/40 [09:46<03:54, 21.36s/it]"
     ]
    },
    {
     "name": "stdout",
     "output_type": "stream",
     "text": [
      "total_loss=457.767996, te_acc=0.649057"
     ]
    },
    {
     "name": "stderr",
     "output_type": "stream",
     "text": [
      "epoch=30:  75%|███████▌  | 30/40 [10:07<03:33, 21.34s/it]"
     ]
    },
    {
     "name": "stdout",
     "output_type": "stream",
     "text": [
      "total_loss=457.782078, te_acc=0.626415"
     ]
    },
    {
     "name": "stderr",
     "output_type": "stream",
     "text": [
      "epoch=31:  78%|███████▊  | 31/40 [10:28<03:11, 21.31s/it]"
     ]
    },
    {
     "name": "stdout",
     "output_type": "stream",
     "text": [
      "total_loss=452.191117, te_acc=0.633962"
     ]
    },
    {
     "name": "stderr",
     "output_type": "stream",
     "text": [
      "epoch=32:  80%|████████  | 32/40 [10:50<02:51, 21.40s/it]"
     ]
    },
    {
     "name": "stdout",
     "output_type": "stream",
     "text": [
      "total_loss=450.998025, te_acc=0.652830"
     ]
    },
    {
     "name": "stderr",
     "output_type": "stream",
     "text": [
      "epoch=33:  82%|████████▎ | 33/40 [11:12<02:30, 21.44s/it]"
     ]
    },
    {
     "name": "stdout",
     "output_type": "stream",
     "text": [
      "total_loss=448.566049, te_acc=0.637736"
     ]
    },
    {
     "name": "stderr",
     "output_type": "stream",
     "text": [
      "epoch=34:  85%|████████▌ | 34/40 [11:33<02:08, 21.35s/it]"
     ]
    },
    {
     "name": "stdout",
     "output_type": "stream",
     "text": [
      "total_loss=447.289886, te_acc=0.660377"
     ]
    },
    {
     "name": "stderr",
     "output_type": "stream",
     "text": [
      "epoch=35:  88%|████████▊ | 35/40 [11:54<01:47, 21.41s/it]"
     ]
    },
    {
     "name": "stdout",
     "output_type": "stream",
     "text": [
      "total_loss=443.041914, te_acc=0.633962"
     ]
    },
    {
     "name": "stderr",
     "output_type": "stream",
     "text": [
      "epoch=36:  90%|█████████ | 36/40 [12:16<01:25, 21.36s/it]"
     ]
    },
    {
     "name": "stdout",
     "output_type": "stream",
     "text": [
      "total_loss=441.330579, te_acc=0.649057"
     ]
    },
    {
     "name": "stderr",
     "output_type": "stream",
     "text": [
      "epoch=37:  92%|█████████▎| 37/40 [12:37<01:03, 21.32s/it]"
     ]
    },
    {
     "name": "stdout",
     "output_type": "stream",
     "text": [
      "total_loss=441.999515, te_acc=0.649057"
     ]
    },
    {
     "name": "stderr",
     "output_type": "stream",
     "text": [
      "epoch=38:  95%|█████████▌| 38/40 [12:58<00:42, 21.36s/it]"
     ]
    },
    {
     "name": "stdout",
     "output_type": "stream",
     "text": [
      "total_loss=438.807993, te_acc=0.637736"
     ]
    },
    {
     "name": "stderr",
     "output_type": "stream",
     "text": [
      "epoch=39:  98%|█████████▊| 39/40 [13:19<00:21, 21.20s/it]"
     ]
    },
    {
     "name": "stdout",
     "output_type": "stream",
     "text": [
      "total_loss=439.041969, te_acc=0.645283"
     ]
    },
    {
     "name": "stderr",
     "output_type": "stream",
     "text": [
      "                                                         \r"
     ]
    },
    {
     "data": {
      "text/html": [
       "<div>\n",
       "<style scoped>\n",
       "    .dataframe tbody tr th:only-of-type {\n",
       "        vertical-align: middle;\n",
       "    }\n",
       "\n",
       "    .dataframe tbody tr th {\n",
       "        vertical-align: top;\n",
       "    }\n",
       "\n",
       "    .dataframe thead th {\n",
       "        text-align: right;\n",
       "    }\n",
       "</style>\n",
       "<table border=\"1\" class=\"dataframe\">\n",
       "  <thead>\n",
       "    <tr style=\"text-align: right;\">\n",
       "      <th></th>\n",
       "      <th>0</th>\n",
       "      <th>1</th>\n",
       "      <th>2</th>\n",
       "      <th>3</th>\n",
       "      <th>4</th>\n",
       "      <th>5</th>\n",
       "    </tr>\n",
       "  </thead>\n",
       "  <tbody>\n",
       "    <tr>\n",
       "      <td>0</td>\n",
       "      <td>71.0</td>\n",
       "      <td>1.0</td>\n",
       "      <td>5.0</td>\n",
       "      <td>2.0</td>\n",
       "      <td>2.0</td>\n",
       "      <td>3.0</td>\n",
       "    </tr>\n",
       "    <tr>\n",
       "      <td>1</td>\n",
       "      <td>0.0</td>\n",
       "      <td>9.0</td>\n",
       "      <td>0.0</td>\n",
       "      <td>1.0</td>\n",
       "      <td>0.0</td>\n",
       "      <td>0.0</td>\n",
       "    </tr>\n",
       "    <tr>\n",
       "      <td>2</td>\n",
       "      <td>7.0</td>\n",
       "      <td>2.0</td>\n",
       "      <td>14.0</td>\n",
       "      <td>1.0</td>\n",
       "      <td>11.0</td>\n",
       "      <td>5.0</td>\n",
       "    </tr>\n",
       "    <tr>\n",
       "      <td>3</td>\n",
       "      <td>6.0</td>\n",
       "      <td>7.0</td>\n",
       "      <td>3.0</td>\n",
       "      <td>31.0</td>\n",
       "      <td>2.0</td>\n",
       "      <td>5.0</td>\n",
       "    </tr>\n",
       "    <tr>\n",
       "      <td>4</td>\n",
       "      <td>3.0</td>\n",
       "      <td>4.0</td>\n",
       "      <td>4.0</td>\n",
       "      <td>2.0</td>\n",
       "      <td>11.0</td>\n",
       "      <td>3.0</td>\n",
       "    </tr>\n",
       "    <tr>\n",
       "      <td>5</td>\n",
       "      <td>2.0</td>\n",
       "      <td>0.0</td>\n",
       "      <td>5.0</td>\n",
       "      <td>3.0</td>\n",
       "      <td>5.0</td>\n",
       "      <td>35.0</td>\n",
       "    </tr>\n",
       "  </tbody>\n",
       "</table>\n",
       "</div>"
      ],
      "text/plain": [
       "      0    1     2     3     4     5\n",
       "0  71.0  1.0   5.0   2.0   2.0   3.0\n",
       "1   0.0  9.0   0.0   1.0   0.0   0.0\n",
       "2   7.0  2.0  14.0   1.0  11.0   5.0\n",
       "3   6.0  7.0   3.0  31.0   2.0   5.0\n",
       "4   3.0  4.0   4.0   2.0  11.0   3.0\n",
       "5   2.0  0.0   5.0   3.0   5.0  35.0"
      ]
     },
     "metadata": {},
     "output_type": "display_data"
    },
    {
     "name": "stderr",
     "output_type": "stream",
     "text": [
      "  0%|          | 2/1060 [00:00<01:43, 10.19it/s]"
     ]
    },
    {
     "name": "stdout",
     "output_type": "stream",
     "text": [
      "making rotate45 dataset\n"
     ]
    },
    {
     "name": "stderr",
     "output_type": "stream",
     "text": [
      "epoch=0:   0%|          | 0/40 [00:00<?, ?it/s]    "
     ]
    },
    {
     "name": "stdout",
     "output_type": "stream",
     "text": [
      "total_loss=748.291939, te_acc=0.337121"
     ]
    },
    {
     "name": "stderr",
     "output_type": "stream",
     "text": [
      "epoch=1:   2%|▎         | 1/40 [00:21<13:58, 21.50s/it]"
     ]
    },
    {
     "name": "stdout",
     "output_type": "stream",
     "text": [
      "total_loss=710.972038, te_acc=0.386364"
     ]
    },
    {
     "name": "stderr",
     "output_type": "stream",
     "text": [
      "epoch=2:   5%|▌         | 2/40 [00:42<13:36, 21.48s/it]"
     ]
    },
    {
     "name": "stdout",
     "output_type": "stream",
     "text": [
      "total_loss=681.332481, te_acc=0.500000"
     ]
    },
    {
     "name": "stderr",
     "output_type": "stream",
     "text": [
      "epoch=3:   8%|▊         | 3/40 [01:04<13:18, 21.59s/it]"
     ]
    },
    {
     "name": "stdout",
     "output_type": "stream",
     "text": [
      "total_loss=656.326867, te_acc=0.541667"
     ]
    },
    {
     "name": "stderr",
     "output_type": "stream",
     "text": [
      "epoch=4:  10%|█         | 4/40 [01:26<12:57, 21.60s/it]"
     ]
    },
    {
     "name": "stdout",
     "output_type": "stream",
     "text": [
      "total_loss=635.935100, te_acc=0.560606"
     ]
    },
    {
     "name": "stderr",
     "output_type": "stream",
     "text": [
      "epoch=5:  12%|█▎        | 5/40 [01:47<12:31, 21.47s/it]"
     ]
    },
    {
     "name": "stdout",
     "output_type": "stream",
     "text": [
      "total_loss=617.736422, te_acc=0.575758"
     ]
    },
    {
     "name": "stderr",
     "output_type": "stream",
     "text": [
      "epoch=6:  15%|█▌        | 6/40 [02:05<11:35, 20.45s/it]"
     ]
    },
    {
     "name": "stdout",
     "output_type": "stream",
     "text": [
      "total_loss=601.312573, te_acc=0.598485"
     ]
    },
    {
     "name": "stderr",
     "output_type": "stream",
     "text": [
      "epoch=7:  18%|█▊        | 7/40 [02:22<10:38, 19.34s/it]"
     ]
    },
    {
     "name": "stdout",
     "output_type": "stream",
     "text": [
      "total_loss=588.335560, te_acc=0.583333"
     ]
    },
    {
     "name": "stderr",
     "output_type": "stream",
     "text": [
      "epoch=8:  20%|██        | 8/40 [02:39<09:53, 18.56s/it]"
     ]
    },
    {
     "name": "stdout",
     "output_type": "stream",
     "text": [
      "total_loss=574.656199, te_acc=0.590909"
     ]
    },
    {
     "name": "stderr",
     "output_type": "stream",
     "text": [
      "epoch=9:  22%|██▎       | 9/40 [02:55<09:17, 17.99s/it]"
     ]
    },
    {
     "name": "stdout",
     "output_type": "stream",
     "text": [
      "total_loss=563.526557, te_acc=0.636364"
     ]
    },
    {
     "name": "stderr",
     "output_type": "stream",
     "text": [
      "epoch=10:  25%|██▌       | 10/40 [03:12<08:47, 17.58s/it]"
     ]
    },
    {
     "name": "stdout",
     "output_type": "stream",
     "text": [
      "total_loss=554.578375, te_acc=0.594697"
     ]
    },
    {
     "name": "stderr",
     "output_type": "stream",
     "text": [
      "epoch=11:  28%|██▊       | 11/40 [03:28<08:20, 17.26s/it]"
     ]
    },
    {
     "name": "stdout",
     "output_type": "stream",
     "text": [
      "total_loss=546.458718, te_acc=0.628788"
     ]
    },
    {
     "name": "stderr",
     "output_type": "stream",
     "text": [
      "epoch=12:  30%|███       | 12/40 [03:45<07:56, 17.03s/it]"
     ]
    },
    {
     "name": "stdout",
     "output_type": "stream",
     "text": [
      "total_loss=537.992981, te_acc=0.609848"
     ]
    },
    {
     "name": "stderr",
     "output_type": "stream",
     "text": [
      "epoch=13:  32%|███▎      | 13/40 [04:02<07:38, 16.99s/it]"
     ]
    },
    {
     "name": "stdout",
     "output_type": "stream",
     "text": [
      "total_loss=531.639540, te_acc=0.617424"
     ]
    },
    {
     "name": "stderr",
     "output_type": "stream",
     "text": [
      "epoch=14:  35%|███▌      | 14/40 [04:18<07:18, 16.86s/it]"
     ]
    },
    {
     "name": "stdout",
     "output_type": "stream",
     "text": [
      "total_loss=521.770079, te_acc=0.632576"
     ]
    },
    {
     "name": "stderr",
     "output_type": "stream",
     "text": [
      "epoch=15:  38%|███▊      | 15/40 [04:35<06:58, 16.75s/it]"
     ]
    },
    {
     "name": "stdout",
     "output_type": "stream",
     "text": [
      "total_loss=516.442584, te_acc=0.632576"
     ]
    },
    {
     "name": "stderr",
     "output_type": "stream",
     "text": [
      "epoch=16:  40%|████      | 16/40 [04:51<06:39, 16.66s/it]"
     ]
    },
    {
     "name": "stdout",
     "output_type": "stream",
     "text": [
      "total_loss=511.401286, te_acc=0.636364"
     ]
    },
    {
     "name": "stderr",
     "output_type": "stream",
     "text": [
      "epoch=17:  42%|████▎     | 17/40 [05:08<06:21, 16.59s/it]"
     ]
    },
    {
     "name": "stdout",
     "output_type": "stream",
     "text": [
      "total_loss=506.565355, te_acc=0.647727"
     ]
    },
    {
     "name": "stderr",
     "output_type": "stream",
     "text": [
      "epoch=18:  45%|████▌     | 18/40 [05:24<06:04, 16.56s/it]"
     ]
    },
    {
     "name": "stdout",
     "output_type": "stream",
     "text": [
      "total_loss=501.817042, te_acc=0.613636"
     ]
    },
    {
     "name": "stderr",
     "output_type": "stream",
     "text": [
      "epoch=19:  48%|████▊     | 19/40 [05:41<05:49, 16.64s/it]"
     ]
    },
    {
     "name": "stdout",
     "output_type": "stream",
     "text": [
      "total_loss=497.789057, te_acc=0.659091"
     ]
    },
    {
     "name": "stderr",
     "output_type": "stream",
     "text": [
      "epoch=20:  50%|█████     | 20/40 [05:59<05:41, 17.10s/it]"
     ]
    },
    {
     "name": "stdout",
     "output_type": "stream",
     "text": [
      "total_loss=493.243243, te_acc=0.651515"
     ]
    },
    {
     "name": "stderr",
     "output_type": "stream",
     "text": [
      "epoch=21:  52%|█████▎    | 21/40 [06:21<05:48, 18.36s/it]"
     ]
    },
    {
     "name": "stdout",
     "output_type": "stream",
     "text": [
      "total_loss=491.378349, te_acc=0.655303"
     ]
    },
    {
     "name": "stderr",
     "output_type": "stream",
     "text": [
      "epoch=22:  55%|█████▌    | 22/40 [06:42<05:46, 19.24s/it]"
     ]
    },
    {
     "name": "stdout",
     "output_type": "stream",
     "text": [
      "total_loss=484.083378, te_acc=0.655303"
     ]
    },
    {
     "name": "stderr",
     "output_type": "stream",
     "text": [
      "epoch=23:  57%|█████▊    | 23/40 [07:03<05:38, 19.89s/it]"
     ]
    },
    {
     "name": "stdout",
     "output_type": "stream",
     "text": [
      "total_loss=481.821509, te_acc=0.651515"
     ]
    },
    {
     "name": "stderr",
     "output_type": "stream",
     "text": [
      "epoch=24:  60%|██████    | 24/40 [07:25<05:25, 20.32s/it]"
     ]
    },
    {
     "name": "stdout",
     "output_type": "stream",
     "text": [
      "total_loss=478.097053, te_acc=0.662879"
     ]
    },
    {
     "name": "stderr",
     "output_type": "stream",
     "text": [
      "epoch=25:  62%|██████▎   | 25/40 [07:46<05:09, 20.61s/it]"
     ]
    },
    {
     "name": "stdout",
     "output_type": "stream",
     "text": [
      "total_loss=476.926081, te_acc=0.647727"
     ]
    },
    {
     "name": "stderr",
     "output_type": "stream",
     "text": [
      "epoch=26:  65%|██████▌   | 26/40 [08:07<04:50, 20.74s/it]"
     ]
    },
    {
     "name": "stdout",
     "output_type": "stream",
     "text": [
      "total_loss=472.847343, te_acc=0.666667"
     ]
    },
    {
     "name": "stderr",
     "output_type": "stream",
     "text": [
      "epoch=27:  68%|██████▊   | 27/40 [08:28<04:32, 20.95s/it]"
     ]
    },
    {
     "name": "stdout",
     "output_type": "stream",
     "text": [
      "total_loss=468.836058, te_acc=0.655303"
     ]
    },
    {
     "name": "stderr",
     "output_type": "stream",
     "text": [
      "epoch=28:  70%|███████   | 28/40 [08:50<04:12, 21.04s/it]"
     ]
    },
    {
     "name": "stdout",
     "output_type": "stream",
     "text": [
      "total_loss=467.659504, te_acc=0.655303"
     ]
    },
    {
     "name": "stderr",
     "output_type": "stream",
     "text": [
      "epoch=29:  72%|███████▎  | 29/40 [09:11<03:52, 21.10s/it]"
     ]
    },
    {
     "name": "stdout",
     "output_type": "stream",
     "text": [
      "total_loss=464.426502, te_acc=0.640152"
     ]
    },
    {
     "name": "stderr",
     "output_type": "stream",
     "text": [
      "epoch=30:  75%|███████▌  | 30/40 [09:32<03:32, 21.20s/it]"
     ]
    },
    {
     "name": "stdout",
     "output_type": "stream",
     "text": [
      "total_loss=458.810697, te_acc=0.674242"
     ]
    },
    {
     "name": "stderr",
     "output_type": "stream",
     "text": [
      "epoch=31:  78%|███████▊  | 31/40 [09:53<03:10, 21.19s/it]"
     ]
    },
    {
     "name": "stdout",
     "output_type": "stream",
     "text": [
      "total_loss=461.304646, te_acc=0.662879"
     ]
    },
    {
     "name": "stderr",
     "output_type": "stream",
     "text": [
      "epoch=32:  80%|████████  | 32/40 [10:15<02:49, 21.21s/it]"
     ]
    },
    {
     "name": "stdout",
     "output_type": "stream",
     "text": [
      "total_loss=457.673245, te_acc=0.678030"
     ]
    },
    {
     "name": "stderr",
     "output_type": "stream",
     "text": [
      "epoch=33:  82%|████████▎ | 33/40 [10:36<02:28, 21.22s/it]"
     ]
    },
    {
     "name": "stdout",
     "output_type": "stream",
     "text": [
      "total_loss=451.708278, te_acc=0.655303"
     ]
    },
    {
     "name": "stderr",
     "output_type": "stream",
     "text": [
      "epoch=34:  85%|████████▌ | 34/40 [10:57<02:07, 21.29s/it]"
     ]
    },
    {
     "name": "stdout",
     "output_type": "stream",
     "text": [
      "total_loss=456.331070, te_acc=0.674242"
     ]
    },
    {
     "name": "stderr",
     "output_type": "stream",
     "text": [
      "epoch=35:  88%|████████▊ | 35/40 [11:19<01:46, 21.29s/it]"
     ]
    },
    {
     "name": "stdout",
     "output_type": "stream",
     "text": [
      "total_loss=450.797279, te_acc=0.662879"
     ]
    },
    {
     "name": "stderr",
     "output_type": "stream",
     "text": [
      "epoch=36:  90%|█████████ | 36/40 [11:40<01:25, 21.34s/it]"
     ]
    },
    {
     "name": "stdout",
     "output_type": "stream",
     "text": [
      "total_loss=446.399884, te_acc=0.670455"
     ]
    },
    {
     "name": "stderr",
     "output_type": "stream",
     "text": [
      "epoch=37:  92%|█████████▎| 37/40 [12:01<01:03, 21.31s/it]"
     ]
    },
    {
     "name": "stdout",
     "output_type": "stream",
     "text": [
      "total_loss=445.710295, te_acc=0.674242"
     ]
    },
    {
     "name": "stderr",
     "output_type": "stream",
     "text": [
      "epoch=38:  95%|█████████▌| 38/40 [12:23<00:42, 21.33s/it]"
     ]
    },
    {
     "name": "stdout",
     "output_type": "stream",
     "text": [
      "total_loss=446.102661, te_acc=0.659091"
     ]
    },
    {
     "name": "stderr",
     "output_type": "stream",
     "text": [
      "epoch=39:  98%|█████████▊| 39/40 [12:44<00:21, 21.31s/it]"
     ]
    },
    {
     "name": "stdout",
     "output_type": "stream",
     "text": [
      "total_loss=441.558375, te_acc=0.666667"
     ]
    },
    {
     "name": "stderr",
     "output_type": "stream",
     "text": [
      "                                                         \r"
     ]
    },
    {
     "data": {
      "text/html": [
       "<div>\n",
       "<style scoped>\n",
       "    .dataframe tbody tr th:only-of-type {\n",
       "        vertical-align: middle;\n",
       "    }\n",
       "\n",
       "    .dataframe tbody tr th {\n",
       "        vertical-align: top;\n",
       "    }\n",
       "\n",
       "    .dataframe thead th {\n",
       "        text-align: right;\n",
       "    }\n",
       "</style>\n",
       "<table border=\"1\" class=\"dataframe\">\n",
       "  <thead>\n",
       "    <tr style=\"text-align: right;\">\n",
       "      <th></th>\n",
       "      <th>0</th>\n",
       "      <th>1</th>\n",
       "      <th>2</th>\n",
       "      <th>3</th>\n",
       "      <th>4</th>\n",
       "      <th>5</th>\n",
       "    </tr>\n",
       "  </thead>\n",
       "  <tbody>\n",
       "    <tr>\n",
       "      <td>0</td>\n",
       "      <td>69.0</td>\n",
       "      <td>2.0</td>\n",
       "      <td>7.0</td>\n",
       "      <td>1.0</td>\n",
       "      <td>4.0</td>\n",
       "      <td>0.0</td>\n",
       "    </tr>\n",
       "    <tr>\n",
       "      <td>1</td>\n",
       "      <td>0.0</td>\n",
       "      <td>11.0</td>\n",
       "      <td>0.0</td>\n",
       "      <td>0.0</td>\n",
       "      <td>0.0</td>\n",
       "      <td>0.0</td>\n",
       "    </tr>\n",
       "    <tr>\n",
       "      <td>2</td>\n",
       "      <td>7.0</td>\n",
       "      <td>3.0</td>\n",
       "      <td>18.0</td>\n",
       "      <td>0.0</td>\n",
       "      <td>9.0</td>\n",
       "      <td>3.0</td>\n",
       "    </tr>\n",
       "    <tr>\n",
       "      <td>3</td>\n",
       "      <td>3.0</td>\n",
       "      <td>4.0</td>\n",
       "      <td>3.0</td>\n",
       "      <td>36.0</td>\n",
       "      <td>4.0</td>\n",
       "      <td>4.0</td>\n",
       "    </tr>\n",
       "    <tr>\n",
       "      <td>4</td>\n",
       "      <td>5.0</td>\n",
       "      <td>1.0</td>\n",
       "      <td>2.0</td>\n",
       "      <td>1.0</td>\n",
       "      <td>15.0</td>\n",
       "      <td>2.0</td>\n",
       "    </tr>\n",
       "    <tr>\n",
       "      <td>5</td>\n",
       "      <td>5.0</td>\n",
       "      <td>1.0</td>\n",
       "      <td>3.0</td>\n",
       "      <td>4.0</td>\n",
       "      <td>10.0</td>\n",
       "      <td>27.0</td>\n",
       "    </tr>\n",
       "  </tbody>\n",
       "</table>\n",
       "</div>"
      ],
      "text/plain": [
       "      0     1     2     3     4     5\n",
       "0  69.0   2.0   7.0   1.0   4.0   0.0\n",
       "1   0.0  11.0   0.0   0.0   0.0   0.0\n",
       "2   7.0   3.0  18.0   0.0   9.0   3.0\n",
       "3   3.0   4.0   3.0  36.0   4.0   4.0\n",
       "4   5.0   1.0   2.0   1.0  15.0   2.0\n",
       "5   5.0   1.0   3.0   4.0  10.0  27.0"
      ]
     },
     "metadata": {},
     "output_type": "display_data"
    }
   ],
   "source": [
    "valid_num = int(1.0/args.test_ratio)\n",
    "with h5py.File(args.all_data_path) as f:\n",
    "    X = f[\"X\"][:]\n",
    "    Y = f[\"Y\"][:]\n",
    "_, ntests = np.unique(Y, return_counts=True)\n",
    "train_idxs, test_idxs = create_validation_split(Y, args.test_ratio)\n",
    "result = []\n",
    "for valid_count in range(valid_num):\n",
    "    xtr, ytr, xte, yte = load_validation_data(X, Y, train_idxs[valid_count], test_idxs[valid_count])\n",
    "    \n",
    "    if args.use_DCL is True:\n",
    "        new_xtr, new_coordinate = region_confusion_mechanism(xtr, division_number=args.division_number, neighborhood_range=args.neighborhood_range)\n",
    "        xtr = np.concatenate([xtr, new_xtr])\n",
    "        ytr = np.concatenate([ytr, ytr])\n",
    "        target_dest_or_not = np.concatenate([np.zeros(ytr.shape), np.ones(ytr.shape)])\n",
    "        target_coordinate = np.concatenate([new_coordinate, np.asarray([np.arange(args.division_number**2)] * new_coordinate.shape[0])])\n",
    "        xtr, ytr, target_dest_or_not, target_coordinate = create_train_data_DCL(xtr, ytr, target_dest_or_not, target_coordinate, args.rotate)\n",
    "    else:\n",
    "        xtr, ytr = create_train_data(xtr, ytr, args.rotate)\n",
    "    \n",
    "    if args.model_name==\"ResNet18\":\n",
    "        model = ResNet18(len(args.labels), use_DCL=args.use_DCL, division_number=args.division_number, pretrain=args.pretrain, freeze=args.freeze, training=True).cuda()\n",
    "    elif args.model_name==\"ResNet34\":\n",
    "        model = ResNet34(len(args.labels), use_DCL=args.use_DCL, division_number=args.division_number, pretrain=args.pretrain, freeze=args.freeze, training=True).cuda()\n",
    "    elif args.model_name==\"ResNet50\":\n",
    "        model = ResNet50(len(args.labels), use_DCL=args.use_DCL, division_number=args.division_number, pretrain=args.pretrain, freeze=args.freeze, training=True).cuda()\n",
    "    elif args.model_name==\"ResNet101\":\n",
    "        model = ResNet101(len(args.labels), use_DCL=args.use_DCL, division_number=args.division_number, pretrain=args.pretrain, freeze=args.freeze, training=True).cuda()\n",
    "    else:\n",
    "        print(\"error! write correct model name!\")\n",
    "    \n",
    "    if args.use_DCL is True:\n",
    "        train_DCL(model, xtr, ytr, target_dest_or_not, target_coordinate, bs=args.bs, lr=args.lr, nepoch=args.nepoch, visdom=args.visdom, cls_weight=args.cls_weight, dest_weight=args.dest_weight, coord_weight=args.coord_weight)\n",
    "    else:\n",
    "        train(model, xtr, ytr, bs=args.bs, lr=args.lr, nepoch=args.nepoch, visdom=args.visdom)\n",
    "            \n",
    "    torch.save(model.state_dict(), model_save_path)\n",
    "    \n",
    "    model.training = False\n",
    "    matrix = confusion_matrix(model, xte, yte, args.labels, bs=args.bs)\n",
    "    model.training = True\n",
    "    df = pd.DataFrame(matrix)\n",
    "    display(df)\n",
    "    if valid_count == 0:\n",
    "        validation_matrix = matrix\n",
    "        x_all = xte.cpu().numpy()\n",
    "        y_all = yte.cpu().numpy()\n",
    "    else:\n",
    "        validation_matrix += matrix\n",
    "        x_all = np.concatenate([x_all, xte.cpu().numpy()])\n",
    "        y_all = np.concatenate([y_all, yte.cpu().numpy()])\n",
    "    \n",
    "    result.extend(test_classification(model, xte))"
   ]
  },
  {
   "cell_type": "code",
   "execution_count": 11,
   "metadata": {},
   "outputs": [
    {
     "data": {
      "text/html": [
       "<div>\n",
       "<style scoped>\n",
       "    .dataframe tbody tr th:only-of-type {\n",
       "        vertical-align: middle;\n",
       "    }\n",
       "\n",
       "    .dataframe tbody tr th {\n",
       "        vertical-align: top;\n",
       "    }\n",
       "\n",
       "    .dataframe thead th {\n",
       "        text-align: right;\n",
       "    }\n",
       "</style>\n",
       "<table border=\"1\" class=\"dataframe\">\n",
       "  <thead>\n",
       "    <tr style=\"text-align: right;\">\n",
       "      <th></th>\n",
       "      <th>0</th>\n",
       "      <th>1</th>\n",
       "      <th>2</th>\n",
       "      <th>3</th>\n",
       "      <th>4</th>\n",
       "      <th>5</th>\n",
       "    </tr>\n",
       "  </thead>\n",
       "  <tbody>\n",
       "    <tr>\n",
       "      <td>0</td>\n",
       "      <td>342.0</td>\n",
       "      <td>10.0</td>\n",
       "      <td>29.0</td>\n",
       "      <td>8.0</td>\n",
       "      <td>25.0</td>\n",
       "      <td>5.0</td>\n",
       "    </tr>\n",
       "    <tr>\n",
       "      <td>1</td>\n",
       "      <td>1.0</td>\n",
       "      <td>40.0</td>\n",
       "      <td>2.0</td>\n",
       "      <td>6.0</td>\n",
       "      <td>1.0</td>\n",
       "      <td>1.0</td>\n",
       "    </tr>\n",
       "    <tr>\n",
       "      <td>2</td>\n",
       "      <td>41.0</td>\n",
       "      <td>8.0</td>\n",
       "      <td>84.0</td>\n",
       "      <td>10.0</td>\n",
       "      <td>40.0</td>\n",
       "      <td>17.0</td>\n",
       "    </tr>\n",
       "    <tr>\n",
       "      <td>3</td>\n",
       "      <td>20.0</td>\n",
       "      <td>28.0</td>\n",
       "      <td>13.0</td>\n",
       "      <td>171.0</td>\n",
       "      <td>17.0</td>\n",
       "      <td>21.0</td>\n",
       "    </tr>\n",
       "    <tr>\n",
       "      <td>4</td>\n",
       "      <td>20.0</td>\n",
       "      <td>10.0</td>\n",
       "      <td>25.0</td>\n",
       "      <td>6.0</td>\n",
       "      <td>58.0</td>\n",
       "      <td>15.0</td>\n",
       "    </tr>\n",
       "    <tr>\n",
       "      <td>5</td>\n",
       "      <td>18.0</td>\n",
       "      <td>4.0</td>\n",
       "      <td>23.0</td>\n",
       "      <td>20.0</td>\n",
       "      <td>31.0</td>\n",
       "      <td>154.0</td>\n",
       "    </tr>\n",
       "  </tbody>\n",
       "</table>\n",
       "</div>"
      ],
      "text/plain": [
       "       0     1     2      3     4      5\n",
       "0  342.0  10.0  29.0    8.0  25.0    5.0\n",
       "1    1.0  40.0   2.0    6.0   1.0    1.0\n",
       "2   41.0   8.0  84.0   10.0  40.0   17.0\n",
       "3   20.0  28.0  13.0  171.0  17.0   21.0\n",
       "4   20.0  10.0  25.0    6.0  58.0   15.0\n",
       "5   18.0   4.0  23.0   20.0  31.0  154.0"
      ]
     },
     "execution_count": 11,
     "metadata": {},
     "output_type": "execute_result"
    }
   ],
   "source": [
    "df = pd.DataFrame(validation_matrix)\n",
    "if args.save_df is True:\n",
    "    df.to_csv(pj(args.figure_root, \"validation_matrix.csv\"))\n",
    "df"
   ]
  },
  {
   "cell_type": "code",
   "execution_count": 12,
   "metadata": {},
   "outputs": [
    {
     "data": {
      "image/png": "[encoded data removed]",
      "text/plain": [
       "<Figure size 720x720 with 1 Axes>"
      ]
     },
     "metadata": {
      "needs_background": "light"
     },
     "output_type": "display_data"
    }
   ],
   "source": [
    "create_confusion_matrix(validation_matrix, ntests, args.labels, args.figure_root, save=args.save_fig)"
   ]
  },
  {
   "cell_type": "code",
   "execution_count": 13,
   "metadata": {},
   "outputs": [
    {
     "data": {
      "text/html": [
       "<div>\n",
       "<style scoped>\n",
       "    .dataframe tbody tr th:only-of-type {\n",
       "        vertical-align: middle;\n",
       "    }\n",
       "\n",
       "    .dataframe tbody tr th {\n",
       "        vertical-align: top;\n",
       "    }\n",
       "\n",
       "    .dataframe thead th {\n",
       "        text-align: right;\n",
       "    }\n",
       "</style>\n",
       "<table border=\"1\" class=\"dataframe\">\n",
       "  <thead>\n",
       "    <tr style=\"text-align: right;\">\n",
       "      <th></th>\n",
       "      <th>Accuracy</th>\n",
       "      <th>Insect_size</th>\n",
       "    </tr>\n",
       "  </thead>\n",
       "  <tbody>\n",
       "    <tr>\n",
       "      <td>0</td>\n",
       "      <td>True</td>\n",
       "      <td>5632</td>\n",
       "    </tr>\n",
       "    <tr>\n",
       "      <td>1</td>\n",
       "      <td>True</td>\n",
       "      <td>13125</td>\n",
       "    </tr>\n",
       "    <tr>\n",
       "      <td>2</td>\n",
       "      <td>True</td>\n",
       "      <td>12190</td>\n",
       "    </tr>\n",
       "    <tr>\n",
       "      <td>3</td>\n",
       "      <td>True</td>\n",
       "      <td>4148</td>\n",
       "    </tr>\n",
       "    <tr>\n",
       "      <td>4</td>\n",
       "      <td>True</td>\n",
       "      <td>323</td>\n",
       "    </tr>\n",
       "    <tr>\n",
       "      <td>...</td>\n",
       "      <td>...</td>\n",
       "      <td>...</td>\n",
       "    </tr>\n",
       "    <tr>\n",
       "      <td>1319</td>\n",
       "      <td>True</td>\n",
       "      <td>2070</td>\n",
       "    </tr>\n",
       "    <tr>\n",
       "      <td>1320</td>\n",
       "      <td>False</td>\n",
       "      <td>3408</td>\n",
       "    </tr>\n",
       "    <tr>\n",
       "      <td>1321</td>\n",
       "      <td>False</td>\n",
       "      <td>4224</td>\n",
       "    </tr>\n",
       "    <tr>\n",
       "      <td>1322</td>\n",
       "      <td>False</td>\n",
       "      <td>5151</td>\n",
       "    </tr>\n",
       "    <tr>\n",
       "      <td>1323</td>\n",
       "      <td>True</td>\n",
       "      <td>1344</td>\n",
       "    </tr>\n",
       "  </tbody>\n",
       "</table>\n",
       "<p>1324 rows × 2 columns</p>\n",
       "</div>"
      ],
      "text/plain": [
       "      Accuracy  Insect_size\n",
       "0         True         5632\n",
       "1         True        13125\n",
       "2         True        12190\n",
       "3         True         4148\n",
       "4         True          323\n",
       "...        ...          ...\n",
       "1319      True         2070\n",
       "1320     False         3408\n",
       "1321     False         4224\n",
       "1322     False         5151\n",
       "1323      True         1344\n",
       "\n",
       "[1324 rows x 2 columns]"
      ]
     },
     "execution_count": 13,
     "metadata": {},
     "output_type": "execute_result"
    }
   ],
   "source": [
    "each_df = compute_each_size_df(result, x_all, y_all)\n",
    "if args.save_df is True:\n",
    "    each_df.to_csv(pj(args.figure_root, \"each_size_df.csv\"))\n",
    "each_df"
   ]
  },
  {
   "cell_type": "code",
   "execution_count": 14,
   "metadata": {},
   "outputs": [
    {
     "data": {
      "text/html": [
       "<div>\n",
       "<style scoped>\n",
       "    .dataframe tbody tr th:only-of-type {\n",
       "        vertical-align: middle;\n",
       "    }\n",
       "\n",
       "    .dataframe tbody tr th {\n",
       "        vertical-align: top;\n",
       "    }\n",
       "\n",
       "    .dataframe thead th {\n",
       "        text-align: right;\n",
       "    }\n",
       "</style>\n",
       "<table border=\"1\" class=\"dataframe\">\n",
       "  <thead>\n",
       "    <tr style=\"text-align: right;\">\n",
       "      <th></th>\n",
       "      <th>order</th>\n",
       "      <th>Accuracy</th>\n",
       "      <th>Insect_size</th>\n",
       "    </tr>\n",
       "  </thead>\n",
       "  <tbody>\n",
       "    <tr>\n",
       "      <td>0</td>\n",
       "      <td>1.0</td>\n",
       "      <td>0.000000</td>\n",
       "      <td>2.000000</td>\n",
       "    </tr>\n",
       "    <tr>\n",
       "      <td>1</td>\n",
       "      <td>7.0</td>\n",
       "      <td>0.916667</td>\n",
       "      <td>205.833333</td>\n",
       "    </tr>\n",
       "    <tr>\n",
       "      <td>2</td>\n",
       "      <td>8.0</td>\n",
       "      <td>0.705882</td>\n",
       "      <td>395.039216</td>\n",
       "    </tr>\n",
       "    <tr>\n",
       "      <td>3</td>\n",
       "      <td>9.0</td>\n",
       "      <td>0.535433</td>\n",
       "      <td>770.850394</td>\n",
       "    </tr>\n",
       "    <tr>\n",
       "      <td>4</td>\n",
       "      <td>10.0</td>\n",
       "      <td>0.423729</td>\n",
       "      <td>1504.529661</td>\n",
       "    </tr>\n",
       "    <tr>\n",
       "      <td>5</td>\n",
       "      <td>11.0</td>\n",
       "      <td>0.565517</td>\n",
       "      <td>2941.368966</td>\n",
       "    </tr>\n",
       "    <tr>\n",
       "      <td>6</td>\n",
       "      <td>12.0</td>\n",
       "      <td>0.780645</td>\n",
       "      <td>5934.145161</td>\n",
       "    </tr>\n",
       "    <tr>\n",
       "      <td>7</td>\n",
       "      <td>13.0</td>\n",
       "      <td>0.822967</td>\n",
       "      <td>11264.789474</td>\n",
       "    </tr>\n",
       "    <tr>\n",
       "      <td>8</td>\n",
       "      <td>14.0</td>\n",
       "      <td>0.628205</td>\n",
       "      <td>22344.653846</td>\n",
       "    </tr>\n",
       "    <tr>\n",
       "      <td>9</td>\n",
       "      <td>15.0</td>\n",
       "      <td>0.700000</td>\n",
       "      <td>34865.400000</td>\n",
       "    </tr>\n",
       "  </tbody>\n",
       "</table>\n",
       "</div>"
      ],
      "text/plain": [
       "   order  Accuracy   Insect_size\n",
       "0    1.0  0.000000      2.000000\n",
       "1    7.0  0.916667    205.833333\n",
       "2    8.0  0.705882    395.039216\n",
       "3    9.0  0.535433    770.850394\n",
       "4   10.0  0.423729   1504.529661\n",
       "5   11.0  0.565517   2941.368966\n",
       "6   12.0  0.780645   5934.145161\n",
       "7   13.0  0.822967  11264.789474\n",
       "8   14.0  0.628205  22344.653846\n",
       "9   15.0  0.700000  34865.400000"
      ]
     },
     "execution_count": 14,
     "metadata": {},
     "output_type": "execute_result"
    }
   ],
   "source": [
    "all_df = compute_all_size_df(each_df)\n",
    "if args.save_df is True:\n",
    "    all_df.to_csv(pj(args.figure_root, \"all_size_df.csv\"))\n",
    "all_df"
   ]
  },
  {
   "cell_type": "code",
   "execution_count": 15,
   "metadata": {},
   "outputs": [
    {
     "data": {
      "image/png": "[encoded data removed]",
      "text/plain": [
       "<Figure size 432x288 with 1 Axes>"
      ]
     },
     "metadata": {
      "needs_background": "light"
     },
     "output_type": "display_data"
    }
   ],
   "source": [
    "plot_df_distrib_size(all_df, args.figure_root, save=args.save_fig)"
   ]
  },
  {
   "cell_type": "markdown",
   "metadata": {},
   "source": [
    "### Load and Test model"
   ]
  },
  {
   "cell_type": "raw",
   "metadata": {},
   "source": [
    "if args.model_name==\"ResNet18\":\n",
    "    model = ResNet18(len(args.labels), use_DCL=args.use_DCL, division_number=args.division_number, pretrain=args.pretrain, training=False).cuda()\n",
    "elif args.model_name==\"ResNet34\":\n",
    "    model = ResNet34(len(args.labels), use_DCL=args.use_DCL, division_number=args.division_number, pretrain=args.pretrain, training=False).cuda()\n",
    "elif args.model_name==\"ResNet50\":\n",
    "    model = ResNet50(len(args.labels), use_DCL=args.use_DCL, division_number=args.division_number, pretrain=args.pretrain, training=False).cuda()\n",
    "elif args.model_name==\"ResNet101\":\n",
    "    model = ResNet101(len(args.labels), use_DCL=args.use_DCL, division_number=args.division_number, pretrain=args.pretrain, training=False).cuda()\n",
    "else:\n",
    "    print(\"error! write correct model name!\")"
   ]
  },
  {
   "cell_type": "raw",
   "metadata": {},
   "source": [
    "model.load_state_dict(torch.load(pj(args.model_root, \"final.pth\")))"
   ]
  },
  {
   "cell_type": "raw",
   "metadata": {},
   "source": [
    "create_dataset_from_all_data(args.all_data_path, args.train_data_path, args.test_data_path, args.test_ratio)"
   ]
  },
  {
   "cell_type": "raw",
   "metadata": {},
   "source": [
    "xtr, ytr, xte, yte, ntests = load_data(args.train_data_path, args.test_data_path)"
   ]
  },
  {
   "cell_type": "raw",
   "metadata": {},
   "source": [
    "matrix = confusion_matrix(model, xte, yte, args.labels, bs=args.bs)\n",
    "create_confusion_matrix(matrix, ntests, args.labels, args.figure_root, save=args.save_fig)"
   ]
  }
 ],
 "metadata": {
  "kernelspec": {
   "display_name": "pytorch_040",
   "language": "python",
   "name": "pytorch_040"
  },
  "language_info": {
   "codemirror_mode": {
    "name": "ipython",
    "version": 3
   },
   "file_extension": ".py",
   "mimetype": "text/x-python",
   "name": "python",
   "nbconvert_exporter": "python",
   "pygments_lexer": "ipython3",
   "version": "3.7.4"
  }
 },
 "nbformat": 4,
 "nbformat_minor": 4
}
