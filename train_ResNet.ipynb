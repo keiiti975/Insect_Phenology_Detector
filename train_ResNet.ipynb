{
 "cells": [
  {
   "cell_type": "code",
   "execution_count": null,
   "metadata": {},
   "outputs": [],
   "source": [
    "import os\n",
    "os.environ[\"CUDA_VISIBLE_DEVICES\"] = \"0\""
   ]
  },
  {
   "cell_type": "code",
   "execution_count": null,
   "metadata": {},
   "outputs": [],
   "source": [
    "import h5py\n",
    "from IPython.display import display\n",
    "import numpy as np\n",
    "from os.path import join as pj\n",
    "import pandas as pd\n",
    "import random\n",
    "import sys\n",
    "import torch\n",
    "from tqdm import tqdm\n",
    "import visdom\n",
    "\n",
    "# Logger\n",
    "from IO.logger import Logger\n",
    "# Data Augument\n",
    "from dataset.classification.loader import create_validation_split, load_validation_data, create_train_data, create_train_data_DCL\n",
    "# RCM\n",
    "from dataset.classification.region_confusion_mechanism import region_confusion_mechanism\n",
    "# Model\n",
    "from model.resnet.utils import define_weight\n",
    "from model.resnet.predict import test_classification\n",
    "# Evaluation\n",
    "from evaluation.classification.evaluate import accuracy, confusion_matrix\n",
    "# Statistics\n",
    "from evaluation.classification.statistics import compute_each_size_df, compute_all_size_df\n",
    "# Visualize\n",
    "from evaluation.classification.visualize import create_confusion_matrix, plot_df_distrib_size"
   ]
  },
  {
   "cell_type": "markdown",
   "metadata": {},
   "source": [
    "# Train Config"
   ]
  },
  {
   "cell_type": "code",
   "execution_count": null,
   "metadata": {},
   "outputs": [],
   "source": [
    "class args:\n",
    "    # experiment_name\n",
    "    experiment_name = \"resnet50_b20_r45_lr1e-5_crossvalid_resize_other_without_grouping\"\n",
    "    # data split\n",
    "    train_ratio = 0.8 # unused parameters\n",
    "    test_ratio = 0.2\n",
    "    # paths\n",
    "    all_data_path = \"/home/tanida/workspace/Insect_Phenology_Detector/data/all_classification_data/classify_insect_std_resize_aquatic_other_without_grouping\"\n",
    "    model_root = pj(\"/home/tanida/workspace/Insect_Phenology_Detector/output_model/classification/ResNet101\", experiment_name)\n",
    "    figure_root = pj(\"/home/tanida/workspace/Insect_Phenology_Detector/figure/classification/ResNet101\", experiment_name)\n",
    "    # class names to visualize\n",
    "    #labels =  ['Aquatic_insects', 'Other_insects']\n",
    "    #labels =  ['Diptera', 'Ephemeridae', 'Ephemeroptera', \n",
    "    #           'Lepidoptera', 'Plecoptera', 'Trichoptera']\n",
    "    labels =  ['Diptera', 'Ephemeridae', 'Ephemeroptera', \n",
    "               'Lepidoptera', 'Plecoptera', 'Trichoptera', \n",
    "               'Coleoptera', 'Hemiptera', 'medium insect', 'small insect']\n",
    "    # train config\n",
    "    model_name = \"ResNet50\" # choice [\"ResNet18\", \"ResNet34\", \"ResNet50\", \"ResNet101\"]\n",
    "    use_DCL = False\n",
    "    division_number = 7\n",
    "    neighborhood_range = 1\n",
    "    cls_weight = 1\n",
    "    dest_weight = 10\n",
    "    coord_weight = 0.1\n",
    "    bs = 20\n",
    "    lr = 1e-5\n",
    "    nepoch = 40\n",
    "    rotate = 45\n",
    "    pretrain = True\n",
    "    # test config\n",
    "    save_fig = True\n",
    "    save_df = True\n",
    "    # visdom\n",
    "    visdom = True\n",
    "    port = 8097"
   ]
  },
  {
   "cell_type": "markdown",
   "metadata": {},
   "source": [
    "# Load Model"
   ]
  },
  {
   "cell_type": "code",
   "execution_count": null,
   "metadata": {},
   "outputs": [],
   "source": [
    "# Model\n",
    "if args.model_name==\"ResNet18\":\n",
    "    from model.resnet.resnet18 import ResNet18\n",
    "elif args.model_name==\"ResNet34\":\n",
    "    from model.resnet.resnet34 import ResNet34\n",
    "elif args.model_name==\"ResNet50\":\n",
    "    from model.resnet.resnet50 import ResNet50\n",
    "elif args.model_name==\"ResNet101\":\n",
    "    from model.resnet.resnet101 import ResNet101\n",
    "else:\n",
    "    print(\"error! write correct model name!\")"
   ]
  },
  {
   "cell_type": "markdown",
   "metadata": {},
   "source": [
    "# Train"
   ]
  },
  {
   "cell_type": "code",
   "execution_count": null,
   "metadata": {},
   "outputs": [],
   "source": [
    "def train(model, xtr, ytr, bs=20, lr=1e-5, nepoch=40, visdom=False):\n",
    "    # calculate counts and count_sum\n",
    "    _, counts = np.unique(ytr, return_counts=True)\n",
    "    counts_sum = counts.sum()\n",
    "    \n",
    "    # define weight and create loss function\n",
    "    ce = torch.nn.CrossEntropyLoss(define_weight(counts))\n",
    "    \n",
    "    # define optimizer\n",
    "    opt = torch.optim.Adam(model.parameters(), lr=lr)\n",
    "    \n",
    "    # set model train mode\n",
    "    model.train()\n",
    "    \n",
    "    t = tqdm(range(nepoch),leave=False)\n",
    "    # training\n",
    "    for epoch in t:\n",
    "        total_loss = 0\n",
    "        index = random.sample(range(counts_sum),counts_sum)\n",
    "        t.set_description(\"epoch=%s\" % (epoch))\n",
    "        for idx in range(0,counts_sum-bs,bs):\n",
    "            idx = index[idx:idx+bs]\n",
    "            x = xtr[idx].cuda()\n",
    "            y = ytr[idx].cuda()\n",
    "            opt.zero_grad()\n",
    "            out = model(x)\n",
    "            loss = ce(out, y)\n",
    "            total_loss += loss.item()\n",
    "            loss.backward()\n",
    "            opt.step()\n",
    "        \n",
    "        model.training = False\n",
    "        te_acc = accuracy(model, xte, yte, bs)\n",
    "        model.training = True\n",
    "        if visdom:\n",
    "            visualize(vis, epoch+1, total_loss, win_train_loss)\n",
    "            visualize(vis, epoch+1, te_acc, win_test_acc)\n",
    "        sys.stdout.write(\"\\rtotal_loss=%f, te_acc=%f\" % (total_loss,te_acc))\n",
    "        sys.stdout.flush()\n",
    "        \n",
    "\n",
    "def train_DCL(model, xtr, ytr, target_dest_or_not, target_coordinate, bs=20, lr=1e-5, nepoch=40, visdom=False, cls_weight=1, dest_weight=10, coord_weight=0.1):\n",
    "    # calculate counts and count_sum\n",
    "    _, counts = np.unique(ytr, return_counts=True)\n",
    "    counts_sum = counts.sum()\n",
    "    \n",
    "    # define weight and create loss function\n",
    "    cls_ce = torch.nn.CrossEntropyLoss(define_weight(counts))\n",
    "    dest_ce = torch.nn.CrossEntropyLoss()\n",
    "    coord_l1 = torch.nn.L1Loss()\n",
    "    \n",
    "    # define optimizer\n",
    "    opt = torch.optim.Adam(model.parameters(), lr=lr)\n",
    "    \n",
    "    # set model train mode\n",
    "    model.train()\n",
    "    \n",
    "    t = tqdm(range(nepoch),leave=False)\n",
    "    # training\n",
    "    for epoch in t:\n",
    "        sum_cls_loss = 0\n",
    "        sum_dest_loss = 0\n",
    "        sum_coord_loss = 0\n",
    "        total_loss = 0\n",
    "        index = random.sample(range(counts_sum),counts_sum)\n",
    "        t.set_description(\"epoch=%s\" % (epoch))\n",
    "        for idx in range(0,counts_sum-bs,bs):\n",
    "            idx = index[idx:idx+bs]\n",
    "            x = xtr[idx].cuda()\n",
    "            y = ytr[idx].cuda()\n",
    "            sample_dest_or_not = target_dest_or_not[idx].cuda()\n",
    "            sample_coordinate = target_coordinate[idx].cuda()\n",
    "            opt.zero_grad()\n",
    "            out, predict_loc, dest_or_not = model(x)\n",
    "            cls_loss = cls_ce(out, y) * cls_weight\n",
    "            dest_loss = dest_ce(dest_or_not, sample_dest_or_not) * dest_weight\n",
    "            coord_loss = coord_l1(predict_loc, sample_coordinate) * coord_weight\n",
    "            loss = cls_loss + dest_loss + coord_loss\n",
    "            sum_cls_loss += cls_loss.item()\n",
    "            sum_dest_loss += dest_loss.item()\n",
    "            sum_coord_loss += coord_loss.item()\n",
    "            total_loss += loss.item()\n",
    "            loss.backward()\n",
    "            opt.step()\n",
    "        \n",
    "        model.training = False\n",
    "        te_acc = accuracy(model, xte, yte, bs)\n",
    "        model.training = True\n",
    "        if visdom:\n",
    "            visualize(vis, epoch+1, sum_cls_loss, win_cls_loss)\n",
    "            visualize(vis, epoch+1, sum_dest_loss, win_dest_loss)\n",
    "            visualize(vis, epoch+1, sum_coord_loss, win_coord_loss)\n",
    "            visualize(vis, epoch+1, total_loss, win_train_loss)\n",
    "            visualize(vis, epoch+1, te_acc, win_test_acc)\n",
    "        sys.stdout.write(\"\\rcls_loss=%f, dest_loss=%f, coord_loss=%f, train_loss=%f, te_acc=%f\" % (sum_cls_loss, sum_dest_loss, sum_coord_loss, total_loss, te_acc))\n",
    "        sys.stdout.flush()"
   ]
  },
  {
   "cell_type": "markdown",
   "metadata": {},
   "source": [
    "# Set Visdom"
   ]
  },
  {
   "cell_type": "code",
   "execution_count": null,
   "metadata": {},
   "outputs": [],
   "source": [
    "if args.visdom:\n",
    "    # Create visdom\n",
    "    vis = visdom.Visdom(port=args.port)\n",
    "    \n",
    "    \"\"\"train_loss\"\"\"\n",
    "    win_train_loss = vis.line(\n",
    "        X=np.array([0]),\n",
    "        Y=np.array([0]),\n",
    "        opts=dict(\n",
    "            title='train_loss',\n",
    "            xlabel='epoch',\n",
    "            ylabel='loss',\n",
    "            width=800,\n",
    "            height=400\n",
    "        )\n",
    "    )\n",
    "    \"\"\"test_accuracy\"\"\"\n",
    "    win_test_acc = vis.line(\n",
    "        X=np.array([0]),\n",
    "        Y=np.array([0]),\n",
    "        opts=dict(\n",
    "            title='test_accuracy',\n",
    "            xlabel='epoch',\n",
    "            ylabel='loss',\n",
    "            width=800,\n",
    "            height=400\n",
    "        )\n",
    "    )\n",
    "    \n",
    "    if args.use_DCL is True:\n",
    "        \"\"\"train_loss\"\"\"\n",
    "        win_cls_loss = vis.line(\n",
    "            X=np.array([0]),\n",
    "            Y=np.array([0]),\n",
    "            opts=dict(\n",
    "                title='classification_loss',\n",
    "                xlabel='epoch',\n",
    "                ylabel='loss',\n",
    "                width=800,\n",
    "                height=400\n",
    "            )\n",
    "        )\n",
    "        win_dest_loss = vis.line(\n",
    "            X=np.array([0]),\n",
    "            Y=np.array([0]),\n",
    "            opts=dict(\n",
    "                title='adversarial_loss',\n",
    "                xlabel='epoch',\n",
    "                ylabel='loss',\n",
    "                width=800,\n",
    "                height=400\n",
    "            )\n",
    "        )\n",
    "        win_coord_loss = vis.line(\n",
    "            X=np.array([0]),\n",
    "            Y=np.array([0]),\n",
    "            opts=dict(\n",
    "                title='coordinate_loss',\n",
    "                xlabel='epoch',\n",
    "                ylabel='loss',\n",
    "                width=800,\n",
    "                height=400\n",
    "            )\n",
    "        )"
   ]
  },
  {
   "cell_type": "code",
   "execution_count": null,
   "metadata": {},
   "outputs": [],
   "source": [
    "def visualize(vis, phase, visualized_data, window):\n",
    "    vis.line(\n",
    "        X=np.array([phase]),\n",
    "        Y=np.array([visualized_data]),\n",
    "        update='append',\n",
    "        win=window\n",
    "    )"
   ]
  },
  {
   "cell_type": "markdown",
   "metadata": {},
   "source": [
    "### Save args"
   ]
  },
  {
   "cell_type": "code",
   "execution_count": null,
   "metadata": {},
   "outputs": [],
   "source": [
    "args_logger = Logger(args)\n",
    "args_logger.save()"
   ]
  },
  {
   "cell_type": "markdown",
   "metadata": {},
   "source": [
    "# Cross Validation"
   ]
  },
  {
   "cell_type": "code",
   "execution_count": null,
   "metadata": {},
   "outputs": [],
   "source": [
    "model_save_path = pj(args.model_root, \"final.pth\")\n",
    "if os.path.exists(args.model_root) is False:\n",
    "    os.makedirs(args.model_root)\n",
    "if os.path.exists(args.figure_root) is False:\n",
    "    os.makedirs(args.figure_root)"
   ]
  },
  {
   "cell_type": "code",
   "execution_count": null,
   "metadata": {
    "scrolled": true
   },
   "outputs": [],
   "source": [
    "valid_num = int(1.0/args.test_ratio)\n",
    "with h5py.File(args.all_data_path) as f:\n",
    "    X = f[\"X\"][:]\n",
    "    Y = f[\"Y\"][:]\n",
    "_, ntests = np.unique(Y, return_counts=True)\n",
    "train_idxs, test_idxs = create_validation_split(Y, args.test_ratio)\n",
    "result = []\n",
    "for valid_count in range(valid_num):\n",
    "    xtr, ytr, xte, yte = load_validation_data(X, Y, train_idxs[valid_count], test_idxs[valid_count])\n",
    "    \n",
    "    if args.use_DCL is True:\n",
    "        new_xtr, new_coordinate = region_confusion_mechanism(xtr, division_number=args.division_number, neighborhood_range=args.neighborhood_range)\n",
    "        xtr = np.concatenate([xtr, new_xtr])\n",
    "        ytr = np.concatenate([ytr, ytr])\n",
    "        target_dest_or_not = np.concatenate([np.zeros(ytr.shape), np.ones(ytr.shape)])\n",
    "        target_coordinate = np.concatenate([new_coordinate, np.asarray([np.arange(args.division_number**2)] * new_coordinate.shape[0])])\n",
    "        xtr, ytr, target_dest_or_not, target_coordinate = create_train_data_DCL(xtr, ytr, target_dest_or_not, target_coordinate, args.rotate)\n",
    "    else:\n",
    "        xtr, ytr = create_train_data(xtr, ytr, args.rotate)\n",
    "    \n",
    "    if args.model_name==\"ResNet18\":\n",
    "        model = ResNet18(len(args.labels), use_DCL=args.use_DCL, division_number=args.division_number, pretrain=args.pretrain, training=True).cuda()\n",
    "    elif args.model_name==\"ResNet34\":\n",
    "        model = ResNet34(len(args.labels), use_DCL=args.use_DCL, division_number=args.division_number, pretrain=args.pretrain, training=True).cuda()\n",
    "    elif args.model_name==\"ResNet50\":\n",
    "        model = ResNet50(len(args.labels), use_DCL=args.use_DCL, division_number=args.division_number, pretrain=args.pretrain, training=True).cuda()\n",
    "    elif args.model_name==\"ResNet101\":\n",
    "        model = ResNet101(len(args.labels), use_DCL=args.use_DCL, division_number=args.division_number, pretrain=args.pretrain, training=True).cuda()\n",
    "    else:\n",
    "        print(\"error! write correct model name!\")\n",
    "    \n",
    "    if args.use_DCL is True:\n",
    "        train_DCL(model, xtr, ytr, target_dest_or_not, target_coordinate, bs=args.bs, lr=args.lr, nepoch=args.nepoch, visdom=args.visdom, cls_weight=args.cls_weight, dest_weight=args.dest_weight, coord_weight=args.coord_weight)\n",
    "    else:\n",
    "        train(model, xtr, ytr, bs=args.bs, lr=args.lr, nepoch=args.nepoch, visdom=args.visdom)\n",
    "            \n",
    "    torch.save(model.state_dict(), model_save_path)\n",
    "    \n",
    "    model.training = False\n",
    "    matrix = confusion_matrix(model, xte, yte, args.labels, bs=args.bs)\n",
    "    model.training = True\n",
    "    df = pd.DataFrame(matrix)\n",
    "    display(df)\n",
    "    if valid_count == 0:\n",
    "        validation_matrix = matrix\n",
    "        x_all = xte.cpu().numpy()\n",
    "        y_all = yte.cpu().numpy()\n",
    "    else:\n",
    "        validation_matrix += matrix\n",
    "        x_all = np.concatenate([x_all, xte.cpu().numpy()])\n",
    "        y_all = np.concatenate([y_all, yte.cpu().numpy()])\n",
    "    \n",
    "    result.extend(test_classification(model, xte))"
   ]
  },
  {
   "cell_type": "code",
   "execution_count": null,
   "metadata": {},
   "outputs": [],
   "source": [
    "df = pd.DataFrame(validation_matrix)\n",
    "if args.save_df is True:\n",
    "    df.to_csv(pj(args.figure_root, \"validation_matrix.csv\"))\n",
    "df"
   ]
  },
  {
   "cell_type": "code",
   "execution_count": null,
   "metadata": {},
   "outputs": [],
   "source": [
    "create_confusion_matrix(validation_matrix, ntests, args.labels, args.figure_root, save=args.save_fig)"
   ]
  },
  {
   "cell_type": "code",
   "execution_count": null,
   "metadata": {},
   "outputs": [],
   "source": [
    "each_df = compute_each_size_df(result, x_all, y_all)\n",
    "if args.save_df is True:\n",
    "    each_df.to_csv(pj(args.figure_root, \"each_size_df.csv\"))\n",
    "each_df"
   ]
  },
  {
   "cell_type": "code",
   "execution_count": null,
   "metadata": {},
   "outputs": [],
   "source": [
    "all_df = compute_all_size_df(each_df)\n",
    "if args.save_df is True:\n",
    "    all_df.to_csv(pj(args.figure_root, \"all_size_df.csv\"))\n",
    "all_df"
   ]
  },
  {
   "cell_type": "code",
   "execution_count": null,
   "metadata": {},
   "outputs": [],
   "source": [
    "plot_df_distrib_size(all_df, args.figure_root, save=args.save_fig)"
   ]
  },
  {
   "cell_type": "markdown",
   "metadata": {},
   "source": [
    "### Load and Test model"
   ]
  },
  {
   "cell_type": "raw",
   "metadata": {},
   "source": [
    "if args.model_name==\"ResNet18\":\n",
    "    model = ResNet18(len(args.labels), use_DCL=args.use_DCL, division_number=args.division_number, pretrain=args.pretrain, training=False).cuda()\n",
    "elif args.model_name==\"ResNet34\":\n",
    "    model = ResNet34(len(args.labels), use_DCL=args.use_DCL, division_number=args.division_number, pretrain=args.pretrain, training=False).cuda()\n",
    "elif args.model_name==\"ResNet50\":\n",
    "    model = ResNet50(len(args.labels), use_DCL=args.use_DCL, division_number=args.division_number, pretrain=args.pretrain, training=False).cuda()\n",
    "elif args.model_name==\"ResNet101\":\n",
    "    model = ResNet101(len(args.labels), use_DCL=args.use_DCL, division_number=args.division_number, pretrain=args.pretrain, training=False).cuda()\n",
    "else:\n",
    "    print(\"error! write correct model name!\")"
   ]
  },
  {
   "cell_type": "raw",
   "metadata": {},
   "source": [
    "model.load_state_dict(torch.load(pj(args.model_root, \"final.pth\")))"
   ]
  },
  {
   "cell_type": "raw",
   "metadata": {},
   "source": [
    "create_dataset_from_all_data(args.all_data_path, args.train_data_path, args.test_data_path, args.test_ratio)"
   ]
  },
  {
   "cell_type": "raw",
   "metadata": {},
   "source": [
    "xtr, ytr, xte, yte, ntests = load_data(args.train_data_path, args.test_data_path)"
   ]
  },
  {
   "cell_type": "raw",
   "metadata": {},
   "source": [
    "matrix = confusion_matrix(model, xte, yte, args.labels, bs=args.bs)\n",
    "create_confusion_matrix(matrix, ntests, args.labels, args.figure_root, save=args.save_fig)"
   ]
  }
 ],
 "metadata": {
  "kernelspec": {
   "display_name": "pytorch_040",
   "language": "python",
   "name": "pytorch_040"
  },
  "language_info": {
   "codemirror_mode": {
    "name": "ipython",
    "version": 3
   },
   "file_extension": ".py",
   "mimetype": "text/x-python",
   "name": "python",
   "nbconvert_exporter": "python",
   "pygments_lexer": "ipython3",
   "version": "3.7.4"
  }
 },
 "nbformat": 4,
 "nbformat_minor": 4
}
