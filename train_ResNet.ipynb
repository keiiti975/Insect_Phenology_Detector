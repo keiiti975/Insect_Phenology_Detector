{
 "cells": [
  {
   "cell_type": "code",
   "execution_count": null,
   "metadata": {},
   "outputs": [],
   "source": [
    "import os\n",
    "os.environ[\"CUDA_VISIBLE_DEVICES\"] = \"0\""
   ]
  },
  {
   "cell_type": "code",
   "execution_count": null,
   "metadata": {},
   "outputs": [],
   "source": [
    "import h5py\n",
    "from IPython.display import display\n",
    "import numpy as np\n",
    "from os.path import join as pj\n",
    "from os import getcwd as cwd\n",
    "import pandas as pd\n",
    "import random\n",
    "import sys\n",
    "import torch\n",
    "import torch.nn as nn\n",
    "import torch.utils.data as data\n",
    "from tqdm import tqdm\n",
    "import visdom\n",
    "from PIL import Image\n",
    "\n",
    "# Logger\n",
    "from IO.logger import Logger\n",
    "# Loader\n",
    "from dataset.classification.loader import create_validation_split, load_validation_data\n",
    "# Data Sampling\n",
    "from dataset.classification.sampler import adopt_sampling\n",
    "# Dataset\n",
    "from dataset.classification.dataset import insects_dataset\n",
    "# Model\n",
    "from model.resnet.resnet import ResNet\n",
    "from model.resnet.utils import define_weight\n",
    "from model.resnet.predict import test_classification\n",
    "from model.optimizer import AdamW\n",
    "# Evaluation\n",
    "from evaluation.classification.evaluate import accuracy, confusion_matrix\n",
    "# Statistics\n",
    "from evaluation.classification.statistics import compute_each_size_df, compute_all_size_df\n",
    "# Visualize\n",
    "from evaluation.classification.visualize import create_confusion_matrix, plot_df_distrib_size"
   ]
  },
  {
   "cell_type": "markdown",
   "metadata": {},
   "source": [
    "# Train Config"
   ]
  },
  {
   "cell_type": "code",
   "execution_count": null,
   "metadata": {},
   "outputs": [],
   "source": [
    "class args:\n",
    "    # experiment_name\n",
    "    experiment_name = \"resnet50_b20_r45_lr1e-5_crossvalid_20200806_Rotate\"\n",
    "    # data split\n",
    "    train_ratio = 0.8 # unused parameter\n",
    "    test_ratio = 0.2\n",
    "    # paths\n",
    "    all_data_path = pj(cwd(), \"data/all_classification_data/classify_insect_std_20200806\")\n",
    "    model_root = pj(cwd(), \"output_model/classification/ResNet101\", experiment_name)\n",
    "    figure_root = pj(cwd(), \"figure/classification/ResNet101\", experiment_name)\n",
    "    # train config\n",
    "    model_name = \"resnet50\" # choice [\"resnet18\", \"resnet34\", \"resnet50\", \"resnet101\", \"resnet152\"]\n",
    "    bs = 20\n",
    "    lr = 1e-5\n",
    "    lamda = 0\n",
    "    nepoch = 100\n",
    "    pretrain = True\n",
    "    param_freeze = False\n",
    "    sampling = None # choice [None, \"RandomSample\", \"OverSample\"]\n",
    "    method_aug = [\"Rotate\"]\n",
    "    optimizer = \"AdamW\" # choice [\"Adam, AdamW\"]\n",
    "    activation_function = \"ReLU\" # choice [\"ReLU\", \"LeakyReLU\", \"RReLU\"]\n",
    "    decoder = None # choice [None, \"Concatenate\", \"FPN\"]\n",
    "    # test config\n",
    "    save_fig = True\n",
    "    save_df = True\n",
    "    # visdom\n",
    "    visdom = True\n",
    "    port = 8099"
   ]
  },
  {
   "cell_type": "code",
   "execution_count": null,
   "metadata": {},
   "outputs": [],
   "source": [
    "dataset_name = args.all_data_path.split('/')[-1]\n",
    "if dataset_name == 'classify_insect_std':\n",
    "    args.labels = ['Diptera', 'Ephemeridae', 'Ephemeroptera', \n",
    "                   'Lepidoptera', 'Plecoptera', 'Trichoptera']\n",
    "elif dataset_name == 'classify_insect_std_resizeFAR':\n",
    "    args.labels = ['Diptera', 'Ephemeridae', 'Ephemeroptera', \n",
    "                   'Lepidoptera', 'Plecoptera', 'Trichoptera']\n",
    "elif dataset_name == 'classify_insect_std_resize':\n",
    "    args.labels = ['Diptera', 'Ephemeridae', 'Ephemeroptera', \n",
    "                   'Lepidoptera', 'Plecoptera', 'Trichoptera']\n",
    "elif dataset_name == 'classify_insect_std_plus_other':\n",
    "    args.labels = ['Diptera', 'Ephemeridae', 'Ephemeroptera', \n",
    "                   'Lepidoptera', 'Plecoptera', 'Trichoptera', 'Other']\n",
    "elif dataset_name == 'classify_insect_std_20200806':\n",
    "    args.labels = ['Diptera', 'Ephemeridae', 'Ephemeroptera', \n",
    "                   'Lepidoptera', 'Plecoptera', 'Trichoptera']"
   ]
  },
  {
   "cell_type": "markdown",
   "metadata": {},
   "source": [
    "# Train"
   ]
  },
  {
   "cell_type": "code",
   "execution_count": null,
   "metadata": {},
   "outputs": [],
   "source": [
    "def train(model, counts, train_dataloader, valid_dataloader, test_dataloader, lr=1e-5, nepoch=40, visdom=False):\n",
    "    # define weight and create loss function\n",
    "    ce = torch.nn.CrossEntropyLoss(define_weight(counts)).cuda()\n",
    "    l2_loss = nn.MSELoss(reduction='elementwise_mean').cuda()\n",
    "    \n",
    "    # define optimizer\n",
    "    if args.optimizer == \"Adam\":\n",
    "        opt = torch.optim.Adam(model.parameters(), lr=lr)\n",
    "    elif args.optimizer == \"AdamW\":\n",
    "        opt = AdamW(model.parameters(), lr=lr)\n",
    "    \n",
    "    # set model train mode\n",
    "    model.train()\n",
    "    \n",
    "    epoch_tqdm = tqdm(range(nepoch),leave=False)\n",
    "    # training\n",
    "    for epoch in epoch_tqdm:\n",
    "        sum_cls_loss = 0\n",
    "        sum_norm_loss = 0\n",
    "        total_loss = 0\n",
    "        epoch_tqdm.set_description(\"epoch=%s\" % (epoch))\n",
    "        for x, y in train_dataloader:\n",
    "            x = x.cuda()\n",
    "            y = y.cuda()\n",
    "            opt.zero_grad()\n",
    "            out = model(x)\n",
    "            cls_loss = ce(out, y)\n",
    "            if args.lamda != 0:\n",
    "                norm_loss = 0\n",
    "                for param in model.parameters():\n",
    "                    param_target = torch.zeros(param.size()).cuda()\n",
    "                    norm_loss += l2_loss(param, param_target)\n",
    "\n",
    "                norm_loss = norm_loss * args.lamda\n",
    "                sum_cls_loss += cls_loss.item()\n",
    "                sum_norm_loss += norm_loss.item()\n",
    "                loss = cls_loss + norm_loss\n",
    "            else:\n",
    "                norm_loss = 0\n",
    "                sum_cls_loss += cls_loss.item()\n",
    "                sum_norm_loss = 0\n",
    "                loss = cls_loss\n",
    "            \n",
    "            total_loss += loss.item()\n",
    "            loss.backward()\n",
    "            opt.step()\n",
    "            if args.lamda != 0:\n",
    "                sys.stdout.write(\"\\rcls_loss=%f, norm_loss=%f\" % (cls_loss.item(), norm_loss.item()))\n",
    "            else:\n",
    "                sys.stdout.write(\"\\rcls_loss=%f\" % (cls_loss.item()))\n",
    "            sys.stdout.flush()\n",
    "        \n",
    "        model.training = False\n",
    "        valid_acc = accuracy(model, valid_dataloader)\n",
    "        te_acc = accuracy(model, test_dataloader)\n",
    "        model.training = True\n",
    "        if visdom:\n",
    "            visualize(vis, epoch+1, sum_cls_loss, win_cls_loss)\n",
    "            visualize(vis, epoch+1, sum_norm_loss, win_norm_loss)\n",
    "            visualize(vis, epoch+1, total_loss, win_train_loss)\n",
    "            visualize(vis, epoch+1, te_acc, win_test_acc)\n",
    "            visualize(vis, epoch+1, valid_acc, win_train_acc)\n",
    "        print(\"sum_cls_loss=%f, sum_norm_loss=%f, total_loss=%f, train_acc=%f, te_acc=%f\" % (sum_cls_loss, sum_norm_loss, total_loss, valid_acc, te_acc))"
   ]
  },
  {
   "cell_type": "markdown",
   "metadata": {},
   "source": [
    "# Set Visdom"
   ]
  },
  {
   "cell_type": "code",
   "execution_count": null,
   "metadata": {},
   "outputs": [],
   "source": [
    "if args.visdom:\n",
    "    # Create visdom\n",
    "    vis = visdom.Visdom(port=args.port)\n",
    "    \n",
    "    win_cls_loss = vis.line(\n",
    "        X=np.array([0]),\n",
    "        Y=np.array([0]),\n",
    "        opts=dict(\n",
    "            title='cls_loss',\n",
    "            xlabel='epoch',\n",
    "            ylabel='loss',\n",
    "            width=800,\n",
    "            height=400\n",
    "        )\n",
    "    )\n",
    "    win_norm_loss = vis.line(\n",
    "        X=np.array([0]),\n",
    "        Y=np.array([0]),\n",
    "        opts=dict(\n",
    "            title='norm_loss',\n",
    "            xlabel='epoch',\n",
    "            ylabel='loss',\n",
    "            width=800,\n",
    "            height=400\n",
    "        )\n",
    "    )\n",
    "    win_train_loss = vis.line(\n",
    "        X=np.array([0]),\n",
    "        Y=np.array([0]),\n",
    "        opts=dict(\n",
    "            title='train_loss',\n",
    "            xlabel='epoch',\n",
    "            ylabel='loss',\n",
    "            width=800,\n",
    "            height=400\n",
    "        )\n",
    "    )\n",
    "    win_train_acc = vis.line(\n",
    "        X=np.array([0]),\n",
    "        Y=np.array([0]),\n",
    "        opts=dict(\n",
    "            title='train_accuracy',\n",
    "            xlabel='epoch',\n",
    "            ylabel='loss',\n",
    "            width=800,\n",
    "            height=400\n",
    "        )\n",
    "    )\n",
    "    win_test_acc = vis.line(\n",
    "        X=np.array([0]),\n",
    "        Y=np.array([0]),\n",
    "        opts=dict(\n",
    "            title='test_accuracy',\n",
    "            xlabel='epoch',\n",
    "            ylabel='loss',\n",
    "            width=800,\n",
    "            height=400\n",
    "        )\n",
    "    )"
   ]
  },
  {
   "cell_type": "code",
   "execution_count": null,
   "metadata": {},
   "outputs": [],
   "source": [
    "def visualize(vis, phase, visualized_data, window):\n",
    "    vis.line(\n",
    "        X=np.array([phase]),\n",
    "        Y=np.array([visualized_data]),\n",
    "        update='append',\n",
    "        win=window\n",
    "    )"
   ]
  },
  {
   "cell_type": "markdown",
   "metadata": {},
   "source": [
    "### Save args"
   ]
  },
  {
   "cell_type": "code",
   "execution_count": null,
   "metadata": {},
   "outputs": [],
   "source": [
    "args_logger = Logger(args)\n",
    "args_logger.save()"
   ]
  },
  {
   "cell_type": "markdown",
   "metadata": {},
   "source": [
    "# Cross Validation"
   ]
  },
  {
   "cell_type": "code",
   "execution_count": null,
   "metadata": {},
   "outputs": [],
   "source": [
    "model_save_path = pj(args.model_root, \"final.pth\")\n",
    "if os.path.exists(args.model_root) is False:\n",
    "    os.makedirs(args.model_root)\n",
    "if os.path.exists(args.figure_root) is False:\n",
    "    os.makedirs(args.figure_root)"
   ]
  },
  {
   "cell_type": "code",
   "execution_count": null,
   "metadata": {
    "scrolled": true
   },
   "outputs": [],
   "source": [
    "valid_num = int(1.0/args.test_ratio)\n",
    "with h5py.File(args.all_data_path) as f:\n",
    "    X = f[\"X\"][:]\n",
    "    Y = f[\"Y\"][:]\n",
    "_, ntests = np.unique(Y, return_counts=True)\n",
    "train_idxs, test_idxs = create_validation_split(Y, args.test_ratio)\n",
    "result = []\n",
    "fail_count = np.zeros(Y.shape[0], dtype=\"int\")\n",
    "for valid_count in range(valid_num):\n",
    "    # create validation data\n",
    "    valid_train_idx = adopt_sampling(Y, train_idxs[valid_count], args.sampling)\n",
    "    valid_test_idx = test_idxs[valid_count]\n",
    "    xtr, ytr, xte, yte = load_validation_data(X, Y, valid_train_idx, valid_test_idx)\n",
    "    _, counts = np.unique(ytr, return_counts=True)\n",
    "    # create dataloader\n",
    "    train_dataset = insects_dataset(xtr, ytr, training=True, method_aug=args.method_aug)\n",
    "    train_dataloader = data.DataLoader(train_dataset, args.bs, num_workers=args.bs, shuffle=True)\n",
    "    valid_dataset = insects_dataset(xtr, ytr, training=False)\n",
    "    valid_dataloader = data.DataLoader(valid_dataset, args.bs, num_workers=args.bs, shuffle=False)\n",
    "    test_dataset = insects_dataset(xte, yte, training=False)\n",
    "    test_dataloader = data.DataLoader(test_dataset, args.bs, num_workers=args.bs, shuffle=False)\n",
    "    all_dataset = insects_dataset(X, Y, training=False)\n",
    "    all_dataloader = data.DataLoader(all_dataset, args.bs, num_workers=args.bs, shuffle=False)\n",
    "    \n",
    "    # create model\n",
    "    model = ResNet(args.model_name, len(args.labels), pretrain=args.pretrain, training=True, param_freeze=args.param_freeze, activation_function=args.activation_function, decoder=args.decoder).cuda()\n",
    "    \n",
    "    # training\n",
    "    train(model, counts, train_dataloader, valid_dataloader, test_dataloader, lr=args.lr, nepoch=args.nepoch, visdom=args.visdom)\n",
    "    torch.save(model.state_dict(), model_save_path)\n",
    "    \n",
    "    # make result\n",
    "    model.training = False\n",
    "    matrix = confusion_matrix(model, test_dataloader, args.labels)\n",
    "    result.extend(test_classification(model, test_dataloader))\n",
    "    _, correct = accuracy(model, all_dataloader, return_correct=True)\n",
    "    model.training = True\n",
    "    fail_count += ~correct\n",
    "    \n",
    "    # other\n",
    "    df = pd.DataFrame(matrix)\n",
    "    display(df)\n",
    "    if valid_count == 0:\n",
    "        validation_matrix = matrix\n",
    "        x_all = xte\n",
    "        y_all = yte\n",
    "    else:\n",
    "        validation_matrix += matrix\n",
    "        x_all = np.concatenate([x_all, xte])\n",
    "        y_all = np.concatenate([y_all, yte])"
   ]
  },
  {
   "cell_type": "code",
   "execution_count": null,
   "metadata": {},
   "outputs": [],
   "source": [
    "df = pd.DataFrame(validation_matrix)\n",
    "if args.save_df is True:\n",
    "    df.to_csv(pj(args.figure_root, \"validation_matrix.csv\"))\n",
    "df"
   ]
  },
  {
   "cell_type": "code",
   "execution_count": null,
   "metadata": {},
   "outputs": [],
   "source": [
    "create_confusion_matrix(validation_matrix, ntests, args.labels, args.figure_root, save=args.save_fig)"
   ]
  },
  {
   "cell_type": "code",
   "execution_count": null,
   "metadata": {},
   "outputs": [],
   "source": [
    "each_df = compute_each_size_df(result, x_all, y_all)\n",
    "if args.save_df is True:\n",
    "    each_df.to_csv(pj(args.figure_root, \"each_size_df.csv\"))\n",
    "each_df"
   ]
  },
  {
   "cell_type": "code",
   "execution_count": null,
   "metadata": {},
   "outputs": [],
   "source": [
    "all_df = compute_all_size_df(each_df)\n",
    "if args.save_df is True:\n",
    "    all_df.to_csv(pj(args.figure_root, \"all_size_df.csv\"))\n",
    "all_df"
   ]
  },
  {
   "cell_type": "code",
   "execution_count": null,
   "metadata": {},
   "outputs": [],
   "source": [
    "fail_df = pd.DataFrame({\"fail_count\": fail_count})\n",
    "if args.save_df is True:\n",
    "    fail_df.to_csv(pj(args.figure_root, \"fail_count.csv\"))\n",
    "fail_df"
   ]
  },
  {
   "cell_type": "code",
   "execution_count": null,
   "metadata": {},
   "outputs": [],
   "source": [
    "plot_df_distrib_size(all_df, args.figure_root, save=args.save_fig)"
   ]
  }
 ],
 "metadata": {
  "kernelspec": {
   "display_name": "pytorch_100",
   "language": "python",
   "name": "pytorch_100"
  },
  "language_info": {
   "codemirror_mode": {
    "name": "ipython",
    "version": 3
   },
   "file_extension": ".py",
   "mimetype": "text/x-python",
   "name": "python",
   "nbconvert_exporter": "python",
   "pygments_lexer": "ipython3",
   "version": "3.7.4"
  }
 },
 "nbformat": 4,
 "nbformat_minor": 4
}
