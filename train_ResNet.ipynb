{
 "cells": [
  {
   "cell_type": "code",
   "execution_count": null,
   "metadata": {},
   "outputs": [],
   "source": [
    "import os\n",
    "os.environ[\"CUDA_VISIBLE_DEVICES\"] = \"0\""
   ]
  },
  {
   "cell_type": "code",
   "execution_count": null,
   "metadata": {},
   "outputs": [],
   "source": [
    "import h5py\n",
    "from IPython.display import display\n",
    "import numpy as np\n",
    "from os.path import join as pj\n",
    "from os import getcwd as cwd\n",
    "import pandas as pd\n",
    "import random\n",
    "import sys\n",
    "import torch\n",
    "import torch.nn as nn\n",
    "from tqdm import tqdm\n",
    "import visdom\n",
    "from PIL import Image\n",
    "\n",
    "# Logger\n",
    "from IO.logger import Logger\n",
    "# Data Augument\n",
    "from dataset.classification.loader import create_validation_split, load_validation_data, create_train_data\n",
    "# Data Sampling\n",
    "from dataset.classification.sampler import get_randomsampled_idx, get_randomoversampled_idx\n",
    "# Model\n",
    "from model.resnet.resnet import ResNet\n",
    "from model.resnet.utils import define_weight\n",
    "from model.resnet.predict import test_classification\n",
    "from model.resnet.data_augmentation import AutoAugment\n",
    "from model.optimizer import AdamW\n",
    "# Evaluation\n",
    "from evaluation.classification.evaluate import accuracy, confusion_matrix\n",
    "# Statistics\n",
    "from evaluation.classification.statistics import compute_each_size_df, compute_all_size_df\n",
    "# Visualize\n",
    "from evaluation.classification.visualize import create_confusion_matrix, plot_df_distrib_size"
   ]
  },
  {
   "cell_type": "markdown",
   "metadata": {},
   "source": [
    "# Train Config"
   ]
  },
  {
   "cell_type": "code",
   "execution_count": null,
   "metadata": {},
   "outputs": [],
   "source": [
    "class args:\n",
    "    # experiment_name\n",
    "    experiment_name = \"resnet50_b20_r45_lr1e-5_crossvalid_fastautoaugment\"\n",
    "    # data split\n",
    "    train_ratio = 0.8 # unused parameters\n",
    "    test_ratio = 0.2\n",
    "    # paths\n",
    "    all_data_path = pj(cwd(), \"data/all_classification_data/classify_insect_std\")\n",
    "    model_root = pj(cwd(), \"output_model/classification/ResNet101\", experiment_name)\n",
    "    figure_root = pj(cwd(), \"figure/classification/ResNet101\", experiment_name)\n",
    "    # train config\n",
    "    model_name = \"resnet50\" # choice [\"resnet18\", \"resnet34\", \"resnet50\", \"resnet101\", \"resnet152\"]\n",
    "    bs = 20\n",
    "    lr = 1e-5\n",
    "    lamda = 1e-2\n",
    "    nepoch = 40\n",
    "    rotate = 45\n",
    "    pretrain = True\n",
    "    param_freeze = False\n",
    "    correction_term = False\n",
    "    sampling = None # choice [None, \"RandomSample\", \"RandomOverSample\"]\n",
    "    augment = \"fastautoaugment\" # choice [None, \"RandomSizeCrop\", \"RegionConfusionMechanism\", \"autoaugment\", \"fastautoaugment\"]\n",
    "    optimizer = \"AdamW\" # choice [\"Adam, AdamW\"]\n",
    "    activation_function = \"ReLU\" # choice [\"ReLU\", \"LeakyReLU\", \"RReLU\"]\n",
    "    decoder = None # choice [None, \"Concatenate\", \"FPN\"]\n",
    "    # test config\n",
    "    save_fig = True\n",
    "    save_df = True\n",
    "    # visdom\n",
    "    visdom = False\n",
    "    port = 8097"
   ]
  },
  {
   "cell_type": "code",
   "execution_count": null,
   "metadata": {},
   "outputs": [],
   "source": [
    "dataset_name = args.all_data_path.split('/')[-1]\n",
    "if dataset_name == 'classify_insect_std':\n",
    "    args.labels =  ['Diptera', 'Ephemeridae', 'Ephemeroptera', \n",
    "                    'Lepidoptera', 'Plecoptera', 'Trichoptera']\n",
    "elif dataset_name == 'classify_insect_std_resizeFAR':\n",
    "    args.labels =  ['Diptera', 'Ephemeridae', 'Ephemeroptera', \n",
    "                    'Lepidoptera', 'Plecoptera', 'Trichoptera']\n",
    "elif dataset_name == 'classify_insect_std_resize':\n",
    "    args.labels =  ['Diptera', 'Ephemeridae', 'Ephemeroptera', \n",
    "                    'Lepidoptera', 'Plecoptera', 'Trichoptera']\n",
    "elif dataset_name == 'classify_insect_std_plus_other':\n",
    "    args.labels =  ['Diptera', 'Ephemeridae', 'Ephemeroptera', \n",
    "                    'Lepidoptera', 'Plecoptera', 'Trichoptera', 'Other']"
   ]
  },
  {
   "cell_type": "markdown",
   "metadata": {},
   "source": [
    "# Train"
   ]
  },
  {
   "cell_type": "code",
   "execution_count": null,
   "metadata": {},
   "outputs": [],
   "source": [
    "def train(model, xtr, ytr, bs=20, lr=1e-5, nepoch=40, visdom=False):\n",
    "    # calculate counts and count_sum\n",
    "    _, counts = np.unique(ytr, return_counts=True)\n",
    "    counts_sum = counts.sum()\n",
    "    \n",
    "    # define weight and create loss function\n",
    "    ce = torch.nn.CrossEntropyLoss(define_weight(counts))\n",
    "    l2_loss = nn.MSELoss(reduction='elementwise_mean').cuda()\n",
    "    \n",
    "    # define optimizer\n",
    "    if args.optimizer == \"Adam\":\n",
    "        opt = torch.optim.Adam(model.parameters(), lr=lr)\n",
    "    elif args.optimizer == \"AdamW\":\n",
    "        opt = AdamW(model.parameters(), lr=lr)\n",
    "        \n",
    "    # define autoaugment\n",
    "    if args.augment == \"autoaugment\":\n",
    "        autoaugment = AutoAugment()\n",
    "    elif args.augment == \"fastautoaugment\":\n",
    "        autoaugment = AutoAugment(policy_dir=pj(cwd(), \"model/resnet\"))\n",
    "    \n",
    "    # set model train mode\n",
    "    model.train()\n",
    "    \n",
    "    t = tqdm(range(nepoch),leave=False)\n",
    "    # training\n",
    "    for epoch in t:\n",
    "        sum_cls_loss = 0\n",
    "        sum_norm_loss = 0\n",
    "        total_loss = 0\n",
    "        index = random.sample(range(counts_sum),counts_sum)\n",
    "        t.set_description(\"epoch=%s\" % (epoch))\n",
    "        for idx in range(0,counts_sum-bs,bs):\n",
    "            idx = index[idx:idx+bs]\n",
    "            if args.augment == \"autoaugment\" or args.augment == \"fastautoaugment\":\n",
    "                x = np.asarray([np.asarray(autoaugment(Image.fromarray(xtr[i].astype(\"uint8\")))) for i in idx])\n",
    "                y = ytr[idx]\n",
    "                x = torch.from_numpy(x).transpose(1, -1).float().cuda()\n",
    "                y = torch.from_numpy(y).cuda()\n",
    "            else:\n",
    "                x = xtr[idx].cuda()\n",
    "                y = ytr[idx].cuda()\n",
    "            opt.zero_grad()\n",
    "            out = model(x)\n",
    "            cls_loss = ce(out, y)\n",
    "            if args.lamda != 0:\n",
    "                norm_loss = 0\n",
    "                for param in model.parameters():\n",
    "                    param_target = torch.zeros(param.size()).cuda()\n",
    "                    norm_loss += l2_loss(param, param_target)\n",
    "\n",
    "                norm_loss = norm_loss * args.lamda\n",
    "            else:\n",
    "                norm_loss = 0\n",
    "            sum_cls_loss += cls_loss.item()\n",
    "            sum_norm_loss += norm_loss.item()\n",
    "            loss = cls_loss + norm_loss\n",
    "            total_loss += loss.item()\n",
    "            loss.backward()\n",
    "            opt.step()\n",
    "            sys.stdout.write(\"\\rcls_loss=%f, norm_loss=%f\" % (cls_loss.item(), norm_loss.item()))\n",
    "            sys.stdout.flush()\n",
    "        \n",
    "        model.training = False\n",
    "        if args.correction_term == True:\n",
    "            te_acc, correction_term = accuracy(model, xte, yte, bs, return_correction_term=True, low_trainable_correction=True)\n",
    "            ce = torch.nn.CrossEntropyLoss(define_weight(counts) * correction_term)\n",
    "            print(correction_term)\n",
    "        else:\n",
    "            te_acc = accuracy(model, xte, yte, bs)\n",
    "        model.training = True\n",
    "        if visdom:\n",
    "            visualize(vis, epoch+1, sum_cls_loss, win_cls_loss)\n",
    "            visualize(vis, epoch+1, sum_norm_loss, win_norm_loss)\n",
    "            visualize(vis, epoch+1, total_loss, win_train_loss)\n",
    "            visualize(vis, epoch+1, te_acc, win_test_acc)\n",
    "        print(\"sum_cls_loss=%f, sum_norm_loss=%f, total_loss=%f, te_acc=%f\" % (sum_cls_loss, sum_norm_loss, total_loss, te_acc))"
   ]
  },
  {
   "cell_type": "markdown",
   "metadata": {},
   "source": [
    "# Set Visdom"
   ]
  },
  {
   "cell_type": "code",
   "execution_count": null,
   "metadata": {},
   "outputs": [],
   "source": [
    "if args.visdom:\n",
    "    # Create visdom\n",
    "    vis = visdom.Visdom(port=args.port)\n",
    "    \n",
    "    win_cls_loss = vis.line(\n",
    "        X=np.array([0]),\n",
    "        Y=np.array([0]),\n",
    "        opts=dict(\n",
    "            title='cls_loss',\n",
    "            xlabel='epoch',\n",
    "            ylabel='loss',\n",
    "            width=800,\n",
    "            height=400\n",
    "        )\n",
    "    )\n",
    "    win_norm_loss = vis.line(\n",
    "        X=np.array([0]),\n",
    "        Y=np.array([0]),\n",
    "        opts=dict(\n",
    "            title='norm_loss',\n",
    "            xlabel='epoch',\n",
    "            ylabel='loss',\n",
    "            width=800,\n",
    "            height=400\n",
    "        )\n",
    "    )\n",
    "    win_train_loss = vis.line(\n",
    "        X=np.array([0]),\n",
    "        Y=np.array([0]),\n",
    "        opts=dict(\n",
    "            title='train_loss',\n",
    "            xlabel='epoch',\n",
    "            ylabel='loss',\n",
    "            width=800,\n",
    "            height=400\n",
    "        )\n",
    "    )\n",
    "    win_test_acc = vis.line(\n",
    "        X=np.array([0]),\n",
    "        Y=np.array([0]),\n",
    "        opts=dict(\n",
    "            title='test_accuracy',\n",
    "            xlabel='epoch',\n",
    "            ylabel='loss',\n",
    "            width=800,\n",
    "            height=400\n",
    "        )\n",
    "    )"
   ]
  },
  {
   "cell_type": "code",
   "execution_count": null,
   "metadata": {},
   "outputs": [],
   "source": [
    "def visualize(vis, phase, visualized_data, window):\n",
    "    vis.line(\n",
    "        X=np.array([phase]),\n",
    "        Y=np.array([visualized_data]),\n",
    "        update='append',\n",
    "        win=window\n",
    "    )"
   ]
  },
  {
   "cell_type": "markdown",
   "metadata": {},
   "source": [
    "### Save args"
   ]
  },
  {
   "cell_type": "code",
   "execution_count": null,
   "metadata": {},
   "outputs": [],
   "source": [
    "args_logger = Logger(args)\n",
    "args_logger.save()"
   ]
  },
  {
   "cell_type": "markdown",
   "metadata": {},
   "source": [
    "# Cross Validation"
   ]
  },
  {
   "cell_type": "code",
   "execution_count": null,
   "metadata": {},
   "outputs": [],
   "source": [
    "model_save_path = pj(args.model_root, \"final.pth\")\n",
    "if os.path.exists(args.model_root) is False:\n",
    "    os.makedirs(args.model_root)\n",
    "if os.path.exists(args.figure_root) is False:\n",
    "    os.makedirs(args.figure_root)"
   ]
  },
  {
   "cell_type": "code",
   "execution_count": null,
   "metadata": {},
   "outputs": [],
   "source": [
    "def adopt_sampling(sampling, Y, idx):\n",
    "    if sampling == \"RandomSample\":\n",
    "        print(\"sampling = RandomSample\")\n",
    "        new_train_idx = get_randomsampled_idx(Y, idx)\n",
    "    elif sampling == \"RandomOverSample\":\n",
    "        print(\"sampling == RandomOverSample\")\n",
    "        new_train_idx = get_randomoversampled_idx(Y, idx)\n",
    "    else:\n",
    "        print(\"sampling = None\")\n",
    "        new_train_idx = idx\n",
    "    return new_train_idx"
   ]
  },
  {
   "cell_type": "code",
   "execution_count": null,
   "metadata": {
    "scrolled": true
   },
   "outputs": [],
   "source": [
    "valid_num = int(1.0/args.test_ratio)\n",
    "with h5py.File(args.all_data_path) as f:\n",
    "    X = f[\"X\"][:]\n",
    "    Y = f[\"Y\"][:]\n",
    "_, ntests = np.unique(Y, return_counts=True)\n",
    "train_idxs, test_idxs = create_validation_split(Y, args.test_ratio)\n",
    "result = []\n",
    "for valid_count in range(valid_num):\n",
    "    new_train_idx = adopt_sampling(args.sampling, Y, train_idxs[valid_count])\n",
    "    xtr, ytr, xte, yte = load_validation_data(X, Y, new_train_idx, test_idxs[valid_count])\n",
    "    xtr, ytr = create_train_data(xtr, ytr, args.rotate, args.augment)\n",
    "    \n",
    "    model = ResNet(args.model_name, len(args.labels), pretrain=args.pretrain, training=True, param_freeze=args.param_freeze, activation_function=args.activation_function, decoder=args.decoder).cuda()\n",
    "    train(model, xtr, ytr, bs=args.bs, lr=args.lr, nepoch=args.nepoch, visdom=args.visdom)\n",
    "    torch.save(model.state_dict(), model_save_path)\n",
    "    \n",
    "    model.training = False\n",
    "    matrix = confusion_matrix(model, xte, yte, args.labels, bs=args.bs)\n",
    "    model.training = True\n",
    "    df = pd.DataFrame(matrix)\n",
    "    display(df)\n",
    "    if valid_count == 0:\n",
    "        validation_matrix = matrix\n",
    "        x_all = xte.cpu().numpy()\n",
    "        y_all = yte.cpu().numpy()\n",
    "    else:\n",
    "        validation_matrix += matrix\n",
    "        x_all = np.concatenate([x_all, xte.cpu().numpy()])\n",
    "        y_all = np.concatenate([y_all, yte.cpu().numpy()])\n",
    "    \n",
    "    result.extend(test_classification(model, xte))"
   ]
  },
  {
   "cell_type": "code",
   "execution_count": null,
   "metadata": {},
   "outputs": [],
   "source": [
    "df = pd.DataFrame(validation_matrix)\n",
    "if args.save_df is True:\n",
    "    df.to_csv(pj(args.figure_root, \"validation_matrix.csv\"))\n",
    "df"
   ]
  },
  {
   "cell_type": "code",
   "execution_count": null,
   "metadata": {},
   "outputs": [],
   "source": [
    "create_confusion_matrix(validation_matrix, ntests, args.labels, args.figure_root, save=args.save_fig)"
   ]
  },
  {
   "cell_type": "code",
   "execution_count": null,
   "metadata": {},
   "outputs": [],
   "source": [
    "each_df = compute_each_size_df(result, x_all, y_all)\n",
    "if args.save_df is True:\n",
    "    each_df.to_csv(pj(args.figure_root, \"each_size_df.csv\"))\n",
    "each_df"
   ]
  },
  {
   "cell_type": "code",
   "execution_count": null,
   "metadata": {},
   "outputs": [],
   "source": [
    "all_df = compute_all_size_df(each_df)\n",
    "if args.save_df is True:\n",
    "    all_df.to_csv(pj(args.figure_root, \"all_size_df.csv\"))\n",
    "all_df"
   ]
  },
  {
   "cell_type": "code",
   "execution_count": null,
   "metadata": {},
   "outputs": [],
   "source": [
    "plot_df_distrib_size(all_df, args.figure_root, save=args.save_fig)"
   ]
  }
 ],
 "metadata": {
  "kernelspec": {
   "display_name": "pytorch_100",
   "language": "python",
   "name": "pytorch_100"
  },
  "language_info": {
   "codemirror_mode": {
    "name": "ipython",
    "version": 3
   },
   "file_extension": ".py",
   "mimetype": "text/x-python",
   "name": "python",
   "nbconvert_exporter": "python",
   "pygments_lexer": "ipython3",
   "version": "3.7.4"
  }
 },
 "nbformat": 4,
 "nbformat_minor": 4
}
