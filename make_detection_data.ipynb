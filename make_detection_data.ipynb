{
 "cells": [
  {
   "cell_type": "code",
   "execution_count": null,
   "metadata": {},
   "outputs": [],
   "source": [
    "import os\n",
    "from os import listdir as ld\n",
    "from os.path import join as pj\n",
    "from IO.build_ds import build_detection_dataset_as_txt"
   ]
  },
  {
   "cell_type": "code",
   "execution_count": null,
   "metadata": {},
   "outputs": [],
   "source": [
    "experiment_name = \"target_with_other_alldata\"\n",
    "data_root = \"/home/tanida/workspace/Insect_Phenology_Detector/data\"\n",
    "img_folder = \"refined_images\"\n",
    "train_anno_folders = [\"annotations_0\", \"annotations_2\", \"annotations_3\", \"annotations_20200806\"]\n",
    "test_anno_folders = [\"annotations_0\", \"annotations_2\", \"annotations_3\", \"annotations_4\", \"annotations_20200806\"]\n",
    "train_label_path = pj(\"/home/tanida/workspace/Insect_Phenology_Detector/data/train_detection_data\", experiment_name)\n",
    "test_label_path = pj(\"/home/tanida/workspace/Insect_Phenology_Detector/data/test_detection_data\", experiment_name)\n",
    "each_flag=False\n",
    "plus_other=False\n",
    "target_with_other=True\n",
    "centering=False\n",
    "percent=True\n",
    "last_flag=True\n",
    "use_DBSCAN=False"
   ]
  },
  {
   "cell_type": "markdown",
   "metadata": {},
   "source": [
    "- for RefineDet  \n",
    "each_flag = False  \n",
    "plus_other = False  \n",
    "target_with_other = False  \n",
    "centering = False  \n",
    "percent = True  \n",
    "last_flag = True  \n",
    "use_DBSCAN = False"
   ]
  },
  {
   "cell_type": "markdown",
   "metadata": {},
   "source": [
    "# for RefineDet"
   ]
  },
  {
   "cell_type": "code",
   "execution_count": null,
   "metadata": {},
   "outputs": [],
   "source": [
    "build_detection_dataset_as_txt(data_root, img_folder, train_anno_folders, train_label_path, each_flag, plus_other, target_with_other, centering, percent, last_flag, use_DBSCAN)"
   ]
  },
  {
   "cell_type": "code",
   "execution_count": null,
   "metadata": {},
   "outputs": [],
   "source": [
    "build_detection_dataset_as_txt(data_root, img_folder, test_anno_folders, test_label_path, each_flag, plus_other, target_with_other, centering, percent, last_flag, use_DBSCAN=False)"
   ]
  }
 ],
 "metadata": {
  "kernelspec": {
   "display_name": "pytorch_100",
   "language": "python",
   "name": "pytorch_100"
  },
  "language_info": {
   "codemirror_mode": {
    "name": "ipython",
    "version": 3
   },
   "file_extension": ".py",
   "mimetype": "text/x-python",
   "name": "python",
   "nbconvert_exporter": "python",
   "pygments_lexer": "ipython3",
   "version": "3.7.4"
  }
 },
 "nbformat": 4,
 "nbformat_minor": 4
}
