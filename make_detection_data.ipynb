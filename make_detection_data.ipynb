{
 "cells": [
  {
   "cell_type": "code",
   "execution_count": 1,
   "metadata": {},
   "outputs": [],
   "source": [
    "import os\n",
    "from os import listdir as ld\n",
    "from os.path import join as pj\n",
    "from IO.build_ds import build_detection_dataset_as_txt"
   ]
  },
  {
   "cell_type": "code",
   "execution_count": 2,
   "metadata": {},
   "outputs": [],
   "source": [
    "experiment_name = \"refinedet_all_aaaaa\"\n",
    "data_root = \"/home/tanida/workspace/Insect_Phenology_Detector/data\"\n",
    "img_folder = \"refined_images\"\n",
    "train_anno_folders = [\"annotations_0\", \"annotations_2\", \"annotations_3\"]\n",
    "test_anno_folders = [\"annotations_4\"]\n",
    "train_label_path = pj(\"/home/tanida/workspace/Insect_Phenology_Detector/data/train_detection_data\", experiment_name)\n",
    "test_label_path = pj(\"/home/tanida/workspace/Insect_Phenology_Detector/data/test_detection_data\", experiment_name)\n",
    "each_flag=False\n",
    "last_flag=True\n",
    "centering=False\n",
    "percent=True\n",
    "check_label_folder=True"
   ]
  },
  {
   "cell_type": "markdown",
   "metadata": {},
   "source": [
    "- for RefineDet  \n",
    "each_flag = False  \n",
    "last_flag = True  \n",
    "centering = False  \n",
    "percent = True  \n",
    "check_label_folder = True  "
   ]
  },
  {
   "cell_type": "markdown",
   "metadata": {},
   "source": [
    "# for RefineDet"
   ]
  },
  {
   "cell_type": "code",
   "execution_count": 3,
   "metadata": {},
   "outputs": [
    {
     "name": "stdout",
     "output_type": "stream",
     "text": [
      "loading path ...\n",
      "loading images ...\n"
     ]
    },
    {
     "name": "stderr",
     "output_type": "stream",
     "text": [
      "100%|██████████| 56/56 [00:00<00:00, 22276.27it/s]\n",
      "100%|██████████| 56/56 [00:00<00:00, 4617.28it/s]"
     ]
    },
    {
     "name": "stdout",
     "output_type": "stream",
     "text": [
      "loading annos ...\n"
     ]
    },
    {
     "name": "stderr",
     "output_type": "stream",
     "text": [
      "\n"
     ]
    }
   ],
   "source": [
    "build_detection_dataset_as_txt(data_root, img_folder, train_anno_folders, train_label_path, each_flag, last_flag, centering, percent, check_label_folder)"
   ]
  },
  {
   "cell_type": "code",
   "execution_count": 4,
   "metadata": {},
   "outputs": [
    {
     "name": "stdout",
     "output_type": "stream",
     "text": [
      "loading path ...\n",
      "loading images ...\n"
     ]
    },
    {
     "name": "stderr",
     "output_type": "stream",
     "text": [
      "100%|██████████| 10/10 [00:00<00:00, 21531.33it/s]\n",
      "100%|██████████| 10/10 [00:00<00:00, 3677.60it/s]"
     ]
    },
    {
     "name": "stdout",
     "output_type": "stream",
     "text": [
      "loading annos ...\n"
     ]
    },
    {
     "name": "stderr",
     "output_type": "stream",
     "text": [
      "\n"
     ]
    }
   ],
   "source": [
    "build_detection_dataset_as_txt(data_root, img_folder, test_anno_folders, test_label_path, each_flag, last_flag, centering, percent, check_label_folder)"
   ]
  }
 ],
 "metadata": {
  "kernelspec": {
   "display_name": "pytorch_040",
   "language": "python",
   "name": "pytorch_040"
  },
  "language_info": {
   "codemirror_mode": {
    "name": "ipython",
    "version": 3
   },
   "file_extension": ".py",
   "mimetype": "text/x-python",
   "name": "python",
   "nbconvert_exporter": "python",
   "pygments_lexer": "ipython3",
   "version": "3.7.4"
  }
 },
 "nbformat": 4,
 "nbformat_minor": 4
}
